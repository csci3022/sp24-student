{
 "cells": [
  {
   "cell_type": "markdown",
   "metadata": {},
   "source": [
    "# Lec12: Discrete Random Variables and Distributions \n",
    "***\n",
    "\n",
    "In this notebook we'll get some practice with discrete random variables and see how we can play with binomial distributions using Python.   \n",
    "\n",
    "We'll need Numpy and Matplotlib for this notebook, so let's load them.  We'll also need SciPy's binom function for computing binomial coefficients.  "
   ]
  },
  {
   "cell_type": "code",
   "execution_count": 1,
   "metadata": {},
   "outputs": [],
   "source": [
    "import numpy as np \n",
    "import matplotlib.pylab as plt \n",
    "from scipy.special import binom\n",
    "%matplotlib inline"
   ]
  },
  {
   "cell_type": "markdown",
   "metadata": {},
   "source": [
    "### Exercise 1 - Implementing and Sampling the Binomial Distribution \n",
    "***\n",
    "\n",
    "**Part A**: Write a function that takes in the parameters of the binomial distribution, $n$ and $p$, and returns the probability distribution as a Numpy array. In order to get the coefficient in the binomial distribution, you'll need a way to compute the combination ${n \\choose k}$.  You can do this from scratch using Python's factorial function, or you can get the value directly using Scipy's canned function [binom](https://docs.scipy.org/doc/scipy-0.14.0/reference/generated/scipy.special.binom.html).  "
   ]
  },
  {
   "cell_type": "code",
   "execution_count": null,
   "metadata": {},
   "outputs": [],
   "source": [
    "def binomial_dist(n, p):\n",
    "    # The following code uses list comprehension\n",
    "    p = ...\n",
    "    return p\n"
   ]
  },
  {
   "cell_type": "markdown",
   "metadata": {},
   "source": [
    "**Part B**:\n",
    "    \n",
    "   i).  Create an array with the probability distribution for a binomial with n=100 and p=.26\n",
    "   \n",
    "   ii).  Print out the first 10 entries of the array\n",
    "   \n",
    "   iii). Then plot a histogram"
   ]
  },
  {
   "cell_type": "code",
   "execution_count": null,
   "metadata": {},
   "outputs": [],
   "source": [
    "\n",
    "\n",
    "# Here is a check that your binomial_pmf function at least sums to 1\n",
    "\n",
    "prob = binomial_dist(100, 0.26)\n",
    "np.sum(prob)"
   ]
  },
  {
   "cell_type": "code",
   "execution_count": null,
   "metadata": {},
   "outputs": [],
   "source": [
    "## Print out first 10 entries of the array:\n",
    "..."
   ]
  },
  {
   "cell_type": "code",
   "execution_count": null,
   "metadata": {},
   "outputs": [],
   "source": [
    "## Print out last 10 entries of the array:"
   ]
  },
  {
   "cell_type": "code",
   "execution_count": null,
   "metadata": {},
   "outputs": [],
   "source": [
    "##Plot histogram\n",
    "\n",
    "n=100\n",
    "p=.26\n",
    "\n",
    "X = np.array(range(n+1))\n",
    "pmf = binomial_dist(n, p)\n",
    "\n",
    "fig, ax = plt.subplots()\n",
    "#Note we are NOT using .hist, because we have a list of probabilities \n",
    "#that each represent the height of separate bars.\n",
    "\n",
    "ax.bar(X, pmf);\n",
    "ax.set_axisbelow(True)\n",
    "ax.grid(alpha=0.25)\n",
    "plt.xlim(0,51)\n",
    "plt.title(\"Binomial Distribution,n=100, p=0.26\");\n",
    "\n"
   ]
  },
  {
   "cell_type": "markdown",
   "metadata": {},
   "source": [
    "**Part C**:  Let $X~Bin(100, 0.26)$  Use your function above to calculate the following:\n",
    "\n",
    "   i).What is $P(X=8)$?\n",
    "    \n",
    "   ii).  What is $P(X \\leq 8)$\n",
    "   \n",
    "   iii).  What is $P(X \\leq 15)$?"
   ]
  },
  {
   "cell_type": "code",
   "execution_count": null,
   "metadata": {},
   "outputs": [],
   "source": [
    "prob_x_equals_8 = binomial_dist(100, 0.26)[8]\n",
    "prob_x_equals_8"
   ]
  },
  {
   "cell_type": "code",
   "execution_count": null,
   "metadata": {},
   "outputs": [],
   "source": [
    "prob_x_leq_8=np.sum(binomial_dist(100, 0.26)[:9])"
   ]
  },
  {
   "cell_type": "code",
   "execution_count": null,
   "metadata": {},
   "outputs": [],
   "source": [
    "prob_x_leq_15 = np.sum(binomial_dist(100, 0.26)[:16])"
   ]
  },
  {
   "cell_type": "markdown",
   "metadata": {},
   "source": [
    "## Built-In Python Functions\n",
    "\n",
    "Python's scientific computing library `scipy` has built-in functions to calculate the Probability Mass Functions (PMFs) for Discrete Random Variables\n",
    "\n",
    "https://docs.scipy.org/doc/scipy/reference/generated/scipy.stats.binom.html\n",
    "\n"
   ]
  },
  {
   "cell_type": "code",
   "execution_count": null,
   "metadata": {},
   "outputs": [],
   "source": [
    "from scipy.stats import binom\n",
    "\n",
    "#Recalculate part C(i) above using built-in functions\n",
    "# X~Bin(100, .26) What is $P(X=8)$?\n",
    "binom.pmf(k=8,n=100, p=0.26 )\n"
   ]
  },
  {
   "cell_type": "markdown",
   "metadata": {},
   "source": [
    "### Part D - SIMULATION: So now you know the exact distribution of a binomial random variable, but very frequently we'll want to generate samples from that distribution.  \n"
   ]
  },
  {
   "cell_type": "markdown",
   "metadata": {},
   "source": [
    "\n",
    "**Useful Built-In Functions:** Python has a built in function that can generate samples from a wide variety of distributions:\n",
    "\n",
    "https://numpy.org/doc/stable/reference/random/generator.html\n",
    "\n",
    "\n",
    "\n",
    "To generate random samples from a Binomial distribution we can use  Numpy's [binomial](https://docs.scipy.org/doc/numpy-1.13.0/reference/generated/numpy.random.binomial.html) function. \n",
    "\n",
    "Read the documentation, and then try drawing 1000 samples from _Bin(n,p)_ for $n=100$ and $p=0.26$.  "
   ]
  },
  {
   "cell_type": "code",
   "execution_count": null,
   "metadata": {},
   "outputs": [],
   "source": [
    "x = ...\n"
   ]
  },
  {
   "cell_type": "markdown",
   "metadata": {},
   "source": [
    "**Special Case** In the case of the binomial distribution, we can actually simulate it using np.random.choice if we think of it as repeated coin tosses:\n",
    "(P(heads) = 0.26, P(tails =0.74)).  "
   ]
  },
  {
   "cell_type": "code",
   "execution_count": null,
   "metadata": {},
   "outputs": [],
   "source": [
    "#Simulate one experiment (which consists of 100 trials) \n",
    "def heads_in_n_tosses(n=100):\n",
    "    simulate = np.random.choice([\"H\",\"T\"],size=n,p=[.26, .74])\n",
    "    return sum(simulate == 'H')"
   ]
  },
  {
   "cell_type": "code",
   "execution_count": null,
   "metadata": {},
   "outputs": [],
   "source": [
    "# Repeat the experiment m times:\n",
    "num_simulations = 10000;\n",
    "\n",
    "outcomes=[]\n",
    "\n",
    "for i in np.arange(num_simulations):\n",
    "    outcomes = np.append(outcomes, heads_in_n_tosses())\n",
    "\n",
    "plt.hist(outcomes,bins=np.arange(0,50),   density=True);"
   ]
  },
  {
   "cell_type": "markdown",
   "metadata": {},
   "source": [
    "**Part E**: We can approximate the theoretical distribution of _Bin(n,p)_ by drawing many many samples from the distribution and plotting a **density** histogram.  Do this now.  Additionally, use the function you wrote in **Part A** to get the exact density, and plot the distribution directly below the histogram of your sampled distribution.  How do they compare?  What happens if you use more or fewer samples in the histogram? "
   ]
  },
  {
   "cell_type": "code",
   "execution_count": null,
   "metadata": {},
   "outputs": [],
   "source": [
    "n = 109\n",
    "p = 0.26\n",
    "\n",
    "sample = np.random.binomial(n=n, p=p, size=10000)\n",
    "bins = np.arange(-0.5, 100, 1)\n",
    "\n",
    "X = np.array(range(n+1))\n",
    "pmf = binomial_dist(n,p)\n",
    "\n",
    "fig, ax = plt.subplots(nrows=2, ncols=1)\n",
    "\n",
    "plt.subplots_adjust(hspace=0.5)\n",
    "\n",
    "ax[0].hist(sample, edgecolor='white', density=True, bins=bins)\n",
    "ax[0].set_axisbelow(True)\n",
    "ax[0].grid(alpha=0.25)\n",
    "ax[0].set_xlim([0, 50]);\n",
    "ax[0].set_title(\"Simulated Binomial Distribution: n=100, p=0.26\")\n",
    "\n",
    "ax[1].bar(X, pmf)\n",
    "ax[1].set_axisbelow(True)\n",
    "ax[1].grid(alpha=0.25);\n",
    "ax[1].set_xlim([0, 50]);\n",
    "ax[1].set_title(\"Theoretical Binomial Distribution, n=100, p=0.26\")"
   ]
  },
  {
   "cell_type": "markdown",
   "metadata": {},
   "source": [
    "**Practice**\n",
    "Use scipy.stats.poisson to sketch the pmf of a poisson distribution with lambda = 3\n",
    "\n",
    "Then use np.random.poisson to sample from a possion distribution with lambda = 3"
   ]
  },
  {
   "cell_type": "code",
   "execution_count": null,
   "metadata": {},
   "outputs": [],
   "source": [
    "#Use scipy.stats.poisson to sketch the pmf of a poisson distribution with lambda = 3\n",
    "\n",
    "#"
   ]
  }
 ],
 "metadata": {
  "kernelspec": {
   "display_name": "Python 3 (ipykernel)",
   "language": "python",
   "name": "python3"
  },
  "language_info": {
   "codemirror_mode": {
    "name": "ipython",
    "version": 3
   },
   "file_extension": ".py",
   "mimetype": "text/x-python",
   "name": "python",
   "nbconvert_exporter": "python",
   "pygments_lexer": "ipython3",
   "version": "3.9.12"
  }
 },
 "nbformat": 4,
 "nbformat_minor": 2
}
