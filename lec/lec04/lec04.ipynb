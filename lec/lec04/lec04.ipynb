{
 "cells": [
  {
   "cell_type": "markdown",
   "id": "ce3f6559",
   "metadata": {},
   "source": [
    "# Lectures 1-4: CSCI 3022\n",
    "\n",
    "\n",
    "Practice with EDA and Intro to Pandas to accompany Lectures 1-4.\n",
    "\n",
    "\n",
    "# Intro to Exploratory Data Analysis Using Moneyball Data"
   ]
  },
  {
   "cell_type": "markdown",
   "id": "b7caa4c3",
   "metadata": {},
   "source": [
    "The book (and later a movie) [Moneyball, by Michael Lewis,](https://en.wikipedia.org/wiki/Moneyball) tells the story of how the USA baseball team Oakland Athletics in 2002 leveraged the power of data instead of relying on experts.\n",
    "Better data and better analysis of the data lead them to find and use market inefficiencies."
   ]
  },
  {
   "cell_type": "markdown",
   "id": "475565d7",
   "metadata": {},
   "source": [
    "The team was one of the poorest in a period when only rich teams could afford the all-star players      (the imbalance in total salaries being something like 4 to 1).\n",
    "\n",
    "A new ownership in 1995 was improving the team’s wins, but in 2001 the loss of 3 key players and budget cuts were led to a new idea: take a quantitative approach and find undervalued players."
   ]
  },
  {
   "cell_type": "markdown",
   "id": "bd7c94aa",
   "metadata": {},
   "source": [
    "The traditional way to select players was through scouting, but Oakland's general manager Billy Bean (Brad Pitt in the movie) decided to try a new approach and select the players using statistical analysis. Specifically, his assistant – the Harvard graduate Paul DePodesta (played by Jonah Hill in the movie)-  looked at the data to find which ones were the undervalued skills."
   ]
  },
  {
   "cell_type": "markdown",
   "id": "fdc66583",
   "metadata": {},
   "source": [
    "We will revisit some of their analysis using the actual dataset they analyzed, provided on the website Kaggle:  https://www.kaggle.com/datasets/wduckett/moneyball-mlb-stats-19622012?resource=download;  \n",
    "\n",
    "\n",
    "\n",
    "Once exposed (with the help of Lewis’s best-seller), competitive forces were set in motion\n",
    "as teams sought to replicate or improve upon the A’s formula. Oakland’s competitors sought success by attempting to hire the personnel management team assembled by Alderson. The two Ivy Leaguers mentioned above were hired as General Managers (that is, as executives with authority over personnel decisions) by the\n",
    "Toronto Blue Jays and the Los Angeles Dodgers during and after the 2003 season\n",
    "(Saraceno, 2004). Although the Boston Red Sox failed in their attempt to hire both\n",
    "the Athletics’ General Manager (Billy Beane) and Assistant General Manager, they\n",
    "followed Beane’s advice by hiring the similarly inclined Theo Epstein, making him\n",
    "the youngest General Manager in baseball history (Shaughnessy, 2003). In addition, the Red Sox hired the dean of sabermetrics, Bill James himself, in an advisory capacity. The Red Sox proceeded to win the World Series in 2004.\n",
    "\n",
    "This diffusion of statistical knowledge across a handful of decision-making\n",
    "units in baseball was apparently sufficient to correct the mispricing of skill. The\n",
    "underpayment of the ability to get on base was substantially if not completely\n",
    "eroded within a year of Moneyball’s publication\n"
   ]
  },
  {
   "cell_type": "markdown",
   "id": "7175792a",
   "metadata": {},
   "source": [
    "<br/><br/>\n",
    "<hr style=\"border: 5px solid #003262;\" />\n",
    "<hr style=\"border: 1px solid #fdb515;\" />\n",
    "\n",
    "\n",
    "# Key Considerations in Exploratory Data Analysis:\n",
    "\n",
    "  - 1).   Structure -- what is the “shape” of a data file?\n",
    "\n",
    "  - 2). Granularity -- what type of data does each record represent? how fine/coarse is each record in your data?\n",
    "\n",
    "  - 3). Scope -- does the data cover the target population?\n",
    "\n",
    "  - 4). Temporality -- how is the data situated in time?\n",
    "\n",
    "  - 5).  Faithfulness -- how well does the data capture “reality”\n"
   ]
  },
  {
   "cell_type": "markdown",
   "id": "576e577c",
   "metadata": {},
   "source": [
    "***\n",
    "## EDA - 1).  What is the Structure of the Data?\n",
    "\n",
    "We refer to a dataset’s **structure** as a mental representation of the data, and in particular, we represent data that have a table structure by arranging values in rows and columns. \n",
    "\n",
    "**Guiding Questions**\n",
    "     \n",
    "   - What is the size of the data?\n",
    "   - What type of file is it? (Do we trust this file extension?)\n",
    "   - Are the data organized in records or nested?\n",
    "   - Can we define records by parsing the data?\n",
    "   - Can we reasonably un-nest the data?\n",
    "   - Does the data reference other data?\n",
    "   - Can we join/merge the data? (Do we need to)?\n",
    "   - What are the fields in each record?\n",
    "    - How are they encoded?  (e.g., strings, numbers, binary, dates …)\n",
    "     - What is the variable type of the data for our purposes?\n"
   ]
  },
  {
   "cell_type": "markdown",
   "id": "b0aa2c45",
   "metadata": {},
   "source": [
    "### How big is the data?\n",
    "I often like to start my analysis by getting a rough estimate of the size of the data. This will help inform the tools I use and how I view the data. If it is relatively small I might use a text editor or a spreadsheet to look at the data. If it is larger, I might jump to more programmatic exploration or even used distributed computing tools.\n",
    "\n",
    "However here we will use python tools to probe the file:\n"
   ]
  },
  {
   "cell_type": "code",
   "execution_count": null,
   "id": "f9db00d0",
   "metadata": {},
   "outputs": [],
   "source": [
    "moneyball_file = \"data/baseball.csv\""
   ]
  },
  {
   "cell_type": "code",
   "execution_count": null,
   "id": "24ec8bfb",
   "metadata": {},
   "outputs": [],
   "source": [
    "#the following line imports a module called os (https://docs.python.org/3/library/os.html)\n",
    "import os\n",
    "\n",
    "#We use functions in the os module to get the size of the data and print the result:\n",
    "print(moneyball_file, \"is\", os.path.getsize(moneyball_file) / 1e6, \"MB\")"
   ]
  },
  {
   "cell_type": "markdown",
   "id": "6a6f9c94",
   "metadata": {},
   "source": [
    "I might also want to investigate the number of lines, which often corresponds to the number of records:"
   ]
  },
  {
   "cell_type": "code",
   "execution_count": null,
   "id": "4547046c",
   "metadata": {},
   "outputs": [],
   "source": [
    "with open(moneyball_file, \"r\") as f:\n",
    "    print(moneyball_file, \"is\", sum(1 for l in f), \"lines.\")"
   ]
  },
  {
   "cell_type": "markdown",
   "id": "dafbc6ed",
   "metadata": {},
   "source": [
    "### Based on the structure, how do we read the file into this notebook?\n",
    "Since this is not a huge file, before loading it we can check out the structure of the raw file directly in JupyterLab.\n",
    "\n",
    "Click on the left side menu and double click on the 'baseball.csv' file"
   ]
  },
  {
   "cell_type": "markdown",
   "id": "e91a5db8",
   "metadata": {},
   "source": [
    "## Pandas module:\n",
    "***\n",
    "**Pandas** is an open source $\\color{red}{\\text{data analysis module}}$ in Python used for storing, cleaning, wrangling, and analyzing data.   (Fun fact: It was named as a shortcut for the term \"$\\textbf{pan}$el  $\\textbf{da}$ta\", a common term for multidimensional data sets encountered in statistics and econometrics.)\n",
    "\n",
    "\n",
    "\n",
    "\n",
    "\n",
    "First, let's import the Pandas module.  It's custom in data science to import Pandas with the alias $\\texttt{pd}$.  We can then access any function in the Pandas libraries by prepending function names by $\\texttt{pd.}$  "
   ]
  },
  {
   "cell_type": "code",
   "execution_count": null,
   "id": "71bca93e",
   "metadata": {},
   "outputs": [],
   "source": [
    "import pandas as pd"
   ]
  },
  {
   "cell_type": "markdown",
   "id": "32802889",
   "metadata": {},
   "source": [
    "### $\\color{red}{\\textbf{Pandas}}$ Data Structures\n",
    "\n",
    "\n",
    "\n",
    "\n",
    "Pandas has three types of data structures: \n",
    "- **Series**: A one dimensional array with labeled indices (can be mixed data types). \n",
    "-  **DataFrame**: 2D tabular data structure with both row and column labels.  $\\color{red}{\\text{Rows}}$ have a specific index to access them, which can be $\\color{red}{\\text{any name or value}}$. The $\\color{blue}{\\text{columns}}$ are just $\\color{blue}{\\text{Pandas Series}}$. The Pandas DataFrame data structure can be seen as a spreadsheet, but it is much more flexible. \n",
    "-  **Index**:  A sequence of row/column labels\n"
   ]
  },
  {
   "attachments": {
    "pandas-DataStructure.jpg": {
     "image/jpeg": "[encoded data removed]"
    }
   },
   "cell_type": "markdown",
   "id": "c6bc9bf5",
   "metadata": {},
   "source": [
    "![pandas-DataStructure.jpg](attachment:pandas-DataStructure.jpg)"
   ]
  },
  {
   "cell_type": "markdown",
   "id": "73051e29",
   "metadata": {},
   "source": [
    "### Loading Data Into a DataFrame:\n",
    "\n",
    "Panda's [read_csv function](https://pandas.pydata.org/docs/reference/api/pandas.read_csv.html) is one of the most versatile and useful functions for managing data.  \n",
    "\n",
    "Since we're loading a csv file,  the data is already in tabular format, and each row represents a record of team statistics for a given year, we don't have to add any additional inputs to the function for this file:"
   ]
  },
  {
   "cell_type": "code",
   "execution_count": null,
   "id": "ff0093ce",
   "metadata": {},
   "outputs": [],
   "source": [
    "baseball = pd.read_csv(\"data/baseball.csv\")\n",
    "baseball"
   ]
  },
  {
   "cell_type": "markdown",
   "id": "409dbbb3",
   "metadata": {},
   "source": [
    "### Viewing Data in DataFrames:\n",
    "\n",
    "Two useful methods for viewing dataframes are:\n",
    "\n",
    "`.head()`(https://pandas.pydata.org/docs/reference/api/pandas.DataFrame.head.html)\n",
    "\n",
    "\n",
    "`.tail()`\n"
   ]
  },
  {
   "cell_type": "code",
   "execution_count": null,
   "id": "f2148424",
   "metadata": {},
   "outputs": [],
   "source": [
    "#Default of the .head() method is to show the first 5 rows. If you want to see n rows, enter .head(n)\n",
    "\n",
    "baseball.head()\n"
   ]
  },
  {
   "cell_type": "markdown",
   "id": "2db06c75",
   "metadata": {},
   "source": [
    "**Practice:  Select the last 8 rows of the DataFrame:**"
   ]
  },
  {
   "cell_type": "code",
   "execution_count": null,
   "id": "91b0d8b9",
   "metadata": {},
   "outputs": [],
   "source": [
    "# Use .tail() to select the last 8 rows of the DataFrame:\n",
    "baseball.tail(8)"
   ]
  },
  {
   "cell_type": "markdown",
   "id": "e41c63a8",
   "metadata": {},
   "source": [
    "### Determine what each variable in your dataset represents:"
   ]
  },
  {
   "cell_type": "markdown",
   "id": "5266f1ba",
   "metadata": {},
   "source": [
    "From the Kaggle webpage (https://www.kaggle.com/datasets/wduckett/moneyball-mlb-stats-19622012?resource=download) we can see that the columns are as follows:\n",
    "\n",
    " |Column|Description|\n",
    " | --- | --- |\n",
    " |Team|  |\n",
    " |League |  |\n",
    " |Year | |\n",
    " |Runs Scored (RS) | |\n",
    " |Runs Allowed (RA)| Number of runs the opponents scored against this team|\n",
    " |Wins (W) | wins in the season  |\n",
    " |[On-Base Percentage (OBP)](https://www.baseball-reference.com/bullpen/On_base_percentage)| Measure of how often a batter reaches base. It is approximately equal to Times on Base/Plate appearances.                              The full formula is OBP = (Hits + Walks + Hit by Pitch) / (At Bats + Walks + Hit by Pitch + Sacrifice Flies). Batters are not credited with reaching base on an error or fielder's choice, and they are not charged with an opportunity if they make a sacrifice bunt. | \n",
    " |Slugging Percentage (SLG) | Number of total bases divided by the number of at bats. Its formula is ([Singles] + [Doubles x 2] + [Triples x 3] + [Home Runs x 4])/[At Bats] , where **at bats** are the total of hits, outs (except sac hits and flies) and times reached by error. An at bat differs from a plate appearance, which counts every time a batter comes to bat in a game situation, as the number of at bats excludes certain results such as walks, hit by pitch, sacrifice hits, and sacrifice flies. At bats are used to calculate batting average and slugging percentage, while plate appearances are used to calculate on-base percentage.| \n",
    " |Batting Average (BA)|Calculated by dividing the total number of hits by the total number of at-bats|\n",
    "|Playoffs (binary) |(0 = didn’t make to the playoffs; 1 = did make). [Here's info on how teams qualify for the playoffs](https://www.mlb.com/news/mlb-playoff-format-faq)\n",
    " |\n",
    " |RankSeason | |\n",
    "|RankPlayoffs |  |\n",
    " |Games Played (G)| |\n",
    " |Opponent On-Base Percentage (OOBP)| |\n",
    " |Opponent Slugging Percentage (OSLG) | |"
   ]
  },
  {
   "cell_type": "markdown",
   "id": "e841ff8d",
   "metadata": {},
   "source": [
    "### Variable Types\n",
    "It's important to check if the variable type corresponds to how you would interpret the data.  Sometimes quantitative data is loaded as a string (and needs to be converted) or sometimes data that appears quantitative (1, 2, 3) is actually a code to represent a qualitative feature.  We will dive more deeply into variable types when we discuss visualizing data in the next lesson."
   ]
  },
  {
   "cell_type": "markdown",
   "id": "fd993956",
   "metadata": {},
   "source": [
    "A quick way to view the datatypes of all your columns is the \n",
    "\n",
    "`.info()` method"
   ]
  },
  {
   "cell_type": "code",
   "execution_count": null,
   "id": "6c9665fd",
   "metadata": {},
   "outputs": [],
   "source": [
    "baseball.info()"
   ]
  },
  {
   "cell_type": "markdown",
   "id": "5113d485",
   "metadata": {},
   "source": [
    "### Other Useful Utility Functions\n",
    "\n",
    "\n",
    "`.shape`\n",
    "\n",
    "`.describe()`"
   ]
  },
  {
   "cell_type": "code",
   "execution_count": null,
   "id": "37c82140",
   "metadata": {},
   "outputs": [],
   "source": [
    "baseball.shape"
   ]
  },
  {
   "cell_type": "code",
   "execution_count": null,
   "id": "9cbb2158",
   "metadata": {},
   "outputs": [],
   "source": [
    "baseball.describe()"
   ]
  },
  {
   "cell_type": "markdown",
   "id": "ca61d767",
   "metadata": {},
   "source": [
    "***\n",
    "## EDA  - 2).  What is the Granularity of the data?"
   ]
  },
  {
   "cell_type": "markdown",
   "id": "9ede28ff",
   "metadata": {},
   "source": [
    "We use the term granularity to describe what each row in the table represents.\n",
    "\n",
    "For example, does it represent a measurement from a unique person/event?  An aggregated measurement?   \n",
    "\n",
    "Data that has a high level of granularity would have a large number of individual pieces of information, such as individual records or measurements. Data that has a low level of granularity would have a small number of individual pieces of information, such as summary data or aggregated data. Data granularity can affect how it is used and analyzed, and can impact the accuracy and usefulness of the results.\n",
    "\n",
    "\n",
    "**Guiding Questions To Consider:**\n",
    " - Do all records capture granularity at the same level?\n",
    "   - Some data will include summaries (aka rollups) as records\n",
    " - If the data has a low level of granularity (i.e. has been aggregated in some way), how were the records aggregated?\n",
    "\n",
    "\n"
   ]
  },
  {
   "cell_type": "markdown",
   "id": "6eb66929",
   "metadata": {},
   "source": [
    "**Practice:  Answer the following questions for this dataset:**\n",
    "\n",
    "  - What is the granularity?\n",
    "    -  Answer:  Data for a specific U.S. Major League Baseball Team in a specific Year.\n",
    "  - Do all records capture granularity at the same level?\n",
    "     - Yes - we have verified this using the code shown in the cell below\n",
    "  - If the data has a low level of granularity (i.e. has been aggregated in some way), how were the records aggregated?\n",
    "    - If unsure, revisit the data source"
   ]
  },
  {
   "cell_type": "code",
   "execution_count": null,
   "id": "9cc2c7f3",
   "metadata": {},
   "outputs": [],
   "source": [
    "# Explore the granularity of the dataset\n",
    "# The code below verifies that the granularity is data for a specific team in a specific year\n",
    "baseball[[\"Team\",\"Year\"]].value_counts().max()\n"
   ]
  },
  {
   "cell_type": "code",
   "execution_count": null,
   "id": "7a95a3b1",
   "metadata": {},
   "outputs": [],
   "source": [
    "#baseball.groupby([\"Team\", \"Year\"]).agg(\"size\")\n",
    "\n",
    "baseball.groupby([\"Team\", \"Year\"]).agg(\"size\").max()"
   ]
  },
  {
   "cell_type": "markdown",
   "id": "6b2570a0",
   "metadata": {},
   "source": [
    "***\n",
    "## EDA - 3).  What is the scope of the data?  (how (in)complete is the data?)\n",
    "\n",
    "Scope includes considering the target population we want to study, how to access information about that population, and what your given datasets are actually measuring.\n",
    "\n",
    "**Guiding Questions to Consider**\n",
    " - Does the data cover the target population?  \n",
    " - We will need to filter the data before using it? (Is it too expansive)?\n",
    " - Do we need to gather additional data before proceeding?\n",
    " \n",
    " \n"
   ]
  },
  {
   "cell_type": "code",
   "execution_count": null,
   "id": "3ff6042b",
   "metadata": {},
   "outputs": [],
   "source": [
    "#Exploring scope of the database\n",
    "\n",
    "display(baseball[\"Year\"].unique())\n",
    "\n",
    "display(len(baseball[\"Year\"].unique()))\n",
    "\n"
   ]
  },
  {
   "cell_type": "markdown",
   "id": "b000a0a0",
   "metadata": {},
   "source": [
    "**Context for our particular dataset**:\n",
    "\n",
    "The main component of the Moneyball story is the thesis that the market was not accounting On Base Percentage (OBP) at all. The Oakland A's and especially Michael Lewis saw that OBP had an siginificant impact on the winning percentage of a team and even a stronger impact than the classical Slugging Percentage (SGP). And because everyone else did not rate players and teams on basis of OBP there was an ineffiency in the market.\n",
    "\n",
    "\n",
    "From 1999 to 2003, on-base percentage was a significant predictor of wins, but not a very significant predictor of individual player salaries. That means players who draw a lot of walks were really cheap on the market, just as the movie narrates.\n",
    "\n",
    "That was the reason why the Oakland A's became so succesfull in this season. They scouted players on OBP instead of the SGP which allowed them to get cheap players nobody focused on.\n",
    "\n",
    "As we want to replicate some of the results of  [Hakes and Sour](https://www.aeaweb.org/articles?id=10.1257/jep.20.3.173) in their paper \"An Economic Analysis of the Moneyball Hypothesis\"  we will use the same seasons which they used --> 1999 till 2004.\n",
    "\n",
    "Fortunately we have already the key metrics in our data like OBP and SLG on Team basis and the Performance of the opponent Teams. \n",
    "\n",
    "\n",
    "\n",
    "Note that statistical analysis has become commonplace in major league sports, and the importance of on-base percentage has become more widely appreciated. As of 2004, the on-base percentage for baseball players was no longer financially undervalued, and this correction seems to persist, as shown by Hakes and Sauer in a later paper.\n",
    "\n",
    "\n"
   ]
  },
  {
   "cell_type": "markdown",
   "id": "5335549a",
   "metadata": {},
   "source": [
    "\n",
    "\n",
    "**Select data between the years 1999 and 2004.**"
   ]
  },
  {
   "cell_type": "code",
   "execution_count": null,
   "id": "a4eb21c7",
   "metadata": {},
   "outputs": [],
   "source": [
    "# uncomment each of these lines to see the resulting series\n",
    "#1999<=baseball[\"Year\"]\n",
    "\n",
    "#baseball[\"Year\"]<=2004\n",
    "\n",
    "\n",
    "# Putting it all together\n",
    "baseball_moneyball = baseball[(1999<=baseball[\"Year\"]) & (baseball[\"Year\"]<=2004)]\n",
    "                            "
   ]
  },
  {
   "cell_type": "code",
   "execution_count": null,
   "id": "e34dc59e",
   "metadata": {},
   "outputs": [],
   "source": [
    "baseball_moneyball.head()"
   ]
  },
  {
   "cell_type": "markdown",
   "id": "10b28e09",
   "metadata": {},
   "source": [
    "**Practice:  Using [baseball-reference.com](https://www.baseball-reference.com/) we see there were 30 MLB teams during the timeframe we're analyzing.  Check that our data contains all 30 teams**"
   ]
  },
  {
   "cell_type": "code",
   "execution_count": null,
   "id": "efe2b24e",
   "metadata": {},
   "outputs": [],
   "source": [
    "display(baseball_moneyball[\"Team\"].unique())\n",
    "\n",
    "len(baseball_moneyball[\"Team\"].unique())"
   ]
  },
  {
   "cell_type": "markdown",
   "id": "24b97e90",
   "metadata": {},
   "source": [
    "***\n",
    "## EDA -4).  Temporality -- how is the data situated in time?\n",
    "\n",
    "**Guiding Questions To Consider**:\n",
    "\n",
    " - When was the data collected/last updated?\n",
    " - What is the meaning of any time and date fields? \n",
    "    - For our particular dataset, see the explanation of an MLB season:  https://www.fubo.tv/news/how-to-watch/how-long-is-the-mlb-season/\n",
    " - Are there strange date null values (e.g. January 1st 1970, January 1st 1900…?, etc)\n",
    " - Is there periodicity? Diurnal (24-hr), Monthly or Yearly patterns? \n"
   ]
  },
  {
   "cell_type": "code",
   "execution_count": null,
   "id": "292e0719",
   "metadata": {},
   "outputs": [],
   "source": [
    "#Are we missing Year data for any entry in the file?\n",
    "baseball_moneyball[\"Year\"].isna()"
   ]
  },
  {
   "cell_type": "code",
   "execution_count": null,
   "id": "528cd5a5",
   "metadata": {},
   "outputs": [],
   "source": [
    "baseball_moneyball.groupby('Team').agg({'Year': ['min', 'max']})"
   ]
  },
  {
   "cell_type": "code",
   "execution_count": null,
   "id": "45ddd433",
   "metadata": {},
   "outputs": [],
   "source": [
    "# We would expect 30*6 entries (one for each year 1999-2004) for all of the 30 teams\n",
    "30*6"
   ]
  },
  {
   "cell_type": "code",
   "execution_count": null,
   "id": "377af030",
   "metadata": {},
   "outputs": [],
   "source": [
    "baseball_moneyball.shape"
   ]
  },
  {
   "cell_type": "code",
   "execution_count": null,
   "id": "ff02ed88",
   "metadata": {},
   "outputs": [],
   "source": [
    "baseball_moneyball.info()"
   ]
  },
  {
   "cell_type": "code",
   "execution_count": null,
   "id": "18cd6318",
   "metadata": {},
   "outputs": [],
   "source": [
    "import plotly.express as px\n",
    "\n",
    "# We can plot Oakland's Wins as a function of time.  \n",
    "# Use a line plot\n",
    "\n",
    "fig = px.line(baseball_moneyball[baseball_moneyball[\"Team\"]==\"OAK\"], x='Year', y='W', markers=True, title = \"Oakland A's Wins: 1999-2004\")\n",
    "\n",
    "fig.show()\n",
    "\n",
    "\n"
   ]
  },
  {
   "cell_type": "code",
   "execution_count": null,
   "id": "b19b23a9",
   "metadata": {},
   "outputs": [],
   "source": [
    "# Compare this with New York Yankees and Boston Red Sox\n",
    "\n",
    "teams_to_plot = [\"OAK\",\"NYY\", \"BOS\"]\n",
    "\n",
    "baseball_subset = baseball_moneyball[baseball_moneyball[\"Team\"].isin(teams_to_plot)]\n",
    "\n",
    "fig = px.line(baseball_subset, x='Year', y='W', color='Team', markers=True)\n",
    "\n",
    "fig.show()"
   ]
  },
  {
   "cell_type": "code",
   "execution_count": null,
   "id": "77252660",
   "metadata": {},
   "outputs": [],
   "source": [
    "fig = px.line(baseball_subset, x='Year', y='W', facet_col = 'Team', markers=True)\n",
    "\n",
    "fig.show()"
   ]
  },
  {
   "cell_type": "markdown",
   "id": "e70a5560",
   "metadata": {},
   "source": [
    "***\n",
    "## EDA - 5). Faithfulness -- how well does the data capture “reality”?"
   ]
  },
  {
   "cell_type": "markdown",
   "id": "660512df",
   "metadata": {},
   "source": [
    "**Guiding Questions To Consider**:\n",
    "\n",
    " - Does the data contain unrealistic or “incorrect” values?\n",
    " - Is there any missing data?\n",
    " - Does my data violate obvious dependencies?\n",
    " - Are there obvious signs of data falsification?"
   ]
  },
  {
   "cell_type": "markdown",
   "id": "7f29c677",
   "metadata": {},
   "source": [
    "**Practice:  MLB typically teams play 162 games in the season.  Check that this is reflected in our data.**"
   ]
  },
  {
   "cell_type": "code",
   "execution_count": null,
   "id": "3005b26b",
   "metadata": {},
   "outputs": [],
   "source": [
    "baseball_moneyball.describe()\n"
   ]
  },
  {
   "cell_type": "markdown",
   "id": "0945206b",
   "metadata": {},
   "source": [
    "Notice some years have 163 games - we can verify that this is in fact correct data by a quick google search:\n",
    "\n",
    "https://bleacherreport.com/articles/1153813-hideki-matsuis-163rd-game-how-godzilla-played-in-a-game-that-never-happened"
   ]
  },
  {
   "cell_type": "code",
   "execution_count": null,
   "id": "930c8c84",
   "metadata": {},
   "outputs": [],
   "source": [
    "\n",
    "\n"
   ]
  },
  {
   "cell_type": "markdown",
   "id": "9ccfce39",
   "metadata": {},
   "source": [
    "### Handling Missing Data\n",
    "\n",
    "There are several options as to how to handle missing data.  Essential question to ask before choosing an option: why are the records missing and how could the missing data affect my analysis?\n",
    "\n",
    "Some Options for Missing Data:\n",
    " - Drop records with missing values (caution: check for biases induced by dropped values)\n",
    " - Keep as NaN\n",
    " - Imputation/Interpolation: Inferring missing values (i.e. replacing the missing value with the average value or interpolating values)\n",
    "\n",
    "In general, how we deal with missing data depends on the questions we're trying to answer with the dataset.  "
   ]
  },
  {
   "cell_type": "markdown",
   "id": "61ef582c",
   "metadata": {},
   "source": [
    "<br/><br/>\n",
    "<hr style=\"border: 5px solid #003262;\" />\n",
    "<hr style=\"border: 1px solid #fdb515;\" />\n",
    "\n",
    "# Pandas Bootcamp"
   ]
  },
  {
   "cell_type": "markdown",
   "id": "ad91a74b",
   "metadata": {},
   "source": [
    "\n",
    "\n",
    "##  Sorting in Pandas"
   ]
  },
  {
   "cell_type": "code",
   "execution_count": null,
   "id": "6ca9d845",
   "metadata": {},
   "outputs": [],
   "source": [
    "# If we call the original DataFrame, if gives us the first 5 rows and the last 5 rows:\n",
    "baseball"
   ]
  },
  {
   "cell_type": "markdown",
   "id": "715bb969",
   "metadata": {},
   "source": [
    "At first glance, it appears the data we loaded was sorted by Year and then Alphabetically by Team name.  \n",
    "**Practice:  Instead sort the data by team**: \n"
   ]
  },
  {
   "cell_type": "code",
   "execution_count": null,
   "id": "9373a436",
   "metadata": {},
   "outputs": [],
   "source": [
    "baseball_sorted = baseball.sort_values(\"Team\")\n",
    "# Default for sort_values is \"ascending = True\"\n"
   ]
  },
  {
   "cell_type": "code",
   "execution_count": null,
   "id": "f90df077",
   "metadata": {},
   "outputs": [],
   "source": [
    "baseball_sorted.head()"
   ]
  },
  {
   "cell_type": "markdown",
   "id": "babd57ed",
   "metadata": {},
   "source": [
    "Observations About The `sort_values` method:\n",
    " - First, the  sort_values method actually returns a new DataFrame , with the data sorted as requested. If instead we wanted to modify the existing DataFrame so that its values are sorted we could have added the  \"inplace=True\" parameter  to the sort_values method. For now though we'll leave the original DataFrame as it is.\n",
    "\n",
    " - The second interesting thing to notice is that the DataFrame indices (the first column) have been rearranged as well. In truth, the indices of a DataFrame are only numbers by default.  We could also set them to be other identifiers like strings. In that setting, in makes perfect sense that they should tag along with their original data.\n",
    " \n",
    "**Practice:  How could we sort the data first by Team and then by Year?**"
   ]
  },
  {
   "cell_type": "code",
   "execution_count": null,
   "id": "83673bcc",
   "metadata": {},
   "outputs": [],
   "source": [
    "# Sort by Team and then by Year:\n",
    "baseball_sorted = baseball.sort_values([\"Team\", \"Year\"])\n",
    "baseball_sorted.head()"
   ]
  },
  {
   "cell_type": "markdown",
   "id": "097be8cd",
   "metadata": {},
   "source": [
    "# Extraction:\n",
    "\n",
    "One of the most basic tasks for manipulating a DataFrame is to extract rows and columns of interest.   \n"
   ]
  },
  {
   "cell_type": "markdown",
   "id": "114104be",
   "metadata": {},
   "source": [
    "### Label-Based Extraction Using`loc`\n",
    "\n",
    "`loc` selects items by row and column *label*.  \n",
    "\n",
    "`df.loc[row_labels, column_labels]`\n",
    "\n",
    "We describe \"labels\" as the bolded text at the top and left of a DataFrame.\n",
    "\n",
    "\n",
    "\n",
    "\n",
    "Arguments to `.loc` can be:\n",
    "1. A row label and column label\n",
    "2. A list.\n",
    "3. A slice (syntax is inclusive of the right-hand side of the slice)."
   ]
  },
  {
   "cell_type": "code",
   "execution_count": null,
   "id": "fe2add34",
   "metadata": {},
   "outputs": [],
   "source": [
    "baseball"
   ]
  },
  {
   "cell_type": "markdown",
   "id": "4d3514e8",
   "metadata": {},
   "source": [
    "**Practice:  From the baseball DataFrame, select the value of the Batting Average (BA) for the 4th row in the dataframe**:"
   ]
  },
  {
   "cell_type": "code",
   "execution_count": null,
   "id": "da965b42",
   "metadata": {},
   "outputs": [],
   "source": [
    "# Selection by a row label and a column label\n",
    "baseball.loc[3, \"BA\"]"
   ]
  },
  {
   "cell_type": "markdown",
   "id": "994dfa25",
   "metadata": {},
   "source": [
    "**Practice:  From the baseball DataFrame, select the rows with labels, 0, 4, 1230 and the columns \"Year\", \"Team\", \"W\" (in that order)**"
   ]
  },
  {
   "cell_type": "code",
   "execution_count": null,
   "id": "45ef16e6",
   "metadata": {},
   "outputs": [],
   "source": [
    "baseball.loc[[0,4,1230],[\"Year\",\"Team\",\"W\"]]"
   ]
  },
  {
   "cell_type": "markdown",
   "id": "e246bb1b",
   "metadata": {},
   "source": [
    "**Practice:  True or False:  \n",
    "If you run the same code as above but instead change the DataFrame from baseball to baseball_sorted, you will get the same output as above**\n"
   ]
  },
  {
   "cell_type": "code",
   "execution_count": null,
   "id": "33edea80",
   "metadata": {},
   "outputs": [],
   "source": [
    "baseball_sorted.loc[[0,4,1230],[\"Year\",\"Team\",\"W\"]]"
   ]
  },
  {
   "cell_type": "code",
   "execution_count": null,
   "id": "7a9afc7b",
   "metadata": {},
   "outputs": [],
   "source": [
    "# Selection by a list and a slice of columns\n",
    "baseball.loc[[0, 4, 1230], \"Year\":\"Playoffs\"]"
   ]
  },
  {
   "cell_type": "markdown",
   "id": "d16466ff",
   "metadata": {},
   "source": [
    "**Practice: Extract all rows from the baseball DataFrame and the columns \"Team\", \"Year\" and \"W\""
   ]
  },
  {
   "cell_type": "code",
   "execution_count": null,
   "id": "bedbae56",
   "metadata": {},
   "outputs": [],
   "source": [
    "# Extracting all rows \n",
    "..."
   ]
  },
  {
   "cell_type": "markdown",
   "id": "36123813",
   "metadata": {},
   "source": [
    "What’s the difference between a `pd.Series` object and a `pd.DataFrame` object? \n",
    "\n",
    "Essentially, a `pd.DataFrame` is two-dimensional—it has rows and columns and represents a table of data. \n",
    "\n",
    "A `pd.Series`\n",
    "is one-dimensional—it represents a list of data. \n",
    "`pd.Series` and `pd.DataFrame` objects have many methods in common, but they really represent two different things. \n",
    "\n",
    "Confusing the two can cause bugs and confusion."
   ]
  },
  {
   "cell_type": "code",
   "execution_count": null,
   "id": "ab517aaa",
   "metadata": {},
   "outputs": [],
   "source": [
    "# Notice the output when you run the following code - why is it not a DataFrame?\n",
    "baseball.loc[[4, 6, 8], \"Team\"]"
   ]
  },
  {
   "cell_type": "code",
   "execution_count": null,
   "id": "64ec0092",
   "metadata": {},
   "outputs": [],
   "source": [
    "# How could we get the code above to return a DataFrame and not a Series?\n",
    "baseball.loc[[4,6,8],[\"Team\"]]"
   ]
  },
  {
   "cell_type": "markdown",
   "id": "38ca1d44",
   "metadata": {},
   "source": []
  },
  {
   "cell_type": "markdown",
   "id": "f67c7338",
   "metadata": {},
   "source": [
    "**Practice:  How could you select all rows where the Team is the Oakland A's (OAK)**?"
   ]
  },
  {
   "cell_type": "code",
   "execution_count": null,
   "id": "cb927572",
   "metadata": {},
   "outputs": [],
   "source": [
    "baseball_teamidx = baseball.set_index(\"Team\")\n",
    "baseball_teamidx.loc[\"OAK\",:]"
   ]
  },
  {
   "cell_type": "code",
   "execution_count": null,
   "id": "4fdd5139",
   "metadata": {},
   "outputs": [],
   "source": [
    "baseball_teamidx.shape"
   ]
  },
  {
   "cell_type": "code",
   "execution_count": null,
   "id": "e5415e6d",
   "metadata": {},
   "outputs": [],
   "source": []
  },
  {
   "cell_type": "markdown",
   "id": "7c69f2f4",
   "metadata": {},
   "source": [
    "### Integer-Based Extraction Using `iloc`"
   ]
  },
  {
   "cell_type": "markdown",
   "id": "15a59f53",
   "metadata": {},
   "source": [
    "`iloc` selects items by row and column *integer* position.\n",
    "\n",
    "Arguments to `.iloc` can be:\n",
    "1. A list.\n",
    "2. A slice (syntax is exclusive of the right hand side of the slice).\n",
    "3. A single value.\n"
   ]
  },
  {
   "cell_type": "code",
   "execution_count": null,
   "id": "854ec8e7",
   "metadata": {},
   "outputs": [],
   "source": [
    "# Index-based extraction using a list of rows and a slice of column indices\n",
    "baseball.iloc[[1, 2, 3], 0:3]"
   ]
  },
  {
   "cell_type": "code",
   "execution_count": null,
   "id": "603290d3",
   "metadata": {},
   "outputs": [],
   "source": [
    "# Selecting all rows using a colon\n",
    "baseball.iloc[:, 0:3]"
   ]
  },
  {
   "cell_type": "code",
   "execution_count": null,
   "id": "e8e0b01e",
   "metadata": {},
   "outputs": [],
   "source": [
    "baseball.iloc[[1, 2, 3], 1]"
   ]
  },
  {
   "cell_type": "code",
   "execution_count": null,
   "id": "0bc4f1f4",
   "metadata": {},
   "outputs": [],
   "source": [
    "# Extracting the value at row 0 and the second column\n",
    "baseball.iloc[0,1]"
   ]
  },
  {
   "cell_type": "markdown",
   "id": "f984a735",
   "metadata": {},
   "source": [
    "**Practice:  From the baseball dataframe, select the rows at integer positions 1, 2, and 3.  Select the columns at positions 0, 1, and 4.  Remember that Python indexing begins at position 0!**\n"
   ]
  },
  {
   "cell_type": "code",
   "execution_count": null,
   "id": "52fb15f2",
   "metadata": {},
   "outputs": [],
   "source": [
    "..."
   ]
  },
  {
   "cell_type": "markdown",
   "id": "ee2fae30",
   "metadata": {},
   "source": [
    "**TRUE OR FALSE  If you run the following code, you will get the same output.  Explain**\n",
    "\n",
    "`baseball_sorted.iloc[3:7,:]`\n",
    "\n",
    "`baseball.iloc[3:7,:]`"
   ]
  },
  {
   "cell_type": "code",
   "execution_count": null,
   "id": "c1888755",
   "metadata": {},
   "outputs": [],
   "source": [
    "..."
   ]
  },
  {
   "cell_type": "markdown",
   "id": "d086651c",
   "metadata": {},
   "source": [
    "### Shortcut: Context-Dependent Extraction"
   ]
  },
  {
   "cell_type": "markdown",
   "id": "39b7d45a",
   "metadata": {},
   "source": [
    "In practice, the `[]` operator is often used to yield more concise code.\n",
    "\n",
    "`[]` is a bit trickier to understand than some of the other methods shown below, but it achieves essentially the same functionality. The difference is that `[]` is *context-dependent*.\n",
    "\n",
    "`[]` only takes one argument, which may be:\n",
    "1. A slice of row integers.\n",
    "2. A list of column labels.\n",
    "3. A single column label.\n"
   ]
  },
  {
   "cell_type": "code",
   "execution_count": null,
   "id": "fd329c6d",
   "metadata": {},
   "outputs": [],
   "source": [
    "baseball_sorted.head(10)"
   ]
  },
  {
   "cell_type": "markdown",
   "id": "fb215bf5",
   "metadata": {},
   "source": [
    "If we provide a slice of ***integer positions***, we get the DataFrame entries in that position:"
   ]
  },
  {
   "cell_type": "code",
   "execution_count": null,
   "id": "1e5fa5b3",
   "metadata": {
    "tags": []
   },
   "outputs": [],
   "source": [
    "# Slices are INCLUSIVE of the first entry and EXCLUSIVE of the last entry\n",
    "baseball_sorted[3:7]"
   ]
  },
  {
   "cell_type": "markdown",
   "id": "40c50258",
   "metadata": {},
   "source": [
    "Contrast that with what we get if we use the **sorted DataFrame**:"
   ]
  },
  {
   "cell_type": "markdown",
   "id": "55e6f6e9",
   "metadata": {},
   "source": [
    "If we provide a list of column names, we get all rows and the listed columns."
   ]
  },
  {
   "cell_type": "code",
   "execution_count": null,
   "id": "f5237790",
   "metadata": {},
   "outputs": [],
   "source": [
    "baseball[[\"Team\", \"Year\", \"W\"]]"
   ]
  },
  {
   "cell_type": "markdown",
   "id": "57bcca0b",
   "metadata": {},
   "source": [
    "And if we provide a single column name we get back just that column, stored as a `Series`."
   ]
  },
  {
   "cell_type": "code",
   "execution_count": null,
   "id": "b486644b",
   "metadata": {
    "tags": []
   },
   "outputs": [],
   "source": [
    "baseball[\"Team\"]"
   ]
  },
  {
   "cell_type": "markdown",
   "id": "ff91e9ad",
   "metadata": {},
   "source": [
    "If instead we would like the result as a DataFrame, we need to provide the column name inside a list:"
   ]
  },
  {
   "cell_type": "code",
   "execution_count": null,
   "id": "045e5f6d",
   "metadata": {},
   "outputs": [],
   "source": [
    "baseball[[\"Team\"]]"
   ]
  },
  {
   "cell_type": "markdown",
   "id": "4cb9eb8c",
   "metadata": {},
   "source": [
    "## Conditional Selection"
   ]
  },
  {
   "cell_type": "markdown",
   "id": "1bf01d12",
   "metadata": {},
   "source": [
    "By passing in a sequence (list, array, or `Series`) of boolean values, we can extract a subset of the rows in a `DataFrame`. We will keep *only* the rows that correspond to a boolean value of `True`.\n",
    "\n",
    "\n",
    "**Practice:  Use Conditional Selection to Extract all rows where the Team is Oakland**"
   ]
  },
  {
   "cell_type": "code",
   "execution_count": null,
   "id": "41fd2609",
   "metadata": {},
   "outputs": [],
   "source": [
    "# First, use a logical condition to generate a boolean array\n",
    "logical_operator = ...\n",
    "logical_operator"
   ]
  },
  {
   "cell_type": "code",
   "execution_count": null,
   "id": "e50bc46c",
   "metadata": {},
   "outputs": [],
   "source": [
    "# Then, use this boolean array to filter the DataFrame\n",
    "\n"
   ]
  },
  {
   "cell_type": "markdown",
   "id": "f0af6a5c",
   "metadata": {},
   "source": [
    "### Bitwise Operators"
   ]
  },
  {
   "cell_type": "markdown",
   "id": "ea11ea96",
   "metadata": {},
   "source": [
    "To filter on multiple conditions, we combine boolean operators using **bitwise comparisons**.\n",
    "\n",
    "Symbol | Usage      | Meaning \n",
    "------ | ---------- | -------------------------------------\n",
    "~    | ~p       | Returns negation of p\n",
    "&#124; | p &#124; q | p OR q\n",
    "&    | p & q    | p AND q\n",
    "^  | p ^ q | p XOR q (exclusive or)"
   ]
  },
  {
   "cell_type": "markdown",
   "id": "ae8dd87a",
   "metadata": {},
   "source": [
    "**Practice: Use Conditional Selection to Extract all rows where the Team is Oakland and the Year >=1999**"
   ]
  },
  {
   "cell_type": "code",
   "execution_count": null,
   "id": "cbd6d331",
   "metadata": {},
   "outputs": [],
   "source": [
    "#Your code here\n",
    "..."
   ]
  },
  {
   "cell_type": "code",
   "execution_count": null,
   "id": "6abe399e",
   "metadata": {},
   "outputs": [],
   "source": [
    "teams2 = pd.read_csv(\"data/Teams.csv\")\n",
    "\n",
    "teams2.head()\n",
    "\n",
    "teams2 = teams2[teams2[\"yearID\"]>=1999]\n",
    "\n",
    "display(teams2[\"teamID\"].unique())\n",
    "\n",
    "baseball[\"Team\"].unique()"
   ]
  },
  {
   "cell_type": "markdown",
   "id": "f6fcc526",
   "metadata": {},
   "source": [
    "### `.isin` for Selection based on a list, array, or `Series` "
   ]
  },
  {
   "cell_type": "code",
   "execution_count": null,
   "id": "7c847d2b",
   "metadata": {},
   "outputs": [],
   "source": [
    "# Note: The parentheses surrounding the code make it possible to break the code \n",
    "# into multiple lines for readability\n",
    "\n",
    "(\n",
    "    baseball[(baseball[\"Team\"] == \"OAK\") | \n",
    "              (baseball[\"Team\"] == \"ATL\") |\n",
    "              (baseball[\"Team\"] == \"HOU\") |\n",
    "              (baseball[\"Team\"] == \"PHI\")]\n",
    ")\n"
   ]
  },
  {
   "cell_type": "code",
   "execution_count": null,
   "id": "60d2f9ad",
   "metadata": {},
   "outputs": [],
   "source": [
    "# A more concise method to achieve the above: .isin\n",
    "names = [\"OAK\",\"ATL\",\"HOU\",\"PHI\"]\n",
    "\n",
    "#Boolean mask (this is an intermediate step - not required, we're just showing you this before we put it into the selection operator)\n",
    "baseball[\"Team\"].isin(names)\n",
    "\n",
    "\n",
    "baseball[baseball[\"Team\"].isin(names)]"
   ]
  },
  {
   "cell_type": "markdown",
   "id": "c2390cf5",
   "metadata": {},
   "source": [
    "## Adding, Removing, and Modifying Columns"
   ]
  },
  {
   "cell_type": "markdown",
   "id": "1a63c961",
   "metadata": {},
   "source": [
    "### Compute Run Difference\n",
    "\n",
    "To win games a team needs to score more “runs” than their opponent but how many? \n",
    "\n",
    "\n",
    "\n",
    "The feature ‘RS’ is the number of runs scored and ‘RA’ is the number of runs allowed.'\n",
    "We can add an additional feature which summarise both of them by calculating the difference:\n",
    "\n"
   ]
  },
  {
   "cell_type": "markdown",
   "id": "d99221e7",
   "metadata": {},
   "source": [
    "### Add a Column\n",
    "\n",
    "The feature ‘RS’ is the number of runs scored and ‘RA’ is the number of runs allowed.'\n",
    "We can add an additional feature `RD` which summarise both of them by calculating the difference:\n",
    "\n",
    "\n",
    "**Practice:  Add the column `RD`** using\n",
    " `.assign()` https://pandas.pydata.org/docs/reference/api/pandas.DataFrame.assign.html\n"
   ]
  },
  {
   "cell_type": "code",
   "execution_count": null,
   "id": "56f8569f",
   "metadata": {},
   "outputs": [],
   "source": [
    "# Add a column called RD with the difference between \n",
    "baseball = baseball.assign(RD = baseball[\"RS\"]-baseball[\"RA\"])\n",
    "\n",
    "baseball"
   ]
  },
  {
   "cell_type": "markdown",
   "id": "8be25d3b",
   "metadata": {},
   "source": [
    "### Modify a Column\n",
    "To modify a column, use `.assign()` "
   ]
  },
  {
   "cell_type": "code",
   "execution_count": null,
   "id": "b82abdd4",
   "metadata": {},
   "outputs": [],
   "source": [
    "# Modify the \"name_lengths\" column to be one less than its original value\n",
    "baseball_temp = baseball.assign(Team = baseball[\"Team\"]+\"A!\")\n",
    "\n",
    "baseball_temp"
   ]
  },
  {
   "cell_type": "markdown",
   "id": "dee5ace8",
   "metadata": {},
   "source": [
    "### Rename a Column Name\n",
    "Rename a column using the `.rename()` method."
   ]
  },
  {
   "cell_type": "code",
   "execution_count": null,
   "id": "62e8d4ab",
   "metadata": {},
   "outputs": [],
   "source": [
    "baseball_temp=baseball_temp.rename(columns={\"Team\":\"NewTeam\"})\n",
    "baseball_temp"
   ]
  },
  {
   "cell_type": "markdown",
   "id": "a9a5a7b7",
   "metadata": {},
   "source": [
    "### Delete a Column\n",
    "Remove a column using `.drop()`."
   ]
  },
  {
   "cell_type": "code",
   "execution_count": null,
   "id": "53e44ea9",
   "metadata": {},
   "outputs": [],
   "source": [
    "# Remove our new \"Team\" column\n",
    "baseball_temp = baseball_temp.drop(\"NewTeam\", axis=\"columns\")\n",
    "baseball_temp"
   ]
  },
  {
   "cell_type": "markdown",
   "id": "0d5435c4",
   "metadata": {},
   "source": [
    "## Grouping\n",
    "\n",
    "\n",
    "We can group rows that share a common feature, then aggregate data across the group.\n",
    "\n",
    "Syntax  `dataframe.groupby(column_names).agg(aggregation_function)`\n"
   ]
  },
  {
   "cell_type": "code",
   "execution_count": null,
   "id": "66e1e6f0",
   "metadata": {},
   "outputs": [],
   "source": [
    "# Create a smaller DataFrame to illustrate grouping\n",
    "\n",
    "baseball.head()\n",
    "\n",
    "yr = [1999, 2000, 2002]\n",
    "\n",
    "te = [\"OAK\", \"BOS\"]\n",
    "\n",
    "bb = baseball[(baseball[\"Team\"].isin(te)) & baseball[\"Year\"].isin(yr)][[\"Team\", \"Year\", \"W\", \"G\", \"OBP\", \"Playoffs\"]]\n",
    "\n",
    "bb\n",
    "\n"
   ]
  },
  {
   "cell_type": "markdown",
   "id": "e143e4b1",
   "metadata": {},
   "source": [
    "Calling .groupby() generates DataFrameGroupBy objects → \"mini\" sub-DataFrames\n",
    "\n",
    "\n",
    "Each subframe contains all rows that correspond to the same group \n",
    "\n",
    "\n",
    "We cannot work directly with DataFrameGroupBy objects! The code below is to help understand what goes on conceptually – in reality, we can't \"see\" the result of calling .groupby.\n",
    "\n",
    "It turns out we can print out the subframes that result. This isn't something you'll do for any practical purpose. However, it may help you get an understanding of what groupby is actually doing.\n",
    "\n",
    "An example is given below for `baseball_moneyball` "
   ]
  },
  {
   "cell_type": "code",
   "execution_count": null,
   "id": "3a4957fe",
   "metadata": {},
   "outputs": [],
   "source": [
    "bb.groupby(\"Team\")"
   ]
  },
  {
   "cell_type": "code",
   "execution_count": null,
   "id": "492befea",
   "metadata": {
    "ExecuteTime": {
     "end_time": "2020-09-16T20:55:16.136582Z",
     "start_time": "2020-09-16T20:55:16.020654Z"
    },
    "scrolled": true
   },
   "outputs": [],
   "source": [
    "# This is just to demonstrate under the hood what the groupby call does - this\n",
    "# is not something you would usually run\n",
    "for n, g in bb.groupby(\"Team\"):\n",
    "    display(g)"
   ]
  },
  {
   "cell_type": "markdown",
   "id": "368f4908",
   "metadata": {},
   "source": [
    "\n",
    "Once we've formed groups, we can aggregate each sub-dataframe (a.k.a. group) into a single row using an aggregation function. For example, if we use `.agg(\"mean\")` on the groups above, we get back a single DataFrame where each group has been replaced by a single row. In each column for that aggregate row, the value that appears is the average of all values in that group.\n"
   ]
  },
  {
   "cell_type": "code",
   "execution_count": null,
   "id": "86459430",
   "metadata": {},
   "outputs": [],
   "source": [
    "bb.groupby(\"Team\").agg({\"W\":\"sum\"})"
   ]
  },
  {
   "cell_type": "markdown",
   "id": "ee442116",
   "metadata": {},
   "source": [
    "Note that the index of the dataframe returned by an `groupby.agg` call is no longer a set of numeric indices from 0 to N-1. Instead, we see that the index for the example above is now the `Team`. If we want to restore our DataFrame so that `Team` is a column rather than the index, we can use `reset_index`."
   ]
  },
  {
   "cell_type": "code",
   "execution_count": null,
   "id": "1c26dae6",
   "metadata": {},
   "outputs": [],
   "source": [
    "bb.groupby(\"Team\").agg({\"W\":\"sum\"}).reset_index()"
   ]
  },
  {
   "cell_type": "code",
   "execution_count": null,
   "id": "5f011203",
   "metadata": {},
   "outputs": [],
   "source": [
    "# If you don't specify a column, it will apply the same aggregation function to all columns\n",
    "bb.groupby(\"Team\").agg(\"sum\")"
   ]
  },
  {
   "cell_type": "markdown",
   "id": "2885bc3e",
   "metadata": {},
   "source": [
    "### Aggregating the Same Column Using Different Functions:"
   ]
  },
  {
   "cell_type": "code",
   "execution_count": null,
   "id": "2bf93178",
   "metadata": {},
   "outputs": [],
   "source": [
    "bb.groupby(\"Team\").agg({\"W\":[\"mean\", \"min\", \"max\"]})"
   ]
  },
  {
   "cell_type": "markdown",
   "id": "16202ee3",
   "metadata": {},
   "source": [
    "### Specifying different aggregation functions for different columns:"
   ]
  },
  {
   "cell_type": "code",
   "execution_count": null,
   "id": "a49ed062",
   "metadata": {},
   "outputs": [],
   "source": [
    "bb.groupby(\"Team\").agg({\"W\":\"sum\", \"G\":\"min\", \"OBP\":\"mean\"})"
   ]
  },
  {
   "cell_type": "markdown",
   "id": "14a1f0c2",
   "metadata": {},
   "source": [
    "**IMPORTANT NOTE:** Notice that the code above consists of a series of chained method calls. This sort of code is very very common in Pandas programming and in data science in general. Such chained method calls can sometimes go many layers deep, in which case you might consider adding newlines between lines of code for clarity. For example, we could instead write the code above as:"
   ]
  },
  {
   "cell_type": "code",
   "execution_count": null,
   "id": "e61b4998",
   "metadata": {},
   "outputs": [],
   "source": [
    "# pandas method chaining - surround code after equals sign with parantheses and then can break lines\n",
    "\n",
    "(\n",
    "bb.groupby(\"Team\") \n",
    "    .agg({\"W\":\"sum\", \"G\":\"min\", \"OBP\":\"mean\"})\n",
    "    .rename(columns={\"W\":\"sumW\", \"G\":\"minG\", \"OBP\":\"meanOBP\"}) \n",
    "    \n",
    ")    "
   ]
  },
  {
   "cell_type": "markdown",
   "id": "67c42e3b",
   "metadata": {},
   "source": [
    "Note that we have surrounded the entire call by a big set of parentheses so that Python doesn't complain about the indentation. An alternative is to use the \\ symbol to indicate to Python that your code continues on to the next line!"
   ]
  },
  {
   "cell_type": "code",
   "execution_count": null,
   "id": "6f555ff6",
   "metadata": {
    "scrolled": true
   },
   "outputs": [],
   "source": [
    "# pandas method chaining (alternative) end lines with \\\n",
    "\n",
    "\n",
    "bb.groupby(\"Team\")  \\\n",
    "    .agg({\"W\":\"sum\", \"G\":\"min\", \"OBP\":\"mean\"}) \\\n",
    "    .rename(columns={\"W\":\"sumW\", \"G\":\"minG\", \"OBP\":\"meanOBP\"}) \n",
    "    \n",
    "   \n",
    "                    \n"
   ]
  },
  {
   "cell_type": "markdown",
   "id": "77592f7a",
   "metadata": {},
   "source": [
    "### Grouping By Multiple Columns"
   ]
  },
  {
   "cell_type": "code",
   "execution_count": null,
   "id": "80d02de8",
   "metadata": {},
   "outputs": [],
   "source": [
    "# This is just to demonstrate under the hood what the groupby call does - this\n",
    "# is not something you would usually run\n",
    "for n, g in bb.groupby([\"Team\",\"Playoffs\"]):\n",
    "    display(g)"
   ]
  },
  {
   "cell_type": "code",
   "execution_count": null,
   "id": "ac6e4e42",
   "metadata": {},
   "outputs": [],
   "source": [
    "bb.groupby([\"Team\",\"Playoffs\"]).agg({\"W\":\"mean\"})"
   ]
  },
  {
   "cell_type": "markdown",
   "id": "ef495d3f",
   "metadata": {},
   "source": [
    "The code above returns a multi-indexed DataFrame.  To return to a single index we can reset the index:"
   ]
  },
  {
   "cell_type": "code",
   "execution_count": null,
   "id": "fcc6e310",
   "metadata": {},
   "outputs": [],
   "source": [
    "bb.groupby([\"Team\",\"Playoffs\"]).agg({\"W\":\"mean\"}).reset_index()"
   ]
  },
  {
   "cell_type": "markdown",
   "id": "b191ee9f",
   "metadata": {},
   "source": [
    "### User-Defined Aggregation Functions"
   ]
  },
  {
   "cell_type": "code",
   "execution_count": null,
   "id": "889a966c",
   "metadata": {},
   "outputs": [],
   "source": [
    "def maxminDiff(series):\n",
    "    return max(series)-min(series)"
   ]
  },
  {
   "cell_type": "code",
   "execution_count": null,
   "id": "f3bd5739",
   "metadata": {},
   "outputs": [],
   "source": [
    "bb.groupby(\"Team\").agg({\"W\":maxminDiff})"
   ]
  },
  {
   "cell_type": "markdown",
   "id": "18b21bf4",
   "metadata": {},
   "source": [
    "##  Practice:  How Many Wins Are Needed to Make the Playoffs?\n",
    "\n",
    "**Use Groupby to calculate the mean and median number of wins for teams that made the playoffs versus those who didn't**"
   ]
  },
  {
   "cell_type": "code",
   "execution_count": null,
   "id": "80eb981f",
   "metadata": {},
   "outputs": [],
   "source": [
    "baseball.groupby(\"Playoffs\")"
   ]
  },
  {
   "cell_type": "code",
   "execution_count": null,
   "id": "d96fb748",
   "metadata": {},
   "outputs": [],
   "source": [
    "# This is just to demonstrate under the hood what the groupby call does - this\n",
    "# is not something you would usually run\n",
    "for n, g in baseball.groupby(\"Playoffs\"):\n",
    "    display(g)"
   ]
  },
  {
   "cell_type": "markdown",
   "id": "5fce2b26",
   "metadata": {},
   "source": [
    "Once we've formed groups, we can aggregate each sub-dataframe (a.k.a. group) into a single row using an aggregation function. For example, if we use `.agg(\"mean\")` on the groups above, we get back a single DataFrame where each group has been replaced by a single row. In each column for that aggregate row, the value that appears is the average of all values in that group.\n"
   ]
  },
  {
   "cell_type": "code",
   "execution_count": null,
   "id": "5c8645ba",
   "metadata": {},
   "outputs": [],
   "source": [
    "baseball.groupby(\"Playoffs\").agg({\"W\":[\"min\", \"mean\", \"median\", \"max\"]})"
   ]
  },
  {
   "cell_type": "markdown",
   "id": "9fa83ba5",
   "metadata": {},
   "source": [
    "Note that the index of the dataframe returned by an `groupby.agg` call is no longer a set of numeric indices from 0 to N-1. Instead, we see that the index for the example above is now the `Playoffs`. If we want to restore our DataFrame so that `Playoffs` is a column rather than the index, we can use `reset_index`."
   ]
  },
  {
   "cell_type": "code",
   "execution_count": null,
   "id": "e3d77cbf",
   "metadata": {},
   "outputs": [],
   "source": [
    "\n",
    "baseball.groupby(\"Playoffs\").agg({\"W\":[\"min\", \"mean\", \"median\", \"max\"]}).reset_index()"
   ]
  },
  {
   "cell_type": "markdown",
   "id": "ed76d9da",
   "metadata": {},
   "source": [
    "## Calculating Wins Per Dollar Spent"
   ]
  },
  {
   "cell_type": "code",
   "execution_count": null,
   "id": "8c1c2dbe",
   "metadata": {},
   "outputs": [],
   "source": [
    "# Reload the baseball_moneyball dataframe:\n",
    "baseball_moneyball = baseball[(1999<=baseball[\"Year\"]) & (baseball[\"Year\"]<=2004)]\n",
    "\n",
    "baseball_moneyball"
   ]
  },
  {
   "cell_type": "markdown",
   "id": "ab87046a",
   "metadata": {},
   "source": [
    "Incorporating New Data:  Since the baseball dataset from Kaggle doesn't have salary data, we need to get that data from another source. \n",
    "\n",
    "We'll use the same  two datasets from HW 2 from  the [Sean Lahman's Baseball Database](http://seanlahman.com/) which contains the \"complete batting and pitching statistics from 1871 to 2022, plus fielding statistics, standings, team stats, managerial records, post-season data, and more.\"   \n",
    "\n",
    "For more details about this data, see documentation.txt in the `data` folder for HW 2.  \n",
    "\n",
    "**Load Salaries data**"
   ]
  },
  {
   "cell_type": "code",
   "execution_count": null,
   "id": "fde00937",
   "metadata": {},
   "outputs": [],
   "source": [
    "salaries=pd.read_csv(\"data/Salaries.csv\")\n",
    "\n",
    "salaries"
   ]
  },
  {
   "cell_type": "markdown",
   "id": "c5d9f206",
   "metadata": {},
   "source": [
    "**Practice:  Use groupby to calculate the yearly Payroll for each team using the Salaries data**"
   ]
  },
  {
   "cell_type": "code",
   "execution_count": null,
   "id": "30e1834c",
   "metadata": {},
   "outputs": [],
   "source": [
    "sal_grouped = ...\n"
   ]
  },
  {
   "cell_type": "code",
   "execution_count": null,
   "id": "58a9a793",
   "metadata": {},
   "outputs": [],
   "source": [
    "sal_grouped"
   ]
  },
  {
   "cell_type": "code",
   "execution_count": null,
   "id": "db18da35",
   "metadata": {},
   "outputs": [],
   "source": [
    "#rename salary field to payroll\n",
    "\n",
    "sal_grouped = sal_grouped.rename(columns = {\"salary\":\"payroll\"})"
   ]
  },
  {
   "cell_type": "code",
   "execution_count": null,
   "id": "1683f1c5",
   "metadata": {},
   "outputs": [],
   "source": [
    "#Resetting index so it's not mult-indexed\n",
    "sal_grouped = sal_grouped.reset_index()\n",
    "\n",
    "sal_grouped"
   ]
  },
  {
   "cell_type": "markdown",
   "id": "ee5e05ac",
   "metadata": {},
   "source": [
    "# Merging Data\n",
    "\n",
    "Let's add the payroll data to the `baseball_moneyball` dataframe so we can compare the Wins Per Dollar spent.\n",
    "\n",
    "Notice - the salary data has `teamID` however it's not the same as the `Teams` in the baseball reference database.  Fortunately, the Lahman `teams.csv` data has a field that corresponds to the baseball reference Team ID, called `teamIDBR`.  \n"
   ]
  },
  {
   "cell_type": "markdown",
   "id": "24beb6dc",
   "metadata": {},
   "source": [
    "**Load Teams data and grab the `teamID` and `teamIDBR` from the Teams data**"
   ]
  },
  {
   "cell_type": "code",
   "execution_count": null,
   "id": "de7300ff",
   "metadata": {},
   "outputs": [],
   "source": [
    "teams=pd.read_csv(\"data/Teams.csv\")\n",
    "\n",
    "bb_reference = teams.groupby([\"teamIDBR\"]).agg({\"teamID\":\"min\"}).reset_index()\n",
    "\n",
    "\n"
   ]
  },
  {
   "cell_type": "code",
   "execution_count": null,
   "id": "d97196e0",
   "metadata": {},
   "outputs": [],
   "source": [
    "bb_reference"
   ]
  },
  {
   "cell_type": "markdown",
   "id": "673f48cf",
   "metadata": {},
   "source": [
    "**Practice:  Merge the `bb_reference` dataframe created above with the `baseball_moneyball` dataframe**.  \n",
    "Note:  `Team` in baseball_moneyball matches with `teamIDBR` in bb_reference"
   ]
  },
  {
   "cell_type": "code",
   "execution_count": null,
   "id": "7398780c",
   "metadata": {},
   "outputs": [],
   "source": [
    "baseball_merged = baseball_moneyball.merge(bb_reference, left_on = 'Team', right_on = 'teamIDBR' )\n",
    "\n",
    "baseball_merged\n"
   ]
  },
  {
   "cell_type": "markdown",
   "id": "995868f2",
   "metadata": {},
   "source": [
    "**Practice:  Now Merge the `baseball_moneyball` dataframe with the `sal_grouped` dataframe** and save the payroll column:"
   ]
  },
  {
   "cell_type": "code",
   "execution_count": null,
   "id": "e2cbfbf7",
   "metadata": {},
   "outputs": [],
   "source": [
    "baseball_merged = (baseball_merged.merge(sal_grouped, \n",
    "                                         left_on = [\"teamID\", \"Year\"], \n",
    "                                         right_on = [\"teamID\", \"yearID\"])\n",
    "                  )"
   ]
  },
  {
   "cell_type": "markdown",
   "id": "3f74d90b",
   "metadata": {},
   "source": [
    "# Visualizing Data \n",
    "\n",
    "What visualizations are appropriate depend on the Feature Type (the conceptual understanding of what the variable measures)"
   ]
  },
  {
   "cell_type": "code",
   "execution_count": null,
   "id": "da0eaaec",
   "metadata": {},
   "outputs": [],
   "source": [
    "import plotly.express as px"
   ]
  },
  {
   "cell_type": "markdown",
   "id": "05c1f9ff",
   "metadata": {},
   "source": [
    "# Visualizing Relationship between 2 Quantitative Variables"
   ]
  },
  {
   "cell_type": "code",
   "execution_count": null,
   "id": "a29281aa",
   "metadata": {},
   "outputs": [],
   "source": [
    "# Visualizing Relationships Between Two Quantitative Variables:\n",
    "# Can use either scatter or line plot \n",
    "#If there is an inherent ordering in one of the variables (i.e. time)\n",
    "## Line plots\n",
    "\n",
    "teams_to_plot = [\"OAK\",\"NYY\",\"BOS\"]\n",
    "\n",
    "baseball_subset = baseball_moneyball[baseball_moneyball[\"Team\"].isin(teams_to_plot)]\n",
    "\n",
    "#fig = px.scatter(baseball_subset, x='Year', y='W', color='Team')\n",
    "\n",
    "fig = px.line(baseball_subset, x='Year', y='W', color='Team', markers=True)\n",
    "\n",
    "fig.show()"
   ]
  },
  {
   "cell_type": "code",
   "execution_count": null,
   "id": "fd16e5b4",
   "metadata": {
    "scrolled": false
   },
   "outputs": [],
   "source": [
    "# Or we can plot on 3 different axes\n",
    "fig = px.line(baseball_subset, x='Year', y='W', facet_col = 'Team', markers=True, title = \"Wins By Team\")\n",
    "\n",
    "fig.show()"
   ]
  },
  {
   "cell_type": "code",
   "execution_count": null,
   "id": "2ae5e7fc",
   "metadata": {},
   "outputs": [],
   "source": [
    "baseball_subset_pay = baseball_merged[baseball_merged[\"Team\"].isin(teams_to_plot)]\n",
    "\n",
    "fig = px.line(baseball_subset_pay, x='Year', y='payroll', facet_col = 'Team', markers=True, title = \"Payroll by Team\")\n",
    "\n",
    "fig.show()"
   ]
  },
  {
   "cell_type": "code",
   "execution_count": null,
   "id": "d04e4729",
   "metadata": {},
   "outputs": [],
   "source": [
    "#Plotting Efficiency (dollars per win):\n",
    "\n",
    "baseball_subset_pay = baseball_subset_pay.assign(Efficiency =baseball_subset_pay[\"payroll\"]/baseball_subset_pay[\"W\"] )\n",
    "\n",
    "fig = px.line(baseball_subset_pay, x='Year', y='Efficiency', facet_col = 'Team', markers=True, title = \"Efficiency By Team:  Dollars Per Win\")\n",
    "\n",
    "fig.show()"
   ]
  },
  {
   "cell_type": "markdown",
   "id": "35fa53bc",
   "metadata": {},
   "source": [
    "# Visualizing Relationship Between 1 Quantitative (W) and 1 Qualitative (Teams) Variables"
   ]
  },
  {
   "cell_type": "code",
   "execution_count": null,
   "id": "57786928",
   "metadata": {},
   "outputs": [],
   "source": [
    "#Plotting total wins for all teams in 2002\n",
    "\n",
    "fig = px.bar(baseball_moneyball[baseball_moneyball[\"Year\"]==2002], x='Team', y='W')\n",
    "fig.show()"
   ]
  },
  {
   "cell_type": "markdown",
   "id": "e63a8da5",
   "metadata": {},
   "source": [
    "## Visualizing Distribution of a Single Feature"
   ]
  },
  {
   "cell_type": "code",
   "execution_count": null,
   "id": "2b5a4ec0",
   "metadata": {},
   "outputs": [],
   "source": [
    "\n",
    "\n",
    "fig = (px.histogram(baseball_moneyball[baseball_moneyball[\"Playoffs\"]==1], \n",
    "                    x=\"W\", \n",
    "                    nbins=35, \n",
    "                    title = \"Histogram of Number Wins in a Given Season For Teams Who Made Playoffs\")\n",
    "      )\n",
    "       \n",
    "       \n",
    "fig.show()"
   ]
  },
  {
   "cell_type": "markdown",
   "id": "7b144fc5",
   "metadata": {},
   "source": [
    "## EDA:  How many wins do teams need to make the playoffs?"
   ]
  },
  {
   "cell_type": "code",
   "execution_count": null,
   "id": "9aad490a",
   "metadata": {},
   "outputs": [],
   "source": [
    "baseball_moneyball.groupby([\"Playoffs\"]).agg({\"W\":[\"min\", \"mean\", \"median\", \"max\"]}).reset_index()"
   ]
  },
  {
   "cell_type": "markdown",
   "id": "815b576c",
   "metadata": {},
   "source": [
    "## Visualizing Quantitative Distribution (Wins) vs Qualitative (Playoffs)\n",
    "\n"
   ]
  },
  {
   "cell_type": "code",
   "execution_count": null,
   "id": "20c876e0",
   "metadata": {},
   "outputs": [],
   "source": [
    "mean_win_playoffs=baseball_moneyball[baseball_moneyball[\"Playoffs\"]==1][\"W\"].mean()\n",
    "median_win_playoffs=baseball_moneyball[baseball_moneyball[\"Playoffs\"]==1][\"W\"].median()\n",
    "\n",
    "\n",
    "fig = px.histogram(baseball_moneyball, x=\"W\", color = \"Playoffs\", barmode=\"overlay\", nbins=35, title = \"Overlaid Histograms of Number Wins in a Given Season For Teams Who Made Playoffs vs Who Didn't\")\n",
    "\n",
    "#fig.add_vline(x=mean_win_playoffs, line_width=3, line_dash=\"dash\", line_color=\"blue\",  annotation_text = \"mean (blue) and median (red) for Playoffs=1\" )\n",
    "#fig.add_vline(x=median_win_playoffs, line_width=3, line_dash=\"dash\", line_color=\"red\")\n",
    "\n",
    "fig.show()\n",
    "\n"
   ]
  },
  {
   "cell_type": "markdown",
   "id": "b1fc4fd1",
   "metadata": {},
   "source": [
    "## Scatter plots:  Visualizing Relationship Between 2 Quantitative Variables"
   ]
  },
  {
   "cell_type": "markdown",
   "id": "61f6091c",
   "metadata": {},
   "source": [
    "https://plotly.com/python/distplot/"
   ]
  },
  {
   "cell_type": "code",
   "execution_count": null,
   "id": "f1565851",
   "metadata": {},
   "outputs": [],
   "source": [
    "fig = px.scatter(baseball_moneyball, x=\"W\", y=\"Playoffs\")\n",
    "\n",
    "fig.show()\n"
   ]
  },
  {
   "cell_type": "markdown",
   "id": "904b042a",
   "metadata": {},
   "source": [
    "Recall above, we calculated RD (run difference:  Runs Scored minus Runs Allowed).  Let's add this column to the `baseball_moneyball` dataframe and then visualize how it's related to Wins:\n",
    " "
   ]
  },
  {
   "cell_type": "code",
   "execution_count": null,
   "id": "d64c89cb",
   "metadata": {},
   "outputs": [],
   "source": [
    "\n",
    "baseball_moneyball = baseball_moneyball.assign(RD = baseball[\"RS\"]-baseball[\"RA\"])\n",
    "\n",
    "fig = px.scatter(baseball_moneyball, x=\"RD\", y=\"W\")\n",
    "\n",
    "\n",
    "fig.show()\n"
   ]
  },
  {
   "cell_type": "markdown",
   "id": "a8008240",
   "metadata": {},
   "source": [
    "So Run Difference is related to Wins;  Now we can ask: what variables are related to Run Difference?"
   ]
  },
  {
   "cell_type": "code",
   "execution_count": null,
   "id": "fb428570",
   "metadata": {},
   "outputs": [],
   "source": [
    "baseball_moneyball.head()"
   ]
  },
  {
   "cell_type": "code",
   "execution_count": null,
   "id": "0c859f03",
   "metadata": {},
   "outputs": [],
   "source": [
    "# We can see that SLG is associated with RD - this was a commonly used statistic to choose players\n",
    "\n",
    "fig = px.scatter(baseball_moneyball, x=\"SLG\", y=\"RD\")\n",
    "\n",
    "\n",
    "fig.show()"
   ]
  },
  {
   "cell_type": "code",
   "execution_count": null,
   "id": "6624a7db",
   "metadata": {},
   "outputs": [],
   "source": [
    "# However, notice that  OBP is also associated with RD - this was an undervalued statistic during the time of Monyeball\n",
    "# The Oakland A's used this to their advantage by recruiting players with high OBP that had been overlooked.\n",
    "\n",
    "fig = px.scatter(baseball_moneyball, x=\"OBP\", y=\"RD\")\n",
    "\n",
    "\n",
    "fig.show()"
   ]
  },
  {
   "cell_type": "code",
   "execution_count": null,
   "id": "dbd34dc0",
   "metadata": {},
   "outputs": [],
   "source": []
  }
 ],
 "metadata": {
  "kernelspec": {
   "display_name": "Python 3 (ipykernel)",
   "language": "python",
   "name": "python3"
  },
  "language_info": {
   "codemirror_mode": {
    "name": "ipython",
    "version": 3
   },
   "file_extension": ".py",
   "mimetype": "text/x-python",
   "name": "python",
   "nbconvert_exporter": "python",
   "pygments_lexer": "ipython3",
   "version": "3.9.12"
  }
 },
 "nbformat": 4,
 "nbformat_minor": 5
}
