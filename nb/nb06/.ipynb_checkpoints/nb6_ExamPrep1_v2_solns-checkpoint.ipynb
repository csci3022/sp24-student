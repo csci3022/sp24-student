{
 "cells": [
  {
   "cell_type": "code",
   "execution_count": 23,
   "id": "5091ff53",
   "metadata": {},
   "outputs": [],
   "source": [
    "import pandas as pd\n",
    "import numpy as np"
   ]
  },
  {
   "cell_type": "markdown",
   "id": "69d5a32b-f461-4779-b88b-f1be30261ed9",
   "metadata": {},
   "source": [
    "## NOTE: You must download the dataset (modules/athletic_events.csv) from Canvas manually and upload to CSEL to complete this notebook."
   ]
  },
  {
   "cell_type": "markdown",
   "id": "6ccf1865-767f-4ab2-9d20-dfbdb3cc2105",
   "metadata": {
    "editable": false
   },
   "source": [
    "## Submission\n",
    "\n",
    "Make sure you have run all cells in your notebook in order before running the cell below, so that all images/graphs appear in the output. The cell below will generate a zip file for you to submit. **Please save before exporting!**\n",
    "\n",
    "AFTER running the cell below, click on <a href='hw11.pdf' download>this link to download the PDF </a> to upload to Gradescope.  There will be a separate link that appears after running the cell below with a link to download the zip file to upload to Gradescope."
   ]
  },
  {
   "cell_type": "code",
   "execution_count": null,
   "id": "a0255aa7-6956-440f-84ea-bc06f1c1a6aa",
   "metadata": {
    "editable": false
   },
   "outputs": [],
   "source": [
    "# Save your notebook first, then run this cell to export your submission.\n",
    "grader.export(run_tests=True)"
   ]
  },
  {
   "cell_type": "markdown",
   "id": "da5316a1-204f-4bed-95c6-a65638b2888b",
   "metadata": {
    "editable": false
   },
   "source": [
    "## Submission\n",
    "\n",
    "Make sure you have run all cells in your notebook in order before running the cell below, so that all images/graphs appear in the output. The cell below will generate a zip file for you to submit. **Please save before exporting!**\n",
    "\n",
    "AFTER running the cell below, click on <a href='hw11.pdf' download>this link to download the PDF </a> to upload to Gradescope.  There will be a separate link that appears after running the cell below with a link to download the zip file to upload to Gradescope."
   ]
  },
  {
   "cell_type": "code",
   "execution_count": null,
   "id": "29a89dd8-72bf-4364-82f8-d6be06fd12e7",
   "metadata": {
    "editable": false
   },
   "outputs": [],
   "source": [
    "# Save your notebook first, then run this cell to export your submission.\n",
    "grader.export(run_tests=True)"
   ]
  },
  {
   "cell_type": "markdown",
   "id": "3e9aca5d",
   "metadata": {},
   "source": [
    "## Question 1"
   ]
  },
  {
   "cell_type": "markdown",
   "id": "c4e33d61",
   "metadata": {},
   "source": [
    "Suppose we have the following DataFrame about pandas (the animal) shown below. We will calculate various statistics about pandas using the pandas library. In the end, we will hopefully understand pandas and pandas better!\n",
    "The DataFrame `panda` contains two columns: age and height for 10,000 pandas acr ss the world."
   ]
  },
  {
   "cell_type": "code",
   "execution_count": 5,
   "id": "bd6e5b12",
   "metadata": {},
   "outputs": [
    {
     "data": {
      "text/html": [
       "<div>\n",
       "<style scoped>\n",
       "    .dataframe tbody tr th:only-of-type {\n",
       "        vertical-align: middle;\n",
       "    }\n",
       "\n",
       "    .dataframe tbody tr th {\n",
       "        vertical-align: top;\n",
       "    }\n",
       "\n",
       "    .dataframe thead th {\n",
       "        text-align: right;\n",
       "    }\n",
       "</style>\n",
       "<table border=\"1\" class=\"dataframe\">\n",
       "  <thead>\n",
       "    <tr style=\"text-align: right;\">\n",
       "      <th></th>\n",
       "      <th>name</th>\n",
       "      <th>age</th>\n",
       "      <th>height</th>\n",
       "    </tr>\n",
       "  </thead>\n",
       "  <tbody>\n",
       "    <tr>\n",
       "      <th>0</th>\n",
       "      <td>Pete</td>\n",
       "      <td>13</td>\n",
       "      <td>18</td>\n",
       "    </tr>\n",
       "    <tr>\n",
       "      <th>1</th>\n",
       "      <td>Sarah</td>\n",
       "      <td>17</td>\n",
       "      <td>29</td>\n",
       "    </tr>\n",
       "    <tr>\n",
       "      <th>2</th>\n",
       "      <td>Bono</td>\n",
       "      <td>9</td>\n",
       "      <td>7</td>\n",
       "    </tr>\n",
       "    <tr>\n",
       "      <th>3</th>\n",
       "      <td>Jasper</td>\n",
       "      <td>2</td>\n",
       "      <td>4</td>\n",
       "    </tr>\n",
       "    <tr>\n",
       "      <th>4</th>\n",
       "      <td>May</td>\n",
       "      <td>4</td>\n",
       "      <td>13</td>\n",
       "    </tr>\n",
       "  </tbody>\n",
       "</table>\n",
       "</div>"
      ],
      "text/plain": [
       "     name  age  height\n",
       "0    Pete   13      18\n",
       "1   Sarah   17      29\n",
       "2    Bono    9       7\n",
       "3  Jasper    2       4\n",
       "4     May    4      13"
      ]
     },
     "execution_count": 5,
     "metadata": {},
     "output_type": "execute_result"
    }
   ],
   "source": [
    "panda = pd.DataFrame(\n",
    "    {\n",
    "        \"name\" : ['Pete', 'Sarah', 'Bono', 'Jasper', 'May'],\n",
    "        \"age\": [13, 17, 9, 2, 4],\n",
    "        \"height\": [18, 29, 7, 4, 13]\n",
    "    }\n",
    ")\n",
    "panda"
   ]
  },
  {
   "cell_type": "markdown",
   "id": "0f12be88",
   "metadata": {},
   "source": [
    "### Part a"
   ]
  },
  {
   "cell_type": "markdown",
   "id": "e101c220",
   "metadata": {},
   "source": [
    "Let us first convert the pandas heights into values with meters. Create a column\n",
    "`height in meters` that has each panda’s height in meters instead, and add it to the\n",
    "Dataframe `panda`."
   ]
  },
  {
   "cell_type": "code",
   "execution_count": 6,
   "id": "400d45ca",
   "metadata": {},
   "outputs": [
    {
     "data": {
      "text/html": [
       "<div>\n",
       "<style scoped>\n",
       "    .dataframe tbody tr th:only-of-type {\n",
       "        vertical-align: middle;\n",
       "    }\n",
       "\n",
       "    .dataframe tbody tr th {\n",
       "        vertical-align: top;\n",
       "    }\n",
       "\n",
       "    .dataframe thead th {\n",
       "        text-align: right;\n",
       "    }\n",
       "</style>\n",
       "<table border=\"1\" class=\"dataframe\">\n",
       "  <thead>\n",
       "    <tr style=\"text-align: right;\">\n",
       "      <th></th>\n",
       "      <th>name</th>\n",
       "      <th>age</th>\n",
       "      <th>height</th>\n",
       "      <th>height_in_meters</th>\n",
       "    </tr>\n",
       "  </thead>\n",
       "  <tbody>\n",
       "    <tr>\n",
       "      <th>0</th>\n",
       "      <td>Pete</td>\n",
       "      <td>13</td>\n",
       "      <td>18</td>\n",
       "      <td>0.18</td>\n",
       "    </tr>\n",
       "    <tr>\n",
       "      <th>1</th>\n",
       "      <td>Sarah</td>\n",
       "      <td>17</td>\n",
       "      <td>29</td>\n",
       "      <td>0.29</td>\n",
       "    </tr>\n",
       "    <tr>\n",
       "      <th>2</th>\n",
       "      <td>Bono</td>\n",
       "      <td>9</td>\n",
       "      <td>7</td>\n",
       "      <td>0.07</td>\n",
       "    </tr>\n",
       "    <tr>\n",
       "      <th>3</th>\n",
       "      <td>Jasper</td>\n",
       "      <td>2</td>\n",
       "      <td>4</td>\n",
       "      <td>0.04</td>\n",
       "    </tr>\n",
       "    <tr>\n",
       "      <th>4</th>\n",
       "      <td>May</td>\n",
       "      <td>4</td>\n",
       "      <td>13</td>\n",
       "      <td>0.13</td>\n",
       "    </tr>\n",
       "  </tbody>\n",
       "</table>\n",
       "</div>"
      ],
      "text/plain": [
       "     name  age  height  height_in_meters\n",
       "0    Pete   13      18              0.18\n",
       "1   Sarah   17      29              0.29\n",
       "2    Bono    9       7              0.07\n",
       "3  Jasper    2       4              0.04\n",
       "4     May    4      13              0.13"
      ]
     },
     "execution_count": 6,
     "metadata": {},
     "output_type": "execute_result"
    }
   ],
   "source": [
    "panda['height_in_meters'] = panda['height']/100\n",
    "panda"
   ]
  },
  {
   "cell_type": "markdown",
   "id": "1e78cc8f",
   "metadata": {},
   "source": [
    "### Part b"
   ]
  },
  {
   "cell_type": "markdown",
   "id": "839f5160",
   "metadata": {},
   "source": [
    "We first want to know if there is a relationship between a panda’s age and height in\n",
    "meters. Write a one-line expression to calculate the average ratio between a panda’s\n",
    "height and age for all pandas in our DataFrame."
   ]
  },
  {
   "cell_type": "code",
   "execution_count": 7,
   "id": "5ef251eb",
   "metadata": {},
   "outputs": [
    {
     "data": {
      "text/plain": [
       "0.018236551030668676"
      ]
     },
     "execution_count": 7,
     "metadata": {},
     "output_type": "execute_result"
    }
   ],
   "source": [
    "(panda['height_in_meters']/panda['age']).mean()"
   ]
  },
  {
   "cell_type": "markdown",
   "id": "41c028d7",
   "metadata": {},
   "source": [
    "### Part c"
   ]
  },
  {
   "cell_type": "markdown",
   "id": "95188831",
   "metadata": {},
   "source": [
    "Instead, suppose we decide to calculate the median height for each age. Write a\n",
    "one-line pandas expression to accomplish this."
   ]
  },
  {
   "cell_type": "code",
   "execution_count": 8,
   "id": "38dc6383",
   "metadata": {},
   "outputs": [
    {
     "data": {
      "text/plain": [
       "age\n",
       "2      4.0\n",
       "4     13.0\n",
       "9      7.0\n",
       "13    18.0\n",
       "17    29.0\n",
       "Name: height, dtype: float64"
      ]
     },
     "execution_count": 8,
     "metadata": {},
     "output_type": "execute_result"
    }
   ],
   "source": [
    "panda.groupby(\"age\")[\"height\"].median()"
   ]
  },
  {
   "cell_type": "markdown",
   "id": "364dc280",
   "metadata": {},
   "source": [
    "### Part d"
   ]
  },
  {
   "cell_type": "markdown",
   "id": "9efffd28",
   "metadata": {},
   "source": [
    "Expanding on the expression from the previous section, calculate the median ratio\n",
    "between a panda’s height and age for each age. Write pandas code to accomplish\n",
    "this."
   ]
  },
  {
   "cell_type": "code",
   "execution_count": 9,
   "id": "f74912b5",
   "metadata": {},
   "outputs": [
    {
     "data": {
      "text/plain": [
       "age\n",
       "2     2.000000\n",
       "4     3.250000\n",
       "9     0.777778\n",
       "13    1.384615\n",
       "17    1.705882\n",
       "Name: height/age, dtype: float64"
      ]
     },
     "execution_count": 9,
     "metadata": {},
     "output_type": "execute_result"
    }
   ],
   "source": [
    "panda['height/age'] = panda['height'] / panda['age']\n",
    "panda.groupby(\"age\")['height/age'].agg('median')"
   ]
  },
  {
   "cell_type": "markdown",
   "id": "bf6b7362",
   "metadata": {},
   "source": [
    "### Part e"
   ]
  },
  {
   "cell_type": "markdown",
   "id": "fa97dd76",
   "metadata": {},
   "source": [
    "The zoo manager sends you another Dataframe mothers of mother-children relationships for the pandas in the above Dataframe:"
   ]
  },
  {
   "cell_type": "code",
   "execution_count": 10,
   "id": "2360981f",
   "metadata": {},
   "outputs": [
    {
     "data": {
      "text/html": [
       "<div>\n",
       "<style scoped>\n",
       "    .dataframe tbody tr th:only-of-type {\n",
       "        vertical-align: middle;\n",
       "    }\n",
       "\n",
       "    .dataframe tbody tr th {\n",
       "        vertical-align: top;\n",
       "    }\n",
       "\n",
       "    .dataframe thead th {\n",
       "        text-align: right;\n",
       "    }\n",
       "</style>\n",
       "<table border=\"1\" class=\"dataframe\">\n",
       "  <thead>\n",
       "    <tr style=\"text-align: right;\">\n",
       "      <th></th>\n",
       "      <th>child</th>\n",
       "      <th>mother</th>\n",
       "    </tr>\n",
       "  </thead>\n",
       "  <tbody>\n",
       "    <tr>\n",
       "      <th>0</th>\n",
       "      <td>Jasper</td>\n",
       "      <td>Giselle</td>\n",
       "    </tr>\n",
       "    <tr>\n",
       "      <th>1</th>\n",
       "      <td>May</td>\n",
       "      <td>Alice</td>\n",
       "    </tr>\n",
       "    <tr>\n",
       "      <th>2</th>\n",
       "      <td>Sarah</td>\n",
       "      <td>May</td>\n",
       "    </tr>\n",
       "    <tr>\n",
       "      <th>3</th>\n",
       "      <td>Pete</td>\n",
       "      <td>Alex</td>\n",
       "    </tr>\n",
       "    <tr>\n",
       "      <th>4</th>\n",
       "      <td>Bono</td>\n",
       "      <td>Bella</td>\n",
       "    </tr>\n",
       "  </tbody>\n",
       "</table>\n",
       "</div>"
      ],
      "text/plain": [
       "    child   mother\n",
       "0  Jasper  Giselle\n",
       "1     May    Alice\n",
       "2   Sarah      May\n",
       "3    Pete     Alex\n",
       "4    Bono    Bella"
      ]
     },
     "execution_count": 10,
     "metadata": {},
     "output_type": "execute_result"
    }
   ],
   "source": [
    "mother = pd.DataFrame(\n",
    "    data = {\n",
    "        'child' : ['Jasper', 'May', 'Sarah', 'Pete', 'Bono'],\n",
    "        'mother' : ['Giselle', 'Alice', 'May', 'Alex', 'Bella']\n",
    "    }\n",
    ")\n",
    "mother"
   ]
  },
  {
   "cell_type": "markdown",
   "id": "da86ed0a",
   "metadata": {},
   "source": [
    "Write a line of pandas code to add a new column mother to the DataFrame panda\n",
    "that contains each panda’s corresponding mother."
   ]
  },
  {
   "cell_type": "code",
   "execution_count": 11,
   "id": "1cf27f33",
   "metadata": {},
   "outputs": [
    {
     "data": {
      "text/html": [
       "<div>\n",
       "<style scoped>\n",
       "    .dataframe tbody tr th:only-of-type {\n",
       "        vertical-align: middle;\n",
       "    }\n",
       "\n",
       "    .dataframe tbody tr th {\n",
       "        vertical-align: top;\n",
       "    }\n",
       "\n",
       "    .dataframe thead th {\n",
       "        text-align: right;\n",
       "    }\n",
       "</style>\n",
       "<table border=\"1\" class=\"dataframe\">\n",
       "  <thead>\n",
       "    <tr style=\"text-align: right;\">\n",
       "      <th></th>\n",
       "      <th>name</th>\n",
       "      <th>age</th>\n",
       "      <th>height</th>\n",
       "      <th>height_in_meters</th>\n",
       "      <th>height/age</th>\n",
       "      <th>mother</th>\n",
       "    </tr>\n",
       "  </thead>\n",
       "  <tbody>\n",
       "    <tr>\n",
       "      <th>0</th>\n",
       "      <td>Pete</td>\n",
       "      <td>13</td>\n",
       "      <td>18</td>\n",
       "      <td>0.18</td>\n",
       "      <td>1.384615</td>\n",
       "      <td>Alex</td>\n",
       "    </tr>\n",
       "    <tr>\n",
       "      <th>1</th>\n",
       "      <td>Sarah</td>\n",
       "      <td>17</td>\n",
       "      <td>29</td>\n",
       "      <td>0.29</td>\n",
       "      <td>1.705882</td>\n",
       "      <td>May</td>\n",
       "    </tr>\n",
       "    <tr>\n",
       "      <th>2</th>\n",
       "      <td>Bono</td>\n",
       "      <td>9</td>\n",
       "      <td>7</td>\n",
       "      <td>0.07</td>\n",
       "      <td>0.777778</td>\n",
       "      <td>Bella</td>\n",
       "    </tr>\n",
       "    <tr>\n",
       "      <th>3</th>\n",
       "      <td>Jasper</td>\n",
       "      <td>2</td>\n",
       "      <td>4</td>\n",
       "      <td>0.04</td>\n",
       "      <td>2.000000</td>\n",
       "      <td>Giselle</td>\n",
       "    </tr>\n",
       "    <tr>\n",
       "      <th>4</th>\n",
       "      <td>May</td>\n",
       "      <td>4</td>\n",
       "      <td>13</td>\n",
       "      <td>0.13</td>\n",
       "      <td>3.250000</td>\n",
       "      <td>Alice</td>\n",
       "    </tr>\n",
       "  </tbody>\n",
       "</table>\n",
       "</div>"
      ],
      "text/plain": [
       "     name  age  height  height_in_meters  height/age   mother\n",
       "0    Pete   13      18              0.18    1.384615     Alex\n",
       "1   Sarah   17      29              0.29    1.705882      May\n",
       "2    Bono    9       7              0.07    0.777778    Bella\n",
       "3  Jasper    2       4              0.04    2.000000  Giselle\n",
       "4     May    4      13              0.13    3.250000    Alice"
      ]
     },
     "execution_count": 11,
     "metadata": {},
     "output_type": "execute_result"
    }
   ],
   "source": [
    "panda.merge(mother, left_on = 'name', right_on = 'child').drop(columns=\"child\")"
   ]
  },
  {
   "cell_type": "markdown",
   "id": "9cffa27b",
   "metadata": {},
   "source": [
    "## Question 2"
   ]
  },
  {
   "cell_type": "markdown",
   "id": "94c3a064",
   "metadata": {},
   "source": [
    "We will work with an Olympics dataset containing the names of all athletes who par-\n",
    "ticipated in the Olympic Games, including all the Games from Athens 1896 to Tokyo\n",
    "2020. We refer to this dataframe as ath. The first 5 lines of the table are shown below.\n",
    "You may assume that the ID column is unique to each athlete and that the only column\n",
    "with null values are height, weight, and medal."
   ]
  },
  {
   "cell_type": "code",
   "execution_count": 30,
   "id": "47bf281d",
   "metadata": {},
   "outputs": [],
   "source": [
    "ath = pd.read_csv(\"athlete_events.csv\")"
   ]
  },
  {
   "cell_type": "code",
   "execution_count": 21,
   "id": "31ef35f1",
   "metadata": {},
   "outputs": [
    {
     "data": {
      "text/html": [
       "<div>\n",
       "<style scoped>\n",
       "    .dataframe tbody tr th:only-of-type {\n",
       "        vertical-align: middle;\n",
       "    }\n",
       "\n",
       "    .dataframe tbody tr th {\n",
       "        vertical-align: top;\n",
       "    }\n",
       "\n",
       "    .dataframe thead th {\n",
       "        text-align: right;\n",
       "    }\n",
       "</style>\n",
       "<table border=\"1\" class=\"dataframe\">\n",
       "  <thead>\n",
       "    <tr style=\"text-align: right;\">\n",
       "      <th></th>\n",
       "      <th>ID</th>\n",
       "      <th>Name</th>\n",
       "      <th>Sex</th>\n",
       "      <th>Age</th>\n",
       "      <th>Height</th>\n",
       "      <th>Weight</th>\n",
       "      <th>Team</th>\n",
       "      <th>Year</th>\n",
       "      <th>Season</th>\n",
       "      <th>City</th>\n",
       "      <th>Sport</th>\n",
       "      <th>Event</th>\n",
       "      <th>Medal</th>\n",
       "    </tr>\n",
       "  </thead>\n",
       "  <tbody>\n",
       "    <tr>\n",
       "      <th>0</th>\n",
       "      <td>1</td>\n",
       "      <td>Edgar Lindenau Aabye</td>\n",
       "      <td>M</td>\n",
       "      <td>34.0</td>\n",
       "      <td>NaN</td>\n",
       "      <td>NaN</td>\n",
       "      <td>Denmark/Sweden</td>\n",
       "      <td>1900</td>\n",
       "      <td>Summer</td>\n",
       "      <td>Paris</td>\n",
       "      <td>Tug-Of-War</td>\n",
       "      <td>Tug-Of-War Men's Tug-Of-War</td>\n",
       "      <td>Gold</td>\n",
       "    </tr>\n",
       "    <tr>\n",
       "      <th>1</th>\n",
       "      <td>2</td>\n",
       "      <td>Minna Maarit Aalto</td>\n",
       "      <td>F</td>\n",
       "      <td>30.0</td>\n",
       "      <td>159.0</td>\n",
       "      <td>55.5</td>\n",
       "      <td>Finland</td>\n",
       "      <td>1996</td>\n",
       "      <td>Summer</td>\n",
       "      <td>Atlanta</td>\n",
       "      <td>Sailing</td>\n",
       "      <td>Sailing Women's Windsurfer</td>\n",
       "      <td>NaN</td>\n",
       "    </tr>\n",
       "    <tr>\n",
       "      <th>2</th>\n",
       "      <td>2</td>\n",
       "      <td>Minna Maarit Aalto</td>\n",
       "      <td>F</td>\n",
       "      <td>34.0</td>\n",
       "      <td>159.0</td>\n",
       "      <td>55.5</td>\n",
       "      <td>Finland</td>\n",
       "      <td>2000</td>\n",
       "      <td>Summer</td>\n",
       "      <td>Sydney</td>\n",
       "      <td>Sailing</td>\n",
       "      <td>Sailing Women's Windsurfer</td>\n",
       "      <td>NaN</td>\n",
       "    </tr>\n",
       "    <tr>\n",
       "      <th>3</th>\n",
       "      <td>3</td>\n",
       "      <td>Kjetil Andr Aamodt</td>\n",
       "      <td>M</td>\n",
       "      <td>20.0</td>\n",
       "      <td>176.0</td>\n",
       "      <td>85.0</td>\n",
       "      <td>Norway</td>\n",
       "      <td>1992</td>\n",
       "      <td>Winter</td>\n",
       "      <td>Albertville</td>\n",
       "      <td>Alpine Skiing</td>\n",
       "      <td>Alpine Skiing Men's Super G</td>\n",
       "      <td>Gold</td>\n",
       "    </tr>\n",
       "    <tr>\n",
       "      <th>4</th>\n",
       "      <td>4</td>\n",
       "      <td>Ragnhild Margrethe Aamodt</td>\n",
       "      <td>F</td>\n",
       "      <td>27.0</td>\n",
       "      <td>163.0</td>\n",
       "      <td>NaN</td>\n",
       "      <td>Norway</td>\n",
       "      <td>2008</td>\n",
       "      <td>Summer</td>\n",
       "      <td>Beijing</td>\n",
       "      <td>Handball</td>\n",
       "      <td>Handball Women's Handball</td>\n",
       "      <td>Gold</td>\n",
       "    </tr>\n",
       "  </tbody>\n",
       "</table>\n",
       "</div>"
      ],
      "text/plain": [
       "   ID                       Name Sex   Age  Height  Weight            Team  \\\n",
       "0   1       Edgar Lindenau Aabye   M  34.0     NaN     NaN  Denmark/Sweden   \n",
       "1   2         Minna Maarit Aalto   F  30.0   159.0    55.5         Finland   \n",
       "2   2         Minna Maarit Aalto   F  34.0   159.0    55.5         Finland   \n",
       "3   3         Kjetil Andr Aamodt   M  20.0   176.0    85.0          Norway   \n",
       "4   4  Ragnhild Margrethe Aamodt   F  27.0   163.0     NaN          Norway   \n",
       "\n",
       "   Year  Season         City          Sport                        Event Medal  \n",
       "0  1900  Summer        Paris     Tug-Of-War  Tug-Of-War Men's Tug-Of-War  Gold  \n",
       "1  1996  Summer      Atlanta        Sailing   Sailing Women's Windsurfer   NaN  \n",
       "2  2000  Summer       Sydney        Sailing   Sailing Women's Windsurfer   NaN  \n",
       "3  1992  Winter  Albertville  Alpine Skiing  Alpine Skiing Men's Super G  Gold  \n",
       "4  2008  Summer      Beijing       Handball    Handball Women's Handball  Gold  "
      ]
     },
     "execution_count": 21,
     "metadata": {},
     "output_type": "execute_result"
    }
   ],
   "source": [
    "ath = pd.DataFrame({\"ID\": [1, 2, 2, 3, 4],\n",
    "             \"Name\": [\"Edgar Lindenau Aabye\", \"Minna Maarit Aalto\", \"Minna Maarit Aalto\", \"Kjetil Andr Aamodt\", \"Ragnhild Margrethe Aamodt\"],\n",
    "             \"Sex\": [\"M\", \"F\", \"F\", \"M\", \"F\"],\n",
    "             \"Age\": [34.0, 30.0, 34.0, 20.0, 27.0],\n",
    "             \"Height\": [np.nan, 159, 159, 176, 163],\n",
    "             \"Weight\": [np.nan, 55.5, 55.5, 85, np.nan],\n",
    "             \"Team\": [\"Denmark/Sweden\", \"Finland\", \"Finland\", \"Norway\", \"Norway\"],\n",
    "             \"Year\": [1900, 1996, 2000, 1992, 2008],\n",
    "             \"Season\": ['Summer', \"Summer\", \"Summer\", \"Winter\", \"Summer\"],\n",
    "             \"City\": [\"Paris\", \"Atlanta\", \"Sydney\", \"Albertville\", \"Beijing\"],\n",
    "             \"Sport\": [\"Tug-Of-War\", \"Sailing\", \"Sailing\", \"Alpine Skiing\", \"Handball\"],\n",
    "             \"Event\": [\"Tug-Of-War Men's Tug-Of-War\", \"Sailing Women's Windsurfer\", \"Sailing Women's Windsurfer\", \"Alpine Skiing Men's Super G\", \"Handball Women's Handball\"],\n",
    "             \"Medal\": [\"Gold\", np.nan, np.nan, \"Gold\", \"Gold\"]})\n",
    "\n",
    "\n",
    "ath"
   ]
  },
  {
   "cell_type": "markdown",
   "id": "f8a3d0b3",
   "metadata": {},
   "source": [
    "### Part a"
   ]
  },
  {
   "cell_type": "markdown",
   "id": "f049b65a",
   "metadata": {},
   "source": [
    "Write pandas code to returns the 10 most common middle names among gold medal\n",
    "winners as pandas Series. The column Name contains the first name, the middle\n",
    "name, and the last name of each athlete that are separated by space. You may\n",
    "assume that all athletes in the table have a middle name. You can assume all\n",
    "athlete’s names are unique."
   ]
  },
  {
   "cell_type": "code",
   "execution_count": 32,
   "id": "ff67e128",
   "metadata": {},
   "outputs": [
    {
     "data": {
      "text/plain": [
       "Index(['John', 'Marie', 'Aleksandrovich', 'James', 'Nikolayevich', 'Joseph',\n",
       "       'Ivanovich', 'Edward', 'William', 'Vladimirovich'],\n",
       "      dtype='object')"
      ]
     },
     "execution_count": 32,
     "metadata": {},
     "output_type": "execute_result"
    }
   ],
   "source": [
    "ath.loc[ath[\"Medal\"] == \"Gold\", \"Name\"].str.split().str[1].value_counts().index[:10]"
   ]
  },
  {
   "cell_type": "code",
   "execution_count": 39,
   "id": "e465968c",
   "metadata": {},
   "outputs": [
    {
     "data": {
      "text/plain": [
       "Index(['John', 'Marie', 'Aleksandrovich', 'James', 'Nikolayevich', 'Joseph',\n",
       "       'Ivanovich', 'Edward', 'William', 'Vladimirovich'],\n",
       "      dtype='object')"
      ]
     },
     "execution_count": 39,
     "metadata": {},
     "output_type": "execute_result"
    }
   ],
   "source": [
    "ath[ath[\"Medal\"]==\"Gold\"][\"Name\"].str.split().str[1].value_counts().head(10).index"
   ]
  },
  {
   "cell_type": "markdown",
   "id": "d7e9beff",
   "metadata": {},
   "source": [
    "### Part b"
   ]
  },
  {
   "cell_type": "markdown",
   "id": "000d8d51",
   "metadata": {},
   "source": [
    "Which of the following lines of Pandas code will output the the most number of\n",
    "medals won by a single athlete?"
   ]
  },
  {
   "cell_type": "code",
   "execution_count": 27,
   "id": "7205641d",
   "metadata": {},
   "outputs": [
    {
     "ename": "KeyError",
     "evalue": "'ID'",
     "output_type": "error",
     "traceback": [
      "\u001b[0;31m---------------------------------------------------------------------------\u001b[0m",
      "\u001b[0;31mKeyError\u001b[0m                                  Traceback (most recent call last)",
      "Input \u001b[0;32mIn [27]\u001b[0m, in \u001b[0;36m<cell line: 2>\u001b[0;34m()\u001b[0m\n\u001b[1;32m      1\u001b[0m \u001b[38;5;66;03m# Choice (A)\u001b[39;00m\n\u001b[0;32m----> 2\u001b[0m \u001b[43math\u001b[49m\u001b[43m[\u001b[49m\u001b[38;5;124;43m'\u001b[39;49m\u001b[38;5;124;43mID\u001b[39;49m\u001b[38;5;124;43m'\u001b[39;49m\u001b[43m]\u001b[49m\u001b[38;5;241;43m.\u001b[39;49m\u001b[43mgroupby\u001b[49m\u001b[43m(\u001b[49m\u001b[38;5;124;43m'\u001b[39;49m\u001b[38;5;124;43mID\u001b[39;49m\u001b[38;5;124;43m'\u001b[39;49m\u001b[43m)\u001b[49m\u001b[38;5;241m.\u001b[39mcount()\u001b[38;5;241m.\u001b[39miloc[\u001b[38;5;241m0\u001b[39m]\n",
      "File \u001b[0;32m~/opt/anaconda3/lib/python3.9/site-packages/pandas/core/series.py:1922\u001b[0m, in \u001b[0;36mSeries.groupby\u001b[0;34m(self, by, axis, level, as_index, sort, group_keys, squeeze, observed, dropna)\u001b[0m\n\u001b[1;32m   1918\u001b[0m axis \u001b[38;5;241m=\u001b[39m \u001b[38;5;28mself\u001b[39m\u001b[38;5;241m.\u001b[39m_get_axis_number(axis)\n\u001b[1;32m   1920\u001b[0m \u001b[38;5;66;03m# error: Argument \"squeeze\" to \"SeriesGroupBy\" has incompatible type\u001b[39;00m\n\u001b[1;32m   1921\u001b[0m \u001b[38;5;66;03m# \"Union[bool, NoDefault]\"; expected \"bool\"\u001b[39;00m\n\u001b[0;32m-> 1922\u001b[0m \u001b[38;5;28;01mreturn\u001b[39;00m \u001b[43mSeriesGroupBy\u001b[49m\u001b[43m(\u001b[49m\n\u001b[1;32m   1923\u001b[0m \u001b[43m    \u001b[49m\u001b[43mobj\u001b[49m\u001b[38;5;241;43m=\u001b[39;49m\u001b[38;5;28;43mself\u001b[39;49m\u001b[43m,\u001b[49m\n\u001b[1;32m   1924\u001b[0m \u001b[43m    \u001b[49m\u001b[43mkeys\u001b[49m\u001b[38;5;241;43m=\u001b[39;49m\u001b[43mby\u001b[49m\u001b[43m,\u001b[49m\n\u001b[1;32m   1925\u001b[0m \u001b[43m    \u001b[49m\u001b[43maxis\u001b[49m\u001b[38;5;241;43m=\u001b[39;49m\u001b[43maxis\u001b[49m\u001b[43m,\u001b[49m\n\u001b[1;32m   1926\u001b[0m \u001b[43m    \u001b[49m\u001b[43mlevel\u001b[49m\u001b[38;5;241;43m=\u001b[39;49m\u001b[43mlevel\u001b[49m\u001b[43m,\u001b[49m\n\u001b[1;32m   1927\u001b[0m \u001b[43m    \u001b[49m\u001b[43mas_index\u001b[49m\u001b[38;5;241;43m=\u001b[39;49m\u001b[43mas_index\u001b[49m\u001b[43m,\u001b[49m\n\u001b[1;32m   1928\u001b[0m \u001b[43m    \u001b[49m\u001b[43msort\u001b[49m\u001b[38;5;241;43m=\u001b[39;49m\u001b[43msort\u001b[49m\u001b[43m,\u001b[49m\n\u001b[1;32m   1929\u001b[0m \u001b[43m    \u001b[49m\u001b[43mgroup_keys\u001b[49m\u001b[38;5;241;43m=\u001b[39;49m\u001b[43mgroup_keys\u001b[49m\u001b[43m,\u001b[49m\n\u001b[1;32m   1930\u001b[0m \u001b[43m    \u001b[49m\u001b[43msqueeze\u001b[49m\u001b[38;5;241;43m=\u001b[39;49m\u001b[43msqueeze\u001b[49m\u001b[43m,\u001b[49m\u001b[43m  \u001b[49m\u001b[38;5;66;43;03m# type: ignore[arg-type]\u001b[39;49;00m\n\u001b[1;32m   1931\u001b[0m \u001b[43m    \u001b[49m\u001b[43mobserved\u001b[49m\u001b[38;5;241;43m=\u001b[39;49m\u001b[43mobserved\u001b[49m\u001b[43m,\u001b[49m\n\u001b[1;32m   1932\u001b[0m \u001b[43m    \u001b[49m\u001b[43mdropna\u001b[49m\u001b[38;5;241;43m=\u001b[39;49m\u001b[43mdropna\u001b[49m\u001b[43m,\u001b[49m\n\u001b[1;32m   1933\u001b[0m \u001b[43m\u001b[49m\u001b[43m)\u001b[49m\n",
      "File \u001b[0;32m~/opt/anaconda3/lib/python3.9/site-packages/pandas/core/groupby/groupby.py:882\u001b[0m, in \u001b[0;36mGroupBy.__init__\u001b[0;34m(self, obj, keys, axis, level, grouper, exclusions, selection, as_index, sort, group_keys, squeeze, observed, mutated, dropna)\u001b[0m\n\u001b[1;32m    879\u001b[0m \u001b[38;5;28;01mif\u001b[39;00m grouper \u001b[38;5;129;01mis\u001b[39;00m \u001b[38;5;28;01mNone\u001b[39;00m:\n\u001b[1;32m    880\u001b[0m     \u001b[38;5;28;01mfrom\u001b[39;00m \u001b[38;5;21;01mpandas\u001b[39;00m\u001b[38;5;21;01m.\u001b[39;00m\u001b[38;5;21;01mcore\u001b[39;00m\u001b[38;5;21;01m.\u001b[39;00m\u001b[38;5;21;01mgroupby\u001b[39;00m\u001b[38;5;21;01m.\u001b[39;00m\u001b[38;5;21;01mgrouper\u001b[39;00m \u001b[38;5;28;01mimport\u001b[39;00m get_grouper\n\u001b[0;32m--> 882\u001b[0m     grouper, exclusions, obj \u001b[38;5;241m=\u001b[39m \u001b[43mget_grouper\u001b[49m\u001b[43m(\u001b[49m\n\u001b[1;32m    883\u001b[0m \u001b[43m        \u001b[49m\u001b[43mobj\u001b[49m\u001b[43m,\u001b[49m\n\u001b[1;32m    884\u001b[0m \u001b[43m        \u001b[49m\u001b[43mkeys\u001b[49m\u001b[43m,\u001b[49m\n\u001b[1;32m    885\u001b[0m \u001b[43m        \u001b[49m\u001b[43maxis\u001b[49m\u001b[38;5;241;43m=\u001b[39;49m\u001b[43maxis\u001b[49m\u001b[43m,\u001b[49m\n\u001b[1;32m    886\u001b[0m \u001b[43m        \u001b[49m\u001b[43mlevel\u001b[49m\u001b[38;5;241;43m=\u001b[39;49m\u001b[43mlevel\u001b[49m\u001b[43m,\u001b[49m\n\u001b[1;32m    887\u001b[0m \u001b[43m        \u001b[49m\u001b[43msort\u001b[49m\u001b[38;5;241;43m=\u001b[39;49m\u001b[43msort\u001b[49m\u001b[43m,\u001b[49m\n\u001b[1;32m    888\u001b[0m \u001b[43m        \u001b[49m\u001b[43mobserved\u001b[49m\u001b[38;5;241;43m=\u001b[39;49m\u001b[43mobserved\u001b[49m\u001b[43m,\u001b[49m\n\u001b[1;32m    889\u001b[0m \u001b[43m        \u001b[49m\u001b[43mmutated\u001b[49m\u001b[38;5;241;43m=\u001b[39;49m\u001b[38;5;28;43mself\u001b[39;49m\u001b[38;5;241;43m.\u001b[39;49m\u001b[43mmutated\u001b[49m\u001b[43m,\u001b[49m\n\u001b[1;32m    890\u001b[0m \u001b[43m        \u001b[49m\u001b[43mdropna\u001b[49m\u001b[38;5;241;43m=\u001b[39;49m\u001b[38;5;28;43mself\u001b[39;49m\u001b[38;5;241;43m.\u001b[39;49m\u001b[43mdropna\u001b[49m\u001b[43m,\u001b[49m\n\u001b[1;32m    891\u001b[0m \u001b[43m    \u001b[49m\u001b[43m)\u001b[49m\n\u001b[1;32m    893\u001b[0m \u001b[38;5;28mself\u001b[39m\u001b[38;5;241m.\u001b[39mobj \u001b[38;5;241m=\u001b[39m obj\n\u001b[1;32m    894\u001b[0m \u001b[38;5;28mself\u001b[39m\u001b[38;5;241m.\u001b[39maxis \u001b[38;5;241m=\u001b[39m obj\u001b[38;5;241m.\u001b[39m_get_axis_number(axis)\n",
      "File \u001b[0;32m~/opt/anaconda3/lib/python3.9/site-packages/pandas/core/groupby/grouper.py:882\u001b[0m, in \u001b[0;36mget_grouper\u001b[0;34m(obj, key, axis, level, sort, observed, mutated, validate, dropna)\u001b[0m\n\u001b[1;32m    880\u001b[0m         in_axis, level, gpr \u001b[38;5;241m=\u001b[39m \u001b[38;5;28;01mFalse\u001b[39;00m, gpr, \u001b[38;5;28;01mNone\u001b[39;00m\n\u001b[1;32m    881\u001b[0m     \u001b[38;5;28;01melse\u001b[39;00m:\n\u001b[0;32m--> 882\u001b[0m         \u001b[38;5;28;01mraise\u001b[39;00m \u001b[38;5;167;01mKeyError\u001b[39;00m(gpr)\n\u001b[1;32m    883\u001b[0m \u001b[38;5;28;01melif\u001b[39;00m \u001b[38;5;28misinstance\u001b[39m(gpr, Grouper) \u001b[38;5;129;01mand\u001b[39;00m gpr\u001b[38;5;241m.\u001b[39mkey \u001b[38;5;129;01mis\u001b[39;00m \u001b[38;5;129;01mnot\u001b[39;00m \u001b[38;5;28;01mNone\u001b[39;00m:\n\u001b[1;32m    884\u001b[0m     \u001b[38;5;66;03m# Add key to exclusions\u001b[39;00m\n\u001b[1;32m    885\u001b[0m     exclusions\u001b[38;5;241m.\u001b[39madd(gpr\u001b[38;5;241m.\u001b[39mkey)\n",
      "\u001b[0;31mKeyError\u001b[0m: 'ID'"
     ]
    }
   ],
   "source": [
    "# Choice (A)\n",
    "ath['ID'].groupby('ID').count().iloc[0]"
   ]
  },
  {
   "cell_type": "code",
   "execution_count": 28,
   "id": "07ea3b34",
   "metadata": {},
   "outputs": [
    {
     "data": {
      "text/plain": [
       "Series([], Name: 1, dtype: float64)"
      ]
     },
     "execution_count": 28,
     "metadata": {},
     "output_type": "execute_result"
    }
   ],
   "source": [
    "# Choice (B)\n",
    "ath[['ID']].groupby('ID').count().iloc[0]"
   ]
  },
  {
   "cell_type": "code",
   "execution_count": 36,
   "id": "a9c6f16e",
   "metadata": {},
   "outputs": [
    {
     "data": {
      "text/plain": [
       "28"
      ]
     },
     "execution_count": 36,
     "metadata": {},
     "output_type": "execute_result"
    }
   ],
   "source": [
    "# Choice (C)\n",
    "ath[[\"ID\", \"Medal\", \"Name\"]].groupby(\"Name\").count().sort_values(\"Medal\", ascending = False)[\"Medal\"].iloc[0]\n",
    "\n",
    "## can't do value_counts() because it'll find the total count of non-null and null medals. \n",
    "## .count() just finds the count of non-null\n",
    "\n"
   ]
  },
  {
   "cell_type": "code",
   "execution_count": 37,
   "id": "a1cd7f7c",
   "metadata": {},
   "outputs": [
    {
     "data": {
      "text/plain": [
       "1"
      ]
     },
     "execution_count": 37,
     "metadata": {},
     "output_type": "execute_result"
    }
   ],
   "source": [
    "# Choice (D)\n",
    "ath[['ID', 'Medal']].groupby('ID').size().iloc[0]"
   ]
  },
  {
   "cell_type": "code",
   "execution_count": 31,
   "id": "48b09ec2",
   "metadata": {},
   "outputs": [
    {
     "data": {
      "text/plain": [
       "Medal    0\n",
       "Name:   Gabrielle Marie \"Gabby\" Adcock (White-), dtype: object"
      ]
     },
     "execution_count": 31,
     "metadata": {},
     "output_type": "execute_result"
    }
   ],
   "source": [
    "# Choice (E)\n",
    "ath[['Name', 'Medal']].groupby('Name').sum().iloc[0]"
   ]
  },
  {
   "cell_type": "code",
   "execution_count": 32,
   "id": "b4ac9525",
   "metadata": {},
   "outputs": [
    {
     "ename": "SyntaxError",
     "evalue": "unexpected character after line continuation character (3887089769.py, line 2)",
     "output_type": "error",
     "traceback": [
      "\u001b[0;36m  Input \u001b[0;32mIn [32]\u001b[0;36m\u001b[0m\n\u001b[0;31m    ath[['Name', 'Medal']].groupby('Name').count().iloc[0].sort\\_values(\u001b[0m\n\u001b[0m                                                                ^\u001b[0m\n\u001b[0;31mSyntaxError\u001b[0m\u001b[0;31m:\u001b[0m unexpected character after line continuation character\n"
     ]
    }
   ],
   "source": [
    "# Choice (F)\n",
    "ath[['Name', 'Medal']].groupby('Name').count().iloc[0].sort\\_values(\n",
    "'Medal', ascending = False)"
   ]
  },
  {
   "cell_type": "markdown",
   "id": "f8c59daa",
   "metadata": {},
   "source": [
    "### Part c"
   ]
  },
  {
   "cell_type": "markdown",
   "id": "cebbd1b2",
   "metadata": {},
   "source": [
    "What are the oldest athletes to participate in each sport along with the corresponding year in which they participated? For this question, the ’corresponding\n",
    "year’ referred to the final year that the athlete participated."
   ]
  },
  {
   "cell_type": "code",
   "execution_count": 38,
   "id": "358e6fb2",
   "metadata": {},
   "outputs": [
    {
     "data": {
      "text/html": [
       "<div>\n",
       "<style scoped>\n",
       "    .dataframe tbody tr th:only-of-type {\n",
       "        vertical-align: middle;\n",
       "    }\n",
       "\n",
       "    .dataframe tbody tr th {\n",
       "        vertical-align: top;\n",
       "    }\n",
       "\n",
       "    .dataframe thead th {\n",
       "        text-align: right;\n",
       "    }\n",
       "</style>\n",
       "<table border=\"1\" class=\"dataframe\">\n",
       "  <thead>\n",
       "    <tr style=\"text-align: right;\">\n",
       "      <th></th>\n",
       "      <th>ID</th>\n",
       "      <th>Name</th>\n",
       "      <th>Sex</th>\n",
       "      <th>Age</th>\n",
       "      <th>Height</th>\n",
       "      <th>Weight</th>\n",
       "      <th>Team</th>\n",
       "      <th>Year</th>\n",
       "      <th>Season</th>\n",
       "      <th>City</th>\n",
       "      <th>Sport</th>\n",
       "      <th>Event</th>\n",
       "      <th>Medal</th>\n",
       "    </tr>\n",
       "  </thead>\n",
       "  <tbody>\n",
       "    <tr>\n",
       "      <th>257054</th>\n",
       "      <td>128719</td>\n",
       "      <td>John Quincy Adams Ward</td>\n",
       "      <td>M</td>\n",
       "      <td>97.0</td>\n",
       "      <td>NaN</td>\n",
       "      <td>NaN</td>\n",
       "      <td>United States</td>\n",
       "      <td>1928</td>\n",
       "      <td>Summer</td>\n",
       "      <td>Amsterdam</td>\n",
       "      <td>Art Competitions</td>\n",
       "      <td>Art Competitions Mixed Sculpturing, Statues</td>\n",
       "      <td>NaN</td>\n",
       "    </tr>\n",
       "    <tr>\n",
       "      <th>98118</th>\n",
       "      <td>49663</td>\n",
       "      <td>Winslow Homer</td>\n",
       "      <td>M</td>\n",
       "      <td>96.0</td>\n",
       "      <td>NaN</td>\n",
       "      <td>NaN</td>\n",
       "      <td>United States</td>\n",
       "      <td>1932</td>\n",
       "      <td>Summer</td>\n",
       "      <td>Los Angeles</td>\n",
       "      <td>Art Competitions</td>\n",
       "      <td>Art Competitions Mixed Painting, Unknown Event</td>\n",
       "      <td>NaN</td>\n",
       "    </tr>\n",
       "    <tr>\n",
       "      <th>60863</th>\n",
       "      <td>31173</td>\n",
       "      <td>Thomas Cowperthwait Eakins</td>\n",
       "      <td>M</td>\n",
       "      <td>88.0</td>\n",
       "      <td>NaN</td>\n",
       "      <td>NaN</td>\n",
       "      <td>United States</td>\n",
       "      <td>1932</td>\n",
       "      <td>Summer</td>\n",
       "      <td>Los Angeles</td>\n",
       "      <td>Art Competitions</td>\n",
       "      <td>Art Competitions Mixed Painting, Unknown Event</td>\n",
       "      <td>NaN</td>\n",
       "    </tr>\n",
       "    <tr>\n",
       "      <th>60861</th>\n",
       "      <td>31173</td>\n",
       "      <td>Thomas Cowperthwait Eakins</td>\n",
       "      <td>M</td>\n",
       "      <td>88.0</td>\n",
       "      <td>NaN</td>\n",
       "      <td>NaN</td>\n",
       "      <td>United States</td>\n",
       "      <td>1932</td>\n",
       "      <td>Summer</td>\n",
       "      <td>Los Angeles</td>\n",
       "      <td>Art Competitions</td>\n",
       "      <td>Art Competitions Mixed Painting, Unknown Event</td>\n",
       "      <td>NaN</td>\n",
       "    </tr>\n",
       "    <tr>\n",
       "      <th>60862</th>\n",
       "      <td>31173</td>\n",
       "      <td>Thomas Cowperthwait Eakins</td>\n",
       "      <td>M</td>\n",
       "      <td>88.0</td>\n",
       "      <td>NaN</td>\n",
       "      <td>NaN</td>\n",
       "      <td>United States</td>\n",
       "      <td>1932</td>\n",
       "      <td>Summer</td>\n",
       "      <td>Los Angeles</td>\n",
       "      <td>Art Competitions</td>\n",
       "      <td>Art Competitions Mixed Painting, Unknown Event</td>\n",
       "      <td>NaN</td>\n",
       "    </tr>\n",
       "    <tr>\n",
       "      <th>...</th>\n",
       "      <td>...</td>\n",
       "      <td>...</td>\n",
       "      <td>...</td>\n",
       "      <td>...</td>\n",
       "      <td>...</td>\n",
       "      <td>...</td>\n",
       "      <td>...</td>\n",
       "      <td>...</td>\n",
       "      <td>...</td>\n",
       "      <td>...</td>\n",
       "      <td>...</td>\n",
       "      <td>...</td>\n",
       "      <td>...</td>\n",
       "    </tr>\n",
       "    <tr>\n",
       "      <th>270679</th>\n",
       "      <td>135368</td>\n",
       "      <td>Antonio A. Zucchi</td>\n",
       "      <td>M</td>\n",
       "      <td>NaN</td>\n",
       "      <td>NaN</td>\n",
       "      <td>NaN</td>\n",
       "      <td>Argentina</td>\n",
       "      <td>1948</td>\n",
       "      <td>Summer</td>\n",
       "      <td>London</td>\n",
       "      <td>Hockey</td>\n",
       "      <td>Hockey Men's Hockey</td>\n",
       "      <td>NaN</td>\n",
       "    </tr>\n",
       "    <tr>\n",
       "      <th>270774</th>\n",
       "      <td>135416</td>\n",
       "      <td>Star Zulu</td>\n",
       "      <td>M</td>\n",
       "      <td>NaN</td>\n",
       "      <td>NaN</td>\n",
       "      <td>NaN</td>\n",
       "      <td>Zambia</td>\n",
       "      <td>1984</td>\n",
       "      <td>Summer</td>\n",
       "      <td>Los Angeles</td>\n",
       "      <td>Boxing</td>\n",
       "      <td>Boxing Men's Bantamweight</td>\n",
       "      <td>NaN</td>\n",
       "    </tr>\n",
       "    <tr>\n",
       "      <th>270793</th>\n",
       "      <td>135426</td>\n",
       "      <td>Max Zumstein</td>\n",
       "      <td>M</td>\n",
       "      <td>NaN</td>\n",
       "      <td>NaN</td>\n",
       "      <td>NaN</td>\n",
       "      <td>Switzerland</td>\n",
       "      <td>1928</td>\n",
       "      <td>Summer</td>\n",
       "      <td>Amsterdam</td>\n",
       "      <td>Hockey</td>\n",
       "      <td>Hockey Men's Hockey</td>\n",
       "      <td>NaN</td>\n",
       "    </tr>\n",
       "    <tr>\n",
       "      <th>270804</th>\n",
       "      <td>135434</td>\n",
       "      <td>Edmundo Ziga Erraz</td>\n",
       "      <td>M</td>\n",
       "      <td>NaN</td>\n",
       "      <td>180.0</td>\n",
       "      <td>95.0</td>\n",
       "      <td>Chile</td>\n",
       "      <td>1948</td>\n",
       "      <td>Summer</td>\n",
       "      <td>London</td>\n",
       "      <td>Athletics</td>\n",
       "      <td>Athletics Men's Hammer Throw</td>\n",
       "      <td>NaN</td>\n",
       "    </tr>\n",
       "    <tr>\n",
       "      <th>270805</th>\n",
       "      <td>135435</td>\n",
       "      <td>Faelo Ziga</td>\n",
       "      <td>M</td>\n",
       "      <td>NaN</td>\n",
       "      <td>NaN</td>\n",
       "      <td>NaN</td>\n",
       "      <td>Chile</td>\n",
       "      <td>1928</td>\n",
       "      <td>Summer</td>\n",
       "      <td>Amsterdam</td>\n",
       "      <td>Swimming</td>\n",
       "      <td>Swimming Men's 100 metres Freestyle</td>\n",
       "      <td>NaN</td>\n",
       "    </tr>\n",
       "  </tbody>\n",
       "</table>\n",
       "<p>271116 rows × 13 columns</p>\n",
       "</div>"
      ],
      "text/plain": [
       "            ID                        Name Sex   Age  Height  Weight  \\\n",
       "257054  128719      John Quincy Adams Ward   M  97.0     NaN     NaN   \n",
       "98118    49663               Winslow Homer   M  96.0     NaN     NaN   \n",
       "60863    31173  Thomas Cowperthwait Eakins   M  88.0     NaN     NaN   \n",
       "60861    31173  Thomas Cowperthwait Eakins   M  88.0     NaN     NaN   \n",
       "60862    31173  Thomas Cowperthwait Eakins   M  88.0     NaN     NaN   \n",
       "...        ...                         ...  ..   ...     ...     ...   \n",
       "270679  135368           Antonio A. Zucchi   M   NaN     NaN     NaN   \n",
       "270774  135416                   Star Zulu   M   NaN     NaN     NaN   \n",
       "270793  135426                Max Zumstein   M   NaN     NaN     NaN   \n",
       "270804  135434          Edmundo Ziga Erraz   M   NaN   180.0    95.0   \n",
       "270805  135435                  Faelo Ziga   M   NaN     NaN     NaN   \n",
       "\n",
       "                 Team  Year  Season         City             Sport  \\\n",
       "257054  United States  1928  Summer    Amsterdam  Art Competitions   \n",
       "98118   United States  1932  Summer  Los Angeles  Art Competitions   \n",
       "60863   United States  1932  Summer  Los Angeles  Art Competitions   \n",
       "60861   United States  1932  Summer  Los Angeles  Art Competitions   \n",
       "60862   United States  1932  Summer  Los Angeles  Art Competitions   \n",
       "...               ...   ...     ...          ...               ...   \n",
       "270679      Argentina  1948  Summer       London            Hockey   \n",
       "270774         Zambia  1984  Summer  Los Angeles            Boxing   \n",
       "270793    Switzerland  1928  Summer    Amsterdam            Hockey   \n",
       "270804          Chile  1948  Summer       London         Athletics   \n",
       "270805          Chile  1928  Summer    Amsterdam          Swimming   \n",
       "\n",
       "                                                 Event Medal  \n",
       "257054     Art Competitions Mixed Sculpturing, Statues   NaN  \n",
       "98118   Art Competitions Mixed Painting, Unknown Event   NaN  \n",
       "60863   Art Competitions Mixed Painting, Unknown Event   NaN  \n",
       "60861   Art Competitions Mixed Painting, Unknown Event   NaN  \n",
       "60862   Art Competitions Mixed Painting, Unknown Event   NaN  \n",
       "...                                                ...   ...  \n",
       "270679                             Hockey Men's Hockey   NaN  \n",
       "270774                       Boxing Men's Bantamweight   NaN  \n",
       "270793                             Hockey Men's Hockey   NaN  \n",
       "270804                    Athletics Men's Hammer Throw   NaN  \n",
       "270805             Swimming Men's 100 metres Freestyle   NaN  \n",
       "\n",
       "[271116 rows x 13 columns]"
      ]
     },
     "execution_count": 38,
     "metadata": {},
     "output_type": "execute_result"
    }
   ],
   "source": [
    "ath.sort_values('Age', ascending=False)"
   ]
  },
  {
   "cell_type": "code",
   "execution_count": 17,
   "id": "afe021f5",
   "metadata": {},
   "outputs": [
    {
     "data": {
      "text/plain": [
       "271116"
      ]
     },
     "execution_count": 17,
     "metadata": {},
     "output_type": "execute_result"
    }
   ],
   "source": [
    "ath.shape[0]"
   ]
  },
  {
   "cell_type": "code",
   "execution_count": 41,
   "id": "eed8ea1e",
   "metadata": {},
   "outputs": [
    {
     "data": {
      "text/html": [
       "<div>\n",
       "<style scoped>\n",
       "    .dataframe tbody tr th:only-of-type {\n",
       "        vertical-align: middle;\n",
       "    }\n",
       "\n",
       "    .dataframe tbody tr th {\n",
       "        vertical-align: top;\n",
       "    }\n",
       "\n",
       "    .dataframe thead th {\n",
       "        text-align: right;\n",
       "    }\n",
       "</style>\n",
       "<table border=\"1\" class=\"dataframe\">\n",
       "  <thead>\n",
       "    <tr style=\"text-align: right;\">\n",
       "      <th></th>\n",
       "      <th>Name</th>\n",
       "      <th>Year</th>\n",
       "    </tr>\n",
       "    <tr>\n",
       "      <th>Sport</th>\n",
       "      <th></th>\n",
       "      <th></th>\n",
       "    </tr>\n",
       "  </thead>\n",
       "  <tbody>\n",
       "    <tr>\n",
       "      <th>Aeronautics</th>\n",
       "      <td>Hermann Schreiber</td>\n",
       "      <td>1936</td>\n",
       "    </tr>\n",
       "    <tr>\n",
       "      <th>Alpine Skiing</th>\n",
       "      <td>Hubertus Rudolph von Frstenberg-von Hohenlohe-...</td>\n",
       "      <td>2014</td>\n",
       "    </tr>\n",
       "    <tr>\n",
       "      <th>Alpinism</th>\n",
       "      <td>Charles Granville Bruce</td>\n",
       "      <td>1924</td>\n",
       "    </tr>\n",
       "    <tr>\n",
       "      <th>Archery</th>\n",
       "      <td>Thomas Foster Scott</td>\n",
       "      <td>1904</td>\n",
       "    </tr>\n",
       "    <tr>\n",
       "      <th>Art Competitions</th>\n",
       "      <td>John Quincy Adams Ward</td>\n",
       "      <td>1928</td>\n",
       "    </tr>\n",
       "    <tr>\n",
       "      <th>...</th>\n",
       "      <td>...</td>\n",
       "      <td>...</td>\n",
       "    </tr>\n",
       "    <tr>\n",
       "      <th>Tug-Of-War</th>\n",
       "      <td>Carl Emil \"Carl-Emil\" Johansson</td>\n",
       "      <td>1908</td>\n",
       "    </tr>\n",
       "    <tr>\n",
       "      <th>Volleyball</th>\n",
       "      <td>Jason Haldane</td>\n",
       "      <td>2012</td>\n",
       "    </tr>\n",
       "    <tr>\n",
       "      <th>Water Polo</th>\n",
       "      <td>Charles Sydney Smith</td>\n",
       "      <td>1924</td>\n",
       "    </tr>\n",
       "    <tr>\n",
       "      <th>Weightlifting</th>\n",
       "      <td>Josef Schuster</td>\n",
       "      <td>1952</td>\n",
       "    </tr>\n",
       "    <tr>\n",
       "      <th>Wrestling</th>\n",
       "      <td>Hugo Anton Toeppen</td>\n",
       "      <td>1904</td>\n",
       "    </tr>\n",
       "  </tbody>\n",
       "</table>\n",
       "<p>66 rows × 2 columns</p>\n",
       "</div>"
      ],
      "text/plain": [
       "                                                               Name  Year\n",
       "Sport                                                                    \n",
       "Aeronautics                                       Hermann Schreiber  1936\n",
       "Alpine Skiing     Hubertus Rudolph von Frstenberg-von Hohenlohe-...  2014\n",
       "Alpinism                                    Charles Granville Bruce  1924\n",
       "Archery                                         Thomas Foster Scott  1904\n",
       "Art Competitions                             John Quincy Adams Ward  1928\n",
       "...                                                             ...   ...\n",
       "Tug-Of-War                          Carl Emil \"Carl-Emil\" Johansson  1908\n",
       "Volleyball                                            Jason Haldane  2012\n",
       "Water Polo                                     Charles Sydney Smith  1924\n",
       "Weightlifting                                        Josef Schuster  1952\n",
       "Wrestling                                        Hugo Anton Toeppen  1904\n",
       "\n",
       "[66 rows x 2 columns]"
      ]
     },
     "execution_count": 41,
     "metadata": {},
     "output_type": "execute_result"
    }
   ],
   "source": [
    "ath.sort_values('Age', ascending=False).groupby('Sport').agg({'Name':'first', 'Year':'first'})\n",
    "#ath.sort_values('Age', ascending=False).groupby('Sport').first()"
   ]
  },
  {
   "cell_type": "markdown",
   "id": "c952c381",
   "metadata": {},
   "source": [
    "### Part d"
   ]
  },
  {
   "cell_type": "markdown",
   "id": "002a3a1f",
   "metadata": {},
   "source": [
    "Fill in the blanks below to return the names of all the athletes who won a medal\n",
    "after a gap of 10 years or more of not winning any Olympics medals. You may\n",
    "assume that each individual’s name is unique to them."
   ]
  },
  {
   "cell_type": "markdown",
   "id": "bb09b933",
   "metadata": {},
   "source": [
    "##### Currently no output because the dataset isn't comprehensive, but feel free to play around with the DataFrame to generate output"
   ]
  },
  {
   "cell_type": "code",
   "execution_count": 32,
   "id": "a2cf60bd",
   "metadata": {},
   "outputs": [
    {
     "name": "stderr",
     "output_type": "stream",
     "text": [
      "/var/folders/wt/6c9_5r755rj93jg07m1yf_480000gn/T/ipykernel_81701/1172532260.py:8: UserWarning: Boolean Series key will be reindexed to match DataFrame index.\n",
      "  ath.sort_values(\"Year\")[~ath[\"Medal\"].isna()].groupby(\"Name\").filter(filter_func)[\"Name\"].unique()\n"
     ]
    },
    {
     "data": {
      "text/plain": [
       "array([], dtype=object)"
      ]
     },
     "execution_count": 32,
     "metadata": {},
     "output_type": "execute_result"
    }
   ],
   "source": [
    "def filter_func(subframe):\n",
    "    return (subframe[\"Year\"].diff() >= 10).any()\n",
    "\n",
    "# note that pd.diff is not required!\n",
    "# return (subframe[’Year’].iloc[:-1].values + 10 <=\n",
    "# subframe[’Year’].iloc[1:].values).any()\n",
    "\n",
    "ath.sort_values(\"Year\")[~ath[\"Medal\"].isna()].groupby(\"Name\").filter(filter_func)[\"Name\"].unique()"
   ]
  },
  {
   "cell_type": "code",
   "execution_count": 48,
   "id": "d64fa293",
   "metadata": {},
   "outputs": [
    {
     "name": "stderr",
     "output_type": "stream",
     "text": [
      "/var/folders/wt/6c9_5r755rj93jg07m1yf_480000gn/T/ipykernel_80910/1296145474.py:1: UserWarning: Boolean Series key will be reindexed to match DataFrame index.\n",
      "  ath.sort_values(\"Year\")[~ath[\"Medal\"].isna()]\n"
     ]
    },
    {
     "data": {
      "text/html": [
       "<div>\n",
       "<style scoped>\n",
       "    .dataframe tbody tr th:only-of-type {\n",
       "        vertical-align: middle;\n",
       "    }\n",
       "\n",
       "    .dataframe tbody tr th {\n",
       "        vertical-align: top;\n",
       "    }\n",
       "\n",
       "    .dataframe thead th {\n",
       "        text-align: right;\n",
       "    }\n",
       "</style>\n",
       "<table border=\"1\" class=\"dataframe\">\n",
       "  <thead>\n",
       "    <tr style=\"text-align: right;\">\n",
       "      <th></th>\n",
       "      <th>ID</th>\n",
       "      <th>Name</th>\n",
       "      <th>Sex</th>\n",
       "      <th>Age</th>\n",
       "      <th>Height</th>\n",
       "      <th>Weight</th>\n",
       "      <th>Team</th>\n",
       "      <th>Year</th>\n",
       "      <th>Season</th>\n",
       "      <th>City</th>\n",
       "      <th>Sport</th>\n",
       "      <th>Event</th>\n",
       "      <th>Medal</th>\n",
       "    </tr>\n",
       "  </thead>\n",
       "  <tbody>\n",
       "    <tr>\n",
       "      <th>244717</th>\n",
       "      <td>122526</td>\n",
       "      <td>Pierre Alexandre Tuffri</td>\n",
       "      <td>M</td>\n",
       "      <td>19.0</td>\n",
       "      <td>NaN</td>\n",
       "      <td>NaN</td>\n",
       "      <td>France</td>\n",
       "      <td>1896</td>\n",
       "      <td>Summer</td>\n",
       "      <td>Athina</td>\n",
       "      <td>Athletics</td>\n",
       "      <td>Athletics Men's Triple Jump</td>\n",
       "      <td>Silver</td>\n",
       "    </tr>\n",
       "    <tr>\n",
       "      <th>23914</th>\n",
       "      <td>12563</td>\n",
       "      <td>Conrad Helmut Fritz Bcker</td>\n",
       "      <td>M</td>\n",
       "      <td>25.0</td>\n",
       "      <td>NaN</td>\n",
       "      <td>NaN</td>\n",
       "      <td>Germany</td>\n",
       "      <td>1896</td>\n",
       "      <td>Summer</td>\n",
       "      <td>Athina</td>\n",
       "      <td>Gymnastics</td>\n",
       "      <td>Gymnastics Men's Parallel Bars, Teams</td>\n",
       "      <td>Gold</td>\n",
       "    </tr>\n",
       "    <tr>\n",
       "      <th>23916</th>\n",
       "      <td>12563</td>\n",
       "      <td>Conrad Helmut Fritz Bcker</td>\n",
       "      <td>M</td>\n",
       "      <td>25.0</td>\n",
       "      <td>NaN</td>\n",
       "      <td>NaN</td>\n",
       "      <td>Germany</td>\n",
       "      <td>1896</td>\n",
       "      <td>Summer</td>\n",
       "      <td>Athina</td>\n",
       "      <td>Gymnastics</td>\n",
       "      <td>Gymnastics Men's Horizontal Bar, Teams</td>\n",
       "      <td>Gold</td>\n",
       "    </tr>\n",
       "    <tr>\n",
       "      <th>83614</th>\n",
       "      <td>42499</td>\n",
       "      <td>Eugne Henry Gravelotte</td>\n",
       "      <td>M</td>\n",
       "      <td>20.0</td>\n",
       "      <td>NaN</td>\n",
       "      <td>NaN</td>\n",
       "      <td>France</td>\n",
       "      <td>1896</td>\n",
       "      <td>Summer</td>\n",
       "      <td>Athina</td>\n",
       "      <td>Fencing</td>\n",
       "      <td>Fencing Men's Foil, Individual</td>\n",
       "      <td>Gold</td>\n",
       "    </tr>\n",
       "    <tr>\n",
       "      <th>170080</th>\n",
       "      <td>85477</td>\n",
       "      <td>Paul Neumann (-Newman)</td>\n",
       "      <td>M</td>\n",
       "      <td>20.0</td>\n",
       "      <td>NaN</td>\n",
       "      <td>NaN</td>\n",
       "      <td>Austria</td>\n",
       "      <td>1896</td>\n",
       "      <td>Summer</td>\n",
       "      <td>Athina</td>\n",
       "      <td>Swimming</td>\n",
       "      <td>Swimming Men's 500 metres Freestyle</td>\n",
       "      <td>Gold</td>\n",
       "    </tr>\n",
       "    <tr>\n",
       "      <th>...</th>\n",
       "      <td>...</td>\n",
       "      <td>...</td>\n",
       "      <td>...</td>\n",
       "      <td>...</td>\n",
       "      <td>...</td>\n",
       "      <td>...</td>\n",
       "      <td>...</td>\n",
       "      <td>...</td>\n",
       "      <td>...</td>\n",
       "      <td>...</td>\n",
       "      <td>...</td>\n",
       "      <td>...</td>\n",
       "      <td>...</td>\n",
       "    </tr>\n",
       "    <tr>\n",
       "      <th>235133</th>\n",
       "      <td>117908</td>\n",
       "      <td>Ayaka Takahashi</td>\n",
       "      <td>F</td>\n",
       "      <td>26.0</td>\n",
       "      <td>165.0</td>\n",
       "      <td>60.0</td>\n",
       "      <td>Japan</td>\n",
       "      <td>2016</td>\n",
       "      <td>Summer</td>\n",
       "      <td>Rio de Janeiro</td>\n",
       "      <td>Badminton</td>\n",
       "      <td>Badminton Women's Doubles</td>\n",
       "      <td>Gold</td>\n",
       "    </tr>\n",
       "    <tr>\n",
       "      <th>142381</th>\n",
       "      <td>71437</td>\n",
       "      <td>Mijan Lpez Nez</td>\n",
       "      <td>M</td>\n",
       "      <td>33.0</td>\n",
       "      <td>198.0</td>\n",
       "      <td>130.0</td>\n",
       "      <td>Cuba</td>\n",
       "      <td>2016</td>\n",
       "      <td>Summer</td>\n",
       "      <td>Rio de Janeiro</td>\n",
       "      <td>Wrestling</td>\n",
       "      <td>Wrestling Men's Super-Heavyweight, Greco-Roman</td>\n",
       "      <td>Gold</td>\n",
       "    </tr>\n",
       "    <tr>\n",
       "      <th>47699</th>\n",
       "      <td>24592</td>\n",
       "      <td>Michal D'Almeida</td>\n",
       "      <td>M</td>\n",
       "      <td>28.0</td>\n",
       "      <td>176.0</td>\n",
       "      <td>80.0</td>\n",
       "      <td>France</td>\n",
       "      <td>2016</td>\n",
       "      <td>Summer</td>\n",
       "      <td>Rio de Janeiro</td>\n",
       "      <td>Cycling</td>\n",
       "      <td>Cycling Men's Team Sprint</td>\n",
       "      <td>Bronze</td>\n",
       "    </tr>\n",
       "    <tr>\n",
       "      <th>142360</th>\n",
       "      <td>71423</td>\n",
       "      <td>Marc Lpez i Tarrs</td>\n",
       "      <td>M</td>\n",
       "      <td>34.0</td>\n",
       "      <td>175.0</td>\n",
       "      <td>71.0</td>\n",
       "      <td>Spain-2</td>\n",
       "      <td>2016</td>\n",
       "      <td>Summer</td>\n",
       "      <td>Rio de Janeiro</td>\n",
       "      <td>Tennis</td>\n",
       "      <td>Tennis Men's Doubles</td>\n",
       "      <td>Gold</td>\n",
       "    </tr>\n",
       "    <tr>\n",
       "      <th>47728</th>\n",
       "      <td>24609</td>\n",
       "      <td>Sabrina D'Angelo</td>\n",
       "      <td>F</td>\n",
       "      <td>23.0</td>\n",
       "      <td>173.0</td>\n",
       "      <td>71.0</td>\n",
       "      <td>Canada</td>\n",
       "      <td>2016</td>\n",
       "      <td>Summer</td>\n",
       "      <td>Rio de Janeiro</td>\n",
       "      <td>Football</td>\n",
       "      <td>Football Women's Football</td>\n",
       "      <td>Bronze</td>\n",
       "    </tr>\n",
       "  </tbody>\n",
       "</table>\n",
       "<p>39783 rows × 13 columns</p>\n",
       "</div>"
      ],
      "text/plain": [
       "            ID                       Name Sex   Age  Height  Weight     Team  \\\n",
       "244717  122526    Pierre Alexandre Tuffri   M  19.0     NaN     NaN   France   \n",
       "23914    12563  Conrad Helmut Fritz Bcker   M  25.0     NaN     NaN  Germany   \n",
       "23916    12563  Conrad Helmut Fritz Bcker   M  25.0     NaN     NaN  Germany   \n",
       "83614    42499     Eugne Henry Gravelotte   M  20.0     NaN     NaN   France   \n",
       "170080   85477     Paul Neumann (-Newman)   M  20.0     NaN     NaN  Austria   \n",
       "...        ...                        ...  ..   ...     ...     ...      ...   \n",
       "235133  117908            Ayaka Takahashi   F  26.0   165.0    60.0    Japan   \n",
       "142381   71437             Mijan Lpez Nez   M  33.0   198.0   130.0     Cuba   \n",
       "47699    24592           Michal D'Almeida   M  28.0   176.0    80.0   France   \n",
       "142360   71423          Marc Lpez i Tarrs   M  34.0   175.0    71.0  Spain-2   \n",
       "47728    24609           Sabrina D'Angelo   F  23.0   173.0    71.0   Canada   \n",
       "\n",
       "        Year  Season            City       Sport  \\\n",
       "244717  1896  Summer          Athina   Athletics   \n",
       "23914   1896  Summer          Athina  Gymnastics   \n",
       "23916   1896  Summer          Athina  Gymnastics   \n",
       "83614   1896  Summer          Athina     Fencing   \n",
       "170080  1896  Summer          Athina    Swimming   \n",
       "...      ...     ...             ...         ...   \n",
       "235133  2016  Summer  Rio de Janeiro   Badminton   \n",
       "142381  2016  Summer  Rio de Janeiro   Wrestling   \n",
       "47699   2016  Summer  Rio de Janeiro     Cycling   \n",
       "142360  2016  Summer  Rio de Janeiro      Tennis   \n",
       "47728   2016  Summer  Rio de Janeiro    Football   \n",
       "\n",
       "                                                 Event   Medal  \n",
       "244717                     Athletics Men's Triple Jump  Silver  \n",
       "23914            Gymnastics Men's Parallel Bars, Teams    Gold  \n",
       "23916           Gymnastics Men's Horizontal Bar, Teams    Gold  \n",
       "83614                   Fencing Men's Foil, Individual    Gold  \n",
       "170080             Swimming Men's 500 metres Freestyle    Gold  \n",
       "...                                                ...     ...  \n",
       "235133                       Badminton Women's Doubles    Gold  \n",
       "142381  Wrestling Men's Super-Heavyweight, Greco-Roman    Gold  \n",
       "47699                        Cycling Men's Team Sprint  Bronze  \n",
       "142360                            Tennis Men's Doubles    Gold  \n",
       "47728                        Football Women's Football  Bronze  \n",
       "\n",
       "[39783 rows x 13 columns]"
      ]
     },
     "execution_count": 48,
     "metadata": {},
     "output_type": "execute_result"
    }
   ],
   "source": [
    "ath.sort_values(\"Year\")[~ath[\"Medal\"].isna()]\n",
    "\n",
    "#ath.sort_values(\"Year\")[ath[\"Medal\"].notnull()])"
   ]
  }
 ],
 "metadata": {
  "kernelspec": {
   "display_name": "Python 3 (ipykernel)",
   "language": "python",
   "name": "python3"
  },
  "language_info": {
   "codemirror_mode": {
    "name": "ipython",
    "version": 3
   },
   "file_extension": ".py",
   "mimetype": "text/x-python",
   "name": "python",
   "nbconvert_exporter": "python",
   "pygments_lexer": "ipython3",
   "version": "3.9.13"
  }
 },
 "nbformat": 4,
 "nbformat_minor": 5
}
