{
 "cells": [
  {
   "cell_type": "code",
   "execution_count": null,
   "id": "a035cdeb",
   "metadata": {
    "deletable": false,
    "editable": false
   },
   "outputs": [],
   "source": [
    "# Initialize Otter\n",
    "import otter\n",
    "grader = otter.Notebook(\"hw08.ipynb\")"
   ]
  },
  {
   "cell_type": "markdown",
   "id": "bbbf1431",
   "metadata": {},
   "source": [
    "# Homework 8:  Hypothesis Tests"
   ]
  },
  {
   "cell_type": "markdown",
   "id": "1eeace48",
   "metadata": {},
   "source": [
    "**Assigned Readings On These Topics from Class Schedule**: \n",
    "\n",
    "* [Testing Hypotheses](https://www.inferentialthinking.com/chapters/11/Testing_Hypotheses.html)\n",
    "\n",
    "* [Comparing Two Samples](https://inferentialthinking.com/chapters/12/Comparing_Two_Samples.html)\n"
   ]
  },
  {
   "cell_type": "markdown",
   "id": "2b1fa56f",
   "metadata": {},
   "source": [
    "\n",
    "\n",
    "## Due Date: Thursday Mar 14th by 11:59 PM MT on Gradescope\n",
    "\n",
    "\n",
    "## Collaboration Policy\n",
    "\n",
    "Data science is a collaborative activity.  However a key step in learning and retention is **creating solutions on your own.**  \n",
    "\n",
    "Below are examples of acceptable vs unacceptable use of resources and collaboration when doing HW assignments in CSCI 3022.\n",
    "\n",
    "\n",
    "The following would be some **examples of cheating** when working on HW assignments in CSCI 3022.  Any of these constitute a **violation of the course's collaboration policy and will result in an F in the course and a trip to the honor council**.   \n",
    "\n",
    "\n",
    " - Consulting web pages that may have a solution to a given homework problem or one similar is cheating.  However, consulting the class notes, and web pages that explain the material taught in class but do NOT show a solution to the homework problem in question are permissible to view.  Clearly, there's a fuzzy line here between a valid use of resources and cheating. To avoid this line, one should merely consult the course notes, the course textbook, and references that contain syntax and/or formulas.\n",
    " - Copying a segment of code or math solution of three lines or more from another student from a printout, handwritten copy, or by looking at their computer screen \n",
    " - Allowing another student to copy a segment of your code or math solution of three lines or more\n",
    " - Taking a copy of another student's work (or a solution found online) and then editing that copy\n",
    " - Reading someone else’s solution to a problem on the HW before writing your own.\n",
    " - Asking someone to write all or part of a program or solution for you.\n",
    " - Asking someone else for the code necessary to fix the error for you, other than for simple syntactical errors\n",
    " \n",
    "\n",
    "\n",
    "On the other hand, the following are some **examples of things which would NOT usually be\n",
    "considered to be cheating**:\n",
    " - Working on a HW problem on your own first and then discussing with a classmate a particular part in the problem solution where you are stuck.  After clarifying any questions you should then continue to write your solution independently.\n",
    " - Asking someone (or searching online) how a particular construct in the language works.\n",
    " - Asking someone (or searching online) how to formulate a particular construct in the language.\n",
    " - Asking someone for help in finding an error in your program.  \n",
    " - Asking someone why a particular construct does not work as you expected in a given program.\n",
    "   \n",
    "\n",
    "To test whether you are truly doing your own work and retaining what you've learned you should be able to easily reproduce from scratch and explain a HW solution that was your own when asked in office hours by a TA/Instructor or on a quiz/exam.   \n",
    "\n",
    "\n",
    "If you have difficulty in formulating the general solution to a problem on your own, or\n",
    "you have difficulty in translating that general solution into a program, it is advisable to see\n",
    "your instructor or teaching assistant rather than another student as this situation can easily\n",
    "lead to a, possibly inadvertent, cheating situation.\n",
    "\n",
    "We are here to help!  Visit HW Hours and/or post questions on Piazza!\n"
   ]
  },
  {
   "cell_type": "markdown",
   "id": "b040a7c3-e466-403d-9884-5b8969f8aec3",
   "metadata": {},
   "source": [
    "If while completing this assignment you reference any websites other than those linked in this assignment or provided on Canvas please list those references here:\n",
    "\n",
    "**External references**:  *list any websites you referenced"
   ]
  },
  {
   "cell_type": "code",
   "execution_count": null,
   "id": "11e82fd7",
   "metadata": {},
   "outputs": [],
   "source": []
  },
  {
   "cell_type": "markdown",
   "id": "1ee34b34-778f-48d8-87a7-173cd97a049c",
   "metadata": {},
   "source": [
    "#### Grading\n",
    "Grading is broken down into autograded answers and manually graded answers. \n",
    "\n",
    "For autograded answers, the results of your code are compared to provided and/or hidden tests.\n",
    "\n",
    "For manually graded answers you must show and explain all steps.  Graders will evaluate how well you answered the question and/or fulfilled the requirements of the question.\n",
    "\n",
    "\n",
    "### Score breakdown\n",
    "\n",
    "\n",
    "\n",
    "Question | Points | Grading Type\n",
    "--- | --- | ---\n",
    "Question 1 | 4 | manual\n",
    "Question 2.1, 2.3, 2.5 | 9 | manual\n",
    "Question 2.2, 2.4| 6 | autograded\n",
    "Question 3 | 5 | manual\n",
    "Question 4.1-4.7, 4.9 | 17 | autograded\n",
    "Question 4.8, 4.10 | 9 | manual\n",
    "|Total | 50"
   ]
  },
  {
   "cell_type": "code",
   "execution_count": null,
   "id": "20af1960",
   "metadata": {},
   "outputs": [],
   "source": [
    "import hashlib\n",
    "import pandas as pd\n",
    "# These lines import the Numpy and Datascience modules.\n",
    "import numpy as np\n",
    "from matplotlib.ticker import PercentFormatter\n",
    "# These lines do some fancy plotting magic.\n",
    "import matplotlib\n",
    "%matplotlib inline\n",
    "import matplotlib.pyplot as plt\n",
    "plt.style.use('fivethirtyeight')\n",
    "import warnings\n",
    "warnings.simplefilter('ignore', FutureWarning)\n",
    "\n",
    "from matplotlib import patches\n",
    "from ipywidgets import interact, interactive, fixed\n",
    "import ipywidgets as widgets\n",
    "\n",
    "\n",
    "def get_hash(num):\n",
    "    \"\"\"Helper function for assessing correctness\"\"\"\n",
    "    return hashlib.md5(str(num).encode()).hexdigest()"
   ]
  },
  {
   "cell_type": "markdown",
   "id": "cd1556fc",
   "metadata": {
    "deletable": false,
    "editable": false
   },
   "source": [
    "<!-- BEGIN QUESTION -->\n",
    "\n",
    "<br>\n",
    "\n",
    "---\n",
    "\n",
    "\n",
    "## QUESTION 1  - Scientists vs. P-Values \n",
    "***\n",
    "\n",
    "Read the following article AND watch the following video.  Then answer the following questions below.\n",
    "\n",
    "\n",
    " Step 1).  Read the following article from **FiveThirtyEight**:\n",
    "     [Statisticians Found One Thing They Can Agree On: It's Time to Stop Misusing P-Values](http://fivethirtyeight.com/features/statisticians-found-one-thing-they-can-agree-on-its-time-to-stop-misusing-p-values/)\n",
    " \n",
    " Step 2).  Watch this video (11 min):  [P-Hacking](https://www.youtube.com/watch?v=Gx0fAjNHb1M)\n",
    "\n",
    "\n",
    "\n",
    "**Based on the article:**\n",
    "\n",
    "**Question 1.1.**  In what ways are scientists misusing p-values?   For full credit list **at least 3 ways**  mentioned in the article. \n",
    "\n",
    "\n",
    "**Question 1.2.**  What suggestions are made in the article to use them properly? \n",
    "\n",
    "**Based on the video:**\n",
    "\n",
    "**Question 1.3.**  Suppose the null hypothesis is true.  If you're conducting multiple hypothesis tests at the 5% significance level, what's the minimum number of tests you need to do before it's more than 50% likely that at least one of the tests will incorrectly reject the null hypothesis?  Show work justifying your answer.   \n",
    "\n",
    "**Question 1.4.**  What is the Bonferroni correction as described in the video?  Give an example from the video as to how it could be used. \n",
    "\n",
    "Answer all 4 parts in the same Markdown cell below:"
   ]
  },
  {
   "cell_type": "markdown",
   "id": "b37d791c",
   "metadata": {},
   "source": [
    "_Type your answer here, replacing this text._"
   ]
  },
  {
   "cell_type": "markdown",
   "id": "6963e98d",
   "metadata": {
    "deletable": false,
    "editable": false
   },
   "source": [
    "<!-- END QUESTION -->\n",
    "\n",
    "<br>\n",
    "\n",
    "---\n",
    "\n",
    "## Question 2: Using TVD as a Test Statistic\n",
    "\n",
    "Before beginning this section, please read [this section](https://inferentialthinking.com/chapters/11/2/Multiple_Categories.html#a-new-statistic-the-distance-between-two-distributions) of the textbook on TVD!"
   ]
  },
  {
   "cell_type": "markdown",
   "id": "276b1a13",
   "metadata": {},
   "source": [
    "**Total variation distance (TVD)** is a special type of test statistic that we use when we want to compare two distributions of *categorical data*. It is often used when we observe that a set of observed proportions/probabilities is different than what we expect under the null model. \n",
    "\n",
    "Consider a six-sided die that we roll 6,000 times. If the die is fair, we would expect that each face comes up $\\frac{1}{6}$ of the time. By random chance, a fair die won't always result in equal proportions (that is, we won't get exactly 1,000 of each face). However, if we suspect that the die might be unfair based on the data, we can conduct a hypothesis test using TVD to compare the expected [$\\frac{1}{6}$, $\\frac{1}{6}$, $\\frac{1}{6}$, $\\frac{1}{6}$, $\\frac{1}{6}$, $\\frac{1}{6}$] distribution to what is actually observed.\n",
    "\n",
    "In this part of the homework, we'll look at how we can use TVD to determine the effect that different factors have on happiness. \n",
    "\n",
    "We will be working with data from the [Gallup World Poll](https://www.gallup.com/analytics/349487/gallup-global-happiness-center.aspx#:~:text=World%20Happiness%20Report&text=Using%20the%20Gallup%20World%20Poll,about%20the%20World%20Happiness%20Report.) that is presented in the World Happiness Report, a survey of the state of global happiness. The survey ranked 155 countries by overall happiness and estimated the influence that economic production, social support, life expectancy, freedom, absence of corruption, and generosity had on population happiness. The study has been repeated for several years, but we'll be looking at data from the 2016 survey.\n",
    "\n",
    "Run the cell below to load in the `happiness_scores` table."
   ]
  },
  {
   "cell_type": "code",
   "execution_count": null,
   "id": "d52dd217",
   "metadata": {},
   "outputs": [],
   "source": [
    "happiness_scores = pd.read_csv(\"happiness_scores.csv\")\n",
    "happiness_scores.head(5)"
   ]
  },
  {
   "cell_type": "markdown",
   "id": "3ef66cc4",
   "metadata": {},
   "source": [
    "Participants in the study were asked to evaluate their life satisfaction from a scale of 0 (worst possible life) to 10 (best possible life). The responses for each country were averaged to create the `Happiness Score`.\n",
    "\n",
    "The columns `Economy (GDP per Capita)`, `Family`, `Health (Life Expectancy)`, `Freedom`, `Trust (Government Corruption)`, and `Generosity` estimate the extent to which each factor influences happiness, both for better or for worse. The happiness score is the sum of these factors; the larger a factor is, the more it contributes to overall happiness. [In other words, if you add up all the factors (in addition to a \"Difference from Dystopia\" value we excluded in the dataset), you get the happiness score.]\n",
    "\n",
    "Let's look at the different factors that affect happiness in the United States. Run the cell below to view the row in `us_happiness` that contains data for the United States."
   ]
  },
  {
   "cell_type": "code",
   "execution_count": null,
   "id": "22678b6b",
   "metadata": {},
   "outputs": [],
   "source": [
    "us_happiness = happiness_scores.loc[happiness_scores[\"Country\"] == \"United States\"]\n",
    "us_happiness"
   ]
  },
  {
   "cell_type": "markdown",
   "id": "e9abd31c",
   "metadata": {},
   "source": [
    "**To compare the different factors, we'll look at the proportion of the happiness score that is attributed to each variable. \n",
    "You can find these proportions in the table `us_happiness_factors` after running the cell below.**\n",
    "\n",
    "*Note:* The factors shown in `us_happiness` don't add up exactly to the happiness score, so we adjusted the proportions to  only account for the data we have access to. The proportions were found by dividing each Happiness Factor value by the sum of all Happiness Factor values in `us_happiness`."
   ]
  },
  {
   "cell_type": "code",
   "execution_count": null,
   "id": "d553946d",
   "metadata": {},
   "outputs": [],
   "source": [
    "us_happiness_factors = pd.read_csv(\"us_happiness_factors.csv\")\n",
    "us_happiness_factors\n"
   ]
  },
  {
   "cell_type": "markdown",
   "id": "dc757f1a",
   "metadata": {
    "deletable": false,
    "editable": false
   },
   "source": [
    "<!-- BEGIN QUESTION -->\n",
    "\n",
    "**Question 2.1.** Suppose we want to test whether or not each factor contributes the same amount to the overall Happiness Score. Define the null hypothesis, alternative hypothesis, and test statistic in the cell below. \n",
    "\n",
    "*Note:* Please format your answer as follows:\n",
    "- Null Hypothesis: ...  \n",
    "- Alternative Hypothesis: ...  \n",
    "- Test Statistic: ...  \n"
   ]
  },
  {
   "cell_type": "markdown",
   "id": "47939ac1",
   "metadata": {},
   "source": [
    "_Type your answer here, replacing this text._"
   ]
  },
  {
   "cell_type": "markdown",
   "id": "8c46dde0",
   "metadata": {
    "deletable": false,
    "editable": false
   },
   "source": [
    "<!-- END QUESTION -->\n",
    "\n",
    "**Question 2.2.** Write a function `calculate_tvd` that takes in the observed distribution (`obs_dist`) and expected distribution under the null hypothesis (`null_dist`) and calculates the total variation distance. Use this function to set `observed_tvd` to be equal to the observed test statistic. \n"
   ]
  },
  {
   "cell_type": "code",
   "execution_count": null,
   "id": "dc795b98",
   "metadata": {
    "tags": []
   },
   "outputs": [],
   "source": [
    "null_distribution = np.ones(6) * (1/6)\n",
    "\n",
    "def calculate_tvd(obs_dist, null_dist):\n",
    "    ...\n",
    "    \n",
    "observed_tvd = ...\n",
    "observed_tvd"
   ]
  },
  {
   "cell_type": "code",
   "execution_count": null,
   "id": "11eb1f7d",
   "metadata": {
    "deletable": false,
    "editable": false
   },
   "outputs": [],
   "source": [
    "grader.check(\"q2_2\")"
   ]
  },
  {
   "cell_type": "markdown",
   "id": "c148f2b0",
   "metadata": {
    "deletable": false,
    "editable": false
   },
   "source": [
    "<!-- BEGIN QUESTION -->\n",
    "\n",
    "**Question 2.3.** Create an array called `simulated_tvds` that contains 10,000 simulated values under the null hypothesis. Assume that the original sample consisted of 1,000 individuals. \n",
    "\n",
    "Then plot a density histogram of your simulated test statistics, as well as a red dot representing the observed value of the test statistic.  Include a title and label your x and y axes.\n"
   ]
  },
  {
   "cell_type": "code",
   "execution_count": null,
   "id": "52de6cb9",
   "metadata": {
    "tags": []
   },
   "outputs": [],
   "source": [
    "...\n",
    "# your code above this line"
   ]
  },
  {
   "cell_type": "code",
   "execution_count": null,
   "id": "3d164167",
   "metadata": {
    "deletable": false,
    "editable": false
   },
   "outputs": [],
   "source": [
    "grader.check(\"q2_3\")"
   ]
  },
  {
   "cell_type": "markdown",
   "id": "5cd7d082",
   "metadata": {
    "deletable": false,
    "editable": false
   },
   "source": [
    "<!-- END QUESTION -->\n",
    "\n",
    "**Question 2.4** Use your simulated statistics to calculate the empirical p-value of your test. Make sure that this number is consistent with what you observed in the histogram above.\n"
   ]
  },
  {
   "cell_type": "code",
   "execution_count": null,
   "id": "f29356e7",
   "metadata": {
    "tags": []
   },
   "outputs": [],
   "source": [
    "p_value_tvd = ...\n",
    "p_value_tvd"
   ]
  },
  {
   "cell_type": "code",
   "execution_count": null,
   "id": "8086f2e3",
   "metadata": {
    "deletable": false,
    "editable": false
   },
   "outputs": [],
   "source": [
    "grader.check(\"q2_4\")"
   ]
  },
  {
   "cell_type": "markdown",
   "id": "4c8baaae",
   "metadata": {
    "deletable": false,
    "editable": false
   },
   "source": [
    "<!-- BEGIN QUESTION -->\n",
    "\n",
    "**Question 2.5.** What can you conclude about how each factor contributes to the overall happiness score in the US? Explain your answer using the results of your hypothesis test. Assume a significance level (i.e. p-value cutoff) of 5%. \n"
   ]
  },
  {
   "cell_type": "markdown",
   "id": "c5ed650f",
   "metadata": {},
   "source": [
    "_Type your answer here, replacing this text._"
   ]
  },
  {
   "cell_type": "markdown",
   "id": "fbe2fdb7",
   "metadata": {
    "deletable": false,
    "editable": false
   },
   "source": [
    "<!-- END QUESTION -->\n",
    "\n",
    "<!-- BEGIN QUESTION -->\n",
    "\n",
    "<br>\n",
    "\n",
    "---\n",
    "\n",
    "## QUESTION 3:  A/B Tests\n",
    "\n",
    "Answer all 4 parts to this question in the same Markdown cell below.  \n",
    "\n",
    "\n",
    "**Question 3.1.**   When should you use an A/B test versus another kind of hypothesis test?\n",
    "\n",
    "**Question 3.2.**   Kevin, a museum curator, has recently been given specimens of caddisflies collected\n",
    "from various parts of Colorado. The scientists who collected the caddisflies\n",
    "think that caddisflies collected at higher altitudes tend to be bigger. They tell him that\n",
    "the average length of the 560 caddisflies collected at high elevation is 14mm, while the\n",
    "average length of the 450 caddisflies collected from a slightly lower elevation is 12mm.\n",
    "He’s not sure that this difference really matters, and thinks that this could just be the\n",
    "result of chance in sampling.\n",
    "\n",
    " - **Question 3.2.a**  What’s an appropriate null hypothesis that Kevin can simulate under?\n",
    "\n",
    "\n",
    " - **Question 3.2.b**  How could you test the null hypothesis in the A/B test from above? What assumption would you make to test the hypothesis, and how would you simulate under that assumption?\n",
    " \n",
    "\n",
    " - **Question 3.2.c**  What would be a useful test statistic for the A/B test? Remember that the direction of your test statistic should come from the initial setting."
   ]
  },
  {
   "cell_type": "markdown",
   "id": "5f9acc1e",
   "metadata": {},
   "source": [
    "_Type your answer here, replacing this text._"
   ]
  },
  {
   "cell_type": "markdown",
   "id": "2251b535",
   "metadata": {
    "deletable": false,
    "editable": false
   },
   "source": [
    "<!-- END QUESTION -->\n",
    "\n",
    "<br>\n",
    "\n",
    "---\n",
    "\n",
    "## Question 4: Deflategate\n",
    "\n",
    "On January 18, 2015, the Indianapolis Colts and the New England Patriots played the American Football Conference (AFC) championship game to determine which of those teams would play in the Super Bowl. After the game, there were allegations that the Patriots' footballs had not been inflated as much as the regulations required; they were softer. This could be an advantage, as softer balls might be easier to catch.\n",
    "\n",
    "For several weeks, the world of American football was consumed by accusations, denials, theories, and suspicions: the press labeled the topic Deflategate, after the Watergate political scandal of the 1970's. The National Football League (NFL) commissioned an independent analysis. In this example, we will perform our own analysis of the data.\n",
    "\n",
    "Pressure is often measured in pounds per square inch (psi). NFL rules stipulate that game balls must be inflated to have pressures in the range 12.5 psi and 13.5 psi. Each team plays with 12 balls. Teams have the responsibility of maintaining the pressure in their own footballs, but game officials inspect the balls. Before the start of the AFC game, all the Patriots' balls were at about 12.5 psi. Most of the Colts' balls were at about 13.0 psi. However, these pre-game data were not recorded.\n",
    "\n",
    "During the second quarter, the Colts intercepted a Patriots ball. On the sidelines, they measured the pressure of the ball and determined that it was below the 12.5 psi threshold. Promptly, they informed officials. \n",
    "\n",
    "At half-time, all the game balls were collected for inspection. Two officials, Clete Blakeman and Dyrol Prioleau, measured the pressure in each of the balls. \n",
    "\n",
    "Here are the data. Each row corresponds to one football. Pressure is measured in psi. The Patriots ball that had been intercepted by the Colts was not inspected at half-time. Nor were most of the Colts' balls – the officials simply ran out of time and had to relinquish the balls for the start of second half play."
   ]
  },
  {
   "cell_type": "code",
   "execution_count": null,
   "id": "e91886c3",
   "metadata": {},
   "outputs": [],
   "source": [
    "football = pd.read_csv('deflategate.csv')\n",
    "football"
   ]
  },
  {
   "cell_type": "markdown",
   "id": "56f29258",
   "metadata": {
    "deletable": false,
    "editable": false
   },
   "source": [
    "**Question 4.1.** For each of the 15 balls that were inspected, the two officials got different results. It is not uncommon that repeated measurements on the same object yield different results, especially when the measurements are performed by different people.\n",
    "\n",
    "Add a new column to the  `football` dataframe called `Combined` where the entries are the average of the two measurements made for each ball.   Then drop the columns `Blakeman` and `Prioleau` from the `football` table.   \n"
   ]
  },
  {
   "cell_type": "code",
   "execution_count": null,
   "id": "999ebc12",
   "metadata": {
    "tags": []
   },
   "outputs": [],
   "source": [
    "...\n",
    "# your code above this line\n",
    "\n",
    "football"
   ]
  },
  {
   "cell_type": "code",
   "execution_count": null,
   "id": "f218625c",
   "metadata": {
    "deletable": false,
    "editable": false
   },
   "outputs": [],
   "source": [
    "grader.check(\"q4_1\")"
   ]
  },
  {
   "cell_type": "markdown",
   "id": "9fb4f0ce",
   "metadata": {
    "deletable": false,
    "editable": false
   },
   "source": [
    "**Question 4.2.** At a glance, it seems apparent that the Patriots' footballs were at a lower pressure than the Colts' balls. Because some deflation is normal during the course of a game, the independent analysts decided to calculate the **drop in pressure** from the start of the game. Recall that the Patriots' balls had all started out at about 12.5 psi, and the Colts' balls at about 13.0 psi. \n",
    "\n",
    "Complete the cell below so that `avg_drop_for_colts` and `avg_drop_for_patriots` evaluates to average drops in pressure for the Colts and Patriots respectively.\n",
    "\n",
    "Hint: Start by creating a new column **PressureDrop** and assign it the drop in pressure for each ball compared to the pressure at the start of the game. "
   ]
  },
  {
   "cell_type": "code",
   "execution_count": null,
   "id": "790825a3",
   "metadata": {
    "tags": []
   },
   "outputs": [],
   "source": [
    "...\n",
    "# Your code above this line\n",
    "\n",
    "avg_drop_for_colts = ...\n",
    "avg_drop_for_patriots = ..."
   ]
  },
  {
   "cell_type": "code",
   "execution_count": null,
   "id": "450c14e5",
   "metadata": {
    "deletable": false,
    "editable": false
   },
   "outputs": [],
   "source": [
    "grader.check(\"q4_2\")"
   ]
  },
  {
   "cell_type": "markdown",
   "id": "ee190dcf",
   "metadata": {
    "deletable": false,
    "editable": false
   },
   "source": [
    "**Question 4.3.** \n",
    "The question now is why the Patriots' footballs had a larger drop in pressure, on average, than the Colts footballs. Could it be due to chance? \n",
    "\n",
    "How does chance come in here? Nothing was being selected at random. But we can make a chance model by hypothesizing that the 11 Patriots’ drops look like a random sample of 11 out of all the 15 drops, with the Colts’ drops being the remaining four.\n",
    "That’s a completely specified chance model under which we can simulate data. So that's our null hypothesis.\n",
    "\n",
    "\n",
    "Assign `alternative_statement_number` to the **number** next to the statement below that correctly describes the alternative hypothesis.  (For example, if you believe statement 1 is the correct alternative hypothesis, set `alternative_statement_number` = 1 in the code cell below).  Note that the check below just checks that your answer is in the correct form, it doesn't check if you have the correct answer (that will be done when you submit to Gradescope).\n",
    "\n",
    "\n",
    " 1. There is no difference in the population distributions of pressure drops between all of the Patriots' balls and the Colts' balls.  Any difference observed in the random sample of balls measured at halftime was due to random chance.    \n",
    "\n",
    " 2. The Patriots' pressure drops are too large, on average, to resemble a random sample drawn from all the drops. \n",
    " \n",
    " 3. The Patriots' pressure drops are too small, on average, to resemble a random sample drawn from all the drops.\n"
   ]
  },
  {
   "cell_type": "code",
   "execution_count": null,
   "id": "c67347df",
   "metadata": {
    "tags": []
   },
   "outputs": [],
   "source": [
    "alternative_statement_number = ..."
   ]
  },
  {
   "cell_type": "code",
   "execution_count": null,
   "id": "3c0e3287",
   "metadata": {
    "deletable": false,
    "editable": false
   },
   "outputs": [],
   "source": [
    "grader.check(\"q4_3\")"
   ]
  },
  {
   "cell_type": "markdown",
   "id": "08423ab9",
   "metadata": {
    "deletable": false,
    "editable": false
   },
   "source": [
    "**Question 4.4.** To test this hypothesis, let's follow our textbook's advice and choose a test statistic where the following statement is true: Large values of the test statistic favor the alternative hypothesis.\n",
    "\n",
    "The correct test statistic for these hypotheses is one of the three options below. Which one is it? Assign the appropriate number to the variable `correct_test_stat`. \n",
    "\n",
    "1. \"average pressure drop for Patriots - average pressure drop for Colts\" \n",
    "2. \"average pressure drop for Colts - average pressure drop for Patriots\" \n",
    "3. \"|average pressure drop for Patriots - average pressure drop for Colts|\" \n"
   ]
  },
  {
   "cell_type": "code",
   "execution_count": null,
   "id": "d1a8e34f",
   "metadata": {
    "tags": []
   },
   "outputs": [],
   "source": [
    "correct_test_stat = ...\n",
    "correct_test_stat"
   ]
  },
  {
   "cell_type": "code",
   "execution_count": null,
   "id": "b2948f35",
   "metadata": {
    "deletable": false,
    "editable": false
   },
   "outputs": [],
   "source": [
    "grader.check(\"q4_4\")"
   ]
  },
  {
   "cell_type": "markdown",
   "id": "10f79736",
   "metadata": {
    "deletable": false,
    "editable": false
   },
   "source": [
    "**Question 4.5.** Complete the cell below so that `observed_statistic_ab` evaluates to the observed value of the test statistic.  (The check below just checks that you have the correct format, not the correct actual value)."
   ]
  },
  {
   "cell_type": "code",
   "execution_count": null,
   "id": "f83f1bb0",
   "metadata": {
    "tags": []
   },
   "outputs": [],
   "source": [
    "observed_statistic_ab = ...\n",
    "\n",
    "observed_statistic_ab"
   ]
  },
  {
   "cell_type": "code",
   "execution_count": null,
   "id": "c8fbe4c4",
   "metadata": {
    "deletable": false,
    "editable": false
   },
   "outputs": [],
   "source": [
    "grader.check(\"q3_5\")"
   ]
  },
  {
   "cell_type": "markdown",
   "id": "4fc2dd69",
   "metadata": {
    "deletable": false,
    "editable": false
   },
   "source": [
    "**Question 4.6.**  To simulate our null hypothesis we will use a permutation test. Assign `permutation_test_reason` to the number corresponding to the reason why we use a permutation test in this situation.  Again, the built-in tests in this notebook only check if your answer is in the correct format.\n",
    "\n",
    "\n",
    "1. You can always use a permutation test, regardless of your null hypothesis. \n",
    "\n",
    "\n",
    "2. Under the null hypothesis then it shouldn't matter which footballs are labeled Patriots and which are labeled Colts. The distributions of the two sets of pressure drops would be the same. We can simulate this by randomly shuffling the team **labels** in the `football` table.\n",
    "\n",
    "\n",
    "3. Under the null hypothesis then it shouldn't matter which footballs are labeled Patriots and which are labeled Colts. The distributions of the two sets of pressure drops would be the same. We can simulate this by randomly shuffling the **rows** in the `football` table.\n",
    "\n"
   ]
  },
  {
   "cell_type": "code",
   "execution_count": null,
   "id": "6fb386fb",
   "metadata": {
    "tags": []
   },
   "outputs": [],
   "source": [
    "permutation_test_reason = ...\n"
   ]
  },
  {
   "cell_type": "code",
   "execution_count": null,
   "id": "cefdd321",
   "metadata": {
    "deletable": false,
    "editable": false
   },
   "outputs": [],
   "source": [
    "grader.check(\"q4_6\")"
   ]
  },
  {
   "cell_type": "markdown",
   "id": "c090fabf",
   "metadata": {
    "deletable": false,
    "editable": false
   },
   "source": [
    "**Question 4.7.** \n",
    "\n",
    "Create a new DataFrame `original_and_shuffled` that is a copy of the original `football` DataFrame, but that has an additional column **ShuffledLabel**  with shuffled Colts/Patriots labels.  \n",
    "\n",
    "*Note:* Check out [12.1](https://inferentialthinking.com/chapters/12/1/AB_Testing.html#predicting-the-statistic-under-the-null-hypothesis) for a refresher on random permutations.\n"
   ]
  },
  {
   "cell_type": "code",
   "execution_count": null,
   "id": "bee15649",
   "metadata": {
    "tags": []
   },
   "outputs": [],
   "source": [
    "original_and_shuffled = football.copy()\n",
    "\n",
    "...\n",
    "# Your code above this line\n",
    "\n",
    "original_and_shuffled"
   ]
  },
  {
   "cell_type": "code",
   "execution_count": null,
   "id": "4481d23c",
   "metadata": {
    "deletable": false,
    "editable": false
   },
   "outputs": [],
   "source": [
    "grader.check(\"q4_7\")"
   ]
  },
  {
   "cell_type": "markdown",
   "id": "f3e316ef",
   "metadata": {
    "deletable": false,
    "editable": false
   },
   "source": [
    "<!-- BEGIN QUESTION -->\n",
    "\n",
    "**Question 4.8.** \n",
    "\n",
    "In the first cell below:\n",
    "\n",
    " - Define a function `simulate_one_statistic` that takes no arguments and returns one simulated value of the test statistic.  Refer to the code you have previously written in this problem, as you might be able to re-use some of it. \n",
    "\n",
    "In the 2nd cell below:\n",
    "\n",
    " - Complete the code to simulate 10,000 values of the statistic and store it in the array `simulated_statistics_ab`.\n",
    "\n",
    " - Then draw a density histogram with the empirical distribution of the statistic \n",
    " \n",
    " - Include a red dot on your histogram at the value of `observed_statistic_ab`. \n",
    "\n",
    " - Include a title for your histogram and label the x and y-axes.\n",
    "\n"
   ]
  },
  {
   "cell_type": "code",
   "execution_count": null,
   "id": "46e26fbe",
   "metadata": {
    "tags": []
   },
   "outputs": [],
   "source": [
    "def simulate_one_statistic():\n",
    "...\n",
    "\n",
    "# Your code above this line\n",
    "\n",
    "\n",
    "simulate_one_statistic()\n",
    "\n"
   ]
  },
  {
   "cell_type": "code",
   "execution_count": null,
   "id": "273dc91b-b95f-4a11-aca5-f8d40819df5c",
   "metadata": {
    "tags": []
   },
   "outputs": [],
   "source": [
    "repetitions = 10000\n",
    "\n",
    "simulated_statistics_ab = ...\n",
    "\n",
    "...\n",
    "# your code for histogram and observed statistic above this line\n"
   ]
  },
  {
   "cell_type": "markdown",
   "id": "5f4a08f8",
   "metadata": {
    "deletable": false,
    "editable": false
   },
   "source": [
    "<!-- END QUESTION -->\n",
    "\n",
    "**Question 4.9.** Use the simulation to find an empirical approximation to the p-value. Assign `p_val` to the appropriate p-value from this simulation. \n",
    "\n",
    "*Note:* Assume that we use the 5% significance cutoff for the p-value.\n"
   ]
  },
  {
   "cell_type": "code",
   "execution_count": null,
   "id": "1f16f651",
   "metadata": {
    "tags": []
   },
   "outputs": [],
   "source": [
    "p_val = ...\n",
    "\n",
    "p_val"
   ]
  },
  {
   "cell_type": "code",
   "execution_count": null,
   "id": "2751f7f4",
   "metadata": {
    "deletable": false,
    "editable": false
   },
   "outputs": [],
   "source": [
    "grader.check(\"q4_9\")"
   ]
  },
  {
   "cell_type": "markdown",
   "id": "48ba08a1",
   "metadata": {
    "deletable": false,
    "editable": false
   },
   "source": [
    "<!-- BEGIN QUESTION -->\n",
    "\n",
    "**Question 4.10.**  What is the conclusion of your test? Explain what this means in the context of this particular problem.    Can we make any casual conclusions from this test?  Why or why not?"
   ]
  },
  {
   "cell_type": "markdown",
   "id": "4c51f16f",
   "metadata": {},
   "source": [
    "_Type your answer here, replacing this text._"
   ]
  },
  {
   "cell_type": "markdown",
   "id": "0e2ca334",
   "metadata": {
    "deletable": false,
    "editable": false
   },
   "source": [
    "<!-- END QUESTION -->\n",
    "\n",
    "In the actual case, the independent investigative team analyzed the data in several different ways, taking into account the laws of physics. The final report said,\n",
    "\n",
    "“The average pressure drop of the Patriots game balls exceeded the average pressure drop of the Colts balls by 0.45 to 1.02 psi, depending on various possible assumptions regarding the gauges used, and assuming an initial pressure of 12.5 psi for the Patriots balls and 13.0 for the Colts balls.”  (Investigative report commissioned by the NFL regarding the AFC Championship game on January 18, 2015)\n",
    "\n",
    "Our analysis shows an average pressure drop of about 0.73 psi, which is close to the center of the interval “0.45 to 1.02 psi” and therefore consistent with the official analysis.\n",
    "\n",
    "But the all-important question in the football world was about causation: the question was whether the excess drop of pressure in the Patriots’ footballs was deliberate. If you are curious about the answer given by the investigators, here is the full report:\n",
    "(https://www.wsj.com/public/resources/documents/Deflategate.pdf)\n"
   ]
  },
  {
   "cell_type": "markdown",
   "id": "169d7663",
   "metadata": {},
   "source": [
    "<br/><br/>\n",
    "<hr style=\"border: 5px solid #003262;\" />\n",
    "<hr style=\"border: 1px solid #fdb515;\" />\n",
    "\n",
    "## Congratulations! You have finished Homework 8!"
   ]
  },
  {
   "cell_type": "markdown",
   "id": "cc31acf9",
   "metadata": {},
   "source": [
    "If you discussed this assignment with any other students in the class (in a manner that is acceptable as described by the Collaboration policy above) please **include their names** here:\n",
    "\n",
    "**Collaborators**: *list collaborators here*"
   ]
  },
  {
   "cell_type": "markdown",
   "id": "46739932",
   "metadata": {},
   "source": [
    "### Submission Instructions\n",
    "\n",
    "Before proceeding any further, **save this notebook.**\n",
    "\n",
    "After running the `grader.export()` cell provided below, **2 files will be created**: a zip file and pdf file.  You can download them using the links provided below OR by finding them in the same folder where this juptyer notebook resides in your JuptyerHub.\n",
    "\n",
    "To receive credit on this assignment, **you must submit BOTH of these files\n",
    "to their respective Gradescope portals:** \n",
    "\n",
    "* **Homework 8 Autograded**: Submit the zip file that is output by the `grader.export()` cell below to the HW8 Autograded assignment in Gradescope.\n",
    "\n",
    "* **Homework 8 Manually Graded**: Submit your hw08.PDF to the HW8 Manually Graded assignment in Gradescope.  **YOU MUST SELECT THE PAGES CORRESPONDING TO EACH QUESTION WHEN YOU UPLOAD TO GRADESCOPE.  IF NOT, YOU WILL LOSE POINTS**   Also, **check** that all of your plots **and** all lines of your code are showing up in your PDF before submitting.  If not, you will not receive credit for your plots/code.  \n",
    "\n",
    "\n",
    "**You are responsible for ensuring your submission follows our requirements. We will not be granting regrade requests nor extensions to submissions that don't follow instructions.** If you encounter any difficulties with submission, please don't hesitate to reach out to staff prior to the deadline."
   ]
  },
  {
   "cell_type": "code",
   "execution_count": null,
   "id": "66c137be",
   "metadata": {},
   "outputs": [],
   "source": []
  },
  {
   "cell_type": "markdown",
   "id": "a1ce306c",
   "metadata": {
    "deletable": false,
    "editable": false
   },
   "source": [
    "## Submission\n",
    "\n",
    "Make sure you have run all cells in your notebook in order before running the cell below, so that all images/graphs appear in the output. The cell below will generate a zip file for you to submit. **Please save before exporting!**\n",
    "\n",
    "AFTER running the cell below, click on <a href='hw08.pdf' download>this link to download the PDF </a> to upload to Gradescope.  There will be a separate link that appears after running the cell below with a link to download the zip file to upload to Gradescope."
   ]
  },
  {
   "cell_type": "code",
   "execution_count": null,
   "id": "46689b48",
   "metadata": {
    "deletable": false,
    "editable": false
   },
   "outputs": [],
   "source": [
    "# Save your notebook first, then run this cell to export your submission.\n",
    "grader.export(run_tests=True)"
   ]
  },
  {
   "cell_type": "markdown",
   "id": "85e30299",
   "metadata": {},
   "source": [
    " "
   ]
  }
 ],
 "metadata": {
  "kernelspec": {
   "display_name": "Python 3 (ipykernel)",
   "language": "python",
   "name": "python3"
  },
  "language_info": {
   "codemirror_mode": {
    "name": "ipython",
    "version": 3
   },
   "file_extension": ".py",
   "mimetype": "text/x-python",
   "name": "python",
   "nbconvert_exporter": "python",
   "pygments_lexer": "ipython3",
   "version": "3.10.8"
  },
  "otter": {
   "OK_FORMAT": true,
   "tests": {
    "q2_2": {
     "name": "q2_2",
     "points": [
      2,
      2
     ],
     "suites": [
      {
       "cases": [
        {
         "code": ">>> # TEST\n>>> assert (type(observed_tvd) in set([float, np.float32, np.float64]))\n",
         "hidden": false,
         "locked": false
        },
        {
         "code": ">>> # TEST\n>>> assert get_hash(round(observed_tvd, 4)) == '5b9a8f5cf4912f44a3b12f1f0ce981cd'\n",
         "hidden": false,
         "locked": false
        }
       ],
       "scored": true,
       "setup": "",
       "teardown": "",
       "type": "doctest"
      }
     ]
    },
    "q2_3": {
     "name": "q2_3",
     "points": 0,
     "suites": [
      {
       "cases": [
        {
         "code": ">>> # TEST\n>>> assert (len(simulated_tvds) == 10000)\n",
         "hidden": false,
         "locked": false
        },
        {
         "code": ">>> # TEST\n>>> assert (all(simulated_tvds >= 0))\n",
         "hidden": false,
         "locked": false
        },
        {
         "code": ">>> # TEST\n>>> # Make sure that your test statistic is not always the same value \n>>> assert (len(np.unique(simulated_tvds)) != 1)\n",
         "hidden": false,
         "locked": false
        },
        {
         "code": ">>> # TEST\n>>> # Make sure you're simulating under the null hypothesis\n>>> assert (np.mean(simulated_tvds) < 0.1)\n",
         "hidden": false,
         "locked": false
        }
       ],
       "scored": true,
       "setup": "",
       "teardown": "",
       "type": "doctest"
      }
     ]
    },
    "q2_4": {
     "name": "q2_4",
     "points": [
      0
     ],
     "suites": [
      {
       "cases": [
        {
         "code": ">>> # TEST\n>>> assert 0 <= p_value_tvd <= 1\n",
         "hidden": false,
         "locked": false
        }
       ],
       "scored": true,
       "setup": "",
       "teardown": "",
       "type": "doctest"
      }
     ]
    },
    "q3_5": {
     "name": "q3_5",
     "points": [
      0
     ],
     "suites": [
      {
       "cases": [
        {
         "code": ">>> # TEST\n>>> assert (observed_statistic_ab >= 0)\n",
         "hidden": false,
         "locked": false
        }
       ],
       "scored": true,
       "setup": "",
       "teardown": "",
       "type": "doctest"
      }
     ]
    },
    "q4_1": {
     "name": "q4_1",
     "points": [
      1,
      1
     ],
     "suites": [
      {
       "cases": [
        {
         "code": ">>> # TEST\n>>> assert get_hash(football.size) == '34173cb38f07f89ddbebc2ac9128303f'\n",
         "hidden": false,
         "locked": false
        },
        {
         "code": ">>> # TEST\n>>> assert get_hash(round(football[\"Combined\"].mean(), 4)) == '3febcf8143e39bae52a9af09bb435c66'\n",
         "hidden": false,
         "locked": false
        }
       ],
       "scored": true,
       "setup": "",
       "teardown": "",
       "type": "doctest"
      }
     ]
    },
    "q4_2": {
     "name": "q4_2",
     "points": [
      0,
      2
     ],
     "suites": [
      {
       "cases": [
        {
         "code": ">>> # TEST\n>>> assert get_hash(round(avg_drop_for_colts, 4)) == '72e740c49ca1bcf70fc5e89e012a09e8'\n",
         "hidden": false,
         "locked": false
        },
        {
         "code": ">>> # TEST\n>>> assert get_hash(round(avg_drop_for_patriots, 4)) == '49883c406681181ba6024b49ecd0cc3b'\n",
         "hidden": false,
         "locked": false
        }
       ],
       "scored": true,
       "setup": "",
       "teardown": "",
       "type": "doctest"
      }
     ]
    },
    "q4_3": {
     "name": "q4_3",
     "points": [
      0
     ],
     "suites": [
      {
       "cases": [
        {
         "code": ">>> # TEST\n>>> assert any(alternative_statement_number == x for x in np.arange(1,5))\n",
         "hidden": false,
         "locked": false
        }
       ],
       "scored": true,
       "setup": "",
       "teardown": "",
       "type": "doctest"
      }
     ]
    },
    "q4_4": {
     "name": "q4_4",
     "points": [
      0,
      0
     ],
     "suites": [
      {
       "cases": [
        {
         "code": ">>> # TEST\n>>> assert (type(correct_test_stat) == int)\n",
         "hidden": false,
         "locked": false
        },
        {
         "code": ">>> # TEST\n>>> assert (any(correct_test_stat == x for x in np.arange(1,4)))\n",
         "hidden": false,
         "locked": false
        }
       ],
       "scored": true,
       "setup": "",
       "teardown": "",
       "type": "doctest"
      }
     ]
    },
    "q4_6": {
     "name": "q4_6",
     "points": [
      0,
      0
     ],
     "suites": [
      {
       "cases": [
        {
         "code": ">>> # TEST\n>>> assert type(permutation_test_reason) == int\n",
         "hidden": false,
         "locked": false
        },
        {
         "code": ">>> # TEST\n>>> assert any(permutation_test_reason == x for x in np.arange(1,4))\n",
         "hidden": false,
         "locked": false
        }
       ],
       "scored": true,
       "setup": "",
       "teardown": "",
       "type": "doctest"
      }
     ]
    },
    "q4_7": {
     "name": "q4_7",
     "points": [
      0,
      0,
      0
     ],
     "suites": [
      {
       "cases": [
        {
         "code": ">>> # TEST\n>>> assert (all(label in original_and_shuffled.columns for label in [\"Team\", \"PressureDrop\", \"ShuffledLabel\"]))\n",
         "hidden": false,
         "locked": false
        },
        {
         "code": ">>> # TEST\n>>> assert (len(original_and_shuffled) == 15)\n",
         "hidden": false,
         "locked": false
        },
        {
         "code": ">>> # TEST\n>>> assert (all(football[\"Team\"] == original_and_shuffled[\"Team\"]))\n",
         "hidden": false,
         "locked": false
        }
       ],
       "scored": true,
       "setup": "",
       "teardown": "",
       "type": "doctest"
      }
     ]
    },
    "q4_9": {
     "name": "q4_9",
     "points": [
      0,
      0
     ],
     "suites": [
      {
       "cases": [
        {
         "code": ">>> # TEST\n>>> assert (type(p_val) in set([float, np.float32, np.float64]))\n",
         "hidden": false,
         "locked": false
        },
        {
         "code": ">>> # TEST\n>>> assert (0 <= p_val <= 1)\n",
         "hidden": false,
         "locked": false
        }
       ],
       "scored": true,
       "setup": "",
       "teardown": "",
       "type": "doctest"
      }
     ]
    }
   }
  }
 },
 "nbformat": 4,
 "nbformat_minor": 5
}
