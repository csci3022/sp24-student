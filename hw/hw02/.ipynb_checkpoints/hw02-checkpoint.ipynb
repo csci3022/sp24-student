{
 "cells": [
  {
   "cell_type": "code",
   "execution_count": null,
   "id": "e7930ada",
   "metadata": {
    "deletable": false,
    "editable": false
   },
   "outputs": [],
   "source": [
    "# Initialize Otter\n",
    "import otter\n",
    "grader = otter.Notebook(\"hw02.ipynb\")"
   ]
  },
  {
   "cell_type": "markdown",
   "id": "a552e640",
   "metadata": {},
   "source": [
    "### Importing Libraries and Magic Commands\n",
    "\n",
    "In CSCI 3022, we will be using common Python libraries to help us process data. By convention, we import all libraries at the very top of the notebook. There are also a set of standard aliases that are used to shorten the library names. Below are some of the libraries that you may encounter throughout this assignment, along with their respective aliases."
   ]
  },
  {
   "cell_type": "code",
   "execution_count": null,
   "id": "721febdf",
   "metadata": {},
   "outputs": [],
   "source": [
    "import numpy as np\n",
    "import pandas as pd\n",
    "import matplotlib.pyplot as plt\n",
    "import plotly.express as px\n",
    "from csci3022_utils import *\n"
   ]
  },
  {
   "cell_type": "markdown",
   "id": "380021a2",
   "metadata": {},
   "source": [
    "<a id='verytop'></a>\n",
    "\n",
    "# Homework 2: Prerequisite Review Part 2 & Exploratory Data Analysis\n",
    "\n",
    "## Due Date: ~~Thursday, Jan 25th,~~ Friday, Jan 26th 11:59 PM on Gradescope\n",
    "\n",
    "\n",
    "### Detailed Submission Instructions Are Provided at the end of this Notebook\n",
    "\n",
    "\n",
    "\n",
    "\n",
    "\n",
    "\n",
    "\n",
    "## Collaboration Policy\n",
    "\n",
    "Data science is a collaborative activity.  However a key step in learning and retention is **creating solutions on your own.**  \n",
    "\n",
    "Below are examples of acceptable vs unacceptable use of resources and collaboration when doing HW assignments in CSCI 3022.\n",
    "\n",
    "\n",
    "The following would be some **examples of cheating** when working on HW assignments in CSCI 3022.  Any of these constitute a **violation of the course's collaboration policy and will result in an F in the course and a trip to the honor council**.   \n",
    "\n",
    "\n",
    " - Consulting web pages that may have a solution to a given homework problem or one similar is cheating.  However, consulting the class notes, and web pages that explain the material taught in class but do NOT show a solution to the homework problem in question are permissible to view.  Clearly, there's a fuzzy line here between a valid use of resources and cheating. To avoid this line, one should merely consult the course notes, the course textbook, and references that contain syntax and/or formulas.\n",
    " - Copying a segment of code or math solution of three lines or more from another student from a printout, handwritten copy, or by looking at their computer screen \n",
    " - Allowing another student to copy a segment of your code or math solution of three lines or more\n",
    " - Taking a copy of another student's work (or a solution found online) and then editing that copy\n",
    " - Reading someone else’s solution to a problem on the HW before writing your own.\n",
    " - Asking someone to write all or part of a program or solution for you.\n",
    " - Asking someone else for the code necessary to fix the error for you, other than for simple syntactical errors\n",
    " \n",
    "\n",
    "\n",
    "On the other hand, the following are some **examples of things which would NOT usually be\n",
    "considered to be cheating**:\n",
    " - Working on a HW problem on your own first and then discussing with a classmate a particular part in the problem solution where you are stuck.  After clarifying any questions you should then continue to write your solution independently.\n",
    " - Asking someone (or searching online) how a particular construct in the language works.\n",
    " - Asking someone (or searching online) how to formulate a particular construct in the language.\n",
    " - Asking someone for help in finding an error in your program.  \n",
    " - Asking someone why a particular construct does not work as you expected in a given program.\n",
    "   \n",
    "\n",
    "To test whether you are truly doing your own work and retaining what you've learned you should be able to easily reproduce from scratch and explain a HW solution that was your own when asked in office hours by a TA/Instructor or on a quiz/exam.   \n",
    "\n",
    "\n",
    "If you have difficulty in formulating the general solution to a problem on your own, or\n",
    "you have difficulty in translating that general solution into a program, it is advisable to see\n",
    "your instructor or teaching assistant rather than another student as this situation can easily\n",
    "lead to a, possibly inadvertent, cheating situation.\n",
    "\n",
    "We are here to help!  Visit HW Hours and/or post questions on Piazza!\n",
    "\n"
   ]
  },
  {
   "cell_type": "markdown",
   "id": "24b45ac0",
   "metadata": {},
   "source": [
    "## Grading\n",
    "Grading is broken down into autograded answers and manually graded answers. \n",
    "\n",
    "For autograded answers, the results of your code are compared to provided and/or hidden tests.\n",
    "\n",
    "For manually graded answers you must show and explain all steps.  Graders will evaluate how well you answered the question and/or fulfilled the requirements of the question.\n",
    "\n",
    "\n",
    "### Score breakdown\n",
    "\n",
    "\n",
    "\n",
    "Question | Points | Grading Type\n",
    "--- | --- | ---\n",
    "Question 1a | 3 | autograded\n",
    "Question 1b | 4 | manual\n",
    "Question 1c | 3 | manual\n",
    "Question 2a | 4 | manual\n",
    "Question 2b | 6 | manual\n",
    "Question 3a | 3 | auto\n",
    "Question 3b | 3 | manual\n",
    "Question 3c | 1 | autograded\n",
    "Question 3d| 4 | manual\n",
    "Question 4a | 8 | autograded and manual\n",
    "Question 4b | 4 | autograded\n",
    "Question 4c | 4 | autograded\n",
    "Question 4d | 3 | manual\n",
    "|Total | 50"
   ]
  },
  {
   "cell_type": "markdown",
   "id": "cc428220-4554-48fc-9039-eefdba21a16c",
   "metadata": {},
   "source": [
    "## Recommended Readings for this HW:\n",
    "\n",
    " - [Prerequisite Review Resources posted on the  Modules in Canvas](https://canvas.colorado.edu/courses/101142/pages/prerequisite-review-calculus-and-discrete-structures?module_item_id=5144193) \n",
    " - [Learning Data Science Chapter 6 - All (Subsetting, Aggregating, Joining, Transforming)](https://learningds.org/ch/06/pandas_intro.html)\n",
    " - [Learning Data Science Section 8.6 (Table Shape and Granularity)](https://learningds.org/ch/08/files_granularity.html#table-shape-and-granularity)\n",
    " \n"
   ]
  },
  {
   "cell_type": "markdown",
   "id": "51fc4ee3",
   "metadata": {},
   "source": [
    "<a id='top'></a>\n",
    "---\n",
    "**Shortcuts:**   [Question 2](#p2) | [Question 3](#p3) | [Question 4](#p4) | \n",
    "---"
   ]
  },
  {
   "cell_type": "markdown",
   "id": "c0eec3bc",
   "metadata": {},
   "source": [
    "<hr style=\"border: 5px solid #003262;\" />\n",
    "<hr style=\"border: 1px solid #fdb515;\" />\n",
    "\n"
   ]
  },
  {
   "cell_type": "markdown",
   "id": "2e476e17",
   "metadata": {},
   "source": [
    "\n",
    "## <span style='color:Red'>  Question 1: Prerequisites:  Discrete Structures Review ##\n",
    "\n",
    "You will need a solid understanding of the following probability concepts from Discrete Structures to succeed in this course. \n",
    "\n",
    "See the [Prerequisite Review Resources](https://canvas.colorado.edu/courses/101142/pages/prerequisite-review-calculus-and-discrete-structures?module_item_id=5144193) posted on Canvas if you need to review any of these key concepts.\n"
   ]
  },
  {
   "cell_type": "markdown",
   "id": "d4fa1cca",
   "metadata": {
    "deletable": false,
    "editable": false
   },
   "source": [
    "### Question 1a) ####  \n",
    "\n",
    "A coin is flipped 10 times.  How many possible outcomes have exactly 3 heads?  \n",
    "\n",
    "Use code to enter your answer in the cell below.  "
   ]
  },
  {
   "cell_type": "code",
   "execution_count": null,
   "id": "d1feefa4",
   "metadata": {
    "tags": []
   },
   "outputs": [],
   "source": [
    "q1a_answer = ...\n",
    "q1a_answer"
   ]
  },
  {
   "cell_type": "code",
   "execution_count": null,
   "id": "6232f220",
   "metadata": {
    "deletable": false,
    "editable": false
   },
   "outputs": [],
   "source": [
    "grader.check(\"q1a\")"
   ]
  },
  {
   "cell_type": "markdown",
   "id": "1ab22f02",
   "metadata": {
    "deletable": false,
    "editable": false
   },
   "source": [
    "<!-- BEGIN QUESTION -->\n",
    "\n",
    "#### Question 1b) ####  \n",
    "\n",
    "What is the probability that if I roll two 6-sided dice they add up to **at most** $9$? Use LaTeX (not code) in the cell directly below to show all of your steps and fully justify your answer.\n"
   ]
  },
  {
   "cell_type": "markdown",
   "id": "22862a47",
   "metadata": {},
   "source": [
    "_Type your answer here, replacing this text._"
   ]
  },
  {
   "cell_type": "markdown",
   "id": "a0d38f42-6d27-4efa-9a08-5e417d264935",
   "metadata": {
    "deletable": false,
    "editable": false
   },
   "source": [
    "<!-- END QUESTION -->\n",
    "\n",
    "1b Answer Check).  To check your final answer to 1b, enter the answer you came up with (just the number) in the cell below. Note that this is just a built-in public test so you can check your work and determine if you are on the right track.  To receive credit on this problem you must show all steps in part 1b above using LaTeX and fully justifying your answer using correct mathematical notation.  "
   ]
  },
  {
   "cell_type": "code",
   "execution_count": null,
   "id": "6009357b",
   "metadata": {
    "tags": []
   },
   "outputs": [],
   "source": [
    "q1b_answer = ..."
   ]
  },
  {
   "cell_type": "code",
   "execution_count": null,
   "id": "43ee17fa",
   "metadata": {
    "deletable": false,
    "editable": false
   },
   "outputs": [],
   "source": [
    "grader.check(\"q1bcheck\")"
   ]
  },
  {
   "cell_type": "markdown",
   "id": "5d9cc266",
   "metadata": {
    "deletable": false,
    "editable": false
   },
   "source": [
    "<!-- BEGIN QUESTION -->\n",
    "\n",
    "#### Question 1c) #### \n",
    "\n",
    "Suppose you uncharacteristically show up to a quiz completely unprepared.  The quiz has 10 questions, each with 5 multiple choice options. You decide to guess each answer in a completely random way.  What is the probability that you get exactly 3 questions correct?  Use Markdown and LaTeX (not code) in the cell directly below to show all of your steps and fully justify your answer. \n"
   ]
  },
  {
   "cell_type": "markdown",
   "id": "b0030834",
   "metadata": {},
   "source": [
    "_Type your answer here, replacing this text._"
   ]
  },
  {
   "cell_type": "markdown",
   "id": "1cad4881",
   "metadata": {
    "deletable": false,
    "editable": false
   },
   "source": [
    "<!-- END QUESTION -->\n",
    "\n",
    "1c Final Answer Check).  To check your final answer to 1c, enter the final answer you came up with in the cell below. Do not round your answer. Note that this is just a built-in public test so you can check your work and determine if you are on the right track.  To receive credit on this problem you must show all steps in part 1c above using LaTeX and fully justifying your answer using correct mathematical notation.  "
   ]
  },
  {
   "cell_type": "code",
   "execution_count": null,
   "id": "e60c132f",
   "metadata": {
    "tags": []
   },
   "outputs": [],
   "source": [
    "q1c_answer = ..."
   ]
  },
  {
   "cell_type": "code",
   "execution_count": null,
   "id": "147122e0",
   "metadata": {
    "deletable": false,
    "editable": false
   },
   "outputs": [],
   "source": [
    "grader.check(\"q1ccheck\")"
   ]
  },
  {
   "cell_type": "markdown",
   "id": "151d4cdc",
   "metadata": {},
   "source": [
    "[Back to top](#top)\n",
    "\n",
    "<a id='p2'></a>\n",
    "\n",
    "## <span style='color:Red'>  Question 2: Prerequisites: Calculus Review ##\n",
    "\n",
    "You will need a solid understanding of the following concepts from Calculus 1 and 2 to succeed in this course. See the [Prerequisite Review Resources](https://canvas.colorado.edu/courses/101142/pages/prerequisite-review-calculus-and-discrete-structures?module_item_id=5144193) posted on Canvas if you need to review any of these key concepts.\n",
    "\n",
    "\n",
    "### Preliminary: Sums ###\n",
    "\n",
    "Here's a recap of some basic algebra written in sigma notation. The facts are all just applications of the ordinary associative and distributive properties of addition and multiplication, written compactly and without the possibly ambiguous \"...\". But if you are ever unsure of whether you're working correctly with a sum, you can always try writing $\\sum_{i=1}^n a_i$ as $a_1 + a_2 + \\cdots + a_n$ and see if that helps.\n",
    "\n",
    "- You can use any reasonable notation for the index over which you are summing, just as in Python you can use any reasonable name in `for name in list`. Thus $\\sum_{i=1}^n a_i = \\sum_{k=1}^n a_k$.\n",
    "- $\\sum_{i=1}^n (a_i + b_i) = \\sum_{i=1}^n a_i + \\sum_{i=1}^n b_i$\n",
    "- $\\sum_{i=1}^n d = nd$\n",
    "- $\\sum_{i=1}^n (ca_i + d) = c\\sum_{i=1}^n a_i + nd$\n"
   ]
  },
  {
   "cell_type": "markdown",
   "id": "0b918cef",
   "metadata": {
    "deletable": false,
    "editable": false
   },
   "source": [
    "<!-- BEGIN QUESTION -->\n",
    "\n",
    "### Question 2a) #### \n",
    "\n",
    "We commonly use sigma notation to compactly write the definition of the arithmetic mean (commonly known as the average):\n",
    "\n",
    "$$\\bar{x} = \\frac{1}{n}\\left(x_1+x_2+ ... + x_n \\right) = \\frac{1}{n}\\sum_{i=1}^n x_i$$\n",
    "\n",
    "\n",
    "\n",
    "The $i$th *deviation from average* is the difference $x_i - \\bar{x}$. Prove that the sum of all these deviations is 0 that is, prove that $\\sum_{i=1}^n (x_i - \\bar{x}) = 0$ (write your full solution in the box directly below showing all steps and using LaTeX).\n"
   ]
  },
  {
   "cell_type": "markdown",
   "id": "0d4d1bc8",
   "metadata": {},
   "source": [
    "_Type your answer here, replacing this text._"
   ]
  },
  {
   "cell_type": "markdown",
   "id": "06fe4dcc",
   "metadata": {
    "deletable": false,
    "editable": false
   },
   "source": [
    "<!-- END QUESTION -->\n",
    "\n",
    "<!-- BEGIN QUESTION -->\n",
    "\n",
    "### Question 2b) ####  \n",
    "\n",
    "Let $x_1, x_2, \\ldots, x_n$ be a list of numbers. You can think of each index $i$ as the label of a household, and the entry $x_i$ as the annual income of Household $i$. \n",
    "\n",
    "Consider the function  $$f(c) = \\frac{1}{n} \\sum_{i=1}^n (x_i-c)^2$$\n",
    "\n",
    "\n",
    "In this scenario, suppose that our data points $x_1, x_2, \\ldots, x_n$ are fixed and that $c$ is the only variable.\n",
    "\n",
    "Using calculus, determine the value of $c$ that minimizes $f(c)$.  You must use calculus to justify that this is indeed a minimum, and not a maximum.\n"
   ]
  },
  {
   "cell_type": "markdown",
   "id": "2c724987",
   "metadata": {},
   "source": [
    "_Type your answer here, replacing this text._"
   ]
  },
  {
   "cell_type": "markdown",
   "id": "8721ade4",
   "metadata": {
    "deletable": false,
    "editable": false
   },
   "source": [
    "<!-- END QUESTION -->\n",
    "\n",
    "[Back to top](#top)\n",
    "\n",
    "<a id='p3'></a>\n",
    "\n",
    "## <span style='color:Red'>  Question 3).  Applying Those Prereqs:  A Maximum Likelihood Estimate ##"
   ]
  },
  {
   "cell_type": "markdown",
   "id": "62bc076a",
   "metadata": {
    "deletable": false,
    "editable": false
   },
   "source": [
    "In this problem we're going to apply your calculus and discrete math prerequisite knowledge to introduce a data science concept called a maximum likelihood estimate.\n",
    "\n",
    "Data scientists use coin tossing as a visual image for sampling at random with replacement from a binary population.\n",
    "\n",
    "### Question 3a) ####\n",
    "A coin that lands heads with chance 0.7 is tossed six times. What is the chance of the sequence HHHTHT? Assign your answer to the variable `p_HHHTHT`."
   ]
  },
  {
   "cell_type": "code",
   "execution_count": null,
   "id": "18663714",
   "metadata": {
    "tags": []
   },
   "outputs": [],
   "source": [
    "p_HHHTHT = ...\n",
    "p_HHHTHT"
   ]
  },
  {
   "cell_type": "code",
   "execution_count": null,
   "id": "710378d8",
   "metadata": {
    "deletable": false,
    "editable": false
   },
   "outputs": [],
   "source": [
    "grader.check(\"3a\")"
   ]
  },
  {
   "cell_type": "markdown",
   "id": "6405e77f",
   "metadata": {},
   "source": [
    "### Question 3b) ####\n",
    "I have a coin that lands heads with an unknown probability $p$. \n",
    "\n",
    "Suppose I toss it 10 times and get the sequence TTTHTHHTTH.\n",
    "\n",
    "If you toss this coin 10 times, the chance that you get the sequence above is a function of $p$. That function is called the *likelihood* of the sequence TTTHTHHTTH, so we will call it $L(p)$.\n",
    "\n"
   ]
  },
  {
   "cell_type": "markdown",
   "id": "9387df81",
   "metadata": {
    "deletable": false,
    "editable": false
   },
   "source": [
    "<!-- BEGIN QUESTION -->\n",
    "\n",
    "What is $L(p)$ (i.e. the likelihood) for the sequence TTTHTHHTTH?\n",
    "\n",
    "Enter your answer below by setting the `likelihood` variable equal to the correct function.\n",
    "\n",
    "(For example `likelihood = sin(p)+2p`, althought that is definitely an incorrect answer!)\n",
    "\n",
    "Then run the code below to plot the likelihood function.\n",
    "\n"
   ]
  },
  {
   "cell_type": "code",
   "execution_count": null,
   "id": "cdcec98f",
   "metadata": {
    "tags": []
   },
   "outputs": [],
   "source": [
    "#At the top of the notebook we already imported a useful plotting module, matplotlib with alias plt\n",
    "\n",
    "p = np.linspace(0, 1, 100) \n",
    "#This creates an array of 100 p-values equally spaced between 0 and 1\n",
    "\n",
    "likelihood = ...\n",
    "#Define the likelihood function above\n",
    "\n",
    "plt.plot(p, likelihood, lw=2, color='darkblue') \n",
    "#This plots the likelihood function  \n",
    "\n",
    "plt.xlabel('$p$')\n",
    "#This labels the x axis\n",
    "\n",
    "plt.ylabel('$L(p)$')\n",
    "#This labels the y-axis\n",
    "\n",
    "plt.title('Likelihood of TTTHTHHTTH');\n",
    "#This titles the plot"
   ]
  },
  {
   "cell_type": "markdown",
   "id": "75cb7c2f",
   "metadata": {
    "deletable": false,
    "editable": false
   },
   "source": [
    "<!-- END QUESTION -->\n",
    "\n",
    "### Question 3c) ####\n",
    "\n",
    "The value $\\hat{p}$ at which the likelihood function attains its maximum is called the *maximum likelihood estimate* (MLE) of $p$. Among all values of $p$, it is the one that makes the observed data most likely.\n",
    "\n",
    "Using only your plot above, what is the value of $\\hat{p}$?   \n"
   ]
  },
  {
   "cell_type": "code",
   "execution_count": null,
   "id": "a3b88584",
   "metadata": {
    "tags": []
   },
   "outputs": [],
   "source": [
    "p_hat = ..."
   ]
  },
  {
   "cell_type": "code",
   "execution_count": null,
   "id": "d01db96b",
   "metadata": {
    "deletable": false,
    "editable": false
   },
   "outputs": [],
   "source": [
    "grader.check(\"3c\")"
   ]
  },
  {
   "cell_type": "markdown",
   "id": "d9516a5d",
   "metadata": {
    "deletable": false,
    "editable": false
   },
   "source": [
    "<!-- BEGIN QUESTION -->\n",
    "\n",
    "### Question 3d) ####\n",
    "\n",
    "Notice the value you found graphically for $\\hat{p}$ above also intuitively makes sense because it is also the observed proportion of heads in the given sequence TTTHTHHTTH.\n",
    "\n",
    "\n",
    "Let's prove what you observed graphically above.  That is, let's use calculus to find $\\hat{p}$.  \n",
    "\n",
    "But **wait before you start trying to find the value $p$ where $L'(p)=0$ (trust us, the algebra is not pretty...)**\n",
    "\n",
    "USEFUL TIP: \n",
    "The value $\\hat{p}$ at which the function $L(p)$ attains its maximum is the same as the value at which the function $\\ln(L(p))$ attains its maximum. \n",
    "\n",
    "This tip is hugely important in data science because many probabilities are products and the natural log function `ln` function turns products into sums.  It's **much simpler to take derivatives of a sum** than a product.\n",
    "\n",
    "\n",
    "Thus, to find the value $p$ where $L'(p)=0$: \n",
    " - Take the natural log `ln` of L(p)\n",
    " - Use properties of logs to rewrite products in `ln(L(p))` as sums\n",
    " - Take the derivative of this rewritten version of `ln(L(p))`\n",
    " - Solve `ln(L(p))=0` for p\n",
    " - You should get the same answer that you found graphically above.\n",
    "\n",
    "You don't have to check that the value you've found produces a max and not a min – we'll spare you that step.\n",
    "\n",
    "Show all steps in the cell below using Markdown and LaTeX\n",
    "\n",
    "\n",
    "\n"
   ]
  },
  {
   "cell_type": "markdown",
   "id": "27cf9e8f",
   "metadata": {},
   "source": [
    "_Type your answer here, replacing this text._"
   ]
  },
  {
   "cell_type": "markdown",
   "id": "8c6aeac6",
   "metadata": {
    "deletable": false,
    "editable": false,
    "tags": []
   },
   "source": [
    "<!-- END QUESTION -->\n",
    "\n",
    "[Back to top](#top)\n",
    "\n",
    "<a id='p4'></a>\n",
    "\n",
    "## <span style='color:Red'>  QUESTION 4: Evidence for Money Ball\n",
    "\n",
    "In the book [MoneyBall](https://en.wikipedia.org/wiki/Moneyball), Michael Lewis documented the introduction of statistics and data science in selecting players for the Oakland A's. in this problem, we're going to use two datasets from the [Sean Lahman's Baseball Database](http://seanlahman.com/) which contains the \"complete batting and pitching statistics from 1871 to 2022, plus fielding statistics, standings, team stats, managerial records, post-season data, and more.\"   \n",
    "\n",
    "For more details about this data, see documentation.txt in the `data` folder.  \n",
    "\n",
    "\n"
   ]
  },
  {
   "cell_type": "markdown",
   "id": "aca0f24f",
   "metadata": {},
   "source": [
    "## Exploratory Data Analysis\n",
    "\n",
    "Throughout this question you will be asked to explore the dataset.  \n",
    "You will need familiarity with all the methods and attributes introduced in  Chapter 6 of the assigned reading (and Lessons 2 and 3 of Lecture):  [Learning Data Science Chapter 6 - All (Subsetting, Aggregating, Joining, Transforming)](https://learningds.org/ch/06/pandas_intro.html).  \n",
    "\n",
    "There is frequently more than one way to answer question in Pandas, so we encourage you to dive in and play around with different approaches.  Unless otherwise indicated, you are welcome to use whatever methods/attributes/approach that you choose."
   ]
  },
  {
   "cell_type": "markdown",
   "id": "94497ea4",
   "metadata": {},
   "source": [
    "There are two .csv files in the `data` folder of this HW assignment:  `teams.csv` and `salaries.csv`\n",
    "\n",
    "Import the `Teams.csv` data into a DataFrame called `teams_df` and take a look at the data. \n",
    "\n",
    "Import the `Salaries.csv` data into a DataFrame called `salaries_df` and take a look at the data.\n"
   ]
  },
  {
   "cell_type": "code",
   "execution_count": null,
   "id": "94c346e8",
   "metadata": {},
   "outputs": [],
   "source": [
    "teams_df= ...\n",
    "teams_df"
   ]
  },
  {
   "cell_type": "code",
   "execution_count": null,
   "id": "78de2f79",
   "metadata": {},
   "outputs": [],
   "source": [
    "salaries_df= ...\n",
    "salaries_df"
   ]
  },
  {
   "cell_type": "markdown",
   "id": "10cd45be",
   "metadata": {
    "deletable": false,
    "editable": false
   },
   "source": [
    "<!-- BEGIN QUESTION -->\n",
    "\n",
    "### Question 4a). EDA:  Structure, Granularity and Faithfulness\n",
    "\n",
    "Examine the structure, granularity and faithfulness of the datasets.   (Hint: The common utility functions we covered in lecture will be useful here).  \n",
    "\n",
    "Then answer the following questions:\n",
    "\n",
    " - i).  What does the column `G` represent in the teams dataset?  (For a description of the columns, see the documentation in the `data` folder).  \n",
    "\n",
    " - ii).  What is the granularity of the `teams.csv` file?  \n",
    "\n",
    " - iii).  What is the granularity of the `salary.csv` file?\n",
    " \n",
    " - iv).  How many rows and columns are in the teams dataset?    Assign your answer to the variables `team_rows` and `team_col` below.  \n",
    "\n",
    " - v).  How many rows and columns are in the salary dataset? Assign your answer to the variables `salary_rows` and `salary_col` below.\n",
    "\n",
    " - vi).  How many entries in the `teams.csv` file are missing Attendance Data?  Assign your answer to the variable `missing_attendance` below."
   ]
  },
  {
   "cell_type": "markdown",
   "id": "eb888340-fe11-4098-b545-4efc968553eb",
   "metadata": {},
   "source": [
    "### Answer Cell for Questions 4a(i)(ii)(iii) \n",
    "In this cell, answer questions 4a(i) - (iii) using Markdown (not code).  \n",
    "\n",
    "**4a(i) Answer:**\n",
    "\n",
    "**4a(ii) Answer**:\n",
    "\n",
    "**4a(iii) Answer**:\n",
    "\n",
    "In the code cells below justify your answers to part (ii) and (iii) and then answer parts iv through vi"
   ]
  },
  {
   "cell_type": "code",
   "execution_count": null,
   "id": "71fe30e7",
   "metadata": {
    "tags": []
   },
   "outputs": [],
   "source": [
    "...\n",
    "\n",
    "# Show work in this cell justifying your answer to part 4a(ii) (hint: either use .value_counts() or .groupby)"
   ]
  },
  {
   "cell_type": "code",
   "execution_count": null,
   "id": "8c221397",
   "metadata": {
    "tags": []
   },
   "outputs": [],
   "source": [
    "...\n",
    "\n",
    "# Show work in this cell justifying your answer to part 4a(iii) (hint: either use .value_counts() or .groupby)"
   ]
  },
  {
   "cell_type": "code",
   "execution_count": null,
   "id": "4b04c04e-a63d-42fd-96a6-6ebe7ac2e5ea",
   "metadata": {
    "tags": []
   },
   "outputs": [],
   "source": [
    "# Solution Cell for 4a(iv) and 4a(v)\n",
    "#Use code to find the number of rows and columns in the teams data.  Do not enter any values by hand.\n",
    "\n",
    "team_rows= ...\n",
    "\n",
    "team_col = ...\n",
    "\n",
    "salary_rows = ...\n",
    "\n",
    "salary_col = ...\n",
    "\n"
   ]
  },
  {
   "cell_type": "code",
   "execution_count": null,
   "id": "5650c246",
   "metadata": {
    "tags": []
   },
   "outputs": [],
   "source": [
    "# Solution Cell for 4a(vi)\n",
    "# Use code to find the number of rows in the Teams data that are missing attendance data\n",
    "\n",
    "missing_attendance = ...\n"
   ]
  },
  {
   "cell_type": "code",
   "execution_count": null,
   "id": "cd45268a",
   "metadata": {
    "deletable": false,
    "editable": false
   },
   "outputs": [],
   "source": [
    "grader.check(\"q4a\")"
   ]
  },
  {
   "cell_type": "markdown",
   "id": "fdf4ed5d",
   "metadata": {
    "deletable": false,
    "editable": false
   },
   "source": [
    "<!-- END QUESTION -->\n",
    "\n",
    "### Question 4b) EDA:  Examining Scope and Temporality of the Data\n",
    " Use code to explore the datasets and answer the questions below:\n",
    " \n",
    " i).  How many unique teams are represented in the `teams_df` DataFrame?  Write code to calculate this and assign the answer to the variable `unique_teams`   \n",
    " \n",
    " ii). How many unique teams are represented in the `salaries_df` DataFrame? Write code to calculate this and assign the answer to `unique_teams_salary`\n",
    " \n",
    " iii).  What years does the `teams_df` data span?  \n",
    " Write code to calculate this and assign the answers to `teams_startyear` and `teams_endyear`\n",
    "\n",
    " \n",
    " iv).  What years does the `salaries_df` data span?   \n",
    " Write code to calculate this and assign the answers to `salaries_startyear` and `salaries_endyear`\n",
    " "
   ]
  },
  {
   "cell_type": "code",
   "execution_count": null,
   "id": "5b633b72",
   "metadata": {
    "tags": []
   },
   "outputs": [],
   "source": [
    "unique_teams = ...\n",
    "\n",
    "#print out result\n",
    "unique_teams\n"
   ]
  },
  {
   "cell_type": "code",
   "execution_count": null,
   "id": "157fc1a2",
   "metadata": {
    "tags": []
   },
   "outputs": [],
   "source": [
    "unique_teams_salary= ...\n",
    "\n",
    "#print out result\n",
    "unique_teams_salary"
   ]
  },
  {
   "cell_type": "code",
   "execution_count": null,
   "id": "211f804e",
   "metadata": {
    "tags": []
   },
   "outputs": [],
   "source": [
    "teams_startyear = ...\n",
    "\n",
    "teams_endyear = ...\n",
    "\n",
    "#print out result\n",
    "[teams_startyear, teams_endyear]"
   ]
  },
  {
   "cell_type": "code",
   "execution_count": null,
   "id": "26331603-0d3b-4af6-bb27-56db0499cd78",
   "metadata": {
    "tags": []
   },
   "outputs": [],
   "source": [
    "salaries_startyear = ...\n",
    "\n",
    "salaries_endyear = ...\n",
    "\n",
    "#print out result\n",
    "[salaries_startyear, salaries_endyear]"
   ]
  },
  {
   "cell_type": "code",
   "execution_count": null,
   "id": "2e84107f",
   "metadata": {
    "deletable": false,
    "editable": false
   },
   "outputs": [],
   "source": [
    "grader.check(\"q4b\")"
   ]
  },
  {
   "cell_type": "markdown",
   "id": "d324df29",
   "metadata": {
    "deletable": false,
    "editable": false
   },
   "source": [
    "### Question 4c: \n",
    "\n",
    "If you haven't already, **read the assigned textbook readings** [on Filtering](https://learningds.org/ch/06/pandas_subsetting.html#filtering-rows)  [on Extracting Data](https://learningds.org/ch/06/pandas_subsetting.html) and [on Transforming Data](https://learningds.org/ch/06/pandas_transforming.html)\n",
    "\n",
    " - i ). For the data science approach used by the Oakland A's team in 2002, they used historical baseball data starting in 1998.    Filter the `teams_df` to create a new dataframe `teams_df_moneyball` with index `teamID` and columns `yearID`, `name`, `G`, `W`.  The new dataframe should only include records where the year is greater than or equal to 1998.\n",
    " \n",
    " - ii).  Add a new column called `winFrac` to the dataframe `teams_df_moneyball` that calculates the number of Wins divided by the number of Games for a given team in a given year, **rounded to the nearest hundredth**.  (Hint: Don't use any for loops).  \n",
    "\n",
    "\n",
    " - iii).  Use an appropriate extraction operator to determine the Oakland A's (\"OAK\") fraction of wins in the year 1998 (i.e. write code below  that selects this value from the `teams_df_moneyball` table) and assign it to the variable `winFrac_OAK_98`.   \n",
    "  \n",
    " \n"
   ]
  },
  {
   "cell_type": "code",
   "execution_count": null,
   "id": "141faa0c",
   "metadata": {
    "tags": []
   },
   "outputs": [],
   "source": [
    "# Create teams_df_moneyball dataframe\n",
    "\n",
    "\n",
    "teams_df_moneyball = ...\n",
    "\n"
   ]
  },
  {
   "cell_type": "code",
   "execution_count": null,
   "id": "71601c69-830d-4227-bde0-271f678d1c26",
   "metadata": {
    "tags": []
   },
   "outputs": [],
   "source": [
    "# Add column called winFrac to the dataframe\n",
    "\n",
    "\n",
    "...\n",
    "\n",
    "\n",
    "\n",
    "# Print out resulting DataFrame\n",
    "teams_df_moneyball.head()\n"
   ]
  },
  {
   "cell_type": "code",
   "execution_count": null,
   "id": "8a30b84a-3495-430a-9a99-c6babfb8d016",
   "metadata": {
    "tags": []
   },
   "outputs": [],
   "source": [
    "# Answer to part 4ci:\n",
    "\n",
    "winFrac_OAK_98= ...\n",
    "\n",
    "winFrac_OAK_98"
   ]
  },
  {
   "cell_type": "code",
   "execution_count": null,
   "id": "b554ccf0",
   "metadata": {
    "deletable": false,
    "editable": false
   },
   "outputs": [],
   "source": [
    "grader.check(\"q4c\")"
   ]
  },
  {
   "cell_type": "markdown",
   "id": "7f7664c0-aef2-4ea9-b493-26f24286d1c9",
   "metadata": {},
   "source": [
    "### EDA:  Visualizing Data \n",
    "\n",
    "Let's examine how winFrac has varied over time for the Oakland A's."
   ]
  },
  {
   "cell_type": "code",
   "execution_count": null,
   "id": "6a5451a9-b87a-44da-8ce8-d707773618c5",
   "metadata": {},
   "outputs": [],
   "source": [
    "#The code below uses the module plotlyexpress, which we imported at the top of the notebook using alias px\n",
    "#Read the code below to see how to use this function, then run this cell\n",
    "\n",
    "px.scatter(teams_df_moneyball.loc[\"OAK\"],x=\"yearID\", y=\"winFrac\")"
   ]
  },
  {
   "cell_type": "markdown",
   "id": "eec1dec3",
   "metadata": {
    "deletable": false,
    "editable": false
   },
   "source": [
    "<!-- BEGIN QUESTION -->\n",
    "\n"
   ]
  },
  {
   "cell_type": "raw",
   "id": "f36602a9-6261-4798-9668-8913379f8b8f",
   "metadata": {
    "deletable": false,
    "editable": false
   },
   "source": [
    "Let's compare Oakland's winFrac to 2 other teams:  Boston Red Sox and the New York Yankees:"
   ]
  },
  {
   "cell_type": "code",
   "execution_count": null,
   "id": "9519ae06-0522-494e-abe8-5cf18d15581c",
   "metadata": {
    "deletable": false,
    "editable": false
   },
   "outputs": [],
   "source": [
    "#Read the entries below to see how to create this plot:\n",
    "#Then run this cell\n",
    "\n",
    "px.scatter(teams_df_moneyball.loc[[\"OAK\",\"NYA\", \"BOS\"]],x=\"yearID\", y=\"winFrac\",facet_col = 'name')"
   ]
  },
  {
   "cell_type": "markdown",
   "id": "c8e55bef-a49a-4ae3-8e82-8a030d44998d",
   "metadata": {
    "deletable": false,
    "editable": false
   },
   "source": [
    "**Observations:**\n",
    "In the cell below write down at least 3 observations you can make from these plots.\n"
   ]
  },
  {
   "cell_type": "markdown",
   "id": "35d895a8",
   "metadata": {},
   "source": [
    "_Type your answer here, replacing this text._"
   ]
  },
  {
   "cell_type": "markdown",
   "id": "4393757a-614a-4d11-8bac-4fbad6363016",
   "metadata": {
    "deletable": false,
    "editable": false
   },
   "source": [
    "<!-- END QUESTION -->\n",
    "\n",
    "\n",
    "\n",
    "**Payrolls Per Team**  An interesting part of this story also takes into account the salary differences between players on these teams.   We'll examine this further in lecture and in our TA-led discussion!\n",
    "\n"
   ]
  },
  {
   "cell_type": "markdown",
   "id": "4f74f72e",
   "metadata": {},
   "source": [
    "<br/><br/>\n",
    "<hr style=\"border: 5px solid #003262;\" />\n",
    "<hr style=\"border: 1px solid #fdb515;\" />\n",
    "\n",
    "## Congratulations! You have finished Homework 2!"
   ]
  },
  {
   "cell_type": "markdown",
   "id": "4a3ea147",
   "metadata": {},
   "source": [
    "If you discussed this assignment with any other students in the class (in a manner that is acceptable as described by the Collaboration policy above) please **include their names** here:\n",
    "\n",
    "**Collaborators**: *list collaborators here*"
   ]
  },
  {
   "cell_type": "markdown",
   "id": "43b5c907-e11b-4d99-a368-2335a0042d7c",
   "metadata": {},
   "source": [
    "If while completing this assignment you reference any websites other than those linked in this assignment or provided on Canvas please list those references here:\n",
    "\n",
    "**External references**:  *list any websites you referenced*"
   ]
  },
  {
   "cell_type": "markdown",
   "id": "d65478fe",
   "metadata": {},
   "source": [
    "### Submission Instructions\n",
    "\n",
    "Before proceeding any further, **save this notebook.**\n",
    "\n",
    "After running the `grader.export()` cell provided below, **2 files will be created**: a zip file and pdf file.  You can download them using the links provided below OR by finding them in the same folder where this juptyer notebook resides in your JuptyerHub.\n",
    "\n",
    "To receive credit on this assignment, **you must submit BOTH of these files\n",
    "to their respective Gradescope portals:** \n",
    "\n",
    "\n",
    "* **Homework 2 Autograded**: Submit the zip file that is output by the `grader.export()` cell below to the HW2 Autograded assignment in Gradescope.\n",
    "\n",
    "* **Homework 2 Manually Graded**: Submit your hw02.PDF to the HW2 Manually Graded assignment in Gradescope.  **It is your responsibility to fully review your PDF file before submitting and make sure that all your lines of code are visible and any LaTeX has correctly compiled and is fully viewable.**  **YOU MUST SELECT THE PAGES CORRESPONDING TO EACH QUESTION WHEN YOU UPLOAD TO GRADESCOPE.** If not, you will lose points.    \n",
    "\n",
    "**TROUBLESHOOTING TIPS**  If you are having any issues compiling your assignment, please [read through these troubleshooting tips first](https://docs.google.com/document/d/1ndr3Wj1PSF5qzlLMaBJznwh6QGeEXjd5TAJ6nf9EJvo/edit?usp=sharing), then post any questions on Piazza.  \n",
    "\n",
    "**You are responsible for ensuring your submission follows our requirements. We will not be granting regrade requests nor extensions to submissions that don't follow instructions.** If you encounter any difficulties with submission, please don't hesitate to reach out to staff prior to the deadline."
   ]
  },
  {
   "cell_type": "markdown",
   "id": "1d812df6",
   "metadata": {
    "deletable": false,
    "editable": false
   },
   "source": [
    "## Submission\n",
    "\n",
    "Make sure you have run all cells in your notebook in order before running the cell below, so that all images/graphs appear in the output. The cell below will generate a zip file for you to submit. **Please save before exporting!**\n",
    "\n",
    "AFTER running the cell below, click on <a href='hw02.pdf' download>this link to download the PDF </a> to upload to Gradescope.  There will be a separate link that appears after running the cell below with a link to download the zip file to upload to Gradescope."
   ]
  },
  {
   "cell_type": "code",
   "execution_count": null,
   "id": "6b9aacb8",
   "metadata": {
    "deletable": false,
    "editable": false
   },
   "outputs": [],
   "source": [
    "# Save your notebook first, then run this cell to export your submission.\n",
    "grader.export(run_tests=True)"
   ]
  },
  {
   "cell_type": "markdown",
   "id": "9c88cc4d",
   "metadata": {},
   "source": [
    " "
   ]
  }
 ],
 "metadata": {
  "kernelspec": {
   "display_name": "Python 3 (ipykernel)",
   "language": "python",
   "name": "python3"
  },
  "language_info": {
   "codemirror_mode": {
    "name": "ipython",
    "version": 3
   },
   "file_extension": ".py",
   "mimetype": "text/x-python",
   "name": "python",
   "nbconvert_exporter": "python",
   "pygments_lexer": "ipython3",
   "version": "3.9.12"
  },
  "otter": {
   "OK_FORMAT": true,
   "tests": {
    "3a": {
     "name": "3a",
     "points": 3,
     "suites": [
      {
       "cases": [
        {
         "code": ">>> assert get_hash(round(p_HHHTHT,6)) == '8621a84afb6956533591c0832ff1ba09'\n",
         "hidden": false,
         "locked": false
        }
       ],
       "scored": true,
       "setup": "",
       "teardown": "",
       "type": "doctest"
      }
     ]
    },
    "3c": {
     "name": "3c",
     "points": 1,
     "suites": [
      {
       "cases": [
        {
         "code": ">>> assert get_hash(p_hat)=='54fbf38cf649866815e0fefc46a1f6c7'\n",
         "hidden": false,
         "locked": false
        }
       ],
       "scored": true,
       "setup": "",
       "teardown": "",
       "type": "doctest"
      }
     ]
    },
    "q1a": {
     "name": "q1a",
     "points": 3,
     "suites": [
      {
       "cases": [
        {
         "code": ">>> assert get_hash(int(q1a_answer))=='da4fb5c6e93e74d3df8527599fa62642'\n>>> \n",
         "hidden": false,
         "locked": false
        }
       ],
       "scored": true,
       "setup": "",
       "teardown": "",
       "type": "doctest"
      }
     ]
    },
    "q1bcheck": {
     "name": "q1bcheck",
     "points": 0,
     "suites": [
      {
       "cases": [
        {
         "code": ">>> assert get_hash(round(q1b_answer,6)) == '0f7087f36d3e157843feb7566cb4d407'\n",
         "hidden": false,
         "locked": false
        }
       ],
       "scored": true,
       "setup": "",
       "teardown": "",
       "type": "doctest"
      }
     ]
    },
    "q1ccheck": {
     "name": "q1ccheck",
     "points": 0,
     "suites": [
      {
       "cases": [
        {
         "code": ">>> assert get_hash(round(q1c_answer,6))== 'caed457b2e3a7d5fa3ede3de63e1fe34'\n",
         "hidden": false,
         "locked": false
        }
       ],
       "scored": true,
       "setup": "",
       "teardown": "",
       "type": "doctest"
      }
     ]
    },
    "q4a": {
     "name": "q4a",
     "points": 5,
     "suites": [
      {
       "cases": [
        {
         "code": ">>> # TEST\n>>> assert get_hash(team_rows)== '51be2fed6c55f5aa0c16ff14c140b187'\n",
         "hidden": false,
         "locked": false
        },
        {
         "code": ">>> # TEST\n>>> \n>>> assert get_hash(team_col)== '642e92efb79421734881b53e1e1b18b6'\n",
         "hidden": false,
         "locked": false
        },
        {
         "code": ">>> # TEST\n>>> assert get_hash(salary_rows) == '398a516d8fbfdd9158eec76b283dd9ce'\n",
         "hidden": false,
         "locked": false
        },
        {
         "code": ">>> # TEST\n>>> assert get_hash(salary_col) == 'e4da3b7fbbce2345d7772b0674a318d5'\n",
         "hidden": false,
         "locked": false
        },
        {
         "code": ">>> # TEST\n>>> assert get_hash(missing_attendance) == 'd395771085aab05244a4fb8fd91bf4ee'\n>>> \n",
         "hidden": false,
         "locked": false
        }
       ],
       "scored": true,
       "setup": "",
       "teardown": "",
       "type": "doctest"
      }
     ]
    },
    "q4b": {
     "name": "q4b",
     "points": 4,
     "suites": [
      {
       "cases": [
        {
         "code": ">>> # TEST\n>>> assert get_hash(unique_teams) == 'f2217062e9a397a1dca429e7d70bc6ca'\n",
         "hidden": false,
         "locked": false
        },
        {
         "code": ">>> # TEST\n>>> assert get_hash(unique_teams_salary) == '1c383cd30b7c298ab50293adfecb7b18'\n",
         "hidden": false,
         "locked": false
        },
        {
         "code": ">>> # TEST\n>>> \n>>> assert get_hash(teams_startyear) ==  'fb8feff253bb6c834deb61ec76baa893'\n",
         "hidden": false,
         "locked": false
        },
        {
         "code": ">>> # TEST\n>>> \n>>> assert get_hash(teams_endyear) == '3a824154b16ed7dab899bf000b80eeee'\n",
         "hidden": false,
         "locked": false
        },
        {
         "code": ">>> # TEST\n>>> assert get_hash(salaries_startyear) == '1f36c15d6a3d18d52e8d493bc8187cb9'\n",
         "hidden": false,
         "locked": false
        },
        {
         "code": ">>> assert get_hash(salaries_endyear) == '95192c98732387165bf8e396c0f2dad2'\n",
         "hidden": false,
         "locked": false
        }
       ],
       "scored": true,
       "setup": "",
       "teardown": "",
       "type": "doctest"
      }
     ]
    },
    "q4c": {
     "name": "q4c",
     "points": 4,
     "suites": [
      {
       "cases": [
        {
         "code": ">>> # TEST\n>>> assert get_hash(winFrac_OAK_98)== '3b97a72e9bc7f5c5e225aec9b0bf548c'\n",
         "hidden": false,
         "locked": false
        },
        {
         "code": ">>> # TEST\n>>> assert get_hash(teams_df_moneyball.shape[1]) == 'e4da3b7fbbce2345d7772b0674a318d5'\n",
         "hidden": false,
         "locked": false
        },
        {
         "code": ">>> # TEST\n>>> assert get_hash(teams_df_moneyball.shape[0]) == 'b137fdd1f79d56c7edf3365fea7520f2'\n",
         "hidden": false,
         "locked": false
        },
        {
         "code": ">>> # TEST \n>>> assert get_hash(teams_df_moneyball.query(\"yearID==2010\").loc[\"BOS\",\"winFrac\"]) == '10efc2614821dcf1b1ebc941ebd6ce1f'\n",
         "hidden": false,
         "locked": false
        }
       ],
       "scored": true,
       "setup": "",
       "teardown": "",
       "type": "doctest"
      }
     ]
    }
   }
  }
 },
 "nbformat": 4,
 "nbformat_minor": 5
}
