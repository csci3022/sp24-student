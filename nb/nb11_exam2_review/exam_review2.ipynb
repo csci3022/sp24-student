{
 "cells": [
  {
   "cell_type": "code",
   "execution_count": null,
   "id": "30ddcf62",
   "metadata": {},
   "outputs": [],
   "source": [
    "import pandas as pd\n",
    "# These lines import the Numpy and Datascience modules.\n",
    "import numpy as np\n",
    "from matplotlib.ticker import PercentFormatter\n",
    "# These lines do some fancy plotting magic.\n",
    "import matplotlib\n",
    "%matplotlib inline\n",
    "import matplotlib.pyplot as plt\n",
    "plt.style.use('fivethirtyeight')\n",
    "import warnings\n",
    "warnings.simplefilter('ignore', FutureWarning)\n",
    "\n",
    "from matplotlib import patches\n",
    "from ipywidgets import interact, interactive, fixed\n",
    "import ipywidgets as widgets"
   ]
  },
  {
   "cell_type": "markdown",
   "id": "2778ab1e",
   "metadata": {},
   "source": [
    "## Review Question #6\n"
   ]
  },
  {
   "cell_type": "code",
   "execution_count": null,
   "id": "3d7b3c5a-3164-49f6-9ee5-aa0afe36919e",
   "metadata": {},
   "outputs": [],
   "source": [
    "# Generate sample data for problem 6\n",
    "\n",
    "# define options for categorical variables\n",
    "year_opt = ['First', 'Second', 'Third', 'Fourth']\n",
    "handedness_opt = ['Right-handed', 'Left-handed']\n",
    "pantleg_opt = ['Right', 'Left']\n",
    "sleeppos_opt = ['left', 'right', 'back', 'stomach']\n",
    "\n",
    "# intialize list to store data\n",
    "data = []\n",
    "\n",
    "# data size\n",
    "n = 1002\n",
    "\n",
    "# generate data\n",
    "for i in range(n):\n",
    "    year = np.random.choice(year_opt)\n",
    "    extra = np.random.binomial(10, 0.75)\n",
    "    textees = np.random.randint(5, 16)\n",
    "    sleephr = np.random.randint(4,10) + round(np.random.random(),1)\n",
    "    handedness = np.random.choice(handedness_opt, p=[0.9, 0.1])\n",
    "    pantleg = np.random.choice(pantleg_opt)\n",
    "    sleeppos = np.random.choice(sleeppos_opt, p=[0.25, 0.25, 0.4, 0.1])\n",
    "    \n",
    "    row = [year, extra, textees, sleephr, handedness, pantleg, sleeppos]\n",
    "    data.append(row)\n",
    "\n",
    "# create dataframe\n",
    "df = pd.DataFrame(data=data, columns=['Year', 'Extraversion', 'Number of Textees', 'Hours of Sleep', 'Handedness', 'First Pant Leg', 'Sleep Position'])\n",
    "\n",
    "df.head()"
   ]
  },
  {
   "cell_type": "code",
   "execution_count": null,
   "id": "d748f502",
   "metadata": {},
   "outputs": [],
   "source": [
    "# a - define a function FUN_NAME that takes a sample size as its arg, sample that many times at random without replacement from all \n",
    "#     the students and return the maximum extraversion score of the sampled students\n",
    "\n",
    "def FUN_NAME(sample_size):\n",
    "    # Your code here\n",
    "    \n",
    "FUN_NAME(2)"
   ]
  },
  {
   "cell_type": "code",
   "execution_count": null,
   "id": "8ff2466f-5bc5-45b3-96da-ebf78a0be3b0",
   "metadata": {},
   "outputs": [],
   "source": [
    "# b - Write code to generate 10,000 simulated values of the maximum extraversion score in a random sample size of 25 (w/o replacement) \n",
    "\n",
    "repetitions = ...\n",
    "SIM_VALS = ...\n",
    "\n",
    "for ... in ...:\n",
    "    ...\n",
    "    \n",
    "SIM_VALS[:10]\n",
    "\n",
    "# plotting code\n",
    "plt.hist(SIM_VALS, range=(0,11), density=True)\n",
    "plt.show()"
   ]
  },
  {
   "cell_type": "markdown",
   "id": "74e7ef08",
   "metadata": {},
   "source": [
    "## Review Question #9"
   ]
  },
  {
   "cell_type": "code",
   "execution_count": null,
   "id": "9262c07e",
   "metadata": {},
   "outputs": [],
   "source": [
    "water = pd.read_csv('exam_rev_testing.csv')"
   ]
  },
  {
   "cell_type": "code",
   "execution_count": null,
   "id": "0afb31ae",
   "metadata": {},
   "outputs": [],
   "source": [
    "water = ..."
   ]
  },
  {
   "cell_type": "code",
   "execution_count": null,
   "id": "7749f93e",
   "metadata": {},
   "outputs": [],
   "source": [
    "len(water)"
   ]
  },
  {
   "cell_type": "code",
   "execution_count": null,
   "id": "cc82fcec",
   "metadata": {},
   "outputs": [],
   "source": [
    "#Part b Option 1:\n"
   ]
  },
  {
   "cell_type": "code",
   "execution_count": null,
   "id": "1f8ae792",
   "metadata": {},
   "outputs": [],
   "source": [
    "#Part b Option 2:\n"
   ]
  },
  {
   "cell_type": "code",
   "execution_count": null,
   "id": "d5f4bbf7",
   "metadata": {},
   "outputs": [],
   "source": [
    "#Part b Option 3:\n"
   ]
  },
  {
   "cell_type": "code",
   "execution_count": null,
   "id": "eda66828",
   "metadata": {},
   "outputs": [],
   "source": [
    "#Part c \n"
   ]
  },
  {
   "cell_type": "code",
   "execution_count": null,
   "id": "5f260fac",
   "metadata": {},
   "outputs": [],
   "source": [
    "#Part d\n"
   ]
  },
  {
   "cell_type": "markdown",
   "id": "0fcaa2da",
   "metadata": {},
   "source": [
    "## Review Question 10:"
   ]
  },
  {
   "cell_type": "code",
   "execution_count": null,
   "id": "feb6d211",
   "metadata": {},
   "outputs": [],
   "source": [
    "# part b\n",
    "\n",
    "def ci_iqr(tbl, reps):\n",
    "    \n",
    "    # Your code here\n"
   ]
  },
  {
   "cell_type": "markdown",
   "id": "32328903",
   "metadata": {},
   "source": [
    "## Review Question 14"
   ]
  },
  {
   "cell_type": "code",
   "execution_count": null,
   "id": "0b1840ec",
   "metadata": {},
   "outputs": [],
   "source": [
    "# a - write a function called one_walk assuming the coin is fair\n",
    "\n",
    "def one_walk():\n",
    "    # Your code here\n",
    "\n",
    "one_walk()"
   ]
  },
  {
   "cell_type": "code",
   "execution_count": null,
   "id": "9b990b7e-c0a2-4e6e-ac91-aff77a0c295f",
   "metadata": {},
   "outputs": [],
   "source": [
    "# b - simulate 10,000 walks and store the results\n",
    "\n",
    "# Your code here\n",
    "\n",
    "# plotting code\n",
    "plt.hist(distances, range=(0,40), edgecolor='white', density=True)"
   ]
  },
  {
   "cell_type": "code",
   "execution_count": null,
   "id": "72fe4cac-b9aa-42b5-91e5-3cf773c5c794",
   "metadata": {},
   "outputs": [],
   "source": [
    "# c - write a Null & Alternative Hypothesis for 30 steps away from origin. What test stat can you use?\n",
    "\n",
    "# NULL - The coin he used is fair, the fact he ended up 30 steps away is due to chance\n",
    "# ALT. - The coin he used was unfair\n",
    "# TEST - Absolute diff from origin at the end of a walk - how far he walked in either direction"
   ]
  },
  {
   "cell_type": "code",
   "execution_count": null,
   "id": "35fe6a37-8f29-4a0f-92fa-b731750b9b1d",
   "metadata": {},
   "outputs": [],
   "source": [
    "# d - calculate the p_val\n",
    "\n"
   ]
  },
  {
   "cell_type": "markdown",
   "id": "dea5dd3d",
   "metadata": {},
   "source": [
    "## Review Question 17"
   ]
  },
  {
   "cell_type": "code",
   "execution_count": null,
   "id": "6540993d",
   "metadata": {},
   "outputs": [],
   "source": [
    "# a - compute_pvalue function\n",
    "\n",
    "def compute_p_value(empirical_dist, observed_ts):\n",
    "    '''\n",
    "    empirical_dist - nparray \n",
    "    empirical_dist - float\n",
    "    '''\n",
    "    return \n"
   ]
  },
  {
   "cell_type": "code",
   "execution_count": null,
   "id": "a5e982b3-b34f-43f5-b43a-e6b5cdc89ad8",
   "metadata": {},
   "outputs": [],
   "source": [
    "# b - is_significant function\n",
    "\n",
    "def is_significant(empirical_dist, observed_ts, cutoff):\n",
    "    return \n"
   ]
  },
  {
   "cell_type": "markdown",
   "id": "7a2d3263",
   "metadata": {},
   "source": [
    "## Review Question 18"
   ]
  },
  {
   "cell_type": "code",
   "execution_count": null,
   "id": "2ff82809",
   "metadata": {},
   "outputs": [],
   "source": [
    "# a - Null and Alt hypotheses\n",
    "\n",
    "# NULL - the types of cheese in the frozen mac n cheese boxes are distributed according to what the employee said\n",
    "# ALT  - the types of cheese are distributed differently"
   ]
  },
  {
   "cell_type": "code",
   "execution_count": null,
   "id": "8be89172",
   "metadata": {},
   "outputs": [],
   "source": [
    "# b - use the TVD as the test statistic and calculate the obsersved stat\n",
    "\n",
    "observed_proportions = np.array([0.2, 0.3, 0.45, 0.05])\n",
    "employee_proportions = np.array([0.05, 0.55, 0.25, 0.15])\n",
    "\n",
    "observed_stat =  ..."
   ]
  },
  {
   "cell_type": "code",
   "execution_count": null,
   "id": "ed56872c",
   "metadata": {},
   "outputs": [],
   "source": [
    "# c - write a function to calculate one simulated stat under the null hypothesis\n",
    "\n",
    "def one_simulated_stat():\n",
    "    # Your code here"
   ]
  },
  {
   "cell_type": "code",
   "execution_count": null,
   "id": "7f9a0ec7-e6b1-48c6-8e8c-124e4ed333f6",
   "metadata": {},
   "outputs": [],
   "source": [
    "# d - find the p-value after 10000 simulations\n"
   ]
  }
 ],
 "metadata": {
  "kernelspec": {
   "display_name": "Python 3 (ipykernel)",
   "language": "python",
   "name": "python3"
  },
  "language_info": {
   "codemirror_mode": {
    "name": "ipython",
    "version": 3
   },
   "file_extension": ".py",
   "mimetype": "text/x-python",
   "name": "python",
   "nbconvert_exporter": "python",
   "pygments_lexer": "ipython3",
   "version": "3.9.13"
  }
 },
 "nbformat": 4,
 "nbformat_minor": 5
}
