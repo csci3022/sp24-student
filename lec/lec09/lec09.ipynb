{
 "cells": [
  {
   "cell_type": "markdown",
   "metadata": {},
   "source": [
    "# Lesson 9 - CSCI 3022\n",
    "## Probability Intuition and Random Simulation \n",
    "***\n",
    "\n",
    "In this notebook you'll see how we can use Numpy to run probability simulations to estimate probabilities and to gain intuition about random processes and to check your pencil and paper work. \n",
    "\n",
    "We'll need Numpy and Matplotlib for this notebook, so let's load and setup those libraries. "
   ]
  },
  {
   "cell_type": "code",
   "execution_count": 2,
   "metadata": {},
   "outputs": [],
   "source": [
    "import numpy as np \n",
    "import matplotlib.pylab as plt\n",
    "%matplotlib inline"
   ]
  },
  {
   "cell_type": "markdown",
   "metadata": {},
   "source": [
    "### Estimating Simple Probabilities \n",
    "*** \n",
    "\n",
    "In this example we'll see how we can use the Numpy function [np.random.choice](https://numpy.org/doc/stable/reference/random/generated/numpy.random.choice.html) to make random draws from a sample space and estimate the probability of certain random events. "
   ]
  },
  {
   "cell_type": "code",
   "execution_count": 18,
   "metadata": {},
   "outputs": [],
   "source": [
    "select_from = [\"A\", \"B\", \"C\", \"D\", \"E\", \"F\"]"
   ]
  },
  {
   "cell_type": "markdown",
   "metadata": {},
   "source": [
    "We can simulate randomly selecting from this arry using `np.random.choice`, which returns a randomly selected entry from a Numpy array.  \n",
    "If no optional parameters are passed in, `np.random.choice` assigns an **equal probability** to each entry of the array.   "
   ]
  },
  {
   "cell_type": "code",
   "execution_count": 21,
   "metadata": {},
   "outputs": [
    {
     "data": {
      "text/plain": [
       "'B'"
      ]
     },
     "execution_count": 21,
     "metadata": {},
     "output_type": "execute_result"
    }
   ],
   "source": [
    "np.random.choice(select_from)"
   ]
  },
  {
   "cell_type": "markdown",
   "metadata": {},
   "source": [
    "We can simulate repeatedly selecting (with replacement) by specifying the size of an array:"
   ]
  },
  {
   "cell_type": "code",
   "execution_count": 26,
   "metadata": {},
   "outputs": [
    {
     "data": {
      "text/plain": [
       "array(['D', 'A', 'D', 'F'], dtype='<U1')"
      ]
     },
     "execution_count": 26,
     "metadata": {},
     "output_type": "execute_result"
    }
   ],
   "source": [
    "np.random.choice(select_from,size=4)  #This assumes you are rolling WITH replacement"
   ]
  },
  {
   "cell_type": "code",
   "execution_count": 27,
   "metadata": {},
   "outputs": [
    {
     "data": {
      "text/plain": [
       "array(['A', 'E', 'F', 'D'], dtype='<U1')"
      ]
     },
     "execution_count": 27,
     "metadata": {},
     "output_type": "execute_result"
    }
   ],
   "source": [
    "np.random.choice(select_from, size=4, replace=False) #Selects WITHOUT replacement"
   ]
  },
  {
   "cell_type": "markdown",
   "metadata": {},
   "source": [
    "**Simulating Coin Tosses**"
   ]
  },
  {
   "cell_type": "markdown",
   "metadata": {},
   "source": [
    "As a simple example, consider a fair coin.  We can represent the sample space for this coin with a Numpy array with two entries: \"H\" and \"T\""
   ]
  },
  {
   "cell_type": "code",
   "execution_count": 3,
   "metadata": {},
   "outputs": [
    {
     "data": {
      "text/plain": [
       "['H', 'T']"
      ]
     },
     "execution_count": 3,
     "metadata": {},
     "output_type": "execute_result"
    }
   ],
   "source": [
    "coin = [\"H\",\"T\"]\n",
    "coin"
   ]
  },
  {
   "cell_type": "markdown",
   "metadata": {},
   "source": [
    "We can simulate flipping the coin using `np.random.choice` (https://numpy.org/doc/stable/reference/random/generated/numpy.random.choice.html), which returns a randomly selected entry from a Numpy array.  \n",
    "If no optional parameters are passed in, `np.random.choice` assigns an **equal probability** to each entry of the array.   "
   ]
  },
  {
   "cell_type": "code",
   "execution_count": 8,
   "metadata": {},
   "outputs": [
    {
     "data": {
      "text/plain": [
       "'T'"
      ]
     },
     "execution_count": 8,
     "metadata": {},
     "output_type": "execute_result"
    }
   ],
   "source": [
    "\n",
    "np.random.choice(coin)"
   ]
  },
  {
   "cell_type": "markdown",
   "metadata": {},
   "source": [
    "We can simulate many flips of the coin and store the results in an array by passing the size parameter to np.random.choice. "
   ]
  },
  {
   "cell_type": "code",
   "execution_count": 29,
   "metadata": {},
   "outputs": [
    {
     "name": "stdout",
     "output_type": "stream",
     "text": [
      "['T' 'H' 'T' 'T' 'T' 'T' 'H' 'T' 'T' 'H']\n"
     ]
    }
   ],
   "source": [
    "flips = np.random.choice(coin, size=10)\n",
    "print(flips)"
   ]
  },
  {
   "cell_type": "markdown",
   "metadata": {},
   "source": [
    "We can also count the number of times we get heads:"
   ]
  },
  {
   "cell_type": "code",
   "execution_count": 30,
   "metadata": {},
   "outputs": [
    {
     "name": "stdout",
     "output_type": "stream",
     "text": [
      "['T' 'H' 'H' 'T' 'T' 'T' 'H' 'H' 'T' 'H']\n"
     ]
    },
    {
     "data": {
      "text/plain": [
       "5"
      ]
     },
     "execution_count": 30,
     "metadata": {},
     "output_type": "execute_result"
    }
   ],
   "source": [
    "flips = np.random.choice(coin, size=10)\n",
    "print(flips)\n",
    "sum(flips == 'H')"
   ]
  },
  {
   "cell_type": "markdown",
   "metadata": {},
   "source": [
    "We can alter the probability with which `np.random.choice` selects a particular entry of the sample space array by passing in an optional array of probabilities, e.g. p = [0.75, 0.25]:"
   ]
  },
  {
   "cell_type": "code",
   "execution_count": 31,
   "metadata": {},
   "outputs": [
    {
     "name": "stdout",
     "output_type": "stream",
     "text": [
      "['H' 'H' 'H' 'T' 'H' 'T' 'H' 'T' 'H' 'H']\n"
     ]
    },
    {
     "data": {
      "text/plain": [
       "7"
      ]
     },
     "execution_count": 31,
     "metadata": {},
     "output_type": "execute_result"
    }
   ],
   "source": [
    "\n",
    "biased_flips = np.random.choice(coin, p=[0.75, 0.25], size=10)\n",
    "\n",
    "print(biased_flips)\n",
    "sum(biased_flips == 'H')"
   ]
  },
  {
   "cell_type": "markdown",
   "metadata": {},
   "source": [
    "###  Example 1: \n",
    "Simulate rolling a 6-sided die, 10 times:"
   ]
  },
  {
   "cell_type": "code",
   "execution_count": null,
   "metadata": {},
   "outputs": [],
   "source": [
    "die = ...\n",
    "roll =...\n",
    "\n"
   ]
  },
  {
   "cell_type": "markdown",
   "metadata": {},
   "source": [
    "**SideNote**: If instead of passing a list/array you pass an int, to `np.random.choice` the random sample is generated as if it were `np.arange(a)`"
   ]
  },
  {
   "cell_type": "code",
   "execution_count": null,
   "metadata": {},
   "outputs": [],
   "source": [
    "np.random.choice(5, size=10)"
   ]
  },
  {
   "cell_type": "markdown",
   "metadata": {},
   "source": [
    "*** \n",
    "### Example 2- Flipping a Fair Coin"
   ]
  },
  {
   "cell_type": "markdown",
   "metadata": {},
   "source": [
    "Now suppose we want to run a simple simulation to estimate the probability  that the coin comes up Heads (which we expect to be $0.5$ because the coin is fair).  One way to do this is to do a large number of coin flips and then divide the number of flips that come up Heads by the total number of flips. The following code flips the coin 50 times and computes the desired ratio: "
   ]
  },
  {
   "cell_type": "code",
   "execution_count": 28,
   "metadata": {},
   "outputs": [
    {
     "ename": "TypeError",
     "evalue": "unsupported format string passed to ellipsis.__format__",
     "output_type": "error",
     "traceback": [
      "\u001b[0;31m---------------------------------------------------------------------------\u001b[0m",
      "\u001b[0;31mTypeError\u001b[0m                                 Traceback (most recent call last)",
      "Input \u001b[0;32mIn [28]\u001b[0m, in \u001b[0;36m<cell line: 13>\u001b[0;34m()\u001b[0m\n\u001b[1;32m     10\u001b[0m flips \u001b[38;5;241m=\u001b[39m np\u001b[38;5;241m.\u001b[39mrandom\u001b[38;5;241m.\u001b[39mchoice(coin, size\u001b[38;5;241m=\u001b[39m\u001b[38;5;241m50\u001b[39m)\n\u001b[1;32m     11\u001b[0m approx_prob_heads \u001b[38;5;241m=\u001b[39m \u001b[38;5;241m.\u001b[39m\u001b[38;5;241m.\u001b[39m\u001b[38;5;241m.\u001b[39m\n\u001b[0;32m---> 13\u001b[0m \u001b[38;5;28mprint\u001b[39m(\u001b[38;5;124;43m\"\u001b[39;49m\u001b[38;5;124;43mthe probability of heads is approximately \u001b[39;49m\u001b[38;5;132;43;01m{:.3f}\u001b[39;49;00m\u001b[38;5;124;43m\"\u001b[39;49m\u001b[38;5;241;43m.\u001b[39;49m\u001b[43mformat\u001b[49m\u001b[43m(\u001b[49m\u001b[43mapprox_prob_heads\u001b[49m\u001b[43m)\u001b[49m)\n",
      "\u001b[0;31mTypeError\u001b[0m: unsupported format string passed to ellipsis.__format__"
     ]
    }
   ],
   "source": [
    "# The seed() method is used to initialize the random number generator.\n",
    "# The random number generator needs a number to start with (a seed value),\n",
    "#   to be able to generate a random number.\n",
    "# By default the random number generator uses the current system time.\n",
    "# We can use the seed() method to customize the start number of the random number generator\n",
    "# so that we get the same results each time.\n",
    "\n",
    "np.random.seed(12345)\n",
    "\n",
    "flips = np.random.choice(coin, size=50)\n",
    "approx_prob_heads = ...\n",
    "\n",
    "print(\"the probability of heads is approximately {:.3f}\".format(approx_prob_heads))"
   ]
  },
  {
   "cell_type": "markdown",
   "metadata": {},
   "source": [
    "OK, so the simulation estimated that the probability of the coin coming up heads is $0.36$, which is pretty far off from the $0.5$ that we expected.  This is likely because we didn't do very many coin flips.  Let's see what happens if we rerun the simulation with $500$ coin flips. "
   ]
  },
  {
   "cell_type": "code",
   "execution_count": null,
   "metadata": {},
   "outputs": [],
   "source": [
    "\n",
    "flips = np.random.choice(coin, size=500)\n",
    "approx_prob_heads = np.sum(flips == \"H\") / len(flips)\n",
    "print(\"the probability of heads is approximately {:.3f}\".format(approx_prob_heads))"
   ]
  },
  {
   "cell_type": "markdown",
   "metadata": {},
   "source": [
    "With $500$ coin flips our estimate came out much closer to $0.5$\n",
    "\n",
    "\n",
    "\n",
    "It's an interesting exercise to make a plot of the running estimate of the probability as the number of coin flips increases.  We'll use the same random sequence of coin flips from the previous simulation.  \n",
    "\n",
    "We'll be using the Python `range` function (https://docs.python.org/3/library/functions.html#func-range) in the following code, so let's see how it works:\n"
   ]
  },
  {
   "cell_type": "code",
   "execution_count": null,
   "metadata": {},
   "outputs": [],
   "source": [
    "# Notice how range function works:\n",
    "\n",
    "for ii in range(5):\n",
    "    print(ii)"
   ]
  },
  {
   "cell_type": "code",
   "execution_count": 32,
   "metadata": {},
   "outputs": [
    {
     "name": "stdout",
     "output_type": "stream",
     "text": [
      "the probability of heads is approximately 0.490\n"
     ]
    },
    {
     "data": {
      "image/png": "[encoded data removed]",
      "text/plain": [
       "<Figure size 864x432 with 1 Axes>"
      ]
     },
     "metadata": {
      "needs_background": "light"
     },
     "output_type": "display_data"
    }
   ],
   "source": [
    "\n",
    "def plot_estimates(n):\n",
    "    \n",
    "    flips = np.random.choice([\"H\",\"T\"], size=n)\n",
    "    running_prob = []\n",
    "\n",
    "#Keep a \"running estimate\" of the probability of getting a heads as num_trials gets larger:    \n",
    "    for ii in range(n):\n",
    "        num=np.sum(flips[:(ii+1)] == \"H\")\n",
    "        denom=ii+1\n",
    "        running_prob.append(num/denom)\n",
    "         # A growing sequence with ratio of 'H' being counted per times coin flipped.\n",
    "        # Suppose we got T, H, T, ...\n",
    "        # running_prob[0]=0/1   running_prob[1]=1/2   running_prob[2]=1/3   etc\n",
    "        # running_prob = [0, 0.5, 0.3333..., etc]\n",
    "    \n",
    "    return running_prob\n",
    "\n",
    "\n",
    "\n",
    "# Run code for num trials\n",
    "num_trials=10000\n",
    "p=plot_estimates(num_trials)\n",
    "\n",
    "print(\"the probability of heads is approximately {:.3f}\".format(p[num_trials-1]))\n",
    " \n",
    "# Plot running estimate of probability of getting heads as num_trials gets larger:\n",
    "fig, ax = plt.subplots(figsize=(12,6))\n",
    "\n",
    "# plot the terms in p\n",
    "ax.plot(p, color=\"steelblue\",label=\"Simulated probability\")\n",
    "\n",
    "#Plot the theoretical probability\n",
    "plt.axhline(y = 0.5, color = 'r', linestyle = '-', label = \"Theoretical probability\")\n",
    "\n",
    "# put labels on the axes and give the graph a title.\n",
    "ax.set_title(\"Running Estimate of Probability of Heads\", fontsize=20)\n",
    "ax.set_xlabel(\"Number of Flips\", fontsize=16)\n",
    "ax.set_ylabel(\"Estimate of Probability\", fontsize=16)\n",
    "# fix the y-axis to be between 0 and 1:\n",
    "ax.set_ylim(0,1)\n",
    "# include a legend:\n",
    "ax.legend()\n",
    "# put a faded grid behind the graphic\n",
    "ax.grid(True, alpha=0.25)\n"
   ]
  },
  {
   "cell_type": "markdown",
   "metadata": {},
   "source": [
    "Notice that for very few flips the estimate of the probability is understandably poor.  But as the number of flips increases the estimate settles down to very close to the expected $0.5$. "
   ]
  },
  {
   "cell_type": "markdown",
   "metadata": {},
   "source": [
    "***\n",
    "\n",
    "### Example 3- Drawing Cards"
   ]
  },
  {
   "cell_type": "markdown",
   "metadata": {},
   "source": [
    "What's the probability of drawing 2 hearts from a standard 52-card deck?\n",
    "\n",
    "a).  \n",
    "\n",
    "P(2 hearts) = \n",
    "\n",
    "Let's simulate this now to verify our results.   \n",
    "\n"
   ]
  },
  {
   "cell_type": "code",
   "execution_count": null,
   "metadata": {},
   "outputs": [],
   "source": [
    "# Create a 52 card deck (use string 'D2' to represent the 2 of Diamonds)\n",
    "\n",
    "\n",
    "suits=['D','H','C','S']\n",
    "ranks = ['A', '2', '3', '4', '5', '6', '7', '8', '9', '10', 'J', 'Q', 'K']\n",
    "\n",
    "\n",
    "# Build a deck\n",
    "deck = ...\n",
    "\n",
    "print(deck)\n"
   ]
  },
  {
   "cell_type": "code",
   "execution_count": null,
   "metadata": {},
   "outputs": [],
   "source": [
    "\n",
    "#Write a function that takes a list of 2 cards as input and returns True if both are hearts. Otherwise it returns False.\n",
    "\n",
    "def check_two_hearts(twocards):   \n",
    "       \n",
    "    #Check if they're both hearts\n",
    "    return ...\n",
    "       \n",
    "    "
   ]
  },
  {
   "cell_type": "markdown",
   "metadata": {},
   "source": [
    "Test your function:"
   ]
  },
  {
   "cell_type": "code",
   "execution_count": null,
   "metadata": {},
   "outputs": [],
   "source": [
    "assert check_two_hearts(['H7','H8']) == True\n",
    "\n",
    "assert check_two_hearts(['H7','S7']) == False\n"
   ]
  },
  {
   "cell_type": "markdown",
   "metadata": {},
   "source": [
    "Notice: In this scenario we want to draw two cards **WITHOUT REPLACEMENT**\n",
    "\n",
    "\n",
    "**OPTION 1:** \n",
    "`np.random.choice(cards, replace=False, size=2)`\n",
    "\n",
    "\n",
    "**OPTION 2:** `np.random.shuffle` https://numpy.org/doc/stable/reference/random/generated/numpy.random.shuffle.html\n",
    "This randomly shuffles the items in a list\n",
    "\n",
    "\n",
    "\n",
    "\n",
    " "
   ]
  },
  {
   "cell_type": "code",
   "execution_count": null,
   "metadata": {},
   "outputs": [],
   "source": [
    "print(deck[:5])\n",
    "\n",
    "np.random.shuffle(deck)\n",
    "\n",
    "print(deck[:5])"
   ]
  },
  {
   "cell_type": "code",
   "execution_count": null,
   "metadata": {},
   "outputs": [],
   "source": [
    "# Function to simulate a single draw of 2 cards (WITHOUT REPLACEMENT) and check if both draws are hearts.\n",
    "\n",
    "def single_draw():\n",
    "    np.random.shuffle(deck)\n",
    "    first_two = ...\n",
    "    #print(first_two)\n",
    "    return check_two_hearts(first_two)\n",
    "  \n",
    "\n",
    "out = single_draw()\n",
    "out"
   ]
  },
  {
   "cell_type": "code",
   "execution_count": null,
   "metadata": {},
   "outputs": [],
   "source": [
    "def probability_of_two_hearts(num_samples=250):\n",
    "    # simulate random draws   \n",
    "    \n",
    "    hearts = np.array([single_draw() for ... in range(...)])\n",
    "    # compute fraction of draws that resulted in 2 hearts\n",
    "    #print(hearts)\n",
    "    return hearts.sum()/num_samples\n",
    "\n",
    "\n",
    "probability_of_two_hearts()"
   ]
  },
  {
   "cell_type": "markdown",
   "metadata": {},
   "source": [
    "This is very close to the actual answer we analytically derived in class."
   ]
  },
  {
   "cell_type": "markdown",
   "metadata": {},
   "source": [
    "### Example 4 - Estimating the Probability of Drawing Balls from Boxes\n",
    "***\n",
    "In class we solved the following problem analytically: \n",
    "\n",
    "Suppose we have two boxes filled with green and red balls.  Box 1 contains 2 green balls and 7 red balls.  \n",
    "Box 2 contains 4 green balls and 3 red balls. \n",
    "Paul selects a ball by first choosing one of the two boxes at random. He then selects one of the balls in this box at random. \n",
    "What is the probability Paul has selected a red ball, if it is twice as likely for Paul to pick from Box 1 as it is Box 2?\n",
    "\n"
   ]
  },
  {
   "cell_type": "markdown",
   "metadata": {},
   "source": [
    "\\begin{align*}\n",
    "P(red) &= P(red|B1)P(B1) + P(red|B2)P(B2) \\\\\n",
    "          &= \\frac{7}{9} \\cdot \\frac{2}{3} + \\frac{3}{7} \\cdot \\frac{1}{3} \\\\\n",
    "          &= \\frac{14}{27}+\\frac{1}{7} \\\\\n",
    "          &\\approx 0.6614\n",
    "\\end{align*}\n",
    "\n",
    "\n"
   ]
  },
  {
   "cell_type": "markdown",
   "metadata": {},
   "source": [
    "Python dictionaries are often helpful when representing multiple probabilities like this: "
   ]
  },
  {
   "cell_type": "code",
   "execution_count": null,
   "metadata": {},
   "outputs": [],
   "source": [
    "#Create dictionaries to represent the distribution of red and green balls in each box: \n",
    "\n",
    "box1 = {'balls' : np.array([\"green\", \"red\"]), 'probs' : np.array([2/9, 7/9])}\n",
    "box2 = {'balls' : np.array([\"green\", \"red\"]), 'probs' : np.array([4/7, 3/7])}\n",
    "\n",
    "\n",
    "# Create a dictionary to represent the boxes themselves (and the probability of selecting a specific box)\n",
    "box_choices = {'boxes' : np.array([box1, box2]), 'probs' : np.array([2/3, 1/3])}\n",
    "\n",
    "print (box_choices)\n",
    "\n",
    "print (box_choices['boxes'])"
   ]
  },
  {
   "cell_type": "markdown",
   "metadata": {},
   "source": [
    "The following code runs a simple simulation to estimate the probability of drawing a ball of a particular color.  Run the code and verify that it agrees with the by-hand computation."
   ]
  },
  {
   "cell_type": "code",
   "execution_count": null,
   "metadata": {},
   "outputs": [],
   "source": [
    "def sample_ball(box_dict):\n",
    "    # randomly choose a box\n",
    "    box = np.random.choice(box_dict['boxes'], p = box_dict['probs'])\n",
    "    # randomly choose a ball from that box\n",
    "    return np.random.choice(box['balls'], p = box['probs'])\n",
    "\n",
    "def probability_of_color(color, box_dict, num_samples=1000):\n",
    "    # get a bunch of balls\n",
    "    balls = np.array([sample_ball(box_dict) for ii in range(num_samples)])\n",
    "    print(balls)\n",
    "    # compute fraction of balls of desired color \n",
    "    \n",
    "    return np.sum(balls == color) / num_samples"
   ]
  },
  {
   "cell_type": "code",
   "execution_count": null,
   "metadata": {},
   "outputs": [],
   "source": [
    "probability_of_color(\"red\", box_choices, num_samples=50000)"
   ]
  },
  {
   "cell_type": "markdown",
   "metadata": {},
   "source": [
    "You should find something quite close to what we got in class, which is about 0.661."
   ]
  },
  {
   "cell_type": "markdown",
   "metadata": {},
   "source": [
    "### <span style = 'color: Blue' >Example 5- Back to WarmUp: Conditional Probabilities with Dice</span>\n",
    "***\n",
    "\n",
    "Suppose you roll a fair die two times.  Let $A$ be the event \"the sum of the throws equals 4\" and $B$ be the event \"at least one of the throws is a $3$\"\n",
    "\n",
    "**Part A**: Compute (by hand) the probability that the sum of the throws equals 4 _given_ that at least one of the throws is a 3.  That is, compute $P(A \\mid B)$. "
   ]
  },
  {
   "cell_type": "markdown",
   "metadata": {},
   "source": [
    "**Solution**: We want to compute \n",
    "\n",
    "$$\n",
    "P(A \\mid B) = \\dfrac{P(A \\cap B)}{P(B)}\n",
    "$$\n",
    "\n",
    "The intersection of the two events is the set $A \\cap B = \\{(3,1), (1,3)\\}$.  Each possible roll combination occurs with probability $\\frac{1}{6}\\cdot\\frac{1}{6} = \\frac{1}{36}$. Summing over the possible outcomes gives \n",
    "\n",
    "$$\n",
    "P(A \\cap B) = \\frac{1}{36} + \\frac{1}{36} = \\frac{1}{18}\n",
    "$$\n",
    "\n",
    "The probability of at least one of the throws being a $3$ can be computed in a number of ways.  Let $E_1$ be the event that we roll a 3 on the first die and $E_2$ be the event that we roll a 3 on the second die. Notice that $E_1$ and $E_2$ are not disjoint because we could roll a 3 on _both_ dice.  So we have \n",
    "\n",
    "$$\n",
    "P(B) = P(E_1 \\cup E_2) = P(E_1) + P(E_2) - P(E_1 \\cap E_2) = \\frac{1}{6} + \\frac{1}{6} - \\frac{1}{6}\\cdot\\frac{1}{6} = \\frac{11}{36}\n",
    "$$\n",
    "\n",
    "Plugging this into the definition of conditional probability gives \n",
    "\n",
    "$$\n",
    "P(A \\mid B) = \\dfrac{P(A \\cap B)}{P(B)} = \\frac{1/18}{11/36} = \\frac{2}{11} = 0.\\overline{18}\n",
    "$$\n",
    "\n",
    "***"
   ]
  },
  {
   "cell_type": "markdown",
   "metadata": {},
   "source": [
    "Let's see if we can write a simple simulation to confirm our result.  \n",
    "\n",
    "The following code runs a simulation to **estimate $P(A)$, i.e. the probability that if you roll a fair six-sided die twice the result will sum to 4**  "
   ]
  },
  {
   "cell_type": "code",
   "execution_count": null,
   "metadata": {},
   "outputs": [],
   "source": [
    "def simulateA(num_samples):\n",
    "    die = np.array([1,2,3,4,5,6])\n",
    "    \n",
    "    roll1 = np.random.choice(die, size=num_samples)\n",
    "    print(\"Roll 1 is \", roll1)\n",
    "\n",
    "    roll2 = np.random.choice(die, size=num_samples)\n",
    "    print(\"Roll 2 is \", roll2)\n",
    "\n",
    "    #Make a boolean array that is True if roll1 and roll2 sum to 4:\n",
    "    sum_to_four = (roll1 + roll2) == 4\n",
    "    print(\"Event A:  Sum to four?\", sum_to_four)\n",
    "\n",
    "\n",
    "    #Calculate the proportion of samples (out of your num_samples) where the two die sum to 4\n",
    "    return np.sum(sum_to_four)/num_samples\n",
    "\n",
    "\n",
    "simulateA(15)"
   ]
  },
  {
   "cell_type": "markdown",
   "metadata": {},
   "source": [
    "**Part B**: Modify the code above so that it estimates the conditional probability $P(A \\mid B)$. **Hint**: Think about the definition of conditional probability.\n",
    "\n",
    "*Hint:  the Numpy methods `logical_or` and `logical_and` are potentially useful.*"
   ]
  },
  {
   "cell_type": "code",
   "execution_count": null,
   "metadata": {},
   "outputs": [],
   "source": [
    "def simulateA_given_B(num_samples):\n",
    "    \n",
    "    ...\n",
    "    \n",
    "print(simulateA_given_B(10000))"
   ]
  },
  {
   "cell_type": "markdown",
   "metadata": {},
   "source": [
    "## Example 6:  Simulating Probablity Distributions"
   ]
  },
  {
   "cell_type": "markdown",
   "metadata": {},
   "source": [
    "\n",
    "Let's revisit our original coin flip example.  Suppose we want to run a simple simulation to estimate the number of times the coin comes up Heads out of 100 tosses (which we expect to be around $50$ because the coin is fair).  "
   ]
  },
  {
   "cell_type": "code",
   "execution_count": 19,
   "metadata": {},
   "outputs": [],
   "source": [
    "#Simulate one experiment \n",
    "def heads_in_n_tosses(n=100):\n",
    "    return sum(np.random.choice([\"H\",\"T\"],size=n,p=[.26, .74]) == 'H')"
   ]
  },
  {
   "cell_type": "code",
   "execution_count": 32,
   "metadata": {},
   "outputs": [
    {
     "data": {
      "image/png": "[encoded data removed]",
      "text/plain": [
       "<Figure size 432x288 with 1 Axes>"
      ]
     },
     "metadata": {
      "needs_background": "light"
     },
     "output_type": "display_data"
    }
   ],
   "source": [
    "# Repeat the experiment m times:\n",
    "num_simulations = 50000;\n",
    "\n",
    "outcomes=[]\n",
    "\n",
    "for i in np.arange(num_simulations):\n",
    "    outcomes = np.append(outcomes, heads_in_n_tosses())\n",
    "\n",
    "plt.hist(outcomes,bins=np.arange(0,50),   density=True);"
   ]
  },
  {
   "cell_type": "code",
   "execution_count": 24,
   "metadata": {},
   "outputs": [
    {
     "data": {
      "image/png": "[encoded data removed]",
      "text/plain": [
       "<Figure size 432x288 with 1 Axes>"
      ]
     },
     "metadata": {
      "needs_background": "light"
     },
     "output_type": "display_data"
    }
   ],
   "source": []
  },
  {
   "cell_type": "code",
   "execution_count": 15,
   "metadata": {},
   "outputs": [
    {
     "data": {
      "image/png": "[encoded data removed]",
      "text/plain": [
       "<Figure size 432x288 with 1 Axes>"
      ]
     },
     "metadata": {
      "needs_background": "light"
     },
     "output_type": "display_data"
    }
   ],
   "source": [
    "plt.hist(outcomes,  bins=np.arange(24.5, 76.5), density=True);"
   ]
  },
  {
   "cell_type": "code",
   "execution_count": 42,
   "metadata": {},
   "outputs": [
    {
     "data": {
      "image/png": "[encoded data removed]",
      "text/plain": [
       "<Figure size 432x288 with 1 Axes>"
      ]
     },
     "metadata": {
      "needs_background": "light"
     },
     "output_type": "display_data"
    }
   ],
   "source": [
    "from scipy.stats import poisson\n",
    "\n",
    "\n",
    "# creating a numpy array for x-axis\n",
    "x = np.arange(0, 100)\n",
    "#print(x)\n",
    " \n",
    "# poisson distribution data for y-axis\n",
    "pmf = poisson.pmf(x, mu=10, loc=0)\n",
    "#print(pmf)\n",
    " \n",
    "plt.bar(range(1,len(pmf)+1), pmf)\n",
    "plt.xticks(range(0,50,5))\n",
    "plt.xlim([0,50])\n",
    "plt.xlabel('')\n",
    "plt.ylabel('Probability')\n",
    "plt.show()"
   ]
  },
  {
   "cell_type": "code",
   "execution_count": 8,
   "metadata": {},
   "outputs": [
    {
     "data": {
      "image/png": "[encoded data removed]",
      "text/plain": [
       "<Figure size 432x288 with 1 Axes>"
      ]
     },
     "metadata": {
      "needs_background": "light"
     },
     "output_type": "display_data"
    }
   ],
   "source": [
    "from scipy.stats import poisson\n",
    "\n",
    "x = np.arange(0, 20)\n",
    "fig, ax = plt.subplots(1, 1)\n",
    "mu = 3\n",
    "p=poisson.pmf(x, mu)\n",
    "\n",
    "\n",
    "ax.bar(x, p, width=1, ec='white');\n",
    "\n",
    "plt.title(\"Distribution of Pois(3)\");\n",
    "\n",
    "# END SOLUTION\n",
    "\n",
    "# your code above this line"
   ]
  },
  {
   "cell_type": "code",
   "execution_count": null,
   "metadata": {},
   "outputs": [],
   "source": []
  }
 ],
 "metadata": {
  "kernelspec": {
   "display_name": "Python 3 (ipykernel)",
   "language": "python",
   "name": "python3"
  },
  "language_info": {
   "codemirror_mode": {
    "name": "ipython",
    "version": 3
   },
   "file_extension": ".py",
   "mimetype": "text/x-python",
   "name": "python",
   "nbconvert_exporter": "python",
   "pygments_lexer": "ipython3",
   "version": "3.9.12"
  }
 },
 "nbformat": 4,
 "nbformat_minor": 2
}
