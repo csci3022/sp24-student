{
 "cells": [
  {
   "cell_type": "markdown",
   "metadata": {},
   "source": [
    "# Lec 22: Confidence Intervals & The Bootstrap - (Filled In Code) \n",
    "***\n",
    "\n",
    "We'll need Numpy, Matplotlib, Pandas, and scipy.stats for this notebook, so let's load them. "
   ]
  },
  {
   "cell_type": "code",
   "execution_count": 1,
   "metadata": {},
   "outputs": [],
   "source": [
    "import numpy as np \n",
    "from scipy import stats\n",
    "import pandas as pd \n",
    "import matplotlib.pyplot as plt \n",
    "%matplotlib inline\n",
    "\n",
    "import math"
   ]
  },
  {
   "cell_type": "markdown",
   "metadata": {},
   "source": [
    "## Inference: Estimation\n",
    "\n",
    "For this example we'll use a dataset of compensation for public employees in San Francisco in 2019."
   ]
  },
  {
   "cell_type": "code",
   "execution_count": 2,
   "metadata": {},
   "outputs": [
    {
     "data": {
      "text/html": [
       "<div>\n",
       "<style scoped>\n",
       "    .dataframe tbody tr th:only-of-type {\n",
       "        vertical-align: middle;\n",
       "    }\n",
       "\n",
       "    .dataframe tbody tr th {\n",
       "        vertical-align: top;\n",
       "    }\n",
       "\n",
       "    .dataframe thead th {\n",
       "        text-align: right;\n",
       "    }\n",
       "</style>\n",
       "<table border=\"1\" class=\"dataframe\">\n",
       "  <thead>\n",
       "    <tr style=\"text-align: right;\">\n",
       "      <th></th>\n",
       "      <th>Organization Group</th>\n",
       "      <th>Department</th>\n",
       "      <th>Job Family</th>\n",
       "      <th>Job</th>\n",
       "      <th>Salary</th>\n",
       "      <th>Overtime</th>\n",
       "      <th>Benefits</th>\n",
       "      <th>Total Compensation</th>\n",
       "    </tr>\n",
       "  </thead>\n",
       "  <tbody>\n",
       "    <tr>\n",
       "      <th>0</th>\n",
       "      <td>Public Protection</td>\n",
       "      <td>Adult Probation</td>\n",
       "      <td>Information Systems</td>\n",
       "      <td>IS Trainer-Journey</td>\n",
       "      <td>91332.0</td>\n",
       "      <td>0.0</td>\n",
       "      <td>40059.0</td>\n",
       "      <td>131391.0</td>\n",
       "    </tr>\n",
       "    <tr>\n",
       "      <th>1</th>\n",
       "      <td>Public Protection</td>\n",
       "      <td>Adult Probation</td>\n",
       "      <td>Information Systems</td>\n",
       "      <td>IS Engineer-Assistant</td>\n",
       "      <td>123241.0</td>\n",
       "      <td>0.0</td>\n",
       "      <td>49279.0</td>\n",
       "      <td>172520.0</td>\n",
       "    </tr>\n",
       "    <tr>\n",
       "      <th>2</th>\n",
       "      <td>Public Protection</td>\n",
       "      <td>Adult Probation</td>\n",
       "      <td>Information Systems</td>\n",
       "      <td>IS Business Analyst-Senior</td>\n",
       "      <td>115715.0</td>\n",
       "      <td>0.0</td>\n",
       "      <td>46752.0</td>\n",
       "      <td>162468.0</td>\n",
       "    </tr>\n",
       "    <tr>\n",
       "      <th>3</th>\n",
       "      <td>Public Protection</td>\n",
       "      <td>Adult Probation</td>\n",
       "      <td>Information Systems</td>\n",
       "      <td>IS Business Analyst-Principal</td>\n",
       "      <td>159394.0</td>\n",
       "      <td>0.0</td>\n",
       "      <td>57312.0</td>\n",
       "      <td>216706.0</td>\n",
       "    </tr>\n",
       "    <tr>\n",
       "      <th>4</th>\n",
       "      <td>Public Protection</td>\n",
       "      <td>Adult Probation</td>\n",
       "      <td>Information Systems</td>\n",
       "      <td>IS Programmer Analyst</td>\n",
       "      <td>70035.0</td>\n",
       "      <td>0.0</td>\n",
       "      <td>28671.0</td>\n",
       "      <td>98706.0</td>\n",
       "    </tr>\n",
       "  </tbody>\n",
       "</table>\n",
       "</div>"
      ],
      "text/plain": [
       "  Organization Group       Department           Job Family  \\\n",
       "0  Public Protection  Adult Probation  Information Systems   \n",
       "1  Public Protection  Adult Probation  Information Systems   \n",
       "2  Public Protection  Adult Probation  Information Systems   \n",
       "3  Public Protection  Adult Probation  Information Systems   \n",
       "4  Public Protection  Adult Probation  Information Systems   \n",
       "\n",
       "                             Job    Salary  Overtime  Benefits  \\\n",
       "0             IS Trainer-Journey   91332.0       0.0   40059.0   \n",
       "1          IS Engineer-Assistant  123241.0       0.0   49279.0   \n",
       "2     IS Business Analyst-Senior  115715.0       0.0   46752.0   \n",
       "3  IS Business Analyst-Principal  159394.0       0.0   57312.0   \n",
       "4          IS Programmer Analyst   70035.0       0.0   28671.0   \n",
       "\n",
       "   Total Compensation  \n",
       "0            131391.0  \n",
       "1            172520.0  \n",
       "2            162468.0  \n",
       "3            216706.0  \n",
       "4             98706.0  "
      ]
     },
     "execution_count": 2,
     "metadata": {},
     "output_type": "execute_result"
    }
   ],
   "source": [
    "sf = pd.read_csv('san_francisco_2019.csv')\n",
    "sf.head()"
   ]
  },
  {
   "cell_type": "markdown",
   "metadata": {},
   "source": [
    "Suppose we're interested in a histogram of the `Total Compensation` Distribution:"
   ]
  },
  {
   "cell_type": "code",
   "execution_count": 3,
   "metadata": {},
   "outputs": [
    {
     "data": {
      "text/plain": [
       "array([[<Axes: title={'center': 'Total Compensation'}>]], dtype=object)"
      ]
     },
     "execution_count": 3,
     "metadata": {},
     "output_type": "execute_result"
    },
    {
     "data": {
      "image/png": "[encoded data removed]",
      "text/plain": [
       "<Figure size 640x480 with 1 Axes>"
      ]
     },
     "metadata": {},
     "output_type": "display_data"
    }
   ],
   "source": [
    "# Population Total Compensation Distribution \n",
    "\n",
    "\n",
    "sf.hist('Total Compensation', bins=100)"
   ]
  },
  {
   "cell_type": "code",
   "execution_count": 4,
   "metadata": {},
   "outputs": [
    {
     "data": {
      "text/plain": [
       "43936    724031.0\n",
       "43937    617951.0\n",
       "43938    617554.0\n",
       "43940    571784.0\n",
       "43939    570235.0\n",
       "Name: Total Compensation, dtype: float64"
      ]
     },
     "execution_count": 4,
     "metadata": {},
     "output_type": "execute_result"
    }
   ],
   "source": [
    "# Who made the most money\n",
    "sf['Total Compensation'].sort_values(ascending=False).head()"
   ]
  },
  {
   "cell_type": "code",
   "execution_count": 5,
   "metadata": {},
   "outputs": [
    {
     "data": {
      "text/plain": [
       "18526    0.0\n",
       "43234    0.0\n",
       "22329    0.0\n",
       "32865    0.0\n",
       "38732    0.0\n",
       "Name: Total Compensation, dtype: float64"
      ]
     },
     "execution_count": 5,
     "metadata": {},
     "output_type": "execute_result"
    }
   ],
   "source": [
    "# Who made the least money\n",
    "sf['Total Compensation'].sort_values().head()"
   ]
  },
  {
   "cell_type": "code",
   "execution_count": 6,
   "metadata": {},
   "outputs": [
    {
     "data": {
      "text/plain": [
       "Text(0.5, 0, 'Compensation ($)')"
      ]
     },
     "execution_count": 6,
     "metadata": {},
     "output_type": "execute_result"
    },
    {
     "data": {
      "image/png": "[encoded data removed]",
      "text/plain": [
       "<Figure size 640x480 with 1 Axes>"
      ]
     },
     "metadata": {},
     "output_type": "display_data"
    }
   ],
   "source": [
    "# We see a lot of outlier data with $0 compensation.  Let's filter this out for our analysis by using\n",
    "# a cutoff of minimum salary.  Let's include people working at  minimum wage part-time:\n",
    "# $15/hr, 20 hr/wk, 52 weeks\n",
    "min_salary = 15 * 20 * 52\n",
    "sf = sf[sf[\"Salary\"]>=min_salary]\n",
    "\n",
    "sf_bins = np.arange(0, 726000, 25000)\n",
    "\n",
    "\n",
    "\n",
    "plt.hist(sf[\"Total Compensation\"],density=True, ec='white', bins=30);\n",
    "plt.title(\"Distribution of Population\")\n",
    "plt.xlabel(\"Compensation ($)\")\n",
    "\n"
   ]
  },
  {
   "cell_type": "markdown",
   "metadata": {},
   "source": [
    "### Defining the Statistic\n",
    "\n",
    "Here we are interested in the median (50% percentile) of the total compensation. "
   ]
  },
  {
   "cell_type": "code",
   "execution_count": 7,
   "metadata": {},
   "outputs": [],
   "source": [
    "# Statistic: Median total compensation \n",
    "def median_comp(t):\n",
    "    return t['Total Compensation'].median()"
   ]
  },
  {
   "cell_type": "markdown",
   "metadata": {},
   "source": [
    "### The Population Parameter\n",
    "\n",
    "We have access to the population so we can compute the **parameter** but in practice we typically won't have access to the population and instead we will have to *estimate* the parameter from a **sample**."
   ]
  },
  {
   "cell_type": "code",
   "execution_count": 8,
   "metadata": {},
   "outputs": [
    {
     "name": "stdout",
     "output_type": "stream",
     "text": [
      "Parameter Value: 136164.0\n"
     ]
    }
   ],
   "source": [
    "pop_median = median_comp(sf)\n",
    "print(\"Parameter Value:\", pop_median)"
   ]
  },
  {
   "cell_type": "markdown",
   "metadata": {},
   "source": [
    "### The Sample\n",
    "\n",
    "In practice, the data we would get from most studies would be a **simple random sample** of the entire population.  This is because collecting a full census is challenging and expensive.\n"
   ]
  },
  {
   "cell_type": "code",
   "execution_count": 9,
   "metadata": {},
   "outputs": [],
   "source": [
    "# Collecting a Simple Random Sample from the data:\n",
    "sample_size = 400\n",
    "orig_sample = sf.sample(sample_size, replace=False)"
   ]
  },
  {
   "cell_type": "markdown",
   "metadata": {},
   "source": [
    "In the code below we plot the population distribution next to the distribution of a random sample of size 400."
   ]
  },
  {
   "cell_type": "code",
   "execution_count": 10,
   "metadata": {},
   "outputs": [
    {
     "name": "stdout",
     "output_type": "stream",
     "text": [
      "Population median is: 136164.0 and Median of our 1 Sample is: 135522.5\n"
     ]
    },
    {
     "data": {
      "image/png": "[encoded data removed]",
      "text/plain": [
       "<Figure size 1500x500 with 2 Axes>"
      ]
     },
     "metadata": {},
     "output_type": "display_data"
    }
   ],
   "source": [
    "\n",
    "\n",
    "fig, ax = plt.subplots(1,2, figsize=(15,5))\n",
    "\n",
    "# Population Parameter: Median Total Compensation \n",
    "pop_median = sf['Total Compensation'].median()\n",
    "pop_median\n",
    "\n",
    "\n",
    "ax[0].hist(sf[\"Total Compensation\"],density=True, ec='white', bins=30);\n",
    "ax[0].set_title(\"Distribution of Population\")\n",
    "ax[0].set_xlabel(\"Compensation ($)\")\n",
    "ax[0].set_xlim(0, 700000)\n",
    "ax[0].scatter(pop_median, -.00000001, color=\"green\", s=45, zorder=3, label=\"Pop Median\");\n",
    "ax[0].legend()\n",
    "\n",
    "\n",
    "# Plot a sample of size 400\n",
    "\n",
    "\n",
    "\n",
    "sample_median = orig_sample[\"Total Compensation\"].median()\n",
    "\n",
    "ax[1].hist(orig_sample[\"Total Compensation\"],density=True, ec='white', bins=30);\n",
    "ax[1].set_title(\"Distribution of Random Sample, Size=\"+str(sample_size))\n",
    "ax[1].set_xlabel(\"Compensation ($)\")\n",
    "ax[1].set_xlim(0, 700000)\n",
    "ax[1].scatter(pop_median, -.00000001, color=\"green\", s=45, zorder=3, label=\"Pop Median\");\n",
    "ax[1].scatter(sample_median, -.00000001, c=1.5, s=45, zorder=3, label=\"Sample Median\");\n",
    "ax[1].legend()\n",
    "\n",
    "print(\"Population median is:\",pop_median, \"and Median of our 1 Sample is:\",sample_median )"
   ]
  },
  {
   "cell_type": "markdown",
   "metadata": {},
   "source": [
    "However, our random sample *could have been different*. Then our estimate would have been different too. To see how different, we need another sample.\n"
   ]
  },
  {
   "cell_type": "markdown",
   "metadata": {},
   "source": [
    "## Variability of the Estimator"
   ]
  },
  {
   "cell_type": "code",
   "execution_count": 11,
   "metadata": {},
   "outputs": [],
   "source": [
    "def generate_sample_median(samp_size):\n",
    "    new_sample = sf.sample(samp_size, replace=False)\n",
    "    return new_sample[\"Total Compensation\"].median()"
   ]
  },
  {
   "cell_type": "code",
   "execution_count": 12,
   "metadata": {},
   "outputs": [
    {
     "data": {
      "text/plain": [
       "135697.0"
      ]
     },
     "execution_count": 12,
     "metadata": {},
     "output_type": "execute_result"
    }
   ],
   "source": [
    "generate_sample_median(400)"
   ]
  },
  {
   "cell_type": "markdown",
   "metadata": {},
   "source": [
    "## Quantifying Uncertainty:  Sampling Distribution of the Sample Median (using repeated samples from the population):"
   ]
  },
  {
   "cell_type": "code",
   "execution_count": 13,
   "metadata": {},
   "outputs": [],
   "source": [
    "sample_medians= np.array([generate_sample_median(400) for i in range(1000)])"
   ]
  },
  {
   "cell_type": "code",
   "execution_count": 14,
   "metadata": {
    "scrolled": true
   },
   "outputs": [
    {
     "data": {
      "image/png": "[encoded data removed]",
      "text/plain": [
       "<Figure size 640x480 with 1 Axes>"
      ]
     },
     "metadata": {},
     "output_type": "display_data"
    }
   ],
   "source": [
    "med_bins = np.arange(120000, 160000, 2000)\n",
    "plt.hist(sample_medians,med_bins, density=True, ec='white');\n",
    "plt.xlabel(\"Sample Medians\")\n",
    "plt.ylabel(\"Percent per unit\")\n",
    "plt.title(\"Sampling Distribution of the Sample Median\")\n",
    "parameter_green = '#32CD32'\n",
    "plt.scatter(pop_median, 0, color=parameter_green, s=40, zorder=3);"
   ]
  },
  {
   "cell_type": "markdown",
   "metadata": {},
   "source": [
    "### Problem!\n",
    "But in the real world we won't be able to keep going back to the population to get new samples (it costs time and money). How to approximate the sampling distribution of the statistic without having to keep resampling the population?"
   ]
  },
  {
   "cell_type": "markdown",
   "metadata": {},
   "source": [
    "<br><br><br><br>\n",
    "\n",
    "---\n",
    "\n",
    "Return to Slides\n",
    "\n",
    "---\n",
    "\n",
    "<br><br><br><br>\n"
   ]
  },
  {
   "cell_type": "markdown",
   "metadata": {},
   "source": [
    "# Bootstrapping the Sampling Distribution of the Statistic\n",
    "\n",
    "- Sample randomly:\n",
    "  - from the original sample\n",
    "  - with replacement\n",
    "  - the same number of times as the original sample size\n",
    " \n",
    "- Compute the statistic using the bootstrapped sample:"
   ]
  },
  {
   "cell_type": "code",
   "execution_count": 15,
   "metadata": {},
   "outputs": [
    {
     "data": {
      "text/html": [
       "<div>\n",
       "<style scoped>\n",
       "    .dataframe tbody tr th:only-of-type {\n",
       "        vertical-align: middle;\n",
       "    }\n",
       "\n",
       "    .dataframe tbody tr th {\n",
       "        vertical-align: top;\n",
       "    }\n",
       "\n",
       "    .dataframe thead th {\n",
       "        text-align: right;\n",
       "    }\n",
       "</style>\n",
       "<table border=\"1\" class=\"dataframe\">\n",
       "  <thead>\n",
       "    <tr style=\"text-align: right;\">\n",
       "      <th></th>\n",
       "      <th>Unnamed: 0</th>\n",
       "      <th>Organization Group</th>\n",
       "      <th>Department</th>\n",
       "      <th>Job Family</th>\n",
       "      <th>Job</th>\n",
       "      <th>Salary</th>\n",
       "      <th>Overtime</th>\n",
       "      <th>Benefits</th>\n",
       "      <th>Total Compensation</th>\n",
       "    </tr>\n",
       "  </thead>\n",
       "  <tbody>\n",
       "    <tr>\n",
       "      <th>0</th>\n",
       "      <td>30718</td>\n",
       "      <td>Community Health</td>\n",
       "      <td>Public Health</td>\n",
       "      <td>Human Services</td>\n",
       "      <td>Hospital Eligibility Worker</td>\n",
       "      <td>15746.0</td>\n",
       "      <td>230.0</td>\n",
       "      <td>1240.0</td>\n",
       "      <td>17216.0</td>\n",
       "    </tr>\n",
       "    <tr>\n",
       "      <th>1</th>\n",
       "      <td>26940</td>\n",
       "      <td>Community Health</td>\n",
       "      <td>Public Health</td>\n",
       "      <td>Payroll, Billing &amp; Accounting</td>\n",
       "      <td>Accountant III</td>\n",
       "      <td>111816.0</td>\n",
       "      <td>0.0</td>\n",
       "      <td>46250.0</td>\n",
       "      <td>158066.0</td>\n",
       "    </tr>\n",
       "    <tr>\n",
       "      <th>2</th>\n",
       "      <td>26746</td>\n",
       "      <td>Community Health</td>\n",
       "      <td>Public Health</td>\n",
       "      <td>Information Systems</td>\n",
       "      <td>IS Business Analyst-Principal</td>\n",
       "      <td>106571.0</td>\n",
       "      <td>0.0</td>\n",
       "      <td>17000.0</td>\n",
       "      <td>123570.0</td>\n",
       "    </tr>\n",
       "    <tr>\n",
       "      <th>3</th>\n",
       "      <td>22031</td>\n",
       "      <td>Public Works, Transportation &amp; Commerce</td>\n",
       "      <td>Public Utilities Commission</td>\n",
       "      <td>Supervisory-Labor &amp; Trade</td>\n",
       "      <td>Sewer Repair Supervisor</td>\n",
       "      <td>145342.0</td>\n",
       "      <td>10646.0</td>\n",
       "      <td>49299.0</td>\n",
       "      <td>205287.0</td>\n",
       "    </tr>\n",
       "    <tr>\n",
       "      <th>4</th>\n",
       "      <td>9420</td>\n",
       "      <td>Public Works, Transportation &amp; Commerce</td>\n",
       "      <td>Airport Commission</td>\n",
       "      <td>Management</td>\n",
       "      <td>Manager IV</td>\n",
       "      <td>152315.0</td>\n",
       "      <td>0.0</td>\n",
       "      <td>58910.0</td>\n",
       "      <td>211225.0</td>\n",
       "    </tr>\n",
       "  </tbody>\n",
       "</table>\n",
       "</div>"
      ],
      "text/plain": [
       "   Unnamed: 0                       Organization Group  \\\n",
       "0       30718                         Community Health   \n",
       "1       26940                         Community Health   \n",
       "2       26746                         Community Health   \n",
       "3       22031  Public Works, Transportation & Commerce   \n",
       "4        9420  Public Works, Transportation & Commerce   \n",
       "\n",
       "                    Department                     Job Family  \\\n",
       "0                Public Health                 Human Services   \n",
       "1                Public Health  Payroll, Billing & Accounting   \n",
       "2                Public Health            Information Systems   \n",
       "3  Public Utilities Commission      Supervisory-Labor & Trade   \n",
       "4           Airport Commission                     Management   \n",
       "\n",
       "                             Job    Salary  Overtime  Benefits  \\\n",
       "0    Hospital Eligibility Worker   15746.0     230.0    1240.0   \n",
       "1                 Accountant III  111816.0       0.0   46250.0   \n",
       "2  IS Business Analyst-Principal  106571.0       0.0   17000.0   \n",
       "3        Sewer Repair Supervisor  145342.0   10646.0   49299.0   \n",
       "4                     Manager IV  152315.0       0.0   58910.0   \n",
       "\n",
       "   Total Compensation  \n",
       "0             17216.0  \n",
       "1            158066.0  \n",
       "2            123570.0  \n",
       "3            205287.0  \n",
       "4            211225.0  "
      ]
     },
     "execution_count": 15,
     "metadata": {},
     "output_type": "execute_result"
    }
   ],
   "source": [
    "# Here we load the (fictional) sample that was taken by Prof. Oscamou\n",
    "# We are all going to use the same one sample for the next few steps so that \n",
    "# we get the same answer for this first demo:\n",
    "\n",
    "sample_sf = pd.read_csv(\"sf_sample.csv\")\n",
    "sample_sf.head(5)"
   ]
  },
  {
   "cell_type": "code",
   "execution_count": 2,
   "metadata": {},
   "outputs": [],
   "source": [
    "def one_bootstrapped_statistic(sample, statistic):\n",
    "    # Step 1: Sample the Sample WITH replacement\n",
    "    bootstrap_sample = sample.sample(frac=1, replace=True)\n",
    "        \n",
    "    # Step 2: compute statistic on the sample of the sample\n",
    "    bootstrap_stat = statistic(bootstrap_sample)\n",
    "    \n",
    "    return bootstrap_stat\n",
    "    "
   ]
  },
  {
   "cell_type": "markdown",
   "metadata": {},
   "source": [
    "- Repeat above steps **10,000** times and plot the distribution of the statistic"
   ]
  },
  {
   "cell_type": "code",
   "execution_count": 3,
   "metadata": {},
   "outputs": [],
   "source": [
    "def bootstrapper(sample, statistic, num_repetitions=10000):\n",
    "    \"\"\"\n",
    "    Returns the statistic computed on a num_repetitions  \n",
    "    bootstrap samples from sample.\n",
    "    \"\"\"\n",
    "    bstrap_stats = np.array([one_bootstrapped_statistic(sample,statistic) for i in np.arange(num_repetitions)])\n",
    "\n",
    "    return bstrap_stats    "
   ]
  },
  {
   "cell_type": "code",
   "execution_count": 18,
   "metadata": {},
   "outputs": [],
   "source": [
    "bootstrap_medians = bootstrapper(sample_sf, median_comp, 10000)"
   ]
  },
  {
   "cell_type": "markdown",
   "metadata": {},
   "source": [
    "### Examining the Bootstrapped Distribution of the Statistic\n",
    "\n",
    "When using the boostrap it is important to always plot the distribution of the statistic.  In general when using **the percentile bootstrapping method for calculating confidence intervals** we are looking for a distribution that is **roughly symmetric and bell-shaped**, in order for our L% confidence intervals to correctly contain the actual population parameter L% of the time."
   ]
  },
  {
   "cell_type": "code",
   "execution_count": 19,
   "metadata": {},
   "outputs": [
    {
     "data": {
      "text/plain": [
       "<matplotlib.legend.Legend at 0x7fd03018d690>"
      ]
     },
     "execution_count": 19,
     "metadata": {},
     "output_type": "execute_result"
    },
    {
     "data": {
      "image/png": "[encoded data removed]",
      "text/plain": [
       "<Figure size 640x480 with 1 Axes>"
      ]
     },
     "metadata": {},
     "output_type": "display_data"
    }
   ],
   "source": [
    "plt.hist(bootstrap_medians, density=True, ec='white');\n",
    "\n",
    "parameter_green = '#32CD32'\n",
    "\n",
    "plt.scatter(pop_median, 0, color=parameter_green, s=40, zorder=2, label = \"Pop Median\")\n",
    "plt.title('Bootstrapped Sampling Distribution of Sample Medians');\n",
    "plt.xlabel('Median Total Compensation ($)')\n",
    "plt.legend()\n",
    "          \n",
    "    "
   ]
  },
  {
   "cell_type": "markdown",
   "metadata": {},
   "source": [
    "## Creating a L% Confidence Interval Using the Percentile Method:  Middle L% of the Bootstrap Estimates \n",
    "\n",
    "We compute the confidence interval for our desired **confidence level** using the following code:"
   ]
  },
  {
   "cell_type": "code",
   "execution_count": 4,
   "metadata": {},
   "outputs": [],
   "source": [
    "def compute_ci(bs_samples, confidence_level):\n",
    "    \"\"\"\n",
    "    Returns the confidence interval for the provided bootstrap samples\n",
    "    and desired confidence level, using the percentile method.\n",
    "    \"\"\"\n",
    "    tail_size = (100-confidence_level)/2\n",
    "    lower, upper = np.percentile(bs_samples, [tail_size, 100-tail_size])\n",
    "    return [lower, upper]"
   ]
  },
  {
   "cell_type": "code",
   "execution_count": 21,
   "metadata": {},
   "outputs": [
    {
     "data": {
      "text/plain": [
       "[127160.0, 138148.5]"
      ]
     },
     "execution_count": 21,
     "metadata": {},
     "output_type": "execute_result"
    }
   ],
   "source": [
    "ci = compute_ci(bootstrap_medians, 95)\n",
    "ci"
   ]
  },
  {
   "cell_type": "markdown",
   "metadata": {},
   "source": [
    "### Visualizing the Confidence Interval"
   ]
  },
  {
   "cell_type": "code",
   "execution_count": 22,
   "metadata": {},
   "outputs": [
    {
     "data": {
      "text/plain": [
       "<matplotlib.legend.Legend at 0x7fd030042260>"
      ]
     },
     "execution_count": 22,
     "metadata": {},
     "output_type": "execute_result"
    },
    {
     "data": {
      "image/png": "[encoded data removed]",
      "text/plain": [
       "<Figure size 640x480 with 1 Axes>"
      ]
     },
     "metadata": {},
     "output_type": "display_data"
    }
   ],
   "source": [
    "plt.hist(bootstrap_medians, density=True, ec='white');\n",
    "\n",
    "# cool python trick to deconstruct the array!\n",
    "[left, right] = compute_ci(bootstrap_medians, 95)\n",
    "\n",
    "# Plotting CI \n",
    "plt.plot([left, right], [0, 0], color='red', lw=5, zorder=1, label = \"95% CI\")\n",
    "\n",
    "# Plotting actual population median (usually unknown)\n",
    "plt.scatter(pop_median, 0, color=parameter_green, s=40, zorder=2, label = \"Pop median\");\n",
    "\n",
    "\n",
    "plt.title('Bootstrapped Sampling Distribution of Sample Medians');\n",
    "plt.xlabel('Median Total Compensation ($)')\n",
    "plt.legend()"
   ]
  },
  {
   "cell_type": "markdown",
   "metadata": {},
   "source": [
    "<br><br><br><br>\n",
    "\n",
    "---\n",
    "\n",
    "Return to Slides\n",
    "\n",
    "---\n",
    "\n",
    "<br><br><br><br>\n"
   ]
  },
  {
   "cell_type": "markdown",
   "metadata": {},
   "source": [
    "## Visualizing the Accuracy of Bootstrapped Percentile Confidence Intervals  \n",
    "*** \n",
    "\n",
    "The function CI_test below allows us to repeat the entire process of creating a confidence interval from start to finish using a fresh random sample each time.\n",
    "\n",
    "We can visualize the coverage of the bootstrapped confidence intervals at the 95% confidence level for the median of the Total Compensation.  Recall that you know that the true population median is `pop_median` = 136164"
   ]
  },
  {
   "cell_type": "code",
   "execution_count": null,
   "metadata": {},
   "outputs": [],
   "source": [
    "def CI_test(sample_size, pop_median, num_CIs, num_boots, conf_level=95):\n",
    "    \n",
    "    \n",
    "    fig, ax = plt.subplots(nrows=1, ncols=1, figsize=(12,6))\n",
    "    \n",
    "    \n",
    "    ax.plot([pop_median, pop_median],[0,num_CIs],  color=\"green\", ls='--', lw=3, label = \"Pop Median\")\n",
    "       # Horizontal line marking the mean\n",
    "        \n",
    "    for jj in range(num_CIs):\n",
    "        # Take a random sample:\n",
    "        sample1=sf.sample(sample_size,replace=False)\n",
    "        \n",
    "        bootstrap_med1 = bootstrapper(sample1, median_comp, 10000)\n",
    "        \n",
    "        # Calculate the bootstrapped CI for that sample\n",
    "        L, U = compute_ci(bootstrap_med1, conf_level)\n",
    "        CI = np.array([L, U])\n",
    "        ax.plot([L, U],[jj, jj])\n",
    "        \n",
    "        \n",
    "            \n",
    "        \n",
    "    ax.set_ylim([-1,num_CIs+1])\n",
    "    plt.yticks(range(num_CIs), fontsize=12)\n",
    "    plt.xlabel(\"Total Compensation ($)\")\n",
    "    plt.ylabel(\"20 different Confidence Intervals from 20 different samples\")\n",
    "    plt.title(\"Examples of \" + str(conf_level)+ \"% Bootstrapped Confidence Intervals for Population Median\")\n",
    "    ax.legend()\n",
    "        \n",
    "CI_test(400, pop_median,num_CIs=20, num_boots=10000, conf_level=95)\n",
    "# Call the function"
   ]
  },
  {
   "cell_type": "markdown",
   "metadata": {},
   "source": [
    "---\n",
    "\n",
    "## Changing Confidence Level - Effect on Confidence Intervals"
   ]
  },
  {
   "cell_type": "code",
   "execution_count": null,
   "metadata": {},
   "outputs": [],
   "source": [
    "plt.hist(bootstrap_medians, density=True, ec='white');\n",
    "\n",
    "\n",
    "[left1, right1] = compute_ci(bootstrap_medians, 95)\n",
    "\n",
    "\n",
    "[left2, right2] = compute_ci(bootstrap_medians, 80)\n",
    "\n",
    "# Plotting CI \n",
    "plt.plot([left1, right1], [0, 0], color='red', lw=5, zorder=1, label = \"95% CI\")\n",
    "plt.plot([left2, right2], [-0.000001, -.000001], color='orange', lw=5, zorder=1, label = \"90% CI\")\n",
    "\n",
    "\n",
    "# Plotting actual population median (usually unknown)\n",
    "plt.scatter(pop_median, 0, color=parameter_green, s=40, zorder=2, label = \"Pop median\");\n",
    "\n",
    "\n",
    "plt.title('Bootstrapped Sampling Distribution of Sample Medians');\n",
    "plt.xlabel('Median Total Compensation ($)')\n",
    "plt.legend()"
   ]
  },
  {
   "cell_type": "markdown",
   "metadata": {},
   "source": [
    "---\n",
    "\n",
    "## Changing Sample Sizes - Effect on Confidence Intervals\n",
    "\n",
    "The results we saw above were dependent on our sample distribution accuractely representing the population distribution.  This is only the case if we take a random sample and if it's large enough. \n",
    "\n",
    "Let's look at what happens if we use smaller sample sizes.   How accurate are our 95% Bootstrap Estimates of the Parameter for different sample sizes? "
   ]
  },
  {
   "cell_type": "code",
   "execution_count": null,
   "metadata": {},
   "outputs": [],
   "source": [
    "intervals = pd.DataFrame(columns = ['lower', 'upper', 'median', 'good', 'sample size' ])\n",
    "\n",
    "sample_sizes = [2,8,16,50, 100]\n",
    "for sample_size in sample_sizes:\n",
    "    for trial in np.arange(20): # Run 20 trials of each configuration\n",
    "        # Pay for one new random sample from the population\n",
    "        og_sample = sf.sample(sample_size, replace=False)\n",
    "        \n",
    "        # Compute the statistic on the sample\n",
    "        sample_median = median_comp(og_sample)\n",
    "        \n",
    "        # Generate the medians of 10000 bootstrap samples\n",
    "        bootstrap_medians = bootstrapper(og_sample, median_comp, 10000)\n",
    "        \n",
    "        # Construct the confidence interval\n",
    "        [ci_lower, ci_upper] = compute_ci(bootstrap_medians, 95)\n",
    "        \n",
    "        # Determine if the confidence interval is good (i.e. does it actually contain the population parameter)\n",
    "        is_good = ci_lower <= pop_median <= ci_upper\n",
    "        \n",
    "        # Add a row with this data to the DataFrame\n",
    "        \n",
    "        intervals.loc[len(intervals.index)] = [ci_lower, ci_upper, sample_median, is_good, str(sample_size)]\n",
    "    \n",
    "\n",
    "        \n",
    "\n",
    "# Add an experiment number\n",
    "intervals[\"Experiment\"]= np.arange(intervals.shape[0])"
   ]
  },
  {
   "cell_type": "code",
   "execution_count": null,
   "metadata": {},
   "outputs": [],
   "source": [
    "intervals"
   ]
  },
  {
   "cell_type": "markdown",
   "metadata": {},
   "source": [
    "Here we render a plot of all the confidence intervals with the true value depicted as a solid vertical line.  "
   ]
  },
  {
   "cell_type": "code",
   "execution_count": null,
   "metadata": {},
   "outputs": [],
   "source": [
    "import plotly.express as px\n",
    "\n",
    "# Plotly will draw error bars which are the distance in each direction\n",
    "# from the median\n",
    "intervals[\"error_left\"] = intervals[\"median\"]-intervals[\"lower\"]\n",
    "intervals[\"error_right\"] = intervals[\"upper\"]-intervals[\"median\"]\n",
    "\n",
    "\n",
    "# Making the plot\n",
    "fig = px.scatter(\n",
    "    x=intervals[\"median\"], # X location of my interval center dot\n",
    "    y=intervals[\"Experiment\"], # Y location of my interval center dot \n",
    "    color=intervals[\"sample size\"], # The color to use.\n",
    "    symbol=intervals[\"good\"], # The column to use for the symbol\n",
    "    symbol_map={True: \"circle\", False: \"circle-open\"},\n",
    "    error_x=intervals[\"error_right\"], # upper error bar size\n",
    "    error_x_minus=intervals[\"error_left\"], # lower error bar size\n",
    "    height=800)\n",
    "fig.add_vline(pop_median)\n",
    "#ax.title(\"95% Confidence Intervals for Different Sample Sizes\")"
   ]
  },
  {
   "cell_type": "markdown",
   "metadata": {},
   "source": [
    "<br><br><br><br>\n",
    "\n",
    "---\n",
    "\n",
    "Return to Slides\n",
    "\n",
    "---\n",
    "\n",
    "<br><br><br><br>\n"
   ]
  },
  {
   "cell_type": "markdown",
   "metadata": {},
   "source": [
    "## Confidence Interval for Unknown Population Mean\n",
    "\n",
    "Now let's look at a more appropriate use of the bootstrap (when we don't have the population).  The baby data from our prior lectures had a random sample of moms."
   ]
  },
  {
   "cell_type": "code",
   "execution_count": 5,
   "metadata": {},
   "outputs": [
    {
     "data": {
      "text/html": [
       "<div>\n",
       "<style scoped>\n",
       "    .dataframe tbody tr th:only-of-type {\n",
       "        vertical-align: middle;\n",
       "    }\n",
       "\n",
       "    .dataframe tbody tr th {\n",
       "        vertical-align: top;\n",
       "    }\n",
       "\n",
       "    .dataframe thead th {\n",
       "        text-align: right;\n",
       "    }\n",
       "</style>\n",
       "<table border=\"1\" class=\"dataframe\">\n",
       "  <thead>\n",
       "    <tr style=\"text-align: right;\">\n",
       "      <th></th>\n",
       "      <th>Birth Weight</th>\n",
       "      <th>Gestational Days</th>\n",
       "      <th>Maternal Age</th>\n",
       "      <th>Maternal Height</th>\n",
       "      <th>Maternal Pregnancy Weight</th>\n",
       "      <th>Maternal Smoker</th>\n",
       "    </tr>\n",
       "  </thead>\n",
       "  <tbody>\n",
       "    <tr>\n",
       "      <th>0</th>\n",
       "      <td>120</td>\n",
       "      <td>284</td>\n",
       "      <td>27</td>\n",
       "      <td>62</td>\n",
       "      <td>100</td>\n",
       "      <td>False</td>\n",
       "    </tr>\n",
       "    <tr>\n",
       "      <th>1</th>\n",
       "      <td>113</td>\n",
       "      <td>282</td>\n",
       "      <td>33</td>\n",
       "      <td>64</td>\n",
       "      <td>135</td>\n",
       "      <td>False</td>\n",
       "    </tr>\n",
       "    <tr>\n",
       "      <th>2</th>\n",
       "      <td>128</td>\n",
       "      <td>279</td>\n",
       "      <td>28</td>\n",
       "      <td>64</td>\n",
       "      <td>115</td>\n",
       "      <td>True</td>\n",
       "    </tr>\n",
       "    <tr>\n",
       "      <th>3</th>\n",
       "      <td>108</td>\n",
       "      <td>282</td>\n",
       "      <td>23</td>\n",
       "      <td>67</td>\n",
       "      <td>125</td>\n",
       "      <td>True</td>\n",
       "    </tr>\n",
       "    <tr>\n",
       "      <th>4</th>\n",
       "      <td>136</td>\n",
       "      <td>286</td>\n",
       "      <td>25</td>\n",
       "      <td>62</td>\n",
       "      <td>93</td>\n",
       "      <td>False</td>\n",
       "    </tr>\n",
       "  </tbody>\n",
       "</table>\n",
       "</div>"
      ],
      "text/plain": [
       "   Birth Weight  Gestational Days  Maternal Age  Maternal Height  \\\n",
       "0           120               284            27               62   \n",
       "1           113               282            33               64   \n",
       "2           128               279            28               64   \n",
       "3           108               282            23               67   \n",
       "4           136               286            25               62   \n",
       "\n",
       "   Maternal Pregnancy Weight  Maternal Smoker  \n",
       "0                        100            False  \n",
       "1                        135            False  \n",
       "2                        115             True  \n",
       "3                        125             True  \n",
       "4                         93            False  "
      ]
     },
     "execution_count": 5,
     "metadata": {},
     "output_type": "execute_result"
    }
   ],
   "source": [
    "# Random sample of mother-newborn pairs\n",
    "births = pd.read_csv('baby.csv')\n",
    "births.head()"
   ]
  },
  {
   "cell_type": "markdown",
   "metadata": {},
   "source": [
    "What is the average age of moms who are having children in the entire population?\n",
    "\n",
    "**Parameter:** Average age of moms when they give birth to first child.\n",
    "\n",
    "**Statistic:** Average age of moms in our sample."
   ]
  },
  {
   "cell_type": "code",
   "execution_count": 6,
   "metadata": {},
   "outputs": [
    {
     "data": {
      "text/plain": [
       "27.228279386712096"
      ]
     },
     "execution_count": 6,
     "metadata": {},
     "output_type": "execute_result"
    }
   ],
   "source": [
    "# Average age of mothers in the sample\n",
    "births['Maternal Age'].mean()"
   ]
  },
  {
   "cell_type": "markdown",
   "metadata": {},
   "source": [
    "Remember there was a distribution of ages in the sample."
   ]
  },
  {
   "cell_type": "code",
   "execution_count": 7,
   "metadata": {},
   "outputs": [
    {
     "data": {
      "text/plain": [
       "Text(0.5, 1.0, \"Distribution of Mother's Age in our SAMPLE\")"
      ]
     },
     "execution_count": 7,
     "metadata": {},
     "output_type": "execute_result"
    },
    {
     "data": {
      "image/png": "[encoded data removed]",
      "text/plain": [
       "<Figure size 432x288 with 1 Axes>"
      ]
     },
     "metadata": {
      "needs_background": "light"
     },
     "output_type": "display_data"
    }
   ],
   "source": [
    "births.hist('Maternal Age')\n",
    "plt.title(\"Distribution of Mother's Age in our SAMPLE\")\n"
   ]
  },
  {
   "cell_type": "markdown",
   "metadata": {},
   "source": [
    "### Compute the Sample Statistic\n",
    "Since we are interested in estimating the average age of mothers in the population we will use the average age statistic:"
   ]
  },
  {
   "cell_type": "code",
   "execution_count": 8,
   "metadata": {},
   "outputs": [],
   "source": [
    "def avg_maternal_age(sample):\n",
    "    return sample[\"Maternal Age\"].mean()"
   ]
  },
  {
   "cell_type": "code",
   "execution_count": 9,
   "metadata": {},
   "outputs": [
    {
     "data": {
      "text/plain": [
       "27.228279386712096"
      ]
     },
     "execution_count": 9,
     "metadata": {},
     "output_type": "execute_result"
    }
   ],
   "source": [
    "sample_statistic = avg_maternal_age(births)\n",
    "sample_statistic"
   ]
  },
  {
   "cell_type": "markdown",
   "metadata": {},
   "source": [
    "### Use the Bootstrap to Estimate the CI \n",
    "\n",
    "The interval of estimates is the \"middle 95%\" of the bootstrap estimates.\n",
    "\n",
    "This is called a *95% confidence interval* for the **mean age in the population**.\n"
   ]
  },
  {
   "cell_type": "code",
   "execution_count": 10,
   "metadata": {},
   "outputs": [
    {
     "data": {
      "text/plain": [
       "[26.903747870528107, 27.56047700170358]"
      ]
     },
     "execution_count": 10,
     "metadata": {},
     "output_type": "execute_result"
    }
   ],
   "source": [
    "bootstrap_means = bootstrapper(births, avg_maternal_age, 10000)\n",
    "avg_maternal_age_ci = compute_ci(bootstrap_means, confidence_level=95)\n",
    "avg_maternal_age_ci"
   ]
  },
  {
   "cell_type": "code",
   "execution_count": 11,
   "metadata": {},
   "outputs": [
    {
     "data": {
      "text/plain": [
       "<matplotlib.legend.Legend at 0x7fa06870a130>"
      ]
     },
     "execution_count": 11,
     "metadata": {},
     "output_type": "execute_result"
    },
    {
     "data": {
      "image/png": "[encoded data removed]",
      "text/plain": [
       "<Figure size 432x288 with 1 Axes>"
      ]
     },
     "metadata": {
      "needs_background": "light"
     },
     "output_type": "display_data"
    }
   ],
   "source": [
    "plt.hist(bootstrap_means, density=True, ec='white');\n",
    "\n",
    "\n",
    "[left, right] = avg_maternal_age_ci\n",
    "plt.plot([left, right], [0, 0], color='yellow', lw=8, label = \"95% CI\");\n",
    "plt.title(\"Bootstrapped Sampling Distribution of Sample Mean\")\n",
    "plt.xlabel(\"Average Maternal Age (Yrs)\")\n",
    "plt.legend()\n"
   ]
  },
  {
   "cell_type": "code",
   "execution_count": 12,
   "metadata": {},
   "outputs": [
    {
     "data": {
      "image/png": "[encoded data removed]",
      "text/plain": [
       "<Figure size 432x288 with 1 Axes>"
      ]
     },
     "metadata": {
      "needs_background": "light"
     },
     "output_type": "display_data"
    }
   ],
   "source": [
    "# Now we can visualize this interval back on our sample\n",
    "# Notice tiny yellow bar at the bottom:\n",
    "births.hist('Maternal Age')\n",
    "plt.title(\"Distribution of Age in our SAMPLE\")\n",
    "\n",
    "plt.plot([left, right], [0, 0], color='yellow', lw=10);"
   ]
  },
  {
   "cell_type": "markdown",
   "metadata": {},
   "source": [
    "<br><br><br><br>\n",
    "\n",
    "---\n",
    "\n",
    "Return to Slides\n",
    "\n",
    "---\n",
    "\n",
    "<br><br><br><br>\n"
   ]
  },
  {
   "cell_type": "markdown",
   "metadata": {
    "tags": []
   },
   "source": [
    "## Using the Confidence Interval for Testing Hypotheses\n",
    "\n",
    "**Null:** The average age of mothers in the population is 25 years; the random sample average is different due to chance.\n",
    "\n",
    "**Alternative:** The average age of the mothers in the population is **not** 25 years.\n",
    "\n",
    "Suppose you use the 5% cutoff for the p-value.\n",
    "\n",
    "Based on the confidence interval, which hypothesis would you pick?"
   ]
  },
  {
   "cell_type": "code",
   "execution_count": 13,
   "metadata": {},
   "outputs": [
    {
     "data": {
      "text/plain": [
       "[26.902874787052813, 27.551980408858604]"
      ]
     },
     "execution_count": 13,
     "metadata": {},
     "output_type": "execute_result"
    }
   ],
   "source": [
    "bootstrap_means = bootstrapper(births, avg_maternal_age, 10000)\n",
    "avg_maternal_age_ci = compute_ci(bootstrap_means, confidence_level=95)\n",
    "avg_maternal_age_ci"
   ]
  },
  {
   "cell_type": "markdown",
   "metadata": {},
   "source": [
    "Conclusion:  "
   ]
  },
  {
   "cell_type": "markdown",
   "metadata": {},
   "source": [
    "Suppose instead you use the 1% cutoff for the p-value.\n"
   ]
  },
  {
   "cell_type": "code",
   "execution_count": 14,
   "metadata": {},
   "outputs": [
    {
     "data": {
      "text/plain": [
       "[26.808343270868825, 27.67291737649063]"
      ]
     },
     "execution_count": 14,
     "metadata": {},
     "output_type": "execute_result"
    }
   ],
   "source": [
    "bootstrap_means = bootstrapper(births, avg_maternal_age, 10000)\n",
    "avg_maternal_age_ci = compute_ci(bootstrap_means, confidence_level=99)\n",
    "avg_maternal_age_ci"
   ]
  },
  {
   "cell_type": "markdown",
   "metadata": {},
   "source": [
    "Conclusion:  "
   ]
  },
  {
   "cell_type": "markdown",
   "metadata": {},
   "source": [
    "check it: https://www.cdc.gov/nchs/nsfg/key_statistics/b.htm"
   ]
  },
  {
   "cell_type": "markdown",
   "metadata": {},
   "source": [
    "<br><br><br><br>\n",
    "\n",
    "---\n",
    "\n",
    "Return to Slides\n",
    "\n",
    "---\n",
    "\n",
    "<br><br><br><br>\n"
   ]
  },
  {
   "cell_type": "markdown",
   "metadata": {},
   "source": [
    "## Method Based on CLT to calculate CI for Age"
   ]
  },
  {
   "cell_type": "code",
   "execution_count": 19,
   "metadata": {
    "scrolled": true
   },
   "outputs": [
    {
     "name": "stdout",
     "output_type": "stream",
     "text": [
      "Sample Size: 1174\n",
      "Sample Average Age: 27.228279386712096\n"
     ]
    }
   ],
   "source": [
    "sampled_ages = births['Maternal Age']\n",
    "sample_size = len(sampled_ages)\n",
    "sample_average = np.average(sampled_ages)\n",
    "\n",
    "\n",
    "print(f\"Sample Size: {sample_size}\")\n",
    "print(f\"Sample Average Age: {sample_average}\")\n"
   ]
  },
  {
   "cell_type": "markdown",
   "metadata": {},
   "source": [
    "## Approximating the confidence interval"
   ]
  },
  {
   "cell_type": "markdown",
   "metadata": {},
   "source": [
    "We need to add $2 \\cdot ( \\frac{\\text{Population SD}}{\\sqrt{\\text{Sample_Size}}})$ on one side and subtract it on the other side to get the confidence interval but we don't have the population SD."
   ]
  },
  {
   "cell_type": "code",
   "execution_count": 16,
   "metadata": {
    "scrolled": true
   },
   "outputs": [
    {
     "name": "stdout",
     "output_type": "stream",
     "text": [
      "Sample Std Dev: 5.817838716855792\n",
      "Estimated Std Error: 0.16979606801968558\n"
     ]
    }
   ],
   "source": [
    "# Try estimating it from the sample\n",
    "\n",
    "sample_SD = np.std(sampled_ages,ddof=1) \n",
    "#The parameter ddof=1 ensures that you're \n",
    "#calculating the std for a sample, not a population\n",
    "print(f\"Sample Std Dev: {sample_SD}\")\n",
    "\n",
    "\n",
    "estimated_SE_of_sample_average = sample_SD / (sample_size**0.5)\n",
    "print(f\"Estimated Std Error: {estimated_SE_of_sample_average}\")"
   ]
  },
  {
   "cell_type": "code",
   "execution_count": 17,
   "metadata": {
    "scrolled": true
   },
   "outputs": [
    {
     "data": {
      "text/plain": [
       "(26.888687250672724, 27.567871522751467)"
      ]
     },
     "execution_count": 17,
     "metadata": {},
     "output_type": "execute_result"
    }
   ],
   "source": [
    "# Approximate 95% confidence interval for population mean\n",
    "\n",
    "sample_average - 2*estimated_SE_of_sample_average, sample_average + 2*estimated_SE_of_sample_average"
   ]
  },
  {
   "cell_type": "code",
   "execution_count": 20,
   "metadata": {},
   "outputs": [
    {
     "data": {
      "text/plain": [
       "[26.808343270868825, 27.67291737649063]"
      ]
     },
     "execution_count": 20,
     "metadata": {},
     "output_type": "execute_result"
    }
   ],
   "source": [
    "#Compare this to the bootstrapped results we got above:\n",
    "avg_maternal_age_ci"
   ]
  },
  {
   "cell_type": "code",
   "execution_count": null,
   "metadata": {},
   "outputs": [],
   "source": []
  }
 ],
 "metadata": {
  "kernelspec": {
   "display_name": "Python 3 (ipykernel)",
   "language": "python",
   "name": "python3"
  },
  "language_info": {
   "codemirror_mode": {
    "name": "ipython",
    "version": 3
   },
   "file_extension": ".py",
   "mimetype": "text/x-python",
   "name": "python",
   "nbconvert_exporter": "python",
   "pygments_lexer": "ipython3",
   "version": "3.9.12"
  }
 },
 "nbformat": 4,
 "nbformat_minor": 4
}
