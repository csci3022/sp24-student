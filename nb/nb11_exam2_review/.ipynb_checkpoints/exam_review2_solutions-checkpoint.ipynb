{
 "cells": [
  {
   "cell_type": "code",
   "execution_count": 1,
   "id": "30ddcf62",
   "metadata": {},
   "outputs": [],
   "source": [
    "import pandas as pd\n",
    "# These lines import the Numpy and Datascience modules.\n",
    "import numpy as np\n",
    "from matplotlib.ticker import PercentFormatter\n",
    "# These lines do some fancy plotting magic.\n",
    "import matplotlib\n",
    "%matplotlib inline\n",
    "import matplotlib.pyplot as plt\n",
    "plt.style.use('fivethirtyeight')\n",
    "import warnings\n",
    "warnings.simplefilter('ignore', FutureWarning)\n",
    "\n",
    "from matplotlib import patches\n",
    "from ipywidgets import interact, interactive, fixed\n",
    "import ipywidgets as widgets"
   ]
  },
  {
   "cell_type": "markdown",
   "id": "2778ab1e",
   "metadata": {},
   "source": [
    "## Review Question #6\n"
   ]
  },
  {
   "cell_type": "code",
   "execution_count": 2,
   "id": "3d7b3c5a-3164-49f6-9ee5-aa0afe36919e",
   "metadata": {},
   "outputs": [
    {
     "data": {
      "text/html": [
       "<div>\n",
       "<style scoped>\n",
       "    .dataframe tbody tr th:only-of-type {\n",
       "        vertical-align: middle;\n",
       "    }\n",
       "\n",
       "    .dataframe tbody tr th {\n",
       "        vertical-align: top;\n",
       "    }\n",
       "\n",
       "    .dataframe thead th {\n",
       "        text-align: right;\n",
       "    }\n",
       "</style>\n",
       "<table border=\"1\" class=\"dataframe\">\n",
       "  <thead>\n",
       "    <tr style=\"text-align: right;\">\n",
       "      <th></th>\n",
       "      <th>Year</th>\n",
       "      <th>Extraversion</th>\n",
       "      <th>Number of Textees</th>\n",
       "      <th>Hours of Sleep</th>\n",
       "      <th>Handedness</th>\n",
       "      <th>First Pant Leg</th>\n",
       "      <th>Sleep Position</th>\n",
       "    </tr>\n",
       "  </thead>\n",
       "  <tbody>\n",
       "    <tr>\n",
       "      <th>0</th>\n",
       "      <td>Fourth</td>\n",
       "      <td>8</td>\n",
       "      <td>6</td>\n",
       "      <td>4.8</td>\n",
       "      <td>Right-handed</td>\n",
       "      <td>Right</td>\n",
       "      <td>right</td>\n",
       "    </tr>\n",
       "    <tr>\n",
       "      <th>1</th>\n",
       "      <td>First</td>\n",
       "      <td>5</td>\n",
       "      <td>13</td>\n",
       "      <td>6.3</td>\n",
       "      <td>Right-handed</td>\n",
       "      <td>Right</td>\n",
       "      <td>stomach</td>\n",
       "    </tr>\n",
       "    <tr>\n",
       "      <th>2</th>\n",
       "      <td>First</td>\n",
       "      <td>8</td>\n",
       "      <td>9</td>\n",
       "      <td>4.7</td>\n",
       "      <td>Left-handed</td>\n",
       "      <td>Left</td>\n",
       "      <td>left</td>\n",
       "    </tr>\n",
       "    <tr>\n",
       "      <th>3</th>\n",
       "      <td>Fourth</td>\n",
       "      <td>7</td>\n",
       "      <td>6</td>\n",
       "      <td>7.3</td>\n",
       "      <td>Right-handed</td>\n",
       "      <td>Left</td>\n",
       "      <td>right</td>\n",
       "    </tr>\n",
       "    <tr>\n",
       "      <th>4</th>\n",
       "      <td>Third</td>\n",
       "      <td>5</td>\n",
       "      <td>11</td>\n",
       "      <td>9.7</td>\n",
       "      <td>Right-handed</td>\n",
       "      <td>Right</td>\n",
       "      <td>back</td>\n",
       "    </tr>\n",
       "  </tbody>\n",
       "</table>\n",
       "</div>"
      ],
      "text/plain": [
       "     Year  Extraversion  Number of Textees  Hours of Sleep    Handedness  \\\n",
       "0  Fourth             8                  6             4.8  Right-handed   \n",
       "1   First             5                 13             6.3  Right-handed   \n",
       "2   First             8                  9             4.7   Left-handed   \n",
       "3  Fourth             7                  6             7.3  Right-handed   \n",
       "4   Third             5                 11             9.7  Right-handed   \n",
       "\n",
       "  First Pant Leg Sleep Position  \n",
       "0          Right          right  \n",
       "1          Right        stomach  \n",
       "2           Left           left  \n",
       "3           Left          right  \n",
       "4          Right           back  "
      ]
     },
     "execution_count": 2,
     "metadata": {},
     "output_type": "execute_result"
    }
   ],
   "source": [
    "# Generate sample data for problem 6\n",
    "\n",
    "# define options for categorical variables\n",
    "year_opt = ['First', 'Second', 'Third', 'Fourth']\n",
    "handedness_opt = ['Right-handed', 'Left-handed']\n",
    "pantleg_opt = ['Right', 'Left']\n",
    "sleeppos_opt = ['left', 'right', 'back', 'stomach']\n",
    "\n",
    "# intialize list to store data\n",
    "data = []\n",
    "\n",
    "# data size\n",
    "n = 1002\n",
    "\n",
    "# generate data\n",
    "for i in range(n):\n",
    "    year = np.random.choice(year_opt)\n",
    "    extra = np.random.binomial(10, 0.75)\n",
    "    textees = np.random.randint(5, 16)\n",
    "    sleephr = np.random.randint(4,10) + round(np.random.random(),1)\n",
    "    handedness = np.random.choice(handedness_opt, p=[0.9, 0.1])\n",
    "    pantleg = np.random.choice(pantleg_opt)\n",
    "    sleeppos = np.random.choice(sleeppos_opt, p=[0.25, 0.25, 0.4, 0.1])\n",
    "    \n",
    "    row = [year, extra, textees, sleephr, handedness, pantleg, sleeppos]\n",
    "    data.append(row)\n",
    "\n",
    "# create dataframe\n",
    "df = pd.DataFrame(data=data, columns=['Year', 'Extraversion', 'Number of Textees', 'Hours of Sleep', 'Handedness', 'First Pant Leg', 'Sleep Position'])\n",
    "\n",
    "df.head()"
   ]
  },
  {
   "cell_type": "code",
   "execution_count": 3,
   "id": "d748f502",
   "metadata": {},
   "outputs": [
    {
     "data": {
      "text/plain": [
       "7"
      ]
     },
     "execution_count": 3,
     "metadata": {},
     "output_type": "execute_result"
    }
   ],
   "source": [
    "# a - define a function FUN_NAME that takes a sample size as its arg, sample that many times at random without replacement from all \n",
    "#     the students and return the maximum extraversion score of the sampled students\n",
    "\n",
    "def FUN_NAME(sample_size):\n",
    "    sample = df.sample(n=sample_size, replace=False)\n",
    "    return sample['Extraversion'].max()\n",
    "\n",
    "FUN_NAME(2)"
   ]
  },
  {
   "cell_type": "code",
   "execution_count": 4,
   "id": "8ff2466f-5bc5-45b3-96da-ebf78a0be3b0",
   "metadata": {},
   "outputs": [
    {
     "data": {
      "image/png": "[encoded data removed]",
      "text/plain": [
       "<Figure size 640x480 with 1 Axes>"
      ]
     },
     "metadata": {},
     "output_type": "display_data"
    }
   ],
   "source": [
    "# b - Write code to generate 10,000 simulated values of the maximum extraversion score in a random sample size of 25 (w/o replacement) \n",
    "\n",
    "repetitions = 10000\n",
    "SIM_VALS = []\n",
    "\n",
    "for rep in range(repetitions):\n",
    "    SIM_VALS.append(FUN_NAME(25))\n",
    "    \n",
    "SIM_VALS[:10]\n",
    "\n",
    "plt.hist(SIM_VALS, range=(0,11), density=True)\n",
    "plt.show()"
   ]
  },
  {
   "cell_type": "markdown",
   "id": "74e7ef08",
   "metadata": {},
   "source": [
    "## Review Question #9"
   ]
  },
  {
   "cell_type": "code",
   "execution_count": 5,
   "id": "9262c07e",
   "metadata": {},
   "outputs": [],
   "source": [
    "water = pd.read_csv('exam_rev_testing.csv')"
   ]
  },
  {
   "cell_type": "code",
   "execution_count": 6,
   "id": "0afb31ae",
   "metadata": {},
   "outputs": [],
   "source": [
    "water = np.array(water[\"amount\"])"
   ]
  },
  {
   "cell_type": "code",
   "execution_count": 7,
   "id": "7749f93e",
   "metadata": {},
   "outputs": [
    {
     "data": {
      "text/plain": [
       "150"
      ]
     },
     "execution_count": 7,
     "metadata": {},
     "output_type": "execute_result"
    }
   ],
   "source": [
    "len(water)"
   ]
  },
  {
   "cell_type": "code",
   "execution_count": 8,
   "id": "cc82fcec",
   "metadata": {},
   "outputs": [
    {
     "data": {
      "text/plain": [
       "0.44666666666666666"
      ]
     },
     "execution_count": 8,
     "metadata": {},
     "output_type": "execute_result"
    }
   ],
   "source": [
    "#Part b Option 1:\n",
    "sum(water<3)/150"
   ]
  },
  {
   "cell_type": "code",
   "execution_count": 9,
   "id": "1f8ae792",
   "metadata": {},
   "outputs": [
    {
     "data": {
      "text/plain": [
       "0.44666666666666666"
      ]
     },
     "execution_count": 9,
     "metadata": {},
     "output_type": "execute_result"
    }
   ],
   "source": [
    "#Part b Option 2:\n",
    "\n",
    "(water<3).mean()"
   ]
  },
  {
   "cell_type": "code",
   "execution_count": 10,
   "id": "d5f4bbf7",
   "metadata": {},
   "outputs": [
    {
     "data": {
      "text/plain": [
       "0.44666666666666666"
      ]
     },
     "execution_count": 10,
     "metadata": {},
     "output_type": "execute_result"
    }
   ],
   "source": [
    "#Part b Option 3:\n",
    "\n",
    "np.mean(water<3)"
   ]
  },
  {
   "cell_type": "code",
   "execution_count": 11,
   "id": "eda66828",
   "metadata": {},
   "outputs": [],
   "source": [
    "#Part c \n",
    "bootstrap = np.random.choice(water, size=len(water), replace=True)\n"
   ]
  },
  {
   "cell_type": "code",
   "execution_count": 12,
   "id": "5f260fac",
   "metadata": {},
   "outputs": [
    {
     "data": {
      "text/plain": [
       "array([0.38666667, 0.5       ])"
      ]
     },
     "execution_count": 12,
     "metadata": {},
     "output_type": "execute_result"
    }
   ],
   "source": [
    "#Part d\n",
    "\n",
    "stats = np.array([])\n",
    "\n",
    "for i in range(10000):\n",
    "    bootstrap = np.random.choice(water,size=len(water),replace=True)\n",
    "    test_stat = sum(bootstrap<3)/len(bootstrap)\n",
    "    stats = np.append(stats,test_stat)\n",
    "\n",
    "CI = np.percentile(stats, [7.5, 92.5])\n",
    "\n",
    "\n",
    "CI"
   ]
  },
  {
   "cell_type": "markdown",
   "id": "0fcaa2da",
   "metadata": {},
   "source": [
    "## Review Question 10:"
   ]
  },
  {
   "cell_type": "code",
   "execution_count": 13,
   "id": "feb6d211",
   "metadata": {},
   "outputs": [],
   "source": [
    "# part b\n",
    "\n",
    "def ci_iqr(tbl, reps):\n",
    "    \n",
    "    stats = np.array([])\n",
    "    \n",
    "    for i in np.arange(reps):\n",
    "        resample_df = tbl.sample(frac = 1, replace = True)\n",
    "        \n",
    "        #Choose the column with the height data from this dataframe\n",
    "        resample_col = resample_df[\"height\"]\n",
    "        \n",
    "        #Calculate the statistic of interest:\n",
    "        IQR = np.percentile(resample_col,75) - np.percentile(resample_col,25)\n",
    "        stats = np.append(stats, IQR)\n",
    "       \n",
    "         \n",
    "    \n",
    "    \n",
    "    return np.percentile(stats,[.5,99.5])\n"
   ]
  },
  {
   "cell_type": "markdown",
   "id": "32328903",
   "metadata": {},
   "source": [
    "## Review Question 14"
   ]
  },
  {
   "cell_type": "code",
   "execution_count": 14,
   "id": "0b1840ec",
   "metadata": {},
   "outputs": [
    {
     "data": {
      "text/plain": [
       "16"
      ]
     },
     "execution_count": 14,
     "metadata": {},
     "output_type": "execute_result"
    }
   ],
   "source": [
    "# a - write a function called one_walk assuming the coin is fair\n",
    "\n",
    "def one_walk():\n",
    "    achilles_loc = 0\n",
    "    for i in range(100):\n",
    "        achilles_loc += np.random.choice([-1, 1])\n",
    "    return abs(achilles_loc)\n",
    "\n",
    "one_walk()"
   ]
  },
  {
   "cell_type": "code",
   "execution_count": 15,
   "id": "9b990b7e-c0a2-4e6e-ac91-aff77a0c295f",
   "metadata": {},
   "outputs": [
    {
     "data": {
      "text/plain": [
       "(array([0.058325, 0.069875, 0.0532  , 0.034125, 0.01925 , 0.009525,\n",
       "        0.003925, 0.001175, 0.000475, 0.000125]),\n",
       " array([ 0.,  4.,  8., 12., 16., 20., 24., 28., 32., 36., 40.]),\n",
       " <BarContainer object of 10 artists>)"
      ]
     },
     "execution_count": 15,
     "metadata": {},
     "output_type": "execute_result"
    },
    {
     "data": {
      "image/png": "[encoded data removed]",
      "text/plain": [
       "<Figure size 640x480 with 1 Axes>"
      ]
     },
     "metadata": {},
     "output_type": "display_data"
    }
   ],
   "source": [
    "# b - simulate 10,000 walks and store the results\n",
    "\n",
    "distances = []\n",
    "\n",
    "for i in np.arange(10000):\n",
    "    new_distance = one_walk()\n",
    "    distances.append(new_distance)\n",
    "    \n",
    "plt.hist(distances, range=(0,40), edgecolor='white', density=True)"
   ]
  },
  {
   "cell_type": "code",
   "execution_count": 16,
   "id": "72fe4cac-b9aa-42b5-91e5-3cf773c5c794",
   "metadata": {},
   "outputs": [],
   "source": [
    "# c - write a Null & Alternative Hypothesis for 30 steps away from origin. What test stat can you use?\n",
    "\n",
    "# NULL - The coin he used is fair, the fact he ended up 30 steps away is due to chance\n",
    "# ALT. - The coin he used was unfair\n",
    "# TEST - Absolute diff from origin at the end of a walk - how far he walked in either direction"
   ]
  },
  {
   "cell_type": "code",
   "execution_count": 17,
   "id": "35fe6a37-8f29-4a0f-92fa-b731750b9b1d",
   "metadata": {},
   "outputs": [
    {
     "data": {
      "text/plain": [
       "0.0036"
      ]
     },
     "execution_count": 17,
     "metadata": {},
     "output_type": "execute_result"
    }
   ],
   "source": [
    "# d - calculate the p_val\n",
    "\n",
    "p_value = sum(np.array(distances) >= 30) / len(distances)\n",
    "p_value"
   ]
  },
  {
   "cell_type": "markdown",
   "id": "dea5dd3d",
   "metadata": {},
   "source": [
    "## Review Question 17"
   ]
  },
  {
   "cell_type": "code",
   "execution_count": 18,
   "id": "6540993d",
   "metadata": {},
   "outputs": [
    {
     "data": {
      "text/plain": [
       "0.0036"
      ]
     },
     "execution_count": 18,
     "metadata": {},
     "output_type": "execute_result"
    }
   ],
   "source": [
    "# a - compute_pvalue function\n",
    "\n",
    "def compute_p_value(empirical_dist, observed_ts):\n",
    "    '''\n",
    "    empirical_dist - nparray \n",
    "    empirical_dist - float\n",
    "    '''\n",
    "    return sum(empirical_dist >= observed_ts) / len(empirical_dist)\n",
    "\n",
    "compute_p_value(np.array(distances), 30)"
   ]
  },
  {
   "cell_type": "code",
   "execution_count": 19,
   "id": "a5e982b3-b34f-43f5-b43a-e6b5cdc89ad8",
   "metadata": {},
   "outputs": [
    {
     "data": {
      "text/plain": [
       "True"
      ]
     },
     "execution_count": 19,
     "metadata": {},
     "output_type": "execute_result"
    }
   ],
   "source": [
    "# b - is_significant function\n",
    "\n",
    "def is_significant(empirical_dist, observed_ts, cutoff):\n",
    "    p_value = compute_p_value(empirical_dist, observed_ts)\n",
    "    return p_value <= cutoff\n",
    "\n",
    "is_significant(np.array(distances), 30, 0.05)"
   ]
  },
  {
   "cell_type": "markdown",
   "id": "7a2d3263",
   "metadata": {},
   "source": [
    "## Review Question 18"
   ]
  },
  {
   "cell_type": "code",
   "execution_count": 20,
   "id": "2ff82809",
   "metadata": {},
   "outputs": [],
   "source": [
    "# a - Null and Alt hypotheses\n",
    "\n",
    "# NULL - the types of cheese in the frozen mac n cheese boxes are distributed according to what the employee said\n",
    "# ALT  - the types of cheese are distributed differently"
   ]
  },
  {
   "cell_type": "code",
   "execution_count": 21,
   "id": "8be89172",
   "metadata": {},
   "outputs": [],
   "source": [
    "# b - use the TVD as the test statistic and calculate the obsersved stat\n",
    "\n",
    "observed_proportions = np.array([0.2, 0.3, 0.45, 0.05])\n",
    "employee_proportions = np.array([0.05, 0.55, 0.25, 0.15])\n",
    "\n",
    "observed_stat =  sum(abs(observed_proportions - employee_proportions)) / 2"
   ]
  },
  {
   "cell_type": "code",
   "execution_count": 22,
   "id": "ed56872c",
   "metadata": {},
   "outputs": [],
   "source": [
    "# c - write a function to calculate one simulated stat under the null hypothesis\n",
    "\n",
    "def one_simulated_stat():\n",
    "        sample_prop = np.random.multinomial(20, employee_proportions) / 20\n",
    "        return sum(abs(employee_proportions - sample_prop)) / 2"
   ]
  },
  {
   "cell_type": "code",
   "execution_count": 23,
   "id": "7f9a0ec7-e6b1-48c6-8e8c-124e4ed333f6",
   "metadata": {},
   "outputs": [
    {
     "data": {
      "text/plain": [
       "0.0027"
      ]
     },
     "execution_count": 23,
     "metadata": {},
     "output_type": "execute_result"
    }
   ],
   "source": [
    "# d - find the p-value after 10000 simulations\n",
    "\n",
    "simulated_stats = np.array([one_simulated_stat() for i in range(10000)])\n",
    "compute_p_value(simulated_stats, observed_stat)"
   ]
  }
 ],
 "metadata": {
  "kernelspec": {
   "display_name": "Python 3 (ipykernel)",
   "language": "python",
   "name": "python3"
  },
  "language_info": {
   "codemirror_mode": {
    "name": "ipython",
    "version": 3
   },
   "file_extension": ".py",
   "mimetype": "text/x-python",
   "name": "python",
   "nbconvert_exporter": "python",
   "pygments_lexer": "ipython3",
   "version": "3.9.13"
  }
 },
 "nbformat": 4,
 "nbformat_minor": 5
}
