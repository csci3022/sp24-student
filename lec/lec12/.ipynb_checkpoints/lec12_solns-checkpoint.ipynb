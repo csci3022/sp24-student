{
 "cells": [
  {
   "cell_type": "markdown",
   "metadata": {},
   "source": [
    "# Lec12: Discrete Random Variables and Distributions \n",
    "***\n",
    "\n",
    "In this notebook we'll get some practice with discrete random variables and see how we can play with binomial distributions using Python.   \n",
    "\n",
    "We'll need Numpy and Matplotlib for this notebook, so let's load them.  We'll also need SciPy's binom function for computing binomial coefficients.  "
   ]
  },
  {
   "cell_type": "code",
   "execution_count": null,
   "metadata": {},
   "outputs": [],
   "source": [
    "import numpy as np \n",
    "import matplotlib.pylab as plt \n",
    "\n",
    "%matplotlib inline"
   ]
  },
  {
   "cell_type": "markdown",
   "metadata": {},
   "source": [
    "## Plotting Discrete Probability Distributions\n",
    "\n",
    "In lecture we examined the following probability mass function (i.e. probability distribution for the discrete random variable X):\n",
    "\n",
    "|k | P(X=k)|\n",
    "|--|--|\n",
    "|3 | 0.1|\n",
    "|4 | 0.2 |\n",
    "|6 | 0.4 | \n",
    "| 8 |0.3 |\n",
    "\n",
    "Let's look at two options for plotting the histogram for this pmf.\n",
    "\n",
    "**OPTION 1:**\n",
    "\n",
    "Since we know the exact probabilities for each value of the random variable $X$, we can plot bars with height equal to the probabilities, and width = 1.  \n",
    "Numpy has a built-in function `.bar` that can do this for us:"
   ]
  },
  {
   "cell_type": "code",
   "execution_count": null,
   "metadata": {},
   "outputs": [],
   "source": [
    "k=[3, 4, 6, 8]\n",
    "prob_k = [0.1, 0.2, 0.4, 0.3]"
   ]
  },
  {
   "cell_type": "code",
   "execution_count": null,
   "metadata": {},
   "outputs": [],
   "source": [
    "fig, ax = plt.subplots(1, 1)\n",
    "\n",
    "ax.bar(k, prob_k, width=1, ec='white');\n",
    "\n",
    "#Always include a title\n",
    "plt.title(\"Distribution of X\");\n",
    "\n",
    "#Label what the x and y axes represent:\n",
    "plt.ylabel(\"P(X=k)\");\n",
    "plt.xlabel(\"k\")"
   ]
  },
  {
   "cell_type": "markdown",
   "metadata": {},
   "source": [
    "**OPTION 2:**\n",
    "\n",
    "Alternatively, we could create an array of data with values of $k$ proportional to the probability that $X=k$, and plot a **density** histogram of this data. \n",
    "\n",
    "That is, we could create an array of 100 values such that:\n",
    " - 10 of the values are equal to 3\n",
    " - 20 of the values are equal to 4\n",
    " - 40 of the values are equal to 6\n",
    " - 30 of the values are equal to 8\n",
    " "
   ]
  },
  {
   "cell_type": "code",
   "execution_count": null,
   "metadata": {},
   "outputs": [],
   "source": [
    "ar3 = np.ones(10)*3\n",
    "ar4=np.ones(20)*4\n",
    "ar6 = np.ones(40)*6\n",
    "ar8=np.ones(30)*8\n",
    "\n",
    "data = np.concatenate((ar3, ar4, ar6, ar8))\n",
    "\n",
    "data"
   ]
  },
  {
   "cell_type": "code",
   "execution_count": null,
   "metadata": {},
   "outputs": [],
   "source": [
    "#Plotting a histogram of values in data\n",
    "\n",
    "fig, ax = plt.subplots(1, 1)\n",
    "\n",
    "ax.hist(data, width=1, ec='white', density=True, bins=[2.5, 3.5, 4.5, 5.5, 6.5, 7.5, 8.5]);\n",
    "\n",
    "#Always include a title\n",
    "plt.title(\"Distribution of X\");\n",
    "\n",
    "#Label what the x and y axes represent:\n",
    "plt.ylabel(\"P(X=k)\");\n",
    "plt.xlabel(\"k\");"
   ]
  },
  {
   "cell_type": "markdown",
   "metadata": {},
   "source": [
    "### Exercise 1 - Implementing and Sampling the Binomial Distribution \n",
    "***\n",
    "\n",
    "**Part A**: Write a function that takes in the parameters of the binomial distribution, $n$ and $p$, and returns the probability distribution as a Numpy array. In order to get the coefficient in the binomial distribution, you'll need a way to compute the combination ${n \\choose k}$.  You can do this from scratch using Python's factorial function, or you can get the value directly using Scipy's canned function [binom](https://docs.scipy.org/doc/scipy-0.14.0/reference/generated/scipy.special.binom.html).  "
   ]
  },
  {
   "cell_type": "code",
   "execution_count": null,
   "metadata": {},
   "outputs": [],
   "source": [
    "from scipy.special import binom\n",
    "\n",
    "\n",
    "def binomial_dist(n, p):\n",
    "    # The following code uses list comprehension\n",
    "    p = np.array([binom(n,k)*(p**k)*((1-p)**(n-k)) for k in range(n+1)])\n",
    "    return p\n"
   ]
  },
  {
   "cell_type": "markdown",
   "metadata": {},
   "source": [
    "**Part B**:\n",
    "    \n",
    "   i).  Create an array with the probability distribution for a binomial with n=100 and p=.40\n",
    "   \n",
    "   ii).  Print out the first 10 entries of the array\n",
    "   \n",
    "   iii). Then plot a histogram"
   ]
  },
  {
   "cell_type": "code",
   "execution_count": null,
   "metadata": {},
   "outputs": [],
   "source": [
    "prob = binomial_dist(100, 0.40)\n",
    "\n",
    "# Here is a check that your binomial_pmf function at least sums to 1\n",
    "np.sum(prob)"
   ]
  },
  {
   "cell_type": "code",
   "execution_count": null,
   "metadata": {},
   "outputs": [],
   "source": [
    "binomial_dist(100,0.40)[:10]"
   ]
  },
  {
   "cell_type": "code",
   "execution_count": null,
   "metadata": {},
   "outputs": [],
   "source": [
    "binomial_dist(100,0.40[-10:]"
   ]
  },
  {
   "cell_type": "code",
   "execution_count": null,
   "metadata": {},
   "outputs": [],
   "source": [
    "n=100\n",
    "p=.40\n",
    "\n",
    "X = np.array(range(n+1))\n",
    "pmf = binomial_dist(n, p)\n",
    "\n",
    "fig, ax = plt.subplots()\n",
    "#Note we are NOT using .hist, because we have a list of probabilities \n",
    "#that each represent the height of separate bars.\n",
    "\n",
    "ax.bar(X, pmf);\n",
    "ax.grid(alpha=0.25)\n",
    "plt.xlim(0,100)\n",
    "plt.title(\"Binomial Distribution,n=100, p=0.4\");\n",
    "\n"
   ]
  },
  {
   "cell_type": "markdown",
   "metadata": {},
   "source": [
    "**Part C**:  Let $X~Bin(100, 0.40)$  Use your function above to calculate the following:\n",
    "\n",
    "   i).What is $P(X=8)$?\n",
    "    \n",
    "   ii).  What is $P(X \\leq 8)$\n",
    "   \n",
    "   iii).  What is $P(X \\leq 15)$?"
   ]
  },
  {
   "cell_type": "code",
   "execution_count": null,
   "metadata": {},
   "outputs": [],
   "source": [
    "prob_x_equals_8 = binomial_dist(100, 0.40)[8]\n",
    "prob_x_equals_8"
   ]
  },
  {
   "cell_type": "code",
   "execution_count": null,
   "metadata": {},
   "outputs": [],
   "source": [
    "prob_x_leq_8=np.sum(binomial_dist(100, 0.40)[:9])\n",
    "prob_x_leq_8"
   ]
  },
  {
   "cell_type": "code",
   "execution_count": null,
   "metadata": {},
   "outputs": [],
   "source": [
    "prob_x_leq_15 = np.sum(binomial_dist(100, 0.40)[:16])\n",
    "prob_x_leq_15"
   ]
  },
  {
   "cell_type": "markdown",
   "metadata": {},
   "source": [
    "## Built-In Python Functions\n",
    "\n",
    "Python's scientific computing library `scipy` has built-in functions to calculate the Probability Mass Functions (PMFs) for Discrete Random Variables\n",
    "\n",
    "https://docs.scipy.org/doc/scipy/reference/generated/scipy.stats.binom.html\n",
    "\n"
   ]
  },
  {
   "cell_type": "code",
   "execution_count": null,
   "metadata": {},
   "outputs": [],
   "source": [
    "from scipy.stats import binom\n",
    "\n",
    "\n",
    "#Recalculate part C(i) above using built-in functions\n",
    "# X~Bin(100, .26) What is $P(X=8)$?\n",
    "binom.pmf(k=8,n=100, p=0.26 )\n"
   ]
  },
  {
   "cell_type": "code",
   "execution_count": null,
   "metadata": {},
   "outputs": [],
   "source": [
    "\n",
    "X = np.array(range(9))\n",
    "print(X)\n",
    "\n",
    "binom.pmf(X,n=100, p=0.40 )"
   ]
  },
  {
   "cell_type": "code",
   "execution_count": null,
   "metadata": {},
   "outputs": [],
   "source": [
    "sum(binom.pmf(np.array(range(9)),n=100, p=0.40))"
   ]
  },
  {
   "cell_type": "markdown",
   "metadata": {},
   "source": [
    "There's a built-in way to calculate the sum in the previous cell.\n",
    "\n",
    "The Cumulative Distribution Function (CDF), $F(a)$ of a Random Variable $X$ is:\n",
    "\n",
    "$F(a) = P(X \\leq a)$\n",
    "\n",
    "`binom.cdf(a, n, p)` will calculate this for you.\n",
    "\n"
   ]
  },
  {
   "cell_type": "code",
   "execution_count": null,
   "metadata": {},
   "outputs": [],
   "source": [
    "binom.cdf(8, n=100, p=0.4)"
   ]
  },
  {
   "cell_type": "code",
   "execution_count": null,
   "metadata": {},
   "outputs": [],
   "source": [
    "# Recreate Binomial Distribution Histogram using built-in binom.pmf function:\n",
    "\n",
    "\n",
    "n=100\n",
    "p=.26\n",
    "\n",
    "X = np.array(range(n+1))\n",
    "pmf = binom.pmf(X,n, p)\n",
    "\n",
    "fig, ax = plt.subplots()\n",
    "#Note we are NOT using .hist, because we don't have an array of data, we have a list of probabilities \n",
    "\n",
    "\n",
    "ax.bar(X, pmf);\n",
    "plt.xlim(0,100)\n",
    "plt.title(\"Binomial Distribution,n=100, p=0.26\");\n",
    "\n"
   ]
  },
  {
   "cell_type": "markdown",
   "metadata": {},
   "source": [
    "### Part D - SIMULATION: So now you know the exact distribution of a binomial random variable, but very frequently we'll want to generate samples from that distribution.  \n"
   ]
  },
  {
   "cell_type": "markdown",
   "metadata": {},
   "source": [
    "\n",
    "**Useful Built-In Functions:** Python has a built in function that can generate samples from a wide variety of distributions:\n",
    "\n",
    "https://numpy.org/doc/stable/reference/random/generator.html\n",
    "\n",
    "\n",
    "\n",
    "To generate random samples from a Binomial distribution we can use  Numpy's [random.binomial](https://docs.scipy.org/doc/numpy-1.13.0/reference/generated/numpy.random.binomial.html) function. \n",
    "\n",
    "Read the documentation, and then try drawing 1000 samples from _Bin(n,p)_ for $n=100$ and $p=0.40$.  "
   ]
  },
  {
   "cell_type": "code",
   "execution_count": null,
   "metadata": {},
   "outputs": [],
   "source": [
    "x = np.random.binomial(n=100, p=0.40, size=1000)\n",
    "\n",
    "x"
   ]
  },
  {
   "cell_type": "markdown",
   "metadata": {},
   "source": [
    "**Part E**: We can approximate the theoretical distribution of _Bin(n,p)_ by drawing many many samples from the distribution and plotting a **density** histogram.  Do this now.  Additionally, use the function you wrote in **Part A** to get the exact density, and plot the distribution directly below the histogram of your sampled distribution.  How do they compare?  What happens if you use more or fewer samples in the histogram? "
   ]
  },
  {
   "cell_type": "code",
   "execution_count": null,
   "metadata": {},
   "outputs": [],
   "source": [
    "n = 100\n",
    "p = 0.40\n",
    "\n",
    "#Simulated Values\n",
    "sample = np.random.binomial(n=n, p=p, size=100)\n",
    "bins = np.arange(-0.5, 100, 1)\n",
    "\n",
    "#Actual theoretical probabilities\n",
    "X = np.array(range(n+1))\n",
    "pmf = binomial_dist(n,p)\n",
    "\n",
    "fig, ax = plt.subplots(nrows=2, ncols=1)\n",
    "plt.subplots_adjust(hspace=0.5)\n",
    "\n",
    "# Use histogram because we are binning a list of simulate numbers to calculate the probabilities\n",
    "ax[0].hist(sample, edgecolor='white', density=True, bins=bins)\n",
    "ax[0].set_axisbelow(True)\n",
    "ax[0].grid(alpha=0.25)\n",
    "ax[0].set_xlim([0, 50]);\n",
    "ax[0].set_title(\"Simulated Binomial Distribution: n=100, p=0.40\")\n",
    "\n",
    "\n",
    "# Use bar because we know the probabilities\n",
    "ax[1].bar(X, pmf)\n",
    "ax[1].set_axisbelow(True)\n",
    "ax[1].grid(alpha=0.25);\n",
    "ax[1].set_xlim([0, 50]);\n",
    "ax[1].set_title(\"Theoretical Binomial Distribution, n=100, p=0.40\")"
   ]
  },
  {
   "cell_type": "markdown",
   "metadata": {},
   "source": [
    "**Special Case** In the case of the binomial distribution, we can actually simulate it using np.random.choice if we think of it as repeated coin tosses:\n",
    "(P(heads) = 0.26, P(tails =0.74)).  "
   ]
  },
  {
   "cell_type": "code",
   "execution_count": null,
   "metadata": {},
   "outputs": [],
   "source": [
    "#Simulate one experiment (which consists of 100 trials) \n",
    "def heads_in_n_tosses(n=100):\n",
    "    simulate = np.random.choice([\"H\",\"T\"],size=n,p=[.26, .74])\n",
    "    return sum(simulate == 'H')"
   ]
  },
  {
   "cell_type": "code",
   "execution_count": null,
   "metadata": {},
   "outputs": [],
   "source": [
    "# Repeat the experiment m times:\n",
    "num_simulations = 10000;\n",
    "\n",
    "outcomes=[]\n",
    "\n",
    "for i in np.arange(num_simulations):\n",
    "    outcomes = np.append(outcomes, heads_in_n_tosses())\n",
    "\n",
    "plt.hist(outcomes,bins=np.arange(0,50),   density=True);"
   ]
  },
  {
   "cell_type": "markdown",
   "metadata": {},
   "source": [
    "**Practice:  Use `scipy.stats.poisson` to plot a histogram of the PMF of a Poisson distribution for lambda = 3**"
   ]
  },
  {
   "cell_type": "code",
   "execution_count": null,
   "metadata": {},
   "outputs": [],
   "source": []
  },
  {
   "cell_type": "code",
   "execution_count": null,
   "metadata": {},
   "outputs": [],
   "source": []
  },
  {
   "cell_type": "code",
   "execution_count": null,
   "metadata": {},
   "outputs": [],
   "source": []
  },
  {
   "cell_type": "code",
   "execution_count": null,
   "metadata": {},
   "outputs": [],
   "source": []
  },
  {
   "cell_type": "code",
   "execution_count": null,
   "metadata": {},
   "outputs": [],
   "source": [
    "#Use scipy.stats.poisson to sketch the pmf of a poisson distribution with lambda = 3 for values of X between 0 and 20:\n",
    "\n",
    "from scipy.stats import poisson\n",
    "\n",
    "param= 3\n",
    "n=20\n",
    "\n",
    "X = np.array(range(n+1))\n",
    "poisson_pmf = poisson.pmf(X, mu=param)\n",
    "\n",
    "fig, ax = plt.subplots()\n",
    "#Note we are NOT using .hist, because we have a list of probabilities \n",
    "#that each represent the height of separate bars.\n",
    "\n",
    "ax.bar(X, poisson_pmf);\n",
    "ax.grid(alpha=0.25)\n",
    "plt.xlim(0,n)\n",
    "plt.title(\"Poisson Distribution, lambda = 3\");\n"
   ]
  }
 ],
 "metadata": {
  "kernelspec": {
   "display_name": "Python 3 (ipykernel)",
   "language": "python",
   "name": "python3"
  },
  "language_info": {
   "codemirror_mode": {
    "name": "ipython",
    "version": 3
   },
   "file_extension": ".py",
   "mimetype": "text/x-python",
   "name": "python",
   "nbconvert_exporter": "python",
   "pygments_lexer": "ipython3",
   "version": "3.9.12"
  }
 },
 "nbformat": 4,
 "nbformat_minor": 2
}
