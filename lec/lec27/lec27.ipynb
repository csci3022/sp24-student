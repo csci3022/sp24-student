{
 "cells": [
  {
   "cell_type": "markdown",
   "id": "fc255dd2-0ee4-4308-b2cc-173178ea709c",
   "metadata": {},
   "source": [
    "# Lecture 27 – CSCI 3022\n",
    "\n",
    "\n",
    "[Acknowledgments Page](https://ds100.org/fa23/acks/)"
   ]
  },
  {
   "cell_type": "code",
   "execution_count": 1,
   "id": "9132fc95",
   "metadata": {},
   "outputs": [],
   "source": [
    "import pandas as pd\n",
    "import numpy as np\n",
    "import seaborn as sns\n",
    "import matplotlib.pyplot as plt\n",
    "import plotly.express as px\n",
    "import warnings\n",
    "pd.options.mode.chained_assignment = None \n",
    "warnings.simplefilter(action='ignore', category=UserWarning)\n",
    "np.random.seed(42)"
   ]
  },
  {
   "cell_type": "markdown",
   "id": "921120d9-7c8c-4dbc-80ee-0f637a5f4578",
   "metadata": {
    "tags": []
   },
   "source": [
    "## Implementing OLS in Code\n",
    "\n",
    "Let's explore the Python syntax for performing ordinary least squares programmatically.\n",
    "\n",
    "Today, we will work a dataset about hybrid cars."
   ]
  },
  {
   "cell_type": "code",
   "execution_count": 2,
   "id": "46ed1df3-eb02-4e6d-b04e-091493da70d1",
   "metadata": {},
   "outputs": [
    {
     "data": {
      "text/html": [
       "<div>\n",
       "<style scoped>\n",
       "    .dataframe tbody tr th:only-of-type {\n",
       "        vertical-align: middle;\n",
       "    }\n",
       "\n",
       "    .dataframe tbody tr th {\n",
       "        vertical-align: top;\n",
       "    }\n",
       "\n",
       "    .dataframe thead th {\n",
       "        text-align: right;\n",
       "    }\n",
       "</style>\n",
       "<table border=\"1\" class=\"dataframe\">\n",
       "  <thead>\n",
       "    <tr style=\"text-align: right;\">\n",
       "      <th></th>\n",
       "      <th>vehicle</th>\n",
       "      <th>year</th>\n",
       "      <th>msrp</th>\n",
       "      <th>acceleration</th>\n",
       "      <th>mpg</th>\n",
       "      <th>class</th>\n",
       "    </tr>\n",
       "  </thead>\n",
       "  <tbody>\n",
       "    <tr>\n",
       "      <th>0</th>\n",
       "      <td>Prius (1st Gen)</td>\n",
       "      <td>1997</td>\n",
       "      <td>24509.74</td>\n",
       "      <td>7.46</td>\n",
       "      <td>41.26</td>\n",
       "      <td>Compact</td>\n",
       "    </tr>\n",
       "    <tr>\n",
       "      <th>1</th>\n",
       "      <td>Tino</td>\n",
       "      <td>2000</td>\n",
       "      <td>35354.97</td>\n",
       "      <td>8.20</td>\n",
       "      <td>54.10</td>\n",
       "      <td>Compact</td>\n",
       "    </tr>\n",
       "    <tr>\n",
       "      <th>2</th>\n",
       "      <td>Prius (2nd Gen)</td>\n",
       "      <td>2000</td>\n",
       "      <td>26832.25</td>\n",
       "      <td>7.97</td>\n",
       "      <td>45.23</td>\n",
       "      <td>Compact</td>\n",
       "    </tr>\n",
       "    <tr>\n",
       "      <th>3</th>\n",
       "      <td>Insight</td>\n",
       "      <td>2000</td>\n",
       "      <td>18936.41</td>\n",
       "      <td>9.52</td>\n",
       "      <td>53.00</td>\n",
       "      <td>Two Seater</td>\n",
       "    </tr>\n",
       "    <tr>\n",
       "      <th>4</th>\n",
       "      <td>Civic (1st Gen)</td>\n",
       "      <td>2001</td>\n",
       "      <td>25833.38</td>\n",
       "      <td>7.04</td>\n",
       "      <td>47.04</td>\n",
       "      <td>Compact</td>\n",
       "    </tr>\n",
       "  </tbody>\n",
       "</table>\n",
       "</div>"
      ],
      "text/plain": [
       "           vehicle  year      msrp  acceleration    mpg       class\n",
       "0  Prius (1st Gen)  1997  24509.74          7.46  41.26     Compact\n",
       "1             Tino  2000  35354.97          8.20  54.10     Compact\n",
       "2  Prius (2nd Gen)  2000  26832.25          7.97  45.23     Compact\n",
       "3          Insight  2000  18936.41          9.52  53.00  Two Seater\n",
       "4  Civic (1st Gen)  2001  25833.38          7.04  47.04     Compact"
      ]
     },
     "execution_count": 2,
     "metadata": {},
     "output_type": "execute_result"
    }
   ],
   "source": [
    "hybrid = pd.read_csv('hybrid.csv')\n",
    "hybrid.head()"
   ]
  },
  {
   "cell_type": "markdown",
   "id": "cb9cf5d9",
   "metadata": {},
   "source": [
    "Suppose we want to use this dataset to build a model to predict MSRP."
   ]
  },
  {
   "cell_type": "markdown",
   "id": "2097f3db",
   "metadata": {},
   "source": [
    "Let's start by examining the correlation between MSRP and the other variables in the dataset:"
   ]
  },
  {
   "cell_type": "code",
   "execution_count": 5,
   "id": "566b5a36",
   "metadata": {},
   "outputs": [
    {
     "data": {
      "text/html": [
       "<div>\n",
       "<style scoped>\n",
       "    .dataframe tbody tr th:only-of-type {\n",
       "        vertical-align: middle;\n",
       "    }\n",
       "\n",
       "    .dataframe tbody tr th {\n",
       "        vertical-align: top;\n",
       "    }\n",
       "\n",
       "    .dataframe thead th {\n",
       "        text-align: right;\n",
       "    }\n",
       "</style>\n",
       "<table border=\"1\" class=\"dataframe\">\n",
       "  <thead>\n",
       "    <tr style=\"text-align: right;\">\n",
       "      <th></th>\n",
       "      <th>year</th>\n",
       "      <th>msrp</th>\n",
       "      <th>acceleration</th>\n",
       "      <th>mpg</th>\n",
       "    </tr>\n",
       "  </thead>\n",
       "  <tbody>\n",
       "    <tr>\n",
       "      <th>year</th>\n",
       "      <td>1.000000</td>\n",
       "      <td>0.209786</td>\n",
       "      <td>0.359429</td>\n",
       "      <td>-0.169938</td>\n",
       "    </tr>\n",
       "    <tr>\n",
       "      <th>msrp</th>\n",
       "      <td>0.209786</td>\n",
       "      <td>1.000000</td>\n",
       "      <td>0.695578</td>\n",
       "      <td>-0.531826</td>\n",
       "    </tr>\n",
       "    <tr>\n",
       "      <th>acceleration</th>\n",
       "      <td>0.359429</td>\n",
       "      <td>0.695578</td>\n",
       "      <td>1.000000</td>\n",
       "      <td>-0.506070</td>\n",
       "    </tr>\n",
       "    <tr>\n",
       "      <th>mpg</th>\n",
       "      <td>-0.169938</td>\n",
       "      <td>-0.531826</td>\n",
       "      <td>-0.506070</td>\n",
       "      <td>1.000000</td>\n",
       "    </tr>\n",
       "  </tbody>\n",
       "</table>\n",
       "</div>"
      ],
      "text/plain": [
       "                  year      msrp  acceleration       mpg\n",
       "year          1.000000  0.209786      0.359429 -0.169938\n",
       "msrp          0.209786  1.000000      0.695578 -0.531826\n",
       "acceleration  0.359429  0.695578      1.000000 -0.506070\n",
       "mpg          -0.169938 -0.531826     -0.506070  1.000000"
      ]
     },
     "execution_count": 5,
     "metadata": {},
     "output_type": "execute_result"
    }
   ],
   "source": [
    "hybrid.corr()"
   ]
  },
  {
   "cell_type": "code",
   "execution_count": 6,
   "id": "2343d44a",
   "metadata": {},
   "outputs": [
    {
     "data": {
      "text/plain": [
       "<seaborn.axisgrid.PairGrid at 0x7fd7c0a14070>"
      ]
     },
     "execution_count": 6,
     "metadata": {},
     "output_type": "execute_result"
    },
    {
     "data": {
      "image/png": "[encoded data removed]",
      "text/plain": [
       "<Figure size 720x720 with 20 Axes>"
      ]
     },
     "metadata": {
      "needs_background": "light"
     },
     "output_type": "display_data"
    }
   ],
   "source": [
    "# We can also plot the pairwise scatterplots\n",
    "sns.pairplot(hybrid)"
   ]
  },
  {
   "cell_type": "markdown",
   "id": "e012b257",
   "metadata": {},
   "source": [
    "## Review:  Least Squares Regression"
   ]
  },
  {
   "cell_type": "markdown",
   "id": "c54ec389-180e-4fa8-ab2a-86df83514f28",
   "metadata": {},
   "source": [
    "We'll start by constructing a least squares regression model to predict the MSRP from the acceleration. Our model will take the form:\n",
    "\n",
    "$$\\text{MSRP} = \\theta_0 + \\theta_1 \\text{acceleration}$$\n"
   ]
  },
  {
   "cell_type": "code",
   "execution_count": null,
   "id": "b3af3536",
   "metadata": {},
   "outputs": [],
   "source": [
    "#Visualize this data:\n",
    "sns.scatterplot(x=hybrid[\"acceleration\"], y=hybrid[\"msrp\"])"
   ]
  },
  {
   "cell_type": "markdown",
   "id": "5b6458f0",
   "metadata": {},
   "source": [
    "## Recall: SLR By Hand:\n",
    "### Optimal Slope and Intercept for SLR\n",
    "\n",
    "\n",
    "In lecture, we derived the following optimal parameters for the slope and intercept for the least squares regression model:\n",
    "\n",
    "$$\n",
    "\\begin{align}\n",
    "\\text{slope} &= r * \\frac{\\text{Stdev}(y)}{\\text{Stdev}(x)}\\\\\n",
    "\\text{intercept} & = \\text{Mean}(y) - \\text{slope} * \\text{Mean}(x)\n",
    "\\end{align}\n",
    "$$\n",
    "\n",
    "\n",
    "Or, using the notation from lecture:\n",
    "\n",
    "\n",
    "$$\\large \\hat{\\theta}_1 = r \\frac{\\sigma_y}{\\sigma_x}$$\n",
    "\n",
    "\n",
    "$$\\large \\hat{\\theta}_0 = \\bar{y} - \\hat{\\theta}_1\\bar{x}$$\n",
    "\n",
    "and the prediction of the output of the $i^{th}$ datapoint, $\\hat{y_i}$, will be:\n",
    "$$\\large \\hat{y}_i = \\hat{\\theta}_0 + \\hat{\\theta}_1x_i$$\n",
    "\n",
    "where $\\bar{x}$, $\\bar{y}$, $\\sigma_x$, $\\sigma_y$ correspond to the means and standard deviations of $x$ and $y$, respectively, and $r$ is the correlation coefficient.\n",
    "\n",
    "\n"
   ]
  },
  {
   "cell_type": "code",
   "execution_count": null,
   "id": "0bf01306",
   "metadata": {},
   "outputs": [],
   "source": [
    "def standard_units(x):\n",
    "    \"\"\"Converts an array x to standard units\"\"\"\n",
    "    return (x - np.mean(x)) / np.std(x)"
   ]
  },
  {
   "cell_type": "code",
   "execution_count": null,
   "id": "78e2e898",
   "metadata": {},
   "outputs": [],
   "source": [
    "def correlation(x, y):\n",
    "    \"\"\"Computes the correlation between arrays x and y\"\"\"\n",
    "    x_su = standard_units(x)\n",
    "    y_su = standard_units(y)\n",
    "    return np.mean(x_su * y_su)"
   ]
  },
  {
   "cell_type": "code",
   "execution_count": null,
   "id": "4a725a4e",
   "metadata": {},
   "outputs": [],
   "source": [
    "def slope(x, y):\n",
    "    \"\"\"Computes the slope of the regression line\"\"\"\n",
    "    r = correlation(x, y)\n",
    "    y_sd = np.std(y)\n",
    "    x_sd = np.std(x)\n",
    "    return r * y_sd / x_sd"
   ]
  },
  {
   "cell_type": "code",
   "execution_count": null,
   "id": "ff03b9f5",
   "metadata": {},
   "outputs": [],
   "source": [
    "def intercept(x, y):\n",
    "    \"\"\"Computes the intercept of the regression line\"\"\"\n",
    "    x_mean = np.mean(x)\n",
    "    y_mean = np.mean(y)\n",
    "    return y_mean - slope(x, y)*x_mean"
   ]
  },
  {
   "cell_type": "code",
   "execution_count": null,
   "id": "29745b2a",
   "metadata": {},
   "outputs": [],
   "source": [
    "def fit_least_squares(x, y):\n",
    "    return intercept(x,y), slope(x,y)"
   ]
  },
  {
   "cell_type": "code",
   "execution_count": null,
   "id": "ea32d136",
   "metadata": {},
   "outputs": [],
   "source": [
    "[intercept1, slope1] = fit_least_squares(hybrid[\"acceleration\"],hybrid[\"msrp\"])\n",
    "\n",
    "print(r'MSRP = {0:.2f}(acc){1:.2f}'.format(slope1, intercept1))\n"
   ]
  },
  {
   "cell_type": "code",
   "execution_count": null,
   "id": "0ecf56d5",
   "metadata": {},
   "outputs": [],
   "source": [
    "def predict_linear(x, y):\n",
    "    \"\"\"Return an array of the regressions estimates at all the x values\"\"\"\n",
    "    pred_y = slope(x, y) * x + intercept(x, y)\n",
    "    return pred_y  "
   ]
  },
  {
   "cell_type": "code",
   "execution_count": null,
   "id": "5799d47d",
   "metadata": {},
   "outputs": [],
   "source": [
    "#Visualize the SLR:\n",
    "sns.scatterplot(x=hybrid[\"acceleration\"], y=hybrid[\"msrp\"])\n",
    "plt.plot(hybrid[\"acceleration\"], \n",
    "         predict_linear(hybrid[\"acceleration\"],hybrid[\"msrp\"]),\n",
    "         'r--',\n",
    "         label =r'MSRP = {0:.2f}(acc)+{1:.2f}'.format(slope1, intercept1),\n",
    "         alpha=0.5)\n",
    "plt.legend()\n"
   ]
  },
  {
   "cell_type": "markdown",
   "id": "ab733d3f",
   "metadata": {},
   "source": [
    "### Analyze Model Fit\n",
    "Next, we **plot the residuals.** \n",
    "\n",
    "When we make a residual plot, we'll put the residuals on the y-axis.  But we have an option of what to use for the x-axis:  either the single input feature (in this case `flipper_length` OR the fitted y-values (i.e. the predicted y output of the model).  When we have more than one feature i.e. in Multiple Linear Regression, we usually just plot the residuals vs the fitted y-values.  \n",
    "\n",
    "\n",
    "For reference we'll provide both residual plots below.  We also replot the original dataset and our SLR model.\n",
    "\n"
   ]
  },
  {
   "cell_type": "code",
   "execution_count": null,
   "id": "994e7e25",
   "metadata": {},
   "outputs": [],
   "source": [
    "predicted_msrp = predict_linear(hybrid[\"acceleration\"],hybrid[\"msrp\"])\n",
    "\n",
    "fig, ax = plt.subplots(1,3, figsize=(15, 5))\n",
    "\n",
    "ax[0].scatter(hybrid[\"acceleration\"], hybrid[\"msrp\"])\n",
    "ax[0].plot(hybrid[\"acceleration\"], predicted_msrp, 'r--')\n",
    "ax[0].set_xlabel('acc')\n",
    "ax[0].set_ylabel('msrp')\n",
    "ax[0].set_title('SLR')\n",
    "\n",
    "\n",
    "\n",
    "ax[1].scatter(hybrid[\"acceleration\"], hybrid[\"msrp\"] - predicted_msrp)\n",
    "ax[1].axhline(0, c='black', linewidth=1)\n",
    "ax[1].set_xlabel(r'acc')\n",
    "ax[1].set_ylabel(r'Residuals: $y - \\hat{y}$');\n",
    "ax[1].set_title(\"Residuals vs. acc\")\n",
    "\n",
    "ax[2].scatter(predicted_msrp, hybrid[\"msrp\"] - predicted_msrp)\n",
    "ax[2].axhline(0, c='black', linewidth=1)\n",
    "ax[2].set_xlabel(r'Fitted Values $\\hat{y}$')\n",
    "ax[2].set_ylabel(r'Residuals: $y - \\hat{y}$');\n",
    "ax[2].set_title(\"Residuals vs. predicted msrp\")\n",
    "\n"
   ]
  },
  {
   "cell_type": "markdown",
   "id": "47b52424",
   "metadata": {},
   "source": [
    "## Calculate RMSE:"
   ]
  },
  {
   "cell_type": "code",
   "execution_count": null,
   "id": "b81d05f8",
   "metadata": {},
   "outputs": [],
   "source": [
    "def RMSE(y, pred_y):\n",
    "    return np.sqrt(np.mean((y-pred_y)**2))"
   ]
  },
  {
   "cell_type": "code",
   "execution_count": null,
   "id": "ca18e165",
   "metadata": {},
   "outputs": [],
   "source": [
    "RMSE(hybrid[\"msrp\"],predicted_msrp )"
   ]
  },
  {
   "cell_type": "markdown",
   "id": "91d9f612-dab1-4494-a100-eb200f6c91c9",
   "metadata": {},
   "source": [
    "## SLR via `sklearn`\n",
    "\n",
    "`sklearn` is a popular Python library for building and fitting models. In this lecture, we will walk through the general workflow for writing code for `sklearn`. While our examples will be focused on linear models, `sklearn` is highly adaptable for use on other (more complex) kinds of models. We'll see examples of this later in the semester. "
   ]
  },
  {
   "cell_type": "markdown",
   "id": "1787a703-ad56-4ec7-ae1f-01b2989d4355",
   "metadata": {},
   "source": [
    "There are three steps to creating and using a model in `sklearn`. \n",
    "\n",
    "**(1) Initialize an instance of the model class**\n",
    "\n",
    "`sklearn` stores \"templates\" of useful models for machine learning. We begin the modeling process by making a \"copy\" of one of these templates for our own use. Model initialization looks like `ModelClass()`, where `ModelClass` is the type of model we wish to create.\n",
    "\n",
    "For now, let's create a linear regression model using `LinearRegression()`. \n",
    "\n",
    "`my_model` is now an instance of the `LinearRegression` class. You can think of it as the \"idea\" of a linear regression model. We haven't trained it yet, so it doesn't know any model parameters and cannot be used to make predictions. In fact, we haven't even told it what data to use for modeling! It simply waits for further instructions."
   ]
  },
  {
   "cell_type": "code",
   "execution_count": null,
   "id": "e14ebdf4-c362-4e8f-9ace-7c58959b1437",
   "metadata": {},
   "outputs": [],
   "source": [
    "import sklearn.linear_model as lm\n",
    "\n",
    "my_model = lm.LinearRegression()\n",
    "\n",
    "my_model"
   ]
  },
  {
   "cell_type": "markdown",
   "id": "e4e28647-a19a-46e2-9704-64a89b4c53e9",
   "metadata": {},
   "source": [
    "**(2) Train the model using `.fit`**\n",
    "\n",
    "Before the model can make predictions, we will need to fit it to our training data. When we fit the model, `sklearn` will run gradient descent behind the scenes to determine the optimal model parameters. It will then save these model parameters to our model instance for future use. \n",
    "\n",
    "All `sklearn` model classes include a `.fit` method. This function is used to fit the model. It takes in two inputs: the design matrix, `X`, and the target variable, `y`. \n",
    "\n",
    "Let's start by fitting a model with just one feature: the acceleration. We create a design matrix `X` by pulling out the `\"acceleration\"` column from the DataFrame. Notice that we use **double brackets** to extract this column. Why double brackets instead of just single brackets? The `.fit` method, by default, expects to receive **2-dimensional** data – some kind of data that includes both rows and columns. Writing `hybrid[\"acceleration\"]` would return a 1D `Series`, causing `sklearn` to error. We avoid this by writing `hybrid[[\"acceleration\"]]` to produce a 2D DataFrame. "
   ]
  },
  {
   "cell_type": "code",
   "execution_count": null,
   "id": "c51bbfd8-08c1-400d-8be7-d1024f7164f6",
   "metadata": {},
   "outputs": [],
   "source": [
    "# .fit expects a 2D data design matrix, so we use double brackets to extract a DataFrame\n",
    "X = hybrid[[\"acceleration\"]]\n",
    "y = hybrid[\"msrp\"]\n",
    "\n",
    "my_model.fit(X, y)"
   ]
  },
  {
   "cell_type": "markdown",
   "id": "2510bea9-15ba-49a8-adb0-fcca38c2f648",
   "metadata": {},
   "source": [
    "And in just three lines of code, our model has determined the optimal model parameters! Our single-feature model takes the form:\n",
    "\n",
    "$$\\text{MSRP} = \\theta_0 + \\theta_1 \\text{acceleration}$$\n",
    "\n",
    "Note that `LinearRegression` will automatically include an intercept term. (If you **don't** want to include an intercept you should use `lm.LinearRegression(fit_intercept=False)`)\n",
    "\n",
    "The fitted model parameters are stored as attributes of the model instance. `my_model.intercept_` will return the value of $\\hat{\\theta}_0$ as a scalar. `my_model.coef_` will return all values $\\hat{\\theta}_1, \n",
    "\\hat{\\theta}_1, ...$ in an array. Because our model only contains one feature, we see just the value of $\\hat{\\theta}_1$ in the cell below."
   ]
  },
  {
   "cell_type": "code",
   "execution_count": null,
   "id": "63252e1e-02ef-40de-ae52-c373c98e7fd7",
   "metadata": {},
   "outputs": [],
   "source": [
    "# The intercept term, theta_0\n",
    "my_model.intercept_"
   ]
  },
  {
   "cell_type": "code",
   "execution_count": null,
   "id": "f66bba83-0da2-4db7-9f1d-9664bff520d1",
   "metadata": {},
   "outputs": [],
   "source": [
    "# All parameters theta_1, ..., theta_p\n",
    "my_model.coef_"
   ]
  },
  {
   "cell_type": "markdown",
   "id": "734a2c68-4bc5-42e3-b1ca-529323b79014",
   "metadata": {},
   "source": [
    "**(3) Use the fitted model to make predictions**\n",
    "\n",
    "Now that the model has been trained, we can use it to make predictions! To do so, we use the `.predict` method. `.predict` takes in one argument, the design matrix that should be used to generate predictions. To understand how the model performs on the training set, we would pass in the training data. Alternatively, to make predictions on unseen data, we would pass in a new dataset that wasn't used to train the model.\n",
    "\n",
    "Below, we call `.predict` to generate model predictions on the original training data. As before, we use double brackets to ensure that we extract 2-dimensional data."
   ]
  },
  {
   "cell_type": "code",
   "execution_count": null,
   "id": "701f8b82-de61-485e-b374-8a8ccfbfa0ef",
   "metadata": {},
   "outputs": [],
   "source": [
    "y_hat = my_model.predict(hybrid[[\"acceleration\"]])\n",
    "\n",
    "print(f\"The RMSE of the model is {np.sqrt(np.mean((y-y_hat)**2))}\")"
   ]
  },
  {
   "cell_type": "markdown",
   "id": "e57bb8ad",
   "metadata": {},
   "source": [
    "## Multiple Linear Regression:  Adding More Features"
   ]
  },
  {
   "cell_type": "markdown",
   "id": "b4e064ed",
   "metadata": {},
   "source": [
    "What if we wanted to add more features?"
   ]
  },
  {
   "cell_type": "markdown",
   "id": "a3a5b45f",
   "metadata": {},
   "source": [
    "A quick way to visualize how your dependent variable varies with the other variables in your dataset is to do a pairwise correlation plot:"
   ]
  },
  {
   "cell_type": "code",
   "execution_count": null,
   "id": "0cdd8845",
   "metadata": {},
   "outputs": [],
   "source": []
  },
  {
   "cell_type": "markdown",
   "id": "845fe864-be58-4a6f-991a-fc9b7b49a570",
   "metadata": {},
   "source": [
    "What if we wanted a model with two features? \n",
    "\n",
    "$$\\text{MSRP} = \\theta_0 + \\theta_1 \\text{acceleration}+ \\theta_2 \\text{mpg}$$\n",
    "\n"
   ]
  },
  {
   "cell_type": "code",
   "execution_count": null,
   "id": "1cf29bbf",
   "metadata": {},
   "outputs": [],
   "source": [
    "px.scatter_3d(\n",
    "    hybrid, \n",
    "    x=\"mpg\", y=\"acceleration\", z=\"msrp\",\n",
    "    hover_name=\"vehicle\", \n",
    "    color=\"class\", \n",
    "    height=800\n",
    ")"
   ]
  },
  {
   "cell_type": "markdown",
   "id": "1ecaffb6",
   "metadata": {},
   "source": [
    "We repeat this three-step process by intializing a new model object, then calling `.fit` and `.predict` as before."
   ]
  },
  {
   "cell_type": "code",
   "execution_count": null,
   "id": "aee0db54-8452-43b5-8b32-73c1416660a7",
   "metadata": {},
   "outputs": [],
   "source": [
    "# Step 1: initialize LinearRegression model\n",
    "two_feature_model = lm.LinearRegression()\n",
    "\n",
    "# Step 2: fit the model\n",
    "X_two_features = hybrid[[\"acceleration\", \"mpg\"]]\n",
    "y = hybrid[\"msrp\"]\n",
    "\n",
    "two_feature_model.fit(X_two_features, y)\n",
    "\n",
    "\n"
   ]
  },
  {
   "cell_type": "code",
   "execution_count": null,
   "id": "a5fe939d",
   "metadata": {},
   "outputs": [],
   "source": [
    "two_feature_model.intercept_"
   ]
  },
  {
   "cell_type": "code",
   "execution_count": null,
   "id": "44e13c57",
   "metadata": {},
   "outputs": [],
   "source": [
    "two_feature_model.coef_"
   ]
  },
  {
   "cell_type": "code",
   "execution_count": null,
   "id": "7382f2d7",
   "metadata": {},
   "outputs": [],
   "source": [
    "# Step 3: make predictions\n",
    "y_hat_two_features = two_feature_model.predict(X_two_features)\n",
    "\n",
    "print(f\"The RMSE of the model is {np.sqrt(np.mean((y-y_hat_two_features)**2))}\")"
   ]
  },
  {
   "cell_type": "markdown",
   "id": "8a729c1f",
   "metadata": {},
   "source": [
    "## Scroll to the bottom of this notebook to visualize this model in 3D (this requires the datascience library)"
   ]
  },
  {
   "cell_type": "markdown",
   "id": "280b2be3",
   "metadata": {},
   "source": [
    "### Analyze Residuals:"
   ]
  },
  {
   "cell_type": "code",
   "execution_count": null,
   "id": "d87bd63c",
   "metadata": {},
   "outputs": [],
   "source": [
    "\n",
    "plt.scatter(two_feature_model.predict(X_two_features), hybrid[\"msrp\"] - two_feature_model.predict(X_two_features))\n",
    "plt.axhline(0, c='black', linewidth=1)\n"
   ]
  },
  {
   "cell_type": "markdown",
   "id": "11783da5",
   "metadata": {},
   "source": [
    "## Multiple $R^2$"
   ]
  },
  {
   "cell_type": "markdown",
   "id": "43f8930f",
   "metadata": {},
   "source": [
    "Let's compute the coefficient of determination, or **multiple $R^2$**, for our model."
   ]
  },
  {
   "cell_type": "code",
   "execution_count": null,
   "id": "f0972944",
   "metadata": {},
   "outputs": [],
   "source": [
    "r2 = np.var(two_feature_model.predict(X_two_features)) / np.var(hybrid[\"msrp\"])\n",
    "r2"
   ]
  },
  {
   "cell_type": "markdown",
   "id": "e1207c65",
   "metadata": {},
   "source": [
    "Notice that this is better (i.e. closer to 1) than the r^2 for our SLR model:"
   ]
  },
  {
   "cell_type": "code",
   "execution_count": null,
   "id": "742bc5f5",
   "metadata": {},
   "outputs": [],
   "source": [
    "little_r2 = correlation(hybrid[\"acceleration\"],hybrid[\"msrp\"])**2\n",
    "little_r2"
   ]
  },
  {
   "cell_type": "markdown",
   "id": "b94f4d08",
   "metadata": {},
   "source": [
    "## Fitting Non-linear Data\n",
    "\n",
    "We could try to improve our predictions by defining a more complex equation:\n",
    "\n",
    "\n",
    "$$\\text{MSRP} = \\theta_0 + \\theta_1 \\text{acceleration}+ \\theta_2 \\text{mpg}+ \\theta_3({acceleration})^2 + \\theta_4({mpg})^2$$\n",
    "\n",
    "\n",
    "\n"
   ]
  },
  {
   "cell_type": "markdown",
   "id": "87b7e10a",
   "metadata": {},
   "source": [
    "We repeat this three-step process by intializing a new model object, then calling `.fit` and `.predict` as before."
   ]
  },
  {
   "cell_type": "code",
   "execution_count": null,
   "id": "b7772a84",
   "metadata": {},
   "outputs": [],
   "source": [
    "hybrid[\"acc_sq\"] = hybrid[\"acceleration\"]**2"
   ]
  },
  {
   "cell_type": "code",
   "execution_count": null,
   "id": "e2de5a26",
   "metadata": {},
   "outputs": [],
   "source": [
    "hybrid[\"mpg_sq\"] = hybrid[\"mpg\"]**2"
   ]
  },
  {
   "cell_type": "code",
   "execution_count": null,
   "id": "f25a6a33",
   "metadata": {},
   "outputs": [],
   "source": [
    "hybrid.head()"
   ]
  },
  {
   "cell_type": "code",
   "execution_count": null,
   "id": "b1a7c9e1",
   "metadata": {},
   "outputs": [],
   "source": [
    "# Step 1: initialize LinearRegression model\n",
    "four_feature_model = lm.LinearRegression()\n",
    "\n",
    "# Step 2: fit the model\n",
    "X_four_features = hybrid[[\"acceleration\", \"mpg\",\"acc_sq\",\"mpg_sq\"]]\n",
    "y = hybrid[\"msrp\"]\n",
    "\n",
    "four_feature_model.fit(X_four_features, y)\n",
    "\n",
    "\n"
   ]
  },
  {
   "cell_type": "code",
   "execution_count": null,
   "id": "c636ad8c",
   "metadata": {},
   "outputs": [],
   "source": [
    "four_feature_model.intercept_"
   ]
  },
  {
   "cell_type": "code",
   "execution_count": null,
   "id": "db79dbfb",
   "metadata": {},
   "outputs": [],
   "source": [
    "four_feature_model.coef_"
   ]
  },
  {
   "cell_type": "code",
   "execution_count": null,
   "id": "ddb824cd",
   "metadata": {},
   "outputs": [],
   "source": [
    "# Step 3: make predictions\n",
    "y_hat_four_features = four_feature_model.predict(X_four_features)\n",
    "\n",
    "print(f\"The RMSE of the model is {np.sqrt(np.mean((y-y_hat_four_features)**2))}\")"
   ]
  },
  {
   "cell_type": "markdown",
   "id": "12714cad",
   "metadata": {},
   "source": [
    "## Scroll to the bottom to visualize this 4 feature model"
   ]
  },
  {
   "cell_type": "code",
   "execution_count": null,
   "id": "3a8d1c29",
   "metadata": {},
   "outputs": [],
   "source": [
    "#Analyze Residuals:\n",
    "\n",
    "plt.scatter(y_hat_four_features, y-y_hat_four_features)\n",
    "plt.axhline(0, c='black', linewidth=1)\n",
    "plt.xlabel(\"predicted msrp\")\n",
    "plt.ylabel(\"residuals\")\n",
    "plt.title(\"Residuals for Model with 4 features\")\n"
   ]
  },
  {
   "cell_type": "code",
   "execution_count": null,
   "id": "8d4e50a6",
   "metadata": {},
   "outputs": [],
   "source": [
    "#Compare Residuals from our 3 models:\n",
    "\n",
    "fig, ax = plt.subplots(1,3, figsize=(15, 5))\n",
    "\n",
    "\n",
    "ax[0].scatter(predicted_msrp, hybrid[\"msrp\"] - predicted_msrp)\n",
    "ax[0].axhline(0, c='black', linewidth=1)\n",
    "ax[0].set_xlabel(r'Fitted Values $\\hat{y}$')\n",
    "ax[0].set_ylabel(r'Residuals: $y - \\hat{y}$');\n",
    "ax[0].set_title(\"Residuals for single feature model\")\n",
    "ax[0].set_xlim(9000,101000)\n",
    "\n",
    "\n",
    "ax[1].scatter(two_feature_model.predict(X_two_features), hybrid[\"msrp\"] - two_feature_model.predict(X_two_features))\n",
    "ax[1].axhline(0, c='black', linewidth=1)\n",
    "ax[1].set_xlabel(r'Fitted Values $\\hat{y}$')\n",
    "ax[1].set_ylabel(r'Residuals: $y - \\hat{y}$');\n",
    "ax[1].set_title(\"Residuals for 2 feature model\")\n",
    "ax[1].set_xlim(9000,101000)\n",
    "\n",
    "\n",
    "\n",
    "ax[2].scatter(y_hat_four_features, hybrid[\"msrp\"] - y_hat_four_features)\n",
    "ax[2].axhline(0, c='black', linewidth=1)\n",
    "ax[2].set_xlabel(r'Fitted Values $\\hat{y}$')\n",
    "ax[2].set_ylabel(r'Residuals: $y - \\hat{y}$');\n",
    "ax[2].set_title(\"Residuals for 4 feature model\")\n",
    "ax[2].set_xlim(9000,101000)\n",
    "\n"
   ]
  },
  {
   "cell_type": "code",
   "execution_count": null,
   "id": "05072906",
   "metadata": {},
   "outputs": [],
   "source": [
    "r2_v2 = np.var(y_hat_four_features) / np.var(hybrid[\"msrp\"])\n",
    "r2_v2"
   ]
  },
  {
   "cell_type": "markdown",
   "id": "81168b67-b5ff-4005-8c06-608e07f2c7b2",
   "metadata": {},
   "source": [
    "## Feature Engineering\n",
    "\n",
    "Feature engineering is the process of applying **feature functions** to generate new features for use in modeling. Below we will discuss\n",
    "\n",
    "* Polynomial features\n",
    "\n",
    "using a new dataset of vehicle information\n"
   ]
  },
  {
   "cell_type": "code",
   "execution_count": null,
   "id": "4716c468-74e5-4960-864b-40f2e8af5446",
   "metadata": {},
   "outputs": [],
   "source": [
    "vehicles = sns.load_dataset(\"mpg\").dropna().rename(columns = {\"horsepower\": \"hp\"}).sort_values(\"hp\")\n",
    "vehicles.head()"
   ]
  },
  {
   "cell_type": "markdown",
   "id": "a27378d6-516e-417a-b80a-0282ea4243df",
   "metadata": {},
   "source": [
    "Suppose we want to use the `hp` (horsepower) of a car to predict its `mpg` (gas mileage in miles per gallon). If we visualize the relationship between these two variables, we see a non-linear curvature. Fitting a linear model to these variables results in a high (poor) value of RMSE. \n",
    "\n",
    "$$\\hat{y} = \\theta_0 + \\theta_1 (\\text{hp})$$"
   ]
  },
  {
   "cell_type": "code",
   "execution_count": null,
   "id": "33629843-f23d-4624-accf-a9b6af482d53",
   "metadata": {},
   "outputs": [],
   "source": [
    "X = vehicles[[\"hp\"]]\n",
    "y = vehicles[\"mpg\"]\n",
    "\n",
    "hp_model = lm.LinearRegression()\n",
    "hp_model.fit(X, y)\n",
    "hp_model_predictions = hp_model.predict(X)\n",
    "\n",
    "sns.scatterplot(data=vehicles, x=\"hp\", y=\"mpg\")\n",
    "\n",
    "plt.plot(vehicles[\"hp\"], hp_model_predictions, c=\"tab:red\");\n",
    "\n",
    "print(f\"MSE of model with (hp) feature: {np.mean((y-hp_model_predictions)**2)}\")"
   ]
  },
  {
   "cell_type": "markdown",
   "id": "249691a7-ea35-493c-ad04-f224e61f50c4",
   "metadata": {},
   "source": [
    "To capture the non-linear relationship between the variables, we can introduce a non-linear feature: `hp` squared. Our new model is:\n",
    "\n",
    "$$\\hat{y} = \\theta_0 + \\theta_1 (\\text{hp}) + \\theta_2 (\\text{hp}^2)$$"
   ]
  },
  {
   "cell_type": "code",
   "execution_count": null,
   "id": "d95f79d3-df91-408e-b78d-3ba61a7a6a4b",
   "metadata": {},
   "outputs": [],
   "source": [
    "X = vehicles[[\"hp\"]]\n",
    "X.loc[:, \"hp^2\"] = vehicles[\"hp\"]**2\n",
    "\n",
    "hp2_model = lm.LinearRegression()\n",
    "hp2_model.fit(X, y)\n",
    "hp2_model_predictions = hp2_model.predict(X)\n",
    "\n",
    "sns.scatterplot(data=vehicles, x=\"hp\", y=\"mpg\")\n",
    "\n",
    "plt.plot(vehicles[\"hp\"], hp2_model_predictions, c=\"tab:red\");\n",
    "\n",
    "print(f\"MSE of model with (hp^2) feature: {np.mean((y-hp2_model_predictions)**2)}\")"
   ]
  },
  {
   "cell_type": "markdown",
   "id": "6337bad5-873a-48ca-aa70-ba2467b60619",
   "metadata": {},
   "source": [
    "What if we take things further and add even *more* polynomial features?\n",
    "\n",
    "The cell below fits models of increasing complexity and computes their MSEs."
   ]
  },
  {
   "cell_type": "code",
   "execution_count": null,
   "id": "8032da0c-757a-4472-940c-e72718bc514c",
   "metadata": {},
   "outputs": [],
   "source": [
    "def mse(predictions, observations):\n",
    "    return np.mean((observations - predictions)**2)\n",
    "\n",
    "# Add hp^3 and hp^4 as features to the data\n",
    "X[\"hp^3\"] = vehicles[\"hp\"]**3\n",
    "X[\"hp^4\"] = vehicles[\"hp\"]**4\n",
    "\n",
    "# Fit a model with order 3\n",
    "hp3_model = lm.LinearRegression()\n",
    "hp3_model.fit(X[[\"hp\", \"hp^2\", \"hp^3\"]], vehicles[\"mpg\"])\n",
    "hp3_model_predictions = hp3_model.predict(X[[\"hp\", \"hp^2\", \"hp^3\"]])\n",
    "\n",
    "# Fit a model with order 4\n",
    "hp4_model = lm.LinearRegression()\n",
    "hp4_model.fit(X[[\"hp\", \"hp^2\", \"hp^3\", \"hp^4\"]], vehicles[\"mpg\"])\n",
    "hp4_model_predictions = hp4_model.predict(X[[\"hp\", \"hp^2\", \"hp^3\", \"hp^4\"]])\n",
    "\n",
    "# Plot the models' predictions\n",
    "fig, ax = plt.subplots(1, 3, dpi=200, figsize=(12, 3))\n",
    "\n",
    "predictions_dict = {0:hp2_model_predictions, 1:hp3_model_predictions, 2:hp4_model_predictions}\n",
    "\n",
    "for i in predictions_dict:\n",
    "    ax[i].scatter(vehicles[\"hp\"], vehicles[\"mpg\"], edgecolor=\"white\", lw=0.5)\n",
    "    ax[i].plot(vehicles[\"hp\"], predictions_dict[i], \"tab:red\")\n",
    "    ax[i].set_title(f\"Model with order {i+2}\")\n",
    "    ax[i].set_xlabel(\"hp\")\n",
    "    ax[i].set_ylabel(\"mpg\")\n",
    "    ax[i].annotate(f\"MSE: {np.round(mse(vehicles['mpg'], predictions_dict[i]), 3)}\", (120, 40))\n",
    "\n",
    "plt.subplots_adjust(wspace=0.3);"
   ]
  },
  {
   "cell_type": "markdown",
   "id": "e266b33f-37c6-4d39-b19c-f18fc576b19a",
   "metadata": {},
   "source": [
    "## Complexity and Overfitting\n",
    "\n",
    "What we saw above was the phenomenon of **model complexity** – as we add additional features to the design matrix, the model becomes increasingly *complex*. Models with higher complexity have lower values of training error. Intuitively, this makes sense: with more features at its disposal, the model can match the observations in the trainining data more and more closely. \n",
    "\n",
    "We can run an experiment to see this in action. In the cell below, we fit many models of progressively higher complexity, then plot the MSE of predictions on the training set. The code used (specifically, the `Pipeline` and `PolynomialFeatures` functions of `sklearn`) is out of scope.\n",
    "\n",
    "The **order** of a polynomial model is the highest power of any term in the model. An order 0 model takes the form $\\hat{y} = \\theta_0$, while an order 4 model takes the form $\\hat{y} = \\theta_0 + \\theta_1 x + \\theta_2 x^2 + \\theta_3 x^3 + \\theta_4 x^4$."
   ]
  },
  {
   "cell_type": "code",
   "execution_count": null,
   "id": "cc3c06c3-f3bb-452f-acef-6df2661affbc",
   "metadata": {},
   "outputs": [],
   "source": [
    "from sklearn.pipeline import Pipeline\n",
    "from sklearn.preprocessing import PolynomialFeatures\n",
    "\n",
    "def fit_model_dataset(degree, dataset):\n",
    "    pipelined_model = Pipeline([\n",
    "            ('polynomial_transformation', PolynomialFeatures(degree)),\n",
    "            ('linear_regression', lm.LinearRegression())    \n",
    "        ])\n",
    "\n",
    "    pipelined_model.fit(dataset[[\"hp\"]], dataset[\"mpg\"])\n",
    "    return mse(dataset['mpg'], pipelined_model.predict(dataset[[\"hp\"]]))\n",
    "\n",
    "errors = [fit_model_dataset(degree, vehicles) for degree in range(0, 8)]\n",
    "MSEs_and_k = pd.DataFrame({\"k\": range(0, 8), \"MSE\": errors})\n",
    "\n",
    "plt.plot(range(0, 8), errors)\n",
    "plt.xlabel(\"Model Complexity (degree of polynomial)\")\n",
    "plt.ylabel(\"Training MSE\");\n",
    "\n",
    "def plot_degree_k_model(k, MSEs_and_k, axs):\n",
    "    pipelined_model = Pipeline([\n",
    "        ('poly_transform', PolynomialFeatures(degree = k)),\n",
    "        ('regression', lm.LinearRegression(fit_intercept = True))    \n",
    "    ])\n",
    "    pipelined_model.fit(vehicles[[\"hp\"]], vehicles[\"mpg\"])\n",
    "    \n",
    "    row = k // 4\n",
    "    col = k % 4\n",
    "    ax = axs[row, col]\n",
    "    \n",
    "    sns.scatterplot(data=vehicles, x='hp', y='mpg', ax=ax)\n",
    "    \n",
    "    x_range = np.linspace(45, 210, 100).reshape(-1, 1)\n",
    "    ax.plot(x_range, pipelined_model.predict(pd.DataFrame(x_range, columns=['hp'])), c='tab:red', linewidth=2)\n",
    "    \n",
    "    ax.set_ylim((0, 50))\n",
    "    mse_str = f\"MSE: {MSEs_and_k.loc[k, 'MSE']:.4}\\nDegree: {k}\"\n",
    "    ax.text(130, 35, mse_str, dict(size=14))\n",
    "\n",
    "fig = plt.figure(figsize=(15, 6), dpi=150)\n",
    "axs = fig.subplots(nrows=2, ncols=4)\n",
    "\n",
    "for k in range(8):\n",
    "    plot_degree_k_model(k, MSEs_and_k, axs)\n",
    "fig.subplots_adjust(wspace=0.4, hspace=0.3)"
   ]
  },
  {
   "cell_type": "markdown",
   "id": "0197e1e3-681c-4192-8cd1-b7c97c936cbe",
   "metadata": {},
   "source": [
    "As the model increases in polynomial degree (that is, it increases in complexity), the training MSE decreases, plateauing at roughly ~18.\n",
    "\n",
    "In fact, it is a mathematical fact that if we create a polynomial model with degree $n-1$, we can *perfectly* model a set of $n$ points. For example, a set of 5 points can be perfectly modeled by a degree 4 model."
   ]
  },
  {
   "cell_type": "code",
   "execution_count": null,
   "id": "e4bb0a9a-7052-4dcc-83a3-3b72546688fe",
   "metadata": {},
   "outputs": [],
   "source": [
    "np.random.seed(101)\n",
    "\n",
    "fig, ax = plt.subplots(1, 3, dpi=200, figsize=(12, 3))\n",
    "\n",
    "for i in range(0, 3):\n",
    "    points = 3*np.random.uniform(size=(5, 2))\n",
    "\n",
    "    polynomial_model = Pipeline([\n",
    "                ('polynomial_transformation', PolynomialFeatures(4)),\n",
    "                ('linear_regression', lm.LinearRegression())    \n",
    "            ])\n",
    "\n",
    "    polynomial_model.fit(points[:, [0]], points[:, 1])\n",
    "\n",
    "    ax[i].scatter(points[:, 0], points[:, 1])\n",
    "\n",
    "    xs = np.linspace(0, 3)\n",
    "    ax[i].plot(xs, polynomial_model.predict(xs[:, np.newaxis]), c=\"tab:red\");"
   ]
  },
  {
   "cell_type": "markdown",
   "id": "91667111-8fef-4fed-9c23-6f204796737a",
   "metadata": {},
   "source": [
    "You may be tempted to always design models with high polynomial degree – after all, we know that we could theoretically achieve perfect predictions by creating a model with enough polynomial features. \n",
    "\n",
    "It turns out that the examples we looked at above represent a somewhat artificial scenario: we trained our model on all the data we had available, then used the model to make predictions on this very same dataset. A more realistic situation is when we wish to apply our model on unseen data – that is, datapoints that it did not encounter during the model fitting process. \n",
    "\n",
    "Suppose we obtain a random sample of 6 datapoints from our population of vehicle data. We want to train a model on these 6 points and use it to make predictions on unseen data (perhaps cars for which we don't already know the true `mpg`). "
   ]
  },
  {
   "cell_type": "code",
   "execution_count": null,
   "id": "0e56a90f-6a45-4383-9b91-a1527744f79e",
   "metadata": {},
   "outputs": [],
   "source": [
    "np.random.seed(100)\n",
    "\n",
    "sample_6 = vehicles.sample(6)\n",
    "\n",
    "sns.scatterplot(data=sample_6, x=\"hp\", y=\"mpg\")\n",
    "plt.ylim(-35, 50)\n",
    "plt.xlim(0, 250);"
   ]
  },
  {
   "cell_type": "markdown",
   "id": "ed3200ca-4f9a-4bd3-a63b-c2152e38e86d",
   "metadata": {},
   "source": [
    "If we design a model with polynomial degree 5, we can make perfect predictions on this sample of training data."
   ]
  },
  {
   "cell_type": "code",
   "execution_count": null,
   "id": "6abf0537-6172-44f1-9685-8026576313ff",
   "metadata": {},
   "outputs": [],
   "source": [
    "degree_5_model = Pipeline([\n",
    "                ('polynomial_transformation', PolynomialFeatures(5)),\n",
    "                ('linear_regression', lm.LinearRegression())    \n",
    "            ])\n",
    "\n",
    "degree_5_model.fit(sample_6[[\"hp\"]], sample_6[\"mpg\"])\n",
    "xs = np.linspace(0, 250, 1000)\n",
    "degree_5_model_predictions = degree_5_model.predict(xs[:, np.newaxis])\n",
    "\n",
    "plt.plot(xs, degree_5_model_predictions, c=\"tab:red\")\n",
    "sns.scatterplot(data=sample_6, x=\"hp\", y=\"mpg\", s=50)\n",
    "plt.ylim(-35, 50)\n",
    "plt.xlim(0, 250);"
   ]
  },
  {
   "cell_type": "markdown",
   "id": "3d19c1df-fb2d-4d5f-a623-10cc7c241976",
   "metadata": {},
   "source": [
    "However, when we reapply this fitted model to the full population of data, it fails to capture the major trends of the dataset."
   ]
  },
  {
   "cell_type": "code",
   "execution_count": null,
   "id": "b67b9bb6-5c12-47c4-85d9-7c7fa6b61ed3",
   "metadata": {},
   "outputs": [],
   "source": [
    "plt.plot(xs, degree_5_model_predictions, c=\"tab:red\")\n",
    "sns.scatterplot(data=vehicles, x=\"hp\", y=\"mpg\", s=50)\n",
    "plt.ylim(-35, 50);"
   ]
  },
  {
   "cell_type": "markdown",
   "id": "d59caca6-18a7-4568-b4ec-e5f4ee02a505",
   "metadata": {},
   "source": [
    "The model has **overfit** to the data used to train it. It has essentially \"memorized\" the six datapoints used during model fitting, and does not generalize well to new data. \n",
    "\n",
    "Complex models tend to be more sensitive to the data used to train them. The **variance** of a model refers to its tendency to vary depending on the training data used during model fitting. It turns out that our degree-5 model has very high model variance. If we randomly sample new sets of datapoints to use in training, the model varies erratically. "
   ]
  },
  {
   "cell_type": "code",
   "execution_count": null,
   "id": "81cc6d82-afb9-4a4a-bbc2-73d0b8904400",
   "metadata": {},
   "outputs": [],
   "source": [
    "np.random.seed(100)\n",
    "\n",
    "fig, ax = plt.subplots(1, 3, dpi=200, figsize=(12, 3))\n",
    "\n",
    "for i in range(0, 3):\n",
    "    sample = vehicles.sample(6)\n",
    "\n",
    "    polynomial_model = Pipeline([\n",
    "                ('polynomial_transformation', PolynomialFeatures(5)),\n",
    "                ('linear_regression', lm.LinearRegression())    \n",
    "            ])\n",
    "\n",
    "    polynomial_model.fit(sample[[\"hp\"]], sample[\"mpg\"])\n",
    "\n",
    "    ax[i].scatter(sample[[\"hp\"]], sample[\"mpg\"])\n",
    "\n",
    "    xs = np.linspace(50, 210, 1000)\n",
    "    ax[i].plot(xs, polynomial_model.predict(xs[:, np.newaxis]), c=\"tab:red\")\n",
    "    ax[i].set_ylim(-80, 100)\n",
    "    ax[i].set_xlabel(\"hp\")\n",
    "    ax[i].set_ylabel(\"mpg\")\n",
    "    ax[i].set_title(f\"Resample #{i+1}\")\n",
    "    \n",
    "fig.tight_layout();"
   ]
  },
  {
   "cell_type": "markdown",
   "id": "2e9f6b79",
   "metadata": {},
   "source": [
    "## Visualization of 2 feature model (acc and mpg):"
   ]
  },
  {
   "cell_type": "code",
   "execution_count": null,
   "id": "bd2aff6b",
   "metadata": {},
   "outputs": [],
   "source": [
    "from datascience import *\n",
    "import plotly.express as px\n",
    "from plotly.subplots import make_subplots\n",
    "import plotly.graph_objects as go"
   ]
  },
  {
   "cell_type": "code",
   "execution_count": null,
   "id": "e9dce2d1",
   "metadata": {},
   "outputs": [],
   "source": [
    "\n",
    "a=two_feature_model.coef_[0]\n",
    "b=two_feature_model.coef_[1]\n",
    "c=two_feature_model.intercept_\n",
    "\n",
    "mpg_range = np.arange(10, 80)\n",
    "acceleration_range = np.arange(5, 25)\n",
    "predictions = Table([\"mpg\", \"acc\", \"pred\"])\n",
    "for mpg in mpg_range:\n",
    "    for acc in acceleration_range: \n",
    "        pred = a * acc + b * mpg + c\n",
    "        predictions.append([mpg, acc, pred])\n",
    "\n",
    "\n",
    "\n",
    "fig = px.scatter_3d(\n",
    "    hybrid, \n",
    "    x=\"mpg\", y=\"acceleration\", z=\"msrp\",\n",
    "    hover_name=\"vehicle\", \n",
    "    color=\"class\", \n",
    "    height=800\n",
    ")\n",
    "fig.add_surface(\n",
    "    x = mpg_range, y = acceleration_range,\n",
    "    z = predictions.column(\"pred\").reshape(len(mpg_range), len(acceleration_range)).T,\n",
    "    showscale=False\n",
    ")"
   ]
  },
  {
   "cell_type": "markdown",
   "id": "63cd2e97",
   "metadata": {},
   "source": [
    "## Visualization of 4 feature model (acc, mpg, acc^2 and mpg^2):"
   ]
  },
  {
   "cell_type": "code",
   "execution_count": null,
   "id": "318c7336",
   "metadata": {},
   "outputs": [],
   "source": [
    "a=four_feature_model.coef_[0]\n",
    "b=four_feature_model.coef_[1]\n",
    "c=four_feature_model.coef_[2]\n",
    "d=four_feature_model.coef_[3]\n",
    "e=four_feature_model.intercept_\n",
    "\n",
    "\n",
    "mpg_range = np.arange(10, 80)\n",
    "acceleration_range = np.arange(5, 25)\n",
    "predictions = Table([\"mpg\", \"acc\", \"pred\"])\n",
    "for mpg in mpg_range:\n",
    "    for acc in acceleration_range: \n",
    "        pred = a*acc + b*mpg + c*acc**2 + d*mpg**2 + e\n",
    "        predictions.append([mpg, acc, pred])\n",
    "        \n",
    "fig = px.scatter_3d(\n",
    "    hybrid, \n",
    "    x=\"mpg\", y=\"acceleration\", z=\"msrp\",\n",
    "    hover_name=\"vehicle\", \n",
    "    color=\"class\", \n",
    "    height=800\n",
    ")\n",
    "fig.add_surface(\n",
    "    x = mpg_range, y = acceleration_range,\n",
    "    z = predictions.column(\"pred\").reshape(len(mpg_range), len(acceleration_range)).T,\n",
    "    showscale=False\n",
    ")"
   ]
  },
  {
   "cell_type": "code",
   "execution_count": null,
   "id": "2e7cd82a",
   "metadata": {},
   "outputs": [],
   "source": []
  }
 ],
 "metadata": {
  "kernelspec": {
   "display_name": "Python 3 (ipykernel)",
   "language": "python",
   "name": "python3"
  },
  "language_info": {
   "codemirror_mode": {
    "name": "ipython",
    "version": 3
   },
   "file_extension": ".py",
   "mimetype": "text/x-python",
   "name": "python",
   "nbconvert_exporter": "python",
   "pygments_lexer": "ipython3",
   "version": "3.9.12"
  }
 },
 "nbformat": 4,
 "nbformat_minor": 5
}
