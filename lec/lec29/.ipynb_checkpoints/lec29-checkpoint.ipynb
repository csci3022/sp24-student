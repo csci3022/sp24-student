{
 "cells": [
  {
   "cell_type": "markdown",
   "id": "374b42b7-3087-4b6a-95b3-315feb64767b",
   "metadata": {},
   "source": [
    "# Lecture 29: Cross Validation\n",
    "\n",
    "\n",
    "\n",
    "[Acknowledgments Page](https://ds100.org/fa23/acks/)"
   ]
  },
  {
   "cell_type": "code",
   "execution_count": 1,
   "id": "29e7fd03-0858-406d-9d56-c831e63bcd5d",
   "metadata": {},
   "outputs": [],
   "source": [
    "import seaborn as sns\n",
    "import pandas as pd\n",
    "import matplotlib.pyplot as plt\n",
    "import numpy as np\n",
    "import plotly.express as px\n",
    "\n",
    "import warnings\n",
    "warnings.filterwarnings('ignore')"
   ]
  },
  {
   "cell_type": "code",
   "execution_count": 6,
   "id": "ba5b20b0",
   "metadata": {},
   "outputs": [],
   "source": [
    "import sklearn.linear_model as lm"
   ]
  },
  {
   "cell_type": "markdown",
   "id": "19d17a42-8459-40df-a9b3-d8c8d48bc641",
   "metadata": {},
   "source": [
    "In this lecture, we will work with the `vehicles` dataset."
   ]
  },
  {
   "cell_type": "code",
   "execution_count": 2,
   "id": "4d390cfe-927b-43d9-982b-93e149f2d31f",
   "metadata": {},
   "outputs": [
    {
     "data": {
      "text/html": [
       "<div>\n",
       "<style scoped>\n",
       "    .dataframe tbody tr th:only-of-type {\n",
       "        vertical-align: middle;\n",
       "    }\n",
       "\n",
       "    .dataframe tbody tr th {\n",
       "        vertical-align: top;\n",
       "    }\n",
       "\n",
       "    .dataframe thead th {\n",
       "        text-align: right;\n",
       "    }\n",
       "</style>\n",
       "<table border=\"1\" class=\"dataframe\">\n",
       "  <thead>\n",
       "    <tr style=\"text-align: right;\">\n",
       "      <th></th>\n",
       "      <th>mpg</th>\n",
       "      <th>cylinders</th>\n",
       "      <th>displacement</th>\n",
       "      <th>hp</th>\n",
       "      <th>weight</th>\n",
       "      <th>acceleration</th>\n",
       "      <th>model_year</th>\n",
       "      <th>origin</th>\n",
       "      <th>name</th>\n",
       "    </tr>\n",
       "  </thead>\n",
       "  <tbody>\n",
       "    <tr>\n",
       "      <th>19</th>\n",
       "      <td>26.0</td>\n",
       "      <td>4</td>\n",
       "      <td>97.0</td>\n",
       "      <td>46.0</td>\n",
       "      <td>1835</td>\n",
       "      <td>20.5</td>\n",
       "      <td>70</td>\n",
       "      <td>europe</td>\n",
       "      <td>volkswagen 1131 deluxe sedan</td>\n",
       "    </tr>\n",
       "    <tr>\n",
       "      <th>102</th>\n",
       "      <td>26.0</td>\n",
       "      <td>4</td>\n",
       "      <td>97.0</td>\n",
       "      <td>46.0</td>\n",
       "      <td>1950</td>\n",
       "      <td>21.0</td>\n",
       "      <td>73</td>\n",
       "      <td>europe</td>\n",
       "      <td>volkswagen super beetle</td>\n",
       "    </tr>\n",
       "    <tr>\n",
       "      <th>326</th>\n",
       "      <td>43.4</td>\n",
       "      <td>4</td>\n",
       "      <td>90.0</td>\n",
       "      <td>48.0</td>\n",
       "      <td>2335</td>\n",
       "      <td>23.7</td>\n",
       "      <td>80</td>\n",
       "      <td>europe</td>\n",
       "      <td>vw dasher (diesel)</td>\n",
       "    </tr>\n",
       "    <tr>\n",
       "      <th>325</th>\n",
       "      <td>44.3</td>\n",
       "      <td>4</td>\n",
       "      <td>90.0</td>\n",
       "      <td>48.0</td>\n",
       "      <td>2085</td>\n",
       "      <td>21.7</td>\n",
       "      <td>80</td>\n",
       "      <td>europe</td>\n",
       "      <td>vw rabbit c (diesel)</td>\n",
       "    </tr>\n",
       "    <tr>\n",
       "      <th>244</th>\n",
       "      <td>43.1</td>\n",
       "      <td>4</td>\n",
       "      <td>90.0</td>\n",
       "      <td>48.0</td>\n",
       "      <td>1985</td>\n",
       "      <td>21.5</td>\n",
       "      <td>78</td>\n",
       "      <td>europe</td>\n",
       "      <td>volkswagen rabbit custom diesel</td>\n",
       "    </tr>\n",
       "  </tbody>\n",
       "</table>\n",
       "</div>"
      ],
      "text/plain": [
       "      mpg  cylinders  displacement    hp  weight  acceleration  model_year  \\\n",
       "19   26.0          4          97.0  46.0    1835          20.5          70   \n",
       "102  26.0          4          97.0  46.0    1950          21.0          73   \n",
       "326  43.4          4          90.0  48.0    2335          23.7          80   \n",
       "325  44.3          4          90.0  48.0    2085          21.7          80   \n",
       "244  43.1          4          90.0  48.0    1985          21.5          78   \n",
       "\n",
       "     origin                             name  \n",
       "19   europe     volkswagen 1131 deluxe sedan  \n",
       "102  europe          volkswagen super beetle  \n",
       "326  europe               vw dasher (diesel)  \n",
       "325  europe             vw rabbit c (diesel)  \n",
       "244  europe  volkswagen rabbit custom diesel  "
      ]
     },
     "execution_count": 2,
     "metadata": {},
     "output_type": "execute_result"
    }
   ],
   "source": [
    "vehicles = sns.load_dataset(\"mpg\").rename(columns={\"horsepower\":\"hp\"}).dropna().sort_values(\"hp\")\n",
    "vehicles.head()"
   ]
  },
  {
   "cell_type": "markdown",
   "id": "fe1f06f1",
   "metadata": {},
   "source": [
    "# I) Polynomial Features"
   ]
  },
  {
   "cell_type": "markdown",
   "id": "a27378d6-516e-417a-b80a-0282ea4243df",
   "metadata": {},
   "source": [
    "Suppose we want to use the `hp` (horsepower) of a car to predict its `mpg` (gas mileage in miles per gallon). If we visualize the relationship between these two variables, we see a non-linear curvature. Fitting a linear model to these variables results in a high (poor) value of RMSE. \n",
    "\n",
    "$$\\hat{y} = \\theta_0 + \\theta_1 (\\text{hp})$$"
   ]
  },
  {
   "cell_type": "code",
   "execution_count": null,
   "id": "33629843-f23d-4624-accf-a9b6af482d53",
   "metadata": {},
   "outputs": [],
   "source": [
    "\n",
    "\n",
    "\n",
    "X = vehicles[[\"hp\"]]\n",
    "y = vehicles[\"mpg\"]\n",
    "\n",
    "\n",
    "hp_model = lm.LinearRegression()\n",
    "hp_model.fit(X, y)\n",
    "hp_model_predictions = hp_model.predict(X)\n",
    "\n",
    "sns.scatterplot(data=vehicles, x=\"hp\", y=\"mpg\")\n",
    "\n",
    "plt.plot(vehicles[\"hp\"], hp_model_predictions, c=\"tab:red\");\n",
    "\n",
    "print(f\"RMSE of model with (hp) feature: {np.sqrt(np.mean((y-hp_model_predictions)**2))}\")"
   ]
  },
  {
   "cell_type": "markdown",
   "id": "249691a7-ea35-493c-ad04-f224e61f50c4",
   "metadata": {},
   "source": [
    "To capture the non-linear relationship between the variables, we can introduce a non-linear feature: `hp` squared. Our new model is:\n",
    "\n",
    "$$\\hat{y} = \\theta_0 + \\theta_1 (\\text{hp}) + \\theta_2 (\\text{hp}^2)$$"
   ]
  },
  {
   "cell_type": "code",
   "execution_count": null,
   "id": "d95f79d3-df91-408e-b78d-3ba61a7a6a4b",
   "metadata": {},
   "outputs": [],
   "source": [
    "X = vehicles[[\"hp\"]]\n",
    "X.loc[:, \"hp^2\"] = vehicles[\"hp\"]**2\n",
    "\n",
    "hp2_model = lm.LinearRegression()\n",
    "hp2_model.fit(X, y)\n",
    "hp2_model_predictions = hp2_model.predict(X)\n",
    "\n",
    "sns.scatterplot(data=vehicles, x=\"hp\", y=\"mpg\")\n",
    "\n",
    "plt.plot(vehicles[\"hp\"], hp2_model_predictions, c=\"tab:red\");\n",
    "\n",
    "print(f\"RMSE of model with (hp^2) feature: {np.sqrt(np.mean((y-hp2_model_predictions)**2))}\")"
   ]
  },
  {
   "cell_type": "markdown",
   "id": "6337bad5-873a-48ca-aa70-ba2467b60619",
   "metadata": {},
   "source": [
    "What if we take things further and add even *more* polynomial features?\n",
    "\n",
    "\n",
    "For example, a degree 4 polynomial based on the `hp` feature to predict `mpg` can be characterized as follows:\n",
    "\n",
    "$$\\widehat{mpg} = \\theta_0 + \\theta_1 hp + \\theta_2 hp^2 + \\theta_3 hp^3 + \\theta_4 hp^4$$\n",
    "\n",
    "The cell below fits models of increasing complexity and computes their MSEs."
   ]
  },
  {
   "cell_type": "code",
   "execution_count": 5,
   "id": "8032da0c-757a-4472-940c-e72718bc514c",
   "metadata": {},
   "outputs": [
    {
     "ename": "NameError",
     "evalue": "name 'lm' is not defined",
     "output_type": "error",
     "traceback": [
      "\u001b[0;31m---------------------------------------------------------------------------\u001b[0m",
      "\u001b[0;31mNameError\u001b[0m                                 Traceback (most recent call last)",
      "Input \u001b[0;32mIn [5]\u001b[0m, in \u001b[0;36m<cell line: 11>\u001b[0;34m()\u001b[0m\n\u001b[1;32m      8\u001b[0m X[\u001b[38;5;124m\"\u001b[39m\u001b[38;5;124mhp^4\u001b[39m\u001b[38;5;124m\"\u001b[39m] \u001b[38;5;241m=\u001b[39m vehicles[\u001b[38;5;124m\"\u001b[39m\u001b[38;5;124mhp\u001b[39m\u001b[38;5;124m\"\u001b[39m]\u001b[38;5;241m*\u001b[39m\u001b[38;5;241m*\u001b[39m\u001b[38;5;241m4\u001b[39m\n\u001b[1;32m     10\u001b[0m \u001b[38;5;66;03m# Fit a model with order 3\u001b[39;00m\n\u001b[0;32m---> 11\u001b[0m hp3_model \u001b[38;5;241m=\u001b[39m \u001b[43mlm\u001b[49m\u001b[38;5;241m.\u001b[39mLinearRegression()\n\u001b[1;32m     12\u001b[0m hp3_model\u001b[38;5;241m.\u001b[39mfit(X[[\u001b[38;5;124m\"\u001b[39m\u001b[38;5;124mhp\u001b[39m\u001b[38;5;124m\"\u001b[39m, \u001b[38;5;124m\"\u001b[39m\u001b[38;5;124mhp^2\u001b[39m\u001b[38;5;124m\"\u001b[39m, \u001b[38;5;124m\"\u001b[39m\u001b[38;5;124mhp^3\u001b[39m\u001b[38;5;124m\"\u001b[39m]], vehicles[\u001b[38;5;124m\"\u001b[39m\u001b[38;5;124mmpg\u001b[39m\u001b[38;5;124m\"\u001b[39m])\n\u001b[1;32m     13\u001b[0m hp3_model_predictions \u001b[38;5;241m=\u001b[39m hp3_model\u001b[38;5;241m.\u001b[39mpredict(X[[\u001b[38;5;124m\"\u001b[39m\u001b[38;5;124mhp\u001b[39m\u001b[38;5;124m\"\u001b[39m, \u001b[38;5;124m\"\u001b[39m\u001b[38;5;124mhp^2\u001b[39m\u001b[38;5;124m\"\u001b[39m, \u001b[38;5;124m\"\u001b[39m\u001b[38;5;124mhp^3\u001b[39m\u001b[38;5;124m\"\u001b[39m]])\n",
      "\u001b[0;31mNameError\u001b[0m: name 'lm' is not defined"
     ]
    }
   ],
   "source": [
    "def mse(predictions, observations):\n",
    "    return np.mean((observations - predictions)**2)\n",
    "\n",
    "\n",
    "\n",
    "# Add hp^3 and hp^4 as features to the data\n",
    "X[\"hp^3\"] = vehicles[\"hp\"]**3\n",
    "X[\"hp^4\"] = vehicles[\"hp\"]**4\n",
    "\n",
    "# Fit a model with order 3\n",
    "hp3_model = lm.LinearRegression()\n",
    "hp3_model.fit(X[[\"hp\", \"hp^2\", \"hp^3\"]], vehicles[\"mpg\"])\n",
    "hp3_model_predictions = hp3_model.predict(X[[\"hp\", \"hp^2\", \"hp^3\"]])\n",
    "\n",
    "# Fit a model with order 4\n",
    "hp4_model = lm.LinearRegression()\n",
    "hp4_model.fit(X[[\"hp\", \"hp^2\", \"hp^3\", \"hp^4\"]], vehicles[\"mpg\"])\n",
    "hp4_model_predictions = hp4_model.predict(X[[\"hp\", \"hp^2\", \"hp^3\", \"hp^4\"]])\n",
    "\n",
    "# Plot the models' predictions\n",
    "fig, ax = plt.subplots(1, 3, dpi=200, figsize=(12, 3))\n",
    "\n",
    "predictions_dict = {0:hp2_model_predictions, 1:hp3_model_predictions, 2:hp4_model_predictions}\n",
    "\n",
    "for i in predictions_dict:\n",
    "    ax[i].scatter(vehicles[\"hp\"], vehicles[\"mpg\"], edgecolor=\"white\", lw=0.5)\n",
    "    ax[i].plot(vehicles[\"hp\"], predictions_dict[i], \"tab:red\")\n",
    "    ax[i].set_title(f\"Model with order {i+2}\")\n",
    "    ax[i].set_xlabel(\"hp\")\n",
    "    ax[i].set_ylabel(\"mpg\")\n",
    "    ax[i].annotate(f\"Training RMSE: {np.round(np.sqrt(mse(vehicles['mpg'], predictions_dict[i])), 3)}\", (120, 40))\n",
    "\n",
    "plt.subplots_adjust(wspace=0.3);"
   ]
  },
  {
   "cell_type": "markdown",
   "id": "e266b33f-37c6-4d39-b19c-f18fc576b19a",
   "metadata": {},
   "source": [
    "## Complexity and Overfitting\n",
    "\n",
    "What we saw above was the phenomenon of **model complexity** – as we add additional features to the design matrix, the model becomes increasingly *complex*. Models with higher complexity have lower values of training error. Intuitively, this makes sense: with more features at its disposal, the model can match the observations in the trainining data more and more closely. \n",
    "\n",
    "We can run an experiment to see this in action. In the cell below, we fit many models of progressively higher complexity, then plot the MSE of predictions on the training set. The code used (specifically, the `Pipeline` and `PolynomialFeatures` functions of `sklearn`) is just for efficiency - this code is out of scope of CSCI 3022.\n",
    "\n",
    "The **order** of a polynomial model is the highest power of any term in the model. An order 0 model takes the form $\\hat{y} = \\theta_0$, while an order 4 model takes the form $\\hat{y} = \\theta_0 + \\theta_1 x + \\theta_2 x^2 + \\theta_3 x^3 + \\theta_4 x^4$."
   ]
  },
  {
   "cell_type": "code",
   "execution_count": null,
   "id": "cc3c06c3-f3bb-452f-acef-6df2661affbc",
   "metadata": {},
   "outputs": [],
   "source": [
    "from sklearn.pipeline import Pipeline\n",
    "from sklearn.preprocessing import PolynomialFeatures\n",
    "\n",
    "def fit_model_dataset(degree, dataset):\n",
    "    pipelined_model = Pipeline([\n",
    "            ('polynomial_transformation', PolynomialFeatures(degree)),\n",
    "            ('linear_regression', lm.LinearRegression())    \n",
    "        ])\n",
    "\n",
    "    pipelined_model.fit(dataset[[\"hp\"]], dataset[\"mpg\"])\n",
    "    return np.sqrt(mse(dataset['mpg'], pipelined_model.predict(dataset[[\"hp\"]])))\n",
    "\n",
    "errors = [fit_model_dataset(degree, vehicles) for degree in range(0, 10)]\n",
    "RMSEs_and_k = pd.DataFrame({\"k\": range(0, 10), \"RMSE\": errors})\n",
    "\n",
    "plt.plot(range(0, 10), errors)\n",
    "plt.xlabel(\"Model Complexity (degree of polynomial)\")\n",
    "plt.ylabel(\"Training RMSE\");\n",
    "\n",
    "def plot_degree_k_model(k, RMSEs_and_k, axs):\n",
    "    pipelined_model = Pipeline([\n",
    "        ('poly_transform', PolynomialFeatures(degree = k)),\n",
    "        ('regression', lm.LinearRegression(fit_intercept = True))    \n",
    "    ])\n",
    "    pipelined_model.fit(vehicles[[\"hp\"]], vehicles[\"mpg\"])\n",
    "    \n",
    "    row = k // 5\n",
    "    col = k % 5\n",
    "    ax = axs[row, col]\n",
    "    \n",
    "    sns.scatterplot(data=vehicles, x='hp', y='mpg', ax=ax)\n",
    "    \n",
    "    x_range = np.linspace(45, 210, 100).reshape(-1, 1)\n",
    "    ax.plot(x_range, pipelined_model.predict(pd.DataFrame(x_range, columns=['hp'])), c='tab:red', linewidth=2)\n",
    "    \n",
    "    ax.set_ylim((0, 50))\n",
    "    mse_str = f\"RMSE: {RMSEs_and_k.loc[k, 'RMSE']:.4}\\nDegree: {k}\"\n",
    "    ax.text(130, 35, mse_str, dict(size=14))\n",
    "\n",
    "fig = plt.figure(figsize=(15, 6), dpi=150)\n",
    "axs = fig.subplots(nrows=2, ncols=5)\n",
    "\n",
    "for k in range(10):\n",
    "    plot_degree_k_model(k, RMSEs_and_k, axs)\n",
    "fig.subplots_adjust(wspace=0.4, hspace=0.3)"
   ]
  },
  {
   "cell_type": "markdown",
   "id": "0197e1e3-681c-4192-8cd1-b7c97c936cbe",
   "metadata": {},
   "source": [
    "As the model increases in polynomial degree (that is, it increases in complexity), the training RMSE decreases, plateauing at roughly ~4.3.\n",
    "\n",
    "In fact, it is a mathematical fact that if we create a polynomial model with degree $n-1$, we can *perfectly* model a set of $n$ points (assuming all $n$ points describe a function). For example, a set of 5 points can be perfectly modeled by a degree 4 model."
   ]
  },
  {
   "cell_type": "code",
   "execution_count": null,
   "id": "e4bb0a9a-7052-4dcc-83a3-3b72546688fe",
   "metadata": {},
   "outputs": [],
   "source": [
    "np.random.seed(101)\n",
    "\n",
    "fig, ax = plt.subplots(1, 3, dpi=200, figsize=(12, 3))\n",
    "\n",
    "for i in range(0, 3):\n",
    "    points = 3*np.random.uniform(size=(5, 2))\n",
    "\n",
    "    polynomial_model = Pipeline([\n",
    "                ('polynomial_transformation', PolynomialFeatures(4)),\n",
    "                ('linear_regression', lm.LinearRegression())    \n",
    "            ])\n",
    "\n",
    "    polynomial_model.fit(points[:, [0]], points[:, 1])\n",
    "\n",
    "    ax[i].scatter(points[:, 0], points[:, 1])\n",
    "\n",
    "    xs = np.linspace(0, 3)\n",
    "    ax[i].plot(xs, polynomial_model.predict(xs[:, np.newaxis]), c=\"tab:red\");"
   ]
  },
  {
   "cell_type": "markdown",
   "id": "91667111-8fef-4fed-9c23-6f204796737a",
   "metadata": {},
   "source": [
    "You may be tempted to always design models with high polynomial degree – after all, we know that we could theoretically achieve perfect predictions by creating a model with enough polynomial features. \n",
    "\n",
    "It turns out that the examples we looked at above represent a somewhat artificial scenario: we trained our model on all the data we had available, then used the model to make predictions on this very same dataset. A more realistic situation is when we wish to apply our model on unseen data – that is, datapoints that it did not encounter during the model fitting process. \n"
   ]
  },
  {
   "cell_type": "markdown",
   "id": "2407655a",
   "metadata": {},
   "source": [
    "# Cross Validation"
   ]
  },
  {
   "cell_type": "markdown",
   "id": "cd5091d0",
   "metadata": {},
   "source": [
    "## Train-Test-Validation Split\n",
    "\n",
    "The first thing we will want to do with this data is construct a train/test/validation split. Constructing a train/test/validation test split before EDA and data cleaning can often be helpful.  This allows us to see if our data cleaning and any conclusions we draw from visualizations generalize to new data. This can be done by re-running the data cleaning and EDA process on the test dataset.\n",
    "\n",
    "Let's set aside 20% of our data for testing, and then further split the remaining 80% into 80% and 20% for training and validation "
   ]
  },
  {
   "cell_type": "code",
   "execution_count": null,
   "id": "4f5f1914",
   "metadata": {},
   "outputs": [],
   "source": [
    "def train_val_test_split(data):\n",
    "    \"\"\" \n",
    "    Takes in a DataFrame `data` and randomly splits it into three smaller DataFrames \n",
    "    named 'test', `train` and `validation` with 20% and 64% and 16% of the data, respectively. \n",
    "    \"\"\"\n",
    "\n",
    "    data_len = data.shape[0]\n",
    "\n",
    "    shuffled_indices = np.random.permutation(data_len)\n",
    "    \n",
    "    \n",
    "    # Set train equal to the first 64%  of shuffled_indices\n",
    "    train_indices = shuffled_indices[:int(data_len * 0.64)]\n",
    "    # Set valid equal to the next 16% of shuffled_indices\n",
    "    validation_indices = shuffled_indices[int(data_len * 0.64):int(data_len*.80)]\n",
    "    # Set test equal to the last 20% of shuffled_indices\n",
    "    test_indices = shuffled_indices[int(data_len * 0.8):]\n",
    "\n",
    "    \n",
    "    \n",
    "    train = data.iloc[train_indices] \n",
    "    validation = data.iloc[validation_indices] \n",
    "    test = data.iloc[test_indices]\n",
    "    \n",
    "    return train, validation, test"
   ]
  },
  {
   "cell_type": "code",
   "execution_count": null,
   "id": "579dac88",
   "metadata": {},
   "outputs": [],
   "source": [
    "\n",
    "\n",
    "train, valid, test = train_val_test_split(vehicles)"
   ]
  },
  {
   "cell_type": "markdown",
   "id": "627814bb",
   "metadata": {},
   "source": [
    "Checking that they add up."
   ]
  },
  {
   "cell_type": "code",
   "execution_count": null,
   "id": "a03d01f0",
   "metadata": {},
   "outputs": [],
   "source": [
    "len(train) + len(test) +len(valid) == len(vehicles)"
   ]
  },
  {
   "cell_type": "code",
   "execution_count": null,
   "id": "8ec9cfbb",
   "metadata": {},
   "outputs": [],
   "source": [
    "print(\"length of training set:\", len(train))\n",
    "print(\"length of validation set:\", len(valid))\n",
    "print(\"length of testing set:\", len(test))\n"
   ]
  },
  {
   "cell_type": "markdown",
   "id": "e89f6420",
   "metadata": {},
   "source": [
    "### Train/Test/Validation Split Using SKLearn\n",
    "\n",
    "We can use the `train_test_split` function from `sklearn.model_selection` to do this easily."
   ]
  },
  {
   "cell_type": "code",
   "execution_count": 7,
   "id": "552154d4",
   "metadata": {},
   "outputs": [
    {
     "name": "stdout",
     "output_type": "stream",
     "text": [
      "Size of full dataset: 392 points\n",
      "Size of training set: 313 points\n",
      "Size of test set: 79 points\n",
      "Size of original training set: 313 points\n",
      "Size of mini training set: 250 points\n",
      "Size of validation set: 63 points\n"
     ]
    }
   ],
   "source": [
    "\n",
    "from sklearn.model_selection import train_test_split\n",
    "\n",
    "# `test_size` specifies the proportion of the full dataset that should be allocated to testing.\n",
    "# `random_state` makes our results reproducible for educational purposes.\n",
    "# shuffle is True by default and randomizes the data before splitting.\n",
    "\n",
    "\n",
    "X = vehicles\n",
    "\n",
    "\n",
    "Y = vehicles[\"mpg\"]\n",
    "\n",
    "X_train, X_test, Y_train, Y_test = train_test_split(X, Y, \n",
    "                                                    test_size=0.2, \n",
    "                                                    random_state=100, \n",
    "                                                    shuffle=True)\n",
    "\n",
    "print(f\"Size of full dataset: {X.shape[0]} points\")\n",
    "print(f\"Size of training set: {X_train.shape[0]} points\")\n",
    "print(f\"Size of test set: {X_test.shape[0]} points\")\n",
    "\n",
    "\n",
    "# Split X_train further into X_train_mini and X_val.\n",
    "X_train_mini, X_val, Y_train_mini, Y_val = train_test_split(X_train, Y_train, test_size=0.2, random_state=13)\n",
    "\n",
    "print(f\"Size of original training set: {X_train.shape[0]} points\")\n",
    "print(f\"Size of mini training set: {X_train_mini.shape[0]} points\")\n",
    "print(f\"Size of validation set: {X_val.shape[0]} points\")\n"
   ]
  },
  {
   "cell_type": "markdown",
   "id": "e564866d",
   "metadata": {},
   "source": []
  },
  {
   "cell_type": "markdown",
   "id": "8b296abe",
   "metadata": {},
   "source": [
    "## Fitting Models Using Training Data and Evaluating RMSE Using Validation Data"
   ]
  },
  {
   "cell_type": "markdown",
   "id": "27160655-4f96-4925-afde-647b66411318",
   "metadata": {},
   "source": [
    "In the cell below, we fit several models of increasing complexity (using the training data), then compute their errors. Here, we find the model's errors on the **validation set** to understand how model complexity influences performance on unseen data."
   ]
  },
  {
   "cell_type": "markdown",
   "id": "09947a6f-a2df-46d5-8549-949b58ae12a6",
   "metadata": {},
   "source": [
    "Outline of code below:\n",
    "\n",
    "1. Fit an degree-x model to the mini training set\n",
    "2. Evaluate the fitted model's RMSE when making predictions on the validation set\n",
    "\n",
    "We use the model's performance on the validation set as a guide to selecting the best combination of features. We are not limited in the number of times we use the validation set – we just never use this set to fit the model.\n",
    "\n",
    "\n",
    "The code below uses `Pipelines` in scikit-learn.  For the scope of CSCI 3022 this semester, you do not need to know how to use sci-kit learn's `Pipeline` class - it is quite involved. Fortunately, they are merely an accessory to the concepts of this lecture, and not the core of it. If you treat each instance of a `Pipeline` as a black-box way of specifying which features our model should have, you will be able to understand the cross-validation content just fine.\n",
    "\n",
    "If you're interested, you can [skim the documentation on pipelines](https://scikit-learn.org/stable/modules/compose.html#pipeline).\n"
   ]
  },
  {
   "cell_type": "code",
   "execution_count": 8,
   "id": "b3caecd6",
   "metadata": {},
   "outputs": [
    {
     "data": {
      "text/plain": [
       "<matplotlib.legend.Legend at 0x7f95381bfb50>"
      ]
     },
     "execution_count": 8,
     "metadata": {},
     "output_type": "execute_result"
    },
    {
     "data": {
      "image/png": "[encoded data removed]",
      "text/plain": [
       "<Figure size 720x480 with 1 Axes>"
      ]
     },
     "metadata": {
      "needs_background": "light"
     },
     "output_type": "display_data"
    }
   ],
   "source": [
    "from sklearn.pipeline import Pipeline\n",
    "from sklearn.preprocessing import PolynomialFeatures\n",
    "from sklearn.linear_model import LinearRegression\n",
    "\n",
    "def fit_model_dataset(degree):\n",
    "    pipelined_model = Pipeline([\n",
    "            ('polynomial_transformation', PolynomialFeatures(degree)),\n",
    "            ('linear_regression', lm.LinearRegression())    \n",
    "        ])\n",
    "\n",
    "    pipelined_model.fit(X_train_mini[[\"hp\"]], Y_train_mini)\n",
    "    training_error = np.sqrt(mse(pipelined_model.predict(X_train_mini[[\"hp\"]]), Y_train_mini))\n",
    "    validation_error = np.sqrt(mse(pipelined_model.predict(X_val[[\"hp\"]]), Y_val))\n",
    "    return [degree, training_error, validation_error]\n",
    "    \n",
    "    \n",
    "    \n",
    "ks = np.array(range(0, 12))\n",
    "RMSEs = [fit_model_dataset(k) for k in ks]\n",
    "RMSEs_and_k = pd.DataFrame(RMSEs, columns = ['Degree', 'Training RMSE', 'Validation RMSE'])\n",
    "RMSEs_and_k\n",
    "    \n",
    "\n",
    "\n",
    "\n",
    "plt.figure(dpi=120)\n",
    "plt.plot(RMSEs_and_k[\"Degree\"], RMSEs_and_k[\"Validation RMSE\"], label=\"Val RMSE\")\n",
    "plt.plot(RMSEs_and_k[\"Degree\"], RMSEs_and_k[\"Training RMSE\"], label = \"Train RMSE\")\n",
    "plt.xlabel(\"Model Complexity (degree of polynomial in this example)\")\n",
    "plt.ylabel(\"RMSE\")\n",
    "plt.xticks(range(0, 12));\n",
    "plt.legend()\n",
    "\n",
    "\n"
   ]
  },
  {
   "cell_type": "code",
   "execution_count": null,
   "id": "a57b3792-f663-4fcf-b62e-de4d22a72898",
   "metadata": {},
   "outputs": [],
   "source": [
    "RMSEs_and_k.rename(columns={\"k\":\"Degree\"}).set_index(\"Degree\")"
   ]
  },
  {
   "cell_type": "markdown",
   "id": "a3747069-c499-44b8-93a0-b30b1e6f0323",
   "metadata": {},
   "source": [
    "From this **model selection** process, we might choose to create a model with degree 2 (it gives the lowest validation RMSE)"
   ]
  },
  {
   "cell_type": "markdown",
   "id": "a82e44e7-e3a9-46d0-af00-9424216738d3",
   "metadata": {
    "tags": []
   },
   "source": [
    "It's possible that we may have, by random chance, selected a set of validation points that was *not* representative of other unseen data that the model might encounter (for example, if we happened to have selected all outlying data points for the validation set).\n",
    "\n",
    "\n",
    "Different train/validation splits lead to different validation errors:"
   ]
  },
  {
   "cell_type": "code",
   "execution_count": 9,
   "id": "c958576b-9488-4c7b-b741-38c3baa85e9d",
   "metadata": {},
   "outputs": [
    {
     "name": "stdout",
     "output_type": "stream",
     "text": [
      "Val error from train/validation split #1: 4.983715333156557\n",
      "Val error from train/validation split #2: 4.928419779078926\n",
      "Val error from train/validation split #3: 5.166666016146992\n"
     ]
    }
   ],
   "source": [
    "# Examine different validation errors for the 2nd degree model:\n",
    "for i in range(1, 4):\n",
    "    X_train_mini, X_val, Y_train_mini, Y_val = train_test_split(X_train, Y_train, test_size=0.2)\n",
    "    X_train_mini[\"hp^2\"] = X_train_mini[\"hp\"]\n",
    "    X_train_mini = X_train_mini[[\"hp\", \"hp^2\"]]\n",
    "    model = lm.LinearRegression()\n",
    "    model.fit(X_train_mini, Y_train_mini)\n",
    "    \n",
    "    X_val[\"hp^2\"] = X_val[\"hp\"]\n",
    "    X_val = X_val[[\"hp\", \"hp^2\"]] \n",
    "    y_hat = model.predict(X_val)\n",
    "    print(f\"Val error from train/validation split #{i}: {np.sqrt(mse(y_hat, Y_val))}\")"
   ]
  },
  {
   "cell_type": "markdown",
   "id": "f6a7cc22",
   "metadata": {},
   "source": [
    "## A more complete process: K-Fold Cross-Validation\n",
    "\n",
    "The validation set gave us an opportunity to understand how the model performs on a **single** set of unseen data. The specific validation set we drew was fixed – we used the same vali"
   ]
  },
  {
   "cell_type": "markdown",
   "id": "f4b8725b-8863-4341-8641-0ae021f8ceba",
   "metadata": {},
   "source": [
    "To apply cross-validation, we use the `KFold` class of `sklearn.model_selection`. `KFold` will return the indices of each cross-validation fold. Then, we iterate over each of these folds to designate it as the validation set, while training the model on the remaining folds."
   ]
  },
  {
   "cell_type": "code",
   "execution_count": 10,
   "id": "37a66696",
   "metadata": {},
   "outputs": [
    {
     "name": "stdout",
     "output_type": "stream",
     "text": [
      "[0 1 2 3 4]\n",
      "[0 1 2 3 5]\n",
      "[2 4 5 6 8]\n",
      "[0 1 2 3 4]\n",
      "[0 1 3 4 5]\n"
     ]
    }
   ],
   "source": [
    "from sklearn.model_selection import KFold\n",
    "np.random.seed(25) # Ensures reproducibility of this notebook\n",
    "\n",
    "\n",
    "# n_splits sets the number of folds to create\n",
    "kf = KFold(n_splits=5, shuffle=True)\n",
    "\n",
    "for train_idx, valid_idx in kf.split(X):\n",
    "    print(train_idx[:5])"
   ]
  },
  {
   "cell_type": "markdown",
   "id": "083123c0",
   "metadata": {},
   "source": [
    "## Let's do cross validation for each of the orders (up to order 6):"
   ]
  },
  {
   "cell_type": "code",
   "execution_count": 15,
   "id": "af5e56c9",
   "metadata": {},
   "outputs": [],
   "source": [
    "from sklearn.model_selection import KFold\n",
    "np.random.seed(25)\n",
    "\n",
    "def train_with_crossvalidation(degree, folds):\n",
    "    \n",
    "    # n_splits sets the number of folds to create\n",
    "    \n",
    "    kf = KFold(n_splits=folds, shuffle=True)\n",
    "    validation_errors = []\n",
    "\n",
    "    X = X_train[[\"hp\"]]\n",
    "    Y = Y_train\n",
    "    \n",
    "    model = Pipeline([\n",
    "        ('transform', PolynomialFeatures(degree = degree)),\n",
    "        ('regression', LinearRegression(fit_intercept = True))    \n",
    "    ])\n",
    "    for train_idx, valid_idx in kf.split(X):\n",
    "        # Split the data\n",
    "        split_X_train, split_X_valid = X.iloc[train_idx], X.iloc[valid_idx]\n",
    "        split_Y_train, split_Y_valid = Y.iloc[train_idx], Y.iloc[valid_idx]\n",
    "      \n",
    "        # Fit the model on the training split\n",
    "        model.fit(split_X_train, split_Y_train)\n",
    "        \n",
    "        error = np.sqrt(mse(model.predict(split_X_valid), split_Y_valid))\n",
    "\n",
    "        validation_errors.append(error)\n",
    "    return np.mean(validation_errors)"
   ]
  },
  {
   "cell_type": "code",
   "execution_count": 16,
   "id": "440f03fc",
   "metadata": {},
   "outputs": [
    {
     "data": {
      "text/html": [
       "<div>\n",
       "<style scoped>\n",
       "    .dataframe tbody tr th:only-of-type {\n",
       "        vertical-align: middle;\n",
       "    }\n",
       "\n",
       "    .dataframe tbody tr th {\n",
       "        vertical-align: top;\n",
       "    }\n",
       "\n",
       "    .dataframe thead th {\n",
       "        text-align: right;\n",
       "    }\n",
       "</style>\n",
       "<table border=\"1\" class=\"dataframe\">\n",
       "  <thead>\n",
       "    <tr style=\"text-align: right;\">\n",
       "      <th></th>\n",
       "      <th>k</th>\n",
       "      <th>folds</th>\n",
       "      <th>Ave RMSE</th>\n",
       "    </tr>\n",
       "  </thead>\n",
       "  <tbody>\n",
       "    <tr>\n",
       "      <th>0</th>\n",
       "      <td>0</td>\n",
       "      <td>2</td>\n",
       "      <td>8.002495</td>\n",
       "    </tr>\n",
       "    <tr>\n",
       "      <th>1</th>\n",
       "      <td>0</td>\n",
       "      <td>3</td>\n",
       "      <td>7.970268</td>\n",
       "    </tr>\n",
       "    <tr>\n",
       "      <th>2</th>\n",
       "      <td>0</td>\n",
       "      <td>4</td>\n",
       "      <td>7.999445</td>\n",
       "    </tr>\n",
       "    <tr>\n",
       "      <th>3</th>\n",
       "      <td>0</td>\n",
       "      <td>5</td>\n",
       "      <td>7.969897</td>\n",
       "    </tr>\n",
       "    <tr>\n",
       "      <th>4</th>\n",
       "      <td>1</td>\n",
       "      <td>2</td>\n",
       "      <td>4.955661</td>\n",
       "    </tr>\n",
       "    <tr>\n",
       "      <th>5</th>\n",
       "      <td>1</td>\n",
       "      <td>3</td>\n",
       "      <td>4.907638</td>\n",
       "    </tr>\n",
       "    <tr>\n",
       "      <th>6</th>\n",
       "      <td>1</td>\n",
       "      <td>4</td>\n",
       "      <td>4.876761</td>\n",
       "    </tr>\n",
       "    <tr>\n",
       "      <th>7</th>\n",
       "      <td>1</td>\n",
       "      <td>5</td>\n",
       "      <td>4.937045</td>\n",
       "    </tr>\n",
       "    <tr>\n",
       "      <th>8</th>\n",
       "      <td>2</td>\n",
       "      <td>2</td>\n",
       "      <td>4.326312</td>\n",
       "    </tr>\n",
       "    <tr>\n",
       "      <th>9</th>\n",
       "      <td>2</td>\n",
       "      <td>3</td>\n",
       "      <td>4.276685</td>\n",
       "    </tr>\n",
       "    <tr>\n",
       "      <th>10</th>\n",
       "      <td>2</td>\n",
       "      <td>4</td>\n",
       "      <td>4.312839</td>\n",
       "    </tr>\n",
       "    <tr>\n",
       "      <th>11</th>\n",
       "      <td>2</td>\n",
       "      <td>5</td>\n",
       "      <td>4.308889</td>\n",
       "    </tr>\n",
       "    <tr>\n",
       "      <th>12</th>\n",
       "      <td>3</td>\n",
       "      <td>2</td>\n",
       "      <td>4.311993</td>\n",
       "    </tr>\n",
       "    <tr>\n",
       "      <th>13</th>\n",
       "      <td>3</td>\n",
       "      <td>3</td>\n",
       "      <td>4.387003</td>\n",
       "    </tr>\n",
       "    <tr>\n",
       "      <th>14</th>\n",
       "      <td>3</td>\n",
       "      <td>4</td>\n",
       "      <td>4.333445</td>\n",
       "    </tr>\n",
       "    <tr>\n",
       "      <th>15</th>\n",
       "      <td>3</td>\n",
       "      <td>5</td>\n",
       "      <td>4.265906</td>\n",
       "    </tr>\n",
       "    <tr>\n",
       "      <th>16</th>\n",
       "      <td>4</td>\n",
       "      <td>2</td>\n",
       "      <td>4.334485</td>\n",
       "    </tr>\n",
       "    <tr>\n",
       "      <th>17</th>\n",
       "      <td>4</td>\n",
       "      <td>3</td>\n",
       "      <td>4.327947</td>\n",
       "    </tr>\n",
       "    <tr>\n",
       "      <th>18</th>\n",
       "      <td>4</td>\n",
       "      <td>4</td>\n",
       "      <td>4.381693</td>\n",
       "    </tr>\n",
       "    <tr>\n",
       "      <th>19</th>\n",
       "      <td>4</td>\n",
       "      <td>5</td>\n",
       "      <td>4.334553</td>\n",
       "    </tr>\n",
       "    <tr>\n",
       "      <th>20</th>\n",
       "      <td>5</td>\n",
       "      <td>2</td>\n",
       "      <td>4.493205</td>\n",
       "    </tr>\n",
       "    <tr>\n",
       "      <th>21</th>\n",
       "      <td>5</td>\n",
       "      <td>3</td>\n",
       "      <td>4.383068</td>\n",
       "    </tr>\n",
       "    <tr>\n",
       "      <th>22</th>\n",
       "      <td>5</td>\n",
       "      <td>4</td>\n",
       "      <td>4.272185</td>\n",
       "    </tr>\n",
       "    <tr>\n",
       "      <th>23</th>\n",
       "      <td>5</td>\n",
       "      <td>5</td>\n",
       "      <td>4.32683</td>\n",
       "    </tr>\n",
       "    <tr>\n",
       "      <th>24</th>\n",
       "      <td>6</td>\n",
       "      <td>2</td>\n",
       "      <td>4.434272</td>\n",
       "    </tr>\n",
       "    <tr>\n",
       "      <th>25</th>\n",
       "      <td>6</td>\n",
       "      <td>3</td>\n",
       "      <td>4.451457</td>\n",
       "    </tr>\n",
       "    <tr>\n",
       "      <th>26</th>\n",
       "      <td>6</td>\n",
       "      <td>4</td>\n",
       "      <td>4.298455</td>\n",
       "    </tr>\n",
       "    <tr>\n",
       "      <th>27</th>\n",
       "      <td>6</td>\n",
       "      <td>5</td>\n",
       "      <td>4.348564</td>\n",
       "    </tr>\n",
       "  </tbody>\n",
       "</table>\n",
       "</div>"
      ],
      "text/plain": [
       "    k  folds  Ave RMSE\n",
       "0   0      2  8.002495\n",
       "1   0      3  7.970268\n",
       "2   0      4  7.999445\n",
       "3   0      5  7.969897\n",
       "4   1      2  4.955661\n",
       "5   1      3  4.907638\n",
       "6   1      4  4.876761\n",
       "7   1      5  4.937045\n",
       "8   2      2  4.326312\n",
       "9   2      3  4.276685\n",
       "10  2      4  4.312839\n",
       "11  2      5  4.308889\n",
       "12  3      2  4.311993\n",
       "13  3      3  4.387003\n",
       "14  3      4  4.333445\n",
       "15  3      5  4.265906\n",
       "16  4      2  4.334485\n",
       "17  4      3  4.327947\n",
       "18  4      4  4.381693\n",
       "19  4      5  4.334553\n",
       "20  5      2  4.493205\n",
       "21  5      3  4.383068\n",
       "22  5      4  4.272185\n",
       "23  5      5   4.32683\n",
       "24  6      2  4.434272\n",
       "25  6      3  4.451457\n",
       "26  6      4  4.298455\n",
       "27  6      5  4.348564"
      ]
     },
     "execution_count": 16,
     "metadata": {},
     "output_type": "execute_result"
    }
   ],
   "source": [
    "np.random.seed(25)\n",
    "ks = np.array(range(0, 7))\n",
    "folds = np.array(range(2, 6))\n",
    "RMSEs_CV = pd.DataFrame(columns = ['k', 'folds', 'Ave RMSE'])\n",
    "\n",
    "for k in ks:\n",
    "    for f in folds:\n",
    "        RMSEs_CV = RMSEs_CV.append({'k': k, 'folds': f, 'Ave RMSE': train_with_crossvalidation(k, f)}, \n",
    "                       ignore_index=True)\n",
    "\n",
    "RMSEs_CV['k'] = RMSEs_CV['k'].astype('int')\n",
    "RMSEs_CV['folds'] = RMSEs_CV['folds'].astype('int')\n",
    "\n",
    "RMSEs_CV"
   ]
  },
  {
   "cell_type": "code",
   "execution_count": 17,
   "id": "b05ad9db",
   "metadata": {},
   "outputs": [
    {
     "data": {
      "text/html": [
       "<div>\n",
       "<style scoped>\n",
       "    .dataframe tbody tr th:only-of-type {\n",
       "        vertical-align: middle;\n",
       "    }\n",
       "\n",
       "    .dataframe tbody tr th {\n",
       "        vertical-align: top;\n",
       "    }\n",
       "\n",
       "    .dataframe thead th {\n",
       "        text-align: right;\n",
       "    }\n",
       "</style>\n",
       "<table border=\"1\" class=\"dataframe\">\n",
       "  <thead>\n",
       "    <tr style=\"text-align: right;\">\n",
       "      <th></th>\n",
       "      <th>k</th>\n",
       "      <th>folds</th>\n",
       "      <th>Ave RMSE</th>\n",
       "    </tr>\n",
       "  </thead>\n",
       "  <tbody>\n",
       "    <tr>\n",
       "      <th>3</th>\n",
       "      <td>0</td>\n",
       "      <td>5</td>\n",
       "      <td>7.969897</td>\n",
       "    </tr>\n",
       "    <tr>\n",
       "      <th>7</th>\n",
       "      <td>1</td>\n",
       "      <td>5</td>\n",
       "      <td>4.937045</td>\n",
       "    </tr>\n",
       "    <tr>\n",
       "      <th>11</th>\n",
       "      <td>2</td>\n",
       "      <td>5</td>\n",
       "      <td>4.308889</td>\n",
       "    </tr>\n",
       "    <tr>\n",
       "      <th>15</th>\n",
       "      <td>3</td>\n",
       "      <td>5</td>\n",
       "      <td>4.265906</td>\n",
       "    </tr>\n",
       "    <tr>\n",
       "      <th>19</th>\n",
       "      <td>4</td>\n",
       "      <td>5</td>\n",
       "      <td>4.334553</td>\n",
       "    </tr>\n",
       "    <tr>\n",
       "      <th>23</th>\n",
       "      <td>5</td>\n",
       "      <td>5</td>\n",
       "      <td>4.32683</td>\n",
       "    </tr>\n",
       "    <tr>\n",
       "      <th>27</th>\n",
       "      <td>6</td>\n",
       "      <td>5</td>\n",
       "      <td>4.348564</td>\n",
       "    </tr>\n",
       "  </tbody>\n",
       "</table>\n",
       "</div>"
      ],
      "text/plain": [
       "    k  folds  Ave RMSE\n",
       "3   0      5  7.969897\n",
       "7   1      5  4.937045\n",
       "11  2      5  4.308889\n",
       "15  3      5  4.265906\n",
       "19  4      5  4.334553\n",
       "23  5      5   4.32683\n",
       "27  6      5  4.348564"
      ]
     },
     "execution_count": 17,
     "metadata": {},
     "output_type": "execute_result"
    }
   ],
   "source": [
    "RMSEs_CV[RMSEs_CV[\"folds\"]==5]"
   ]
  },
  {
   "cell_type": "code",
   "execution_count": 18,
   "id": "5a577efc-ecd0-4757-854b-8d9c03e733f2",
   "metadata": {},
   "outputs": [
    {
     "data": {
      "text/html": [
       "<div>\n",
       "<style scoped>\n",
       "    .dataframe tbody tr th:only-of-type {\n",
       "        vertical-align: middle;\n",
       "    }\n",
       "\n",
       "    .dataframe tbody tr th {\n",
       "        vertical-align: top;\n",
       "    }\n",
       "\n",
       "    .dataframe thead th {\n",
       "        text-align: right;\n",
       "    }\n",
       "</style>\n",
       "<table border=\"1\" class=\"dataframe\">\n",
       "  <thead>\n",
       "    <tr style=\"text-align: right;\">\n",
       "      <th></th>\n",
       "      <th>Ave RMSE</th>\n",
       "    </tr>\n",
       "    <tr>\n",
       "      <th>k</th>\n",
       "      <th></th>\n",
       "    </tr>\n",
       "  </thead>\n",
       "  <tbody>\n",
       "    <tr>\n",
       "      <th>0</th>\n",
       "      <td>7.985526</td>\n",
       "    </tr>\n",
       "    <tr>\n",
       "      <th>1</th>\n",
       "      <td>4.919276</td>\n",
       "    </tr>\n",
       "    <tr>\n",
       "      <th>2</th>\n",
       "      <td>4.306181</td>\n",
       "    </tr>\n",
       "    <tr>\n",
       "      <th>3</th>\n",
       "      <td>4.324587</td>\n",
       "    </tr>\n",
       "    <tr>\n",
       "      <th>4</th>\n",
       "      <td>4.344669</td>\n",
       "    </tr>\n",
       "    <tr>\n",
       "      <th>5</th>\n",
       "      <td>4.368822</td>\n",
       "    </tr>\n",
       "    <tr>\n",
       "      <th>6</th>\n",
       "      <td>4.383187</td>\n",
       "    </tr>\n",
       "  </tbody>\n",
       "</table>\n",
       "</div>"
      ],
      "text/plain": [
       "   Ave RMSE\n",
       "k          \n",
       "0  7.985526\n",
       "1  4.919276\n",
       "2  4.306181\n",
       "3  4.324587\n",
       "4  4.344669\n",
       "5  4.368822\n",
       "6  4.383187"
      ]
     },
     "execution_count": 18,
     "metadata": {},
     "output_type": "execute_result"
    }
   ],
   "source": [
    "# Looking into RMSEs for different degree polynomials\n",
    "RMSEs_CV.groupby(\"k\")[\"Ave RMSE\"].mean().to_frame()"
   ]
  },
  {
   "cell_type": "markdown",
   "id": "61a6cf40",
   "metadata": {},
   "source": [
    "## Conclusion: This k-fold cross validation confirms that for this dataset, we would choose a _____  order model"
   ]
  },
  {
   "cell_type": "markdown",
   "id": "ef087bec",
   "metadata": {},
   "source": [
    "# After Model Selection, use training and validation sets to fit the final model: \n",
    " typically use the entire training set (both the \"mini\" training set and validation set) to fit the final model."
   ]
  },
  {
   "cell_type": "code",
   "execution_count": 19,
   "id": "cabd53fe",
   "metadata": {},
   "outputs": [
    {
     "data": {
      "text/plain": [
       "LinearRegression()"
      ]
     },
     "execution_count": 19,
     "metadata": {},
     "output_type": "execute_result"
    }
   ],
   "source": [
    "# Once we've used the validation set to determine the highest order of the polynomial, \n",
    "# we can create our FINAL model using all of the training data\n",
    "\n",
    "# This is where you apply your feature processing to get the final version of inputs for your model:\n",
    "\n",
    "# Create the input Design Matrix (here we're using polynomial of degree 2)\n",
    "X_use = X_train[[\"hp\"]]\n",
    "X_use[\"hp^2\"] = X_train[\"hp\"]**2\n",
    "\n",
    "\n",
    "\n",
    "\n",
    "final_model = lm.LinearRegression()\n",
    "final_model.fit(X_use, Y_train)"
   ]
  },
  {
   "cell_type": "markdown",
   "id": "8fa39fe5-a467-44e5-8f2d-0948210c3a28",
   "metadata": {},
   "source": [
    "## Use the test data set (ONCE), to get your FINAL result\n",
    "After this choice has been finalized, and we are completely finished with the model design process, we finally assess model performance (ONCE) on the test set."
   ]
  },
  {
   "cell_type": "code",
   "execution_count": 20,
   "id": "8612574a",
   "metadata": {},
   "outputs": [
    {
     "name": "stdout",
     "output_type": "stream",
     "text": [
      "Test RMSE of final model: 4.623522080196269\n"
     ]
    }
   ],
   "source": [
    "\n",
    "X_test[\"hp^2\"] = X_test[\"hp\"]**2\n",
    "X_test = X_test[[\"hp\", \"hp^2\"]]\n",
    "\n",
    "print(f\"Test RMSE of final model: {np.sqrt(mse(Y_test, final_model.predict(X_test)))}\")\n",
    "\n"
   ]
  },
  {
   "cell_type": "code",
   "execution_count": null,
   "id": "0c9504b7",
   "metadata": {},
   "outputs": [],
   "source": []
  }
 ],
 "metadata": {
  "kernelspec": {
   "display_name": "Python 3 (ipykernel)",
   "language": "python",
   "name": "python3"
  },
  "language_info": {
   "codemirror_mode": {
    "name": "ipython",
    "version": 3
   },
   "file_extension": ".py",
   "mimetype": "text/x-python",
   "name": "python",
   "nbconvert_exporter": "python",
   "pygments_lexer": "ipython3",
   "version": "3.9.12"
  }
 },
 "nbformat": 4,
 "nbformat_minor": 5
}
