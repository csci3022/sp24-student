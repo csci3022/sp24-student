{
 "cells": [
  {
   "cell_type": "code",
   "execution_count": null,
   "id": "bf9cbd89",
   "metadata": {
    "deletable": false,
    "editable": false
   },
   "outputs": [],
   "source": [
    "# Initialize Otter\n",
    "import otter\n",
    "grader = otter.Notebook(\"hw07.ipynb\")"
   ]
  },
  {
   "cell_type": "markdown",
   "id": "bbbf1431",
   "metadata": {},
   "source": [
    "# Homework 7: The Central Limit Theorem & Intro to Testing Hypotheses"
   ]
  },
  {
   "cell_type": "markdown",
   "id": "1eeace48",
   "metadata": {},
   "source": [
    "\n",
    "**Recommended Readings**: \n",
    "\n",
    "* [The Central Limit Theorem](https://inferentialthinking.com/chapters/14/4/Central_Limit_Theorem.html)\n",
    "\n",
    "* [Testing Hypotheses](https://www.inferentialthinking.com/chapters/11/Testing_Hypotheses.html)\n"
   ]
  },
  {
   "cell_type": "markdown",
   "id": "2b1fa56f",
   "metadata": {},
   "source": [
    "\n",
    "\n",
    "## Due Date: Thursday March 7th by 11:59 PM MT on Gradescope\n",
    "\n",
    "\n",
    "## Collaboration Policy\n",
    "\n",
    "Data science is a collaborative activity.  However a key step in learning and retention is **creating solutions on your own.**  \n",
    "\n",
    "Below are examples of acceptable vs unacceptable use of resources and collaboration when doing HW assignments in CSCI 3022.\n",
    "\n",
    "\n",
    "The following would be some **examples of cheating** when working on HW assignments in CSCI 3022.  Any of these constitute a **violation of the course's collaboration policy and will result in an F in the course and a trip to the honor council**.   \n",
    "\n",
    "\n",
    " - Consulting web pages that may have a solution to a given homework problem or one similar is cheating.  However, consulting the class notes, and web pages that explain the material taught in class but do NOT show a solution to the homework problem in question are permissible to view.  Clearly, there's a fuzzy line here between a valid use of resources and cheating. To avoid this line, one should merely consult the course notes, the course textbook, and references that contain syntax and/or formulas.\n",
    " - Copying a segment of code or math solution of three lines or more from another student from a printout, handwritten copy, or by looking at their computer screen \n",
    " - Allowing another student to copy a segment of your code or math solution of three lines or more\n",
    " - Taking a copy of another student's work (or a solution found online) and then editing that copy\n",
    " - Reading someone else’s solution to a problem on the HW before writing your own.\n",
    " - Asking someone to write all or part of a program or solution for you.\n",
    " - Asking someone else for the code necessary to fix the error for you, other than for simple syntactical errors\n",
    " \n",
    "\n",
    "\n",
    "On the other hand, the following are some **examples of things which would NOT usually be\n",
    "considered to be cheating**:\n",
    " - Working on a HW problem on your own first and then discussing with a classmate a particular part in the problem solution where you are stuck.  After clarifying any questions you should then continue to write your solution independently.\n",
    " - Asking someone (or searching online) how a particular construct in the language works.\n",
    " - Asking someone (or searching online) how to formulate a particular construct in the language.\n",
    " - Asking someone for help in finding an error in your program.  \n",
    " - Asking someone why a particular construct does not work as you expected in a given program.\n",
    "   \n",
    "\n",
    "To test whether you are truly doing your own work and retaining what you've learned you should be able to easily reproduce from scratch and explain a HW solution that was your own when asked in office hours by a TA/Instructor or on a quiz/exam.   \n",
    "\n",
    "\n",
    "If you have difficulty in formulating the general solution to a problem on your own, or\n",
    "you have difficulty in translating that general solution into a program, it is advisable to see\n",
    "your instructor or teaching assistant rather than another student as this situation can easily\n",
    "lead to a, possibly inadvertent, cheating situation.\n",
    "\n",
    "We are here to help!  Visit HW Hours and/or post questions on Piazza!\n"
   ]
  },
  {
   "cell_type": "markdown",
   "id": "b040a7c3-e466-403d-9884-5b8969f8aec3",
   "metadata": {},
   "source": [
    "If while completing this assignment you reference any websites other than those linked in this assignment or provided on Canvas please list those references here:\n",
    "\n",
    "**External references**:  *list any websites you referenced"
   ]
  },
  {
   "cell_type": "markdown",
   "id": "1ee34b34-778f-48d8-87a7-173cd97a049c",
   "metadata": {},
   "source": [
    "#### Grading\n",
    "Grading is broken down into autograded answers and manually graded answers. \n",
    "\n",
    "For autograded answers, the results of your code are compared to provided and/or hidden tests.\n",
    "\n",
    "For manually graded answers you must show and explain all steps.  Graders will evaluate how well you answered the question and/or fulfilled the requirements of the question.\n",
    "\n",
    "\n",
    "### Score breakdown\n",
    "\n",
    "\n",
    "\n",
    "Question | Points | Grading Type\n",
    "--- | --- | ---\n",
    "Question 1 | 6 | manual\n",
    "Question 2 | 6 | autograded\n",
    "Question 3 | 16 | manual\n",
    "Question 4abcdefgij | 18 | autograded\n",
    "Question 4h | 4 | manual\n",
    "|Total | 50"
   ]
  },
  {
   "cell_type": "code",
   "execution_count": null,
   "id": "4a8b68c6-e69d-4da4-a604-265b23aedf84",
   "metadata": {
    "scrolled": true
   },
   "outputs": [],
   "source": [
    "import numpy as np\n",
    "import pandas as pd\n",
    "import math\n",
    "import scipy.stats as stats\n",
    "from scipy import special\n",
    "import matplotlib\n",
    "import matplotlib.pyplot as plt\n",
    "from matplotlib.ticker import PercentFormatter\n",
    "import seaborn as sns\n",
    "import hashlib\n",
    "from IPython.display import display, Latex, Markdown\n",
    "\n",
    "plt.style.use('fivethirtyeight')\n",
    "# Default plot configurations\n",
    "plt.rcParams['figure.figsize'] = (16,8)\n",
    "plt.rcParams['figure.dpi'] = 150\n",
    "sns.set()\n",
    "import warnings\n",
    "warnings.simplefilter('ignore', FutureWarning)\n",
    "\n",
    "\n",
    "def get_hash(num):\n",
    "    \"\"\"Helper function for assessing correctness\"\"\"\n",
    "    return hashlib.md5(str(num).encode()).hexdigest()\n",
    "\n",
    "%matplotlib inline\n"
   ]
  },
  {
   "cell_type": "markdown",
   "id": "686e1da3",
   "metadata": {
    "deletable": false,
    "editable": false
   },
   "source": [
    "<!-- BEGIN QUESTION -->\n",
    "\n",
    "## Question 1\n",
    "\n",
    "*** \n",
    "\n",
    "The probability density function for a *normal distribution with mean $\\mu$ and SD $\\sigma$* is defined by\n",
    "\n",
    "$$f(x) ~ = ~ \\frac{1}{\\sigma\\sqrt{2\\pi}} e^{-\\frac{1}{2}\\big{(}\\frac{x-\\mu}{\\sigma}\\big{)}^2}, ~~~ -\\infty < x < \\infty$$\n",
    "\n",
    "The following picture depicts a much-often spouted fact in statistics classes that roughly $68\\%$ of the probability for a normal distribution falls within 1 standard deviation of the mean, roughly $95\\%$ falls within two standard deviations of the mean, etc:\n",
    "\n",
    "<img src=\"normal.jpeg\" width=\"450px\">\n",
    "\n",
    "\n",
    "**Use Calculus to prove that the inflection point(s) of the probability density function of the normal distribution occur at $x = \\mu \\pm \\sigma$** .  You must do the derivatives by hand (i.e. do not plug them into an online calculator) and show all steps.     Once you find all candidates for inflection points you can stop (you do not need to test values on either sides of the inflection points to show that the concavity changes, as we can see this visually in the graph of the pdf above).\n",
    "\n",
    "Show all steps using LaTeX in the Markdown cell below:\n"
   ]
  },
  {
   "cell_type": "markdown",
   "id": "28e63915",
   "metadata": {},
   "source": [
    "_Type your answer here, replacing this text._"
   ]
  },
  {
   "cell_type": "markdown",
   "id": "b94253ed",
   "metadata": {
    "deletable": false,
    "editable": false
   },
   "source": [
    "<!-- END QUESTION -->\n",
    "\n",
    "## Question 2 :\n",
    "\n",
    "\n",
    "A hardware store receives a shipment of 10,000 bolts that are supposed to be 12 cm long. \n",
    "The mean of this shipment of 10,000 bolts is indeed 12 cm, and the standard deviation is 0.2 cm.   \n",
    "\n",
    "For the following questions, determine if you have enough information to answer.  If you do, then use built-in python functions to calculate the probability. If not, enter -1 for your answer.\n",
    "\n",
    "\n",
    "**Question 2a)**. What is the probability that a randomly chosen bolt is less than 10 cm long?\n",
    " \n"
   ]
  },
  {
   "cell_type": "code",
   "execution_count": null,
   "id": "f8778e81-f825-4811-869a-7db17df42ac4",
   "metadata": {
    "tags": []
   },
   "outputs": [],
   "source": [
    "q2a_answer = ..."
   ]
  },
  {
   "cell_type": "code",
   "execution_count": null,
   "id": "9354d644",
   "metadata": {
    "deletable": false,
    "editable": false
   },
   "outputs": [],
   "source": [
    "grader.check(\"q2a\")"
   ]
  },
  {
   "cell_type": "markdown",
   "id": "336dccd4-94da-4653-be32-5dc10ecfab03",
   "metadata": {
    "deletable": false,
    "editable": false
   },
   "source": [
    "**Question 2b)**.  For quality control, the hardware store chooses 100 bolts at random to measure.  They will declare the shipment defective and return it to the manufacturer if the average length of 100 bolts is less than 11.97 cm or greater than 12.04 cm.    Find the probability that the shipment is found satisfactory (i.e. not defective)."
   ]
  },
  {
   "cell_type": "code",
   "execution_count": null,
   "id": "64d11d41-63e0-4bfc-a66c-fb40bb6f3d1e",
   "metadata": {
    "tags": []
   },
   "outputs": [],
   "source": [
    "q2b_answer = ..."
   ]
  },
  {
   "cell_type": "code",
   "execution_count": null,
   "id": "7878fa85",
   "metadata": {
    "deletable": false,
    "editable": false
   },
   "outputs": [],
   "source": [
    "grader.check(\"q2b\")"
   ]
  },
  {
   "cell_type": "markdown",
   "id": "6707340d",
   "metadata": {},
   "source": [
    "## Question 3\n",
    "*** \n",
    "\n",
    "The file `income_data.csv` contains Age and Income information from a fictitious city in the Midwest with 5000 residents.   Consider this data to be our population data.\n",
    "\n"
   ]
  },
  {
   "cell_type": "markdown",
   "id": "e07614cf",
   "metadata": {
    "deletable": false,
    "editable": false
   },
   "source": [
    "<!-- BEGIN QUESTION -->\n",
    "\n",
    "**QUESTION 3A**: Load the data into a pandas DataFrame called `dfIncome`, calculate the population mean of Income and then  make a **density histogram** of the Distribution of the Income data **with 15 bins**.   Include a title for your plot and label the x-axis (we have provided a label for the y-axis).\n",
    "Note we have included code to mark where the population mean lies on the histogram."
   ]
  },
  {
   "cell_type": "code",
   "execution_count": null,
   "id": "6ed62edb",
   "metadata": {
    "tags": []
   },
   "outputs": [],
   "source": [
    "dfIncome = ...\n",
    "\n",
    "mean_income = ...\n",
    "\n",
    "print(\"Population income mean is\", mean_income)\n",
    "\n",
    "...\n",
    "# write code to plot density histogram above this line\n",
    "\n",
    "plt.ylabel(\"Probability Per Dollar\") # Since this is a density histogram, the y-units are probability per unit x\n",
    "#Add a triangle marker to indicate where the population mean is\n",
    "plt.scatter(mean_income, -.0000001, marker='^', color='red', s=300)\n"
   ]
  },
  {
   "cell_type": "markdown",
   "id": "c44622ca",
   "metadata": {
    "deletable": false,
    "editable": false
   },
   "source": [
    "<!-- END QUESTION -->\n",
    "\n",
    "<!-- BEGIN QUESTION -->\n",
    "\n",
    "**QUESTION 3B**: Describe the shape of the Income distribution (i.e. comment on modality and skew)"
   ]
  },
  {
   "cell_type": "markdown",
   "id": "56466201",
   "metadata": {},
   "source": [
    "_Type your answer here, replacing this text._"
   ]
  },
  {
   "cell_type": "markdown",
   "id": "97d7b1bb",
   "metadata": {
    "deletable": false,
    "editable": false
   },
   "source": [
    "<!-- END QUESTION -->\n",
    "\n",
    "<!-- BEGIN QUESTION -->\n",
    "\n",
    "**QUESTION 3C**: \n",
    "\n",
    "i).  Write a function to collect a random sample of size `sample_size` with replacement from `dfIncome`  and plot the **density histogram** of the empirical distribution of the income for your sample.  Use 15 bins for your histogram and set the x-axis range to be from (0,210000).   (Hint: use the dataframe method `.sample()`). Include a title and label for both axes.          \n",
    "Then run the cells provided below to output 3 separate distributions for sample sizes of $10$, $100$ and $1000$. \n"
   ]
  },
  {
   "cell_type": "code",
   "execution_count": null,
   "id": "4ff38593",
   "metadata": {
    "tags": []
   },
   "outputs": [],
   "source": [
    "def income_sample(df, sample_size):\n",
    "    \n",
    "...\n",
    "# rest of code above this line"
   ]
  },
  {
   "cell_type": "code",
   "execution_count": null,
   "id": "1a4ac3d9",
   "metadata": {
    "tags": []
   },
   "outputs": [],
   "source": [
    "income_sample(dfIncome,10)"
   ]
  },
  {
   "cell_type": "code",
   "execution_count": null,
   "id": "e486ba1b",
   "metadata": {
    "tags": []
   },
   "outputs": [],
   "source": [
    "income_sample(dfIncome,100)"
   ]
  },
  {
   "cell_type": "code",
   "execution_count": null,
   "id": "87dab83a",
   "metadata": {
    "tags": []
   },
   "outputs": [],
   "source": [
    "income_sample(dfIncome,1000)"
   ]
  },
  {
   "cell_type": "markdown",
   "id": "f66acb8c",
   "metadata": {
    "deletable": false,
    "editable": false
   },
   "source": [
    "<!-- END QUESTION -->\n",
    "\n",
    "<!-- BEGIN QUESTION -->\n",
    "\n",
    "Part 3cii).  What happens to the shape of the empirical sample distributions of income as you increase the sample size? "
   ]
  },
  {
   "cell_type": "markdown",
   "id": "5145b562",
   "metadata": {},
   "source": [
    "_Type your answer here, replacing this text._"
   ]
  },
  {
   "cell_type": "markdown",
   "id": "5a1abb0e",
   "metadata": {
    "deletable": false,
    "editable": false
   },
   "source": [
    "<!-- END QUESTION -->\n",
    "\n",
    "<!-- BEGIN QUESTION -->\n",
    "\n",
    "**QUESTION 3D:**  \n",
    "\n",
    "\n",
    "If we want to estimate the **mean** of the population we can draw a sample from the population and compute the sample mean.  As we learned in class, since samples can vary, the sample mean can vary and thus it is a random variable and has its own distribution.\n",
    "\n",
    "\n",
    "i).  Complete the function `income_sample_mean` below to randomly sample `sample_size` rows from `dfIncome` with replacement and return the sample mean of income for that sample. \n",
    "\n",
    "\n",
    "ii).  Complete the function `income_sample_dist` below to simulate `num_simulations` of randomly sampling `sample_size` rows from `dfIncome` with replacement and calculate the sample mean of income for each sample.\n",
    "Store the sample means in an np.array called `means`.  The function should output a **density** histogram of the empirical sample mean income distribution.    On the histogram, include two markers on the histogram: A red one for the population mean (that you calculated in part 3A) and a yellow one for the mean of the `num_simulations` sample mean estimates.\n",
    "Include a title and labels for the x and y-axis.\n",
    "\n",
    "Then run the cells provided below to output 3 separate distributions for `num_simulations`=1000 and `sample_size` = $10$, $100$ and $1000$\n",
    "\n"
   ]
  },
  {
   "cell_type": "code",
   "execution_count": null,
   "id": "4a39740c",
   "metadata": {
    "tags": []
   },
   "outputs": [],
   "source": [
    "def income_sample_mean(df, sample_size):\n",
    "    ..."
   ]
  },
  {
   "cell_type": "code",
   "execution_count": null,
   "id": "306ca466",
   "metadata": {
    "tags": []
   },
   "outputs": [],
   "source": [
    "def income_sample_dist(df, sample_size, num_simulations):\n",
    "    means = ...\n",
    "      # 'means' stores \"num_simulations\" means from samples of size \"sample_size\"\n",
    "    plt.xlim([20000,120000])\n",
    "    ...\n",
    "    \n",
    "# Your code for part (ii) above"
   ]
  },
  {
   "cell_type": "code",
   "execution_count": null,
   "id": "225d18dc",
   "metadata": {
    "tags": []
   },
   "outputs": [],
   "source": [
    "income_sample_dist(dfIncome, 10, 1000)"
   ]
  },
  {
   "cell_type": "code",
   "execution_count": null,
   "id": "0524d6f8",
   "metadata": {
    "tags": []
   },
   "outputs": [],
   "source": [
    "income_sample_dist(dfIncome, 100, 1000)"
   ]
  },
  {
   "cell_type": "code",
   "execution_count": null,
   "id": "0d622c35",
   "metadata": {
    "tags": []
   },
   "outputs": [],
   "source": [
    "income_sample_dist(dfIncome, 1000, 1000)"
   ]
  },
  {
   "cell_type": "markdown",
   "id": "3ae3c51d",
   "metadata": {
    "deletable": false,
    "editable": false
   },
   "source": [
    "<!-- END QUESTION -->\n",
    "\n",
    "<!-- BEGIN QUESTION -->\n",
    "\n",
    "**QUESTION 3E:** \n",
    "\n",
    "Describe the shapes of the empirical sample mean distributions (comment on their modality and skew compared to the modality and skew of the population distribution).\n",
    "What happens to the mean and standard deviations of these distributions as you increase the sample size?\n",
    "What is the name of the theorem that explains what you are observing?"
   ]
  },
  {
   "cell_type": "markdown",
   "id": "1eecd378",
   "metadata": {},
   "source": [
    "_Type your answer here, replacing this text._"
   ]
  },
  {
   "cell_type": "markdown",
   "id": "6f4d1486",
   "metadata": {
    "deletable": false,
    "editable": false
   },
   "source": [
    "<!-- END QUESTION -->\n",
    "\n",
    "## QUESTION 4:  \n",
    "\n",
    "The Therapeutic Touch (TT) is the idea that everyone can feel the Human Energy Field (HEF) around individuals.  Those who practice TT have described different people's HEFs as \"warm as Jell-O\" and \"tactile as taffy.\" \n",
    "\n",
    "TT was a popular technique used throughout the 20th century that was toted as a great way to bring balance to a person's health. Certain practitioners claim they have the ability to feel the HEF and can massage it in order to promote health and relaxation in individuals.\n",
    "\n",
    "### Emily Rosa\n",
    "\n",
    "[Emily Rosa](https://en.wikipedia.org/wiki/Emily_Rosa) was a 4th grade student from Loveland, Colorado who was very familiar with the world of TT, thanks to her parents, who were both medical practitioners and skeptics of TT.\n",
    "\n",
    "For her 4th grade science fair project, Emily decided to test whether or not TT practitioners could truly interact with a person's HEF. She later went on to publish her work in TT, becoming the youngest person to have a research paper published in a peer reviewed medical journal."
   ]
  },
  {
   "cell_type": "markdown",
   "id": "19e0b8ac",
   "metadata": {},
   "source": [
    "### Emily's Experiment\n",
    "\n",
    "Emily's experiment was clean, simple, and effective. Due to her parents' occupations in the medical field, she had wide access to people who claimed to be TT practitioners. \n",
    "\n",
    "Emily took 21 TT practitioners and used them for her science experiment. She would take a TT practitioner and ask them to extend their hands through a screen (which they can't see through). Emily would be on the other side and would flip a fair coin. Depending on how the coin landed, she would put out either her left hand or her right hand. The TT practitioner would then have to answer which hand Emily put out. If a pracitioner could truly interact with a person's HEF, it would be expected that they answered correctly.\n",
    "\n",
    "Overall, through 210 samples, the practitioner picked the correct hand 44% of the time. \n",
    "\n",
    "Emily's main goal here was to test whether or not the TT practitioners' guesses were random, like the flip of a coin. In most medical experiments, this is the norm. We want to test whether or not the treatment has **any** effect, *not* whether or not the treatment actually worked.\n",
    "We will now begin to formulate this experiment in terms of the terminology we learned in this course. "
   ]
  },
  {
   "cell_type": "markdown",
   "id": "ddeee001",
   "metadata": {
    "deletable": false,
    "editable": false
   },
   "source": [
    "**QUESTION 4A:**  Which of the following is Emily's null hypothesis? \n",
    "\n",
    " - (a):  Practitioners are answering independently and better than if they were guessing at random (i.e. the probability of any practitioner correctly answering is greater than 50%)\n",
    " \n",
    " - (b): Practitioners are answering independently and randomly (i.e. the probability of any practitioner correctly answering is 50%).  \n",
    "  \n",
    " - (c):  Practitioners are answering independently and worse than if they were guessing at random (i.e. the probability of any practitioner correctly answering is less than 50%)\n",
    " \n",
    "Assign `null_hypothesis` to the correct letter (enter it as a lower case string, for example 'a').  Note that the test below just checks that you entered a valid letter, it doesn't check if the letter is correct (that will be done by a test when you submit the notebook).\n",
    "\n",
    "\n",
    "\n",
    "\n",
    "*Note:* Check out [11.3](https://inferentialthinking.com/chapters/11/3/Decisions_and_Uncertainty.html#step-1-the-hypotheses) for a refresher on hypotheses.\n"
   ]
  },
  {
   "cell_type": "code",
   "execution_count": null,
   "id": "a2f25bab",
   "metadata": {
    "tags": []
   },
   "outputs": [],
   "source": [
    "null_hypothesis = ..."
   ]
  },
  {
   "cell_type": "code",
   "execution_count": null,
   "id": "09b487a0",
   "metadata": {
    "deletable": false,
    "editable": false
   },
   "outputs": [],
   "source": [
    "grader.check(\"q4a\")"
   ]
  },
  {
   "cell_type": "markdown",
   "id": "363c1a19",
   "metadata": {
    "deletable": false,
    "editable": false
   },
   "source": [
    "**QUESTION 4B:** Given that we want to test whether or not the treatment has **any** effect, *not* whether or not the treatment actually worked, what is the alternative hypothesis?\n",
    "\n",
    "Assign `alt_hypothesis` to the correct letter (enter it as a lower case string)\n",
    "\n",
    " - (a):  Practitioners are answering independently and better than if they were guessing at random (i.e. the probability of any practitioner correctly answering is greater than 50%)\n",
    " \n",
    "  \n",
    " - (b):  Practitioners are answering independently and worse than if they were guessing at random (i.e. the probability of any practitioner correctly answering is less than 50%)\n",
    " \n",
    " - (c): Practitioners are answering independently and not randomly (i.e. the probability of any practitioner correctly answering is not 50%).  \n",
    "\n",
    "\n",
    "\n",
    "\n"
   ]
  },
  {
   "cell_type": "code",
   "execution_count": null,
   "id": "b24e85bc",
   "metadata": {
    "tags": []
   },
   "outputs": [],
   "source": [
    "alt_hypothesis = ..."
   ]
  },
  {
   "cell_type": "code",
   "execution_count": null,
   "id": "28378543",
   "metadata": {
    "deletable": false,
    "editable": false
   },
   "outputs": [],
   "source": [
    "grader.check(\"q4b\")"
   ]
  },
  {
   "cell_type": "markdown",
   "id": "43fe7150",
   "metadata": {
    "deletable": false,
    "editable": false
   },
   "source": [
    "**QUESTION 4C:** \n",
    "Remember that the practitioner got the correct answer 44% (0.44) of the time. According to Emily's **null hypothesis**, on average, what proportion of times do we expect the practitioner to guess the correct hand? Make sure your answer is a number between 0 and 1. (Again, note that the test below does not check for the correct answer, it just checks that your answer is in the correct format). \n"
   ]
  },
  {
   "cell_type": "code",
   "execution_count": null,
   "id": "794919ed",
   "metadata": {
    "tags": []
   },
   "outputs": [],
   "source": [
    "expected_proportion_correct = ...\n",
    "expected_proportion_correct"
   ]
  },
  {
   "cell_type": "code",
   "execution_count": null,
   "id": "192a6c8c",
   "metadata": {
    "deletable": false,
    "editable": false
   },
   "outputs": [],
   "source": [
    "grader.check(\"q4c\")"
   ]
  },
  {
   "cell_type": "markdown",
   "id": "a99f83d0",
   "metadata": {
    "deletable": false,
    "editable": false
   },
   "source": [
    "**QUESTION 4D:** \n",
    "\n",
    "The goal now is to see if our deviation from this expected proportion of correct answers is due to something other than chance. \n",
    "\n",
    "\n",
    "We usually use a statistic to help determine which model the evidence points towards. One of the test statistics below is appropriate for testing the null and alternative hypotheses you indicated above. Assign the variable `valid_test_stat` to the letter  (lower case  string) corresponding to the correct test statistic for this scenario. \n",
    "\n",
    "\n",
    "\n",
    " - (a): 50 minus the actual percent correct\n",
    " - (b): the actual percent correct minus 50 \n",
    " - (c): 44 minus the actual percent correct\n",
    " - (d): the actual percent correct minus 44\n",
    " - (e): the sum of 50 and the actual percent correct\n",
    " - (f): the absolute value of the difference between 50 and the actual percent correct\n",
    " - (g): the absolute value of the difference between 44 and the actual percent correct\n"
   ]
  },
  {
   "cell_type": "code",
   "execution_count": null,
   "id": "d4458942",
   "metadata": {
    "tags": []
   },
   "outputs": [],
   "source": [
    "valid_test_stat = ...\n",
    "valid_test_stat"
   ]
  },
  {
   "cell_type": "code",
   "execution_count": null,
   "id": "27c08219",
   "metadata": {
    "deletable": false,
    "editable": false
   },
   "outputs": [],
   "source": [
    "grader.check(\"q4d\")"
   ]
  },
  {
   "cell_type": "markdown",
   "id": "f8ef947d",
   "metadata": {
    "deletable": false,
    "editable": false
   },
   "source": [
    "**QUESTION 4E:**  Define the function `statistic` which takes in an expected proportion and an actual proportion, and returns the value of the statistic chosen in Question 4d. Assume that the argument takes in proportions, but  **return your answer as a percentage**   (i.e. an answer of 0.70 should be output as $70$)\n",
    "\n",
    "*Hint:* Remember we are asking for a **percentage**, not a proportion. \n"
   ]
  },
  {
   "cell_type": "code",
   "execution_count": null,
   "id": "e5d83adb",
   "metadata": {
    "tags": []
   },
   "outputs": [],
   "source": [
    "def statistic(expected_prop, actual_prop):\n",
    "    ..."
   ]
  },
  {
   "cell_type": "code",
   "execution_count": null,
   "id": "92fa6a64",
   "metadata": {
    "deletable": false,
    "editable": false
   },
   "outputs": [],
   "source": [
    "grader.check(\"q4e\")"
   ]
  },
  {
   "cell_type": "markdown",
   "id": "d95c0ad0",
   "metadata": {
    "deletable": false,
    "editable": false
   },
   "source": [
    "**QUESTION 4F:** Use your newly defined function from 4e to calculate the observed statistic from Emily's experiment. "
   ]
  },
  {
   "cell_type": "code",
   "execution_count": null,
   "id": "7ab0b24b",
   "metadata": {
    "tags": []
   },
   "outputs": [],
   "source": [
    "observed_statistic = ...\n",
    "observed_statistic"
   ]
  },
  {
   "cell_type": "code",
   "execution_count": null,
   "id": "33cc6d95",
   "metadata": {
    "deletable": false,
    "editable": false
   },
   "outputs": [],
   "source": [
    "grader.check(\"q4f\")"
   ]
  },
  {
   "cell_type": "markdown",
   "id": "655234fe",
   "metadata": {},
   "source": [
    "**QUESTION 4G:**  Next we want to explore if this observed statistic is consistent with what we expect to see under Emily’s null hypothesis.  To do this, we will need to simulate test statistics under the null hypothesis.  \n",
    "\n",
    "Let $X$ be the number of times the practioners are correct out of $210$ trials assuming the null hypothesis is true.  What distribution does $X$ have?\n",
    "\n",
    "Assign the variable `X_dist` to the letter  (lower case  string) corresponding to the correct distribution for this scenario. \n",
    "\n",
    "\n",
    " - (a): $X \\sim Bin(210, 0.44)$\n",
    " - (b): $X \\sim Bin(210, 0.5)$\n",
    " - (c): $X \\sim Ber(.5)$\n",
    " - (d): $X \\sim Ber(.44)$\n",
    " - (e): $X \\sim Exp(.44)$\n",
    " - (f): $X \\sim Exp(.55)$\n"
   ]
  },
  {
   "cell_type": "code",
   "execution_count": null,
   "id": "10840404",
   "metadata": {
    "tags": []
   },
   "outputs": [],
   "source": [
    "X_dist = ..."
   ]
  },
  {
   "cell_type": "code",
   "execution_count": null,
   "id": "74576750",
   "metadata": {
    "deletable": false,
    "editable": false
   },
   "outputs": [],
   "source": [
    "grader.check(\"q4_g\")"
   ]
  },
  {
   "cell_type": "markdown",
   "id": "e2b8476d",
   "metadata": {
    "deletable": false,
    "editable": false
   },
   "source": [
    "<!-- BEGIN QUESTION -->\n",
    "\n",
    "**QUESTION 4H.** \n",
    "\n",
    "Create an array called `simulated_statistics` that contains 50,000 simulated values of the test statistic under the null hypothesis. Assume that the original sample consisted of 210 experiments. \n",
    "\n",
    "As usual, start by defining a function `one_simulated_statistic()` that simulates one value of the statistic. Your function should use `np.random.DISTRIBUTION` where `DISTRIBUTION` is the distribution you chose in part 4g.   Your function should also use your `statistic` function from part 4e.  \n",
    "\n",
    "\n",
    "We have included the code that plots the distribution of the simulated values. The red dot represents the observed statistic you found in Question 4f.\n"
   ]
  },
  {
   "cell_type": "code",
   "execution_count": null,
   "id": "cec2ee84",
   "metadata": {
    "tags": []
   },
   "outputs": [],
   "source": [
    "def one_simulated_statistic():\n",
    "    ...\n",
    "\n",
    "num_simulations = 50000\n",
    "\n",
    "simulated_statistics = ...\n",
    "\n",
    "\n",
    "# Run the this cell a few times to see how the simulated statistic changes\n",
    "one_simulated_statistic()"
   ]
  },
  {
   "cell_type": "code",
   "execution_count": null,
   "id": "b5c9d67a",
   "metadata": {
    "tags": []
   },
   "outputs": [],
   "source": [
    "# Run this cell to produce a histogram of the simulated statistics\n",
    "plt.hist(simulated_statistics, density = True, ec= \"white\")\n",
    "plt.xlabel('Simulated Statistic')\n",
    "plt.ylabel('Percent per Unit')\n",
    "plt.title('Histogram of Simulated Statistics')\n",
    "plt.gca().yaxis.set_major_formatter(PercentFormatter(1))\n",
    "plt.scatter(observed_statistic, -0.002, color='red', s=100);\n",
    "plt.show()"
   ]
  },
  {
   "cell_type": "markdown",
   "id": "d92ed9ce",
   "metadata": {
    "deletable": false,
    "editable": false
   },
   "source": [
    "<!-- END QUESTION -->\n",
    "\n",
    "**QUESTION 4I.** Using `simulated_statistics`, `observed_statistic`, and `num_simulations`, find the empirical p-value based on your simulation. "
   ]
  },
  {
   "cell_type": "code",
   "execution_count": null,
   "id": "f7c7ef67",
   "metadata": {
    "tags": []
   },
   "outputs": [],
   "source": [
    "p_value = ...\n",
    "p_value"
   ]
  },
  {
   "cell_type": "code",
   "execution_count": null,
   "id": "ee197fd1",
   "metadata": {
    "deletable": false,
    "editable": false
   },
   "outputs": [],
   "source": [
    "grader.check(\"q4_i\")"
   ]
  },
  {
   "cell_type": "markdown",
   "id": "8ffcedf6",
   "metadata": {
    "deletable": false,
    "editable": false
   },
   "source": [
    "**Question 4j** \n",
    "\n",
    "\n",
    "What is the conclusion of this hypothesis test using the 5% cutoff for the p-value?\n",
    "\n",
    " - (a). The data leads us to reject Emily's null hypothesis that the practitioners were just guessing.  This indicates that something more than just random chance is at play. \n",
    "\n",
    " - (b). Given the data, we fail to reject Emily's null hypothesis that the practitioners are answering independently and randomly (i.e. we fail to reject that the probability of any practitioner correctly answering is 50%).  This doesn't prove that her hypothesis is correct, it just says we didn't find strong enough evidence to reject it.\n",
    "\n",
    " - (c) We accept Emily's null hypothesis that the probability of any practitioner correctly answering is 50%.  This proves that she was correct.\n",
    "\n",
    "\n"
   ]
  },
  {
   "cell_type": "code",
   "execution_count": null,
   "id": "cba3a1d4",
   "metadata": {
    "tags": []
   },
   "outputs": [],
   "source": [
    "conclusion = ..."
   ]
  },
  {
   "cell_type": "code",
   "execution_count": null,
   "id": "5b5ee306",
   "metadata": {
    "deletable": false,
    "editable": false
   },
   "outputs": [],
   "source": [
    "grader.check(\"q4_j\")"
   ]
  },
  {
   "cell_type": "markdown",
   "id": "30723574",
   "metadata": {},
   "source": [
    "Therapeutic touch fell out of use after this experiment, which was eventually accepted into one of the premier medical journals. TT practitioners hit back and accused Emily and her family of tampering with the results, while some claimed that Emily's bad spiritual mood towards therapeutic touch made it difficult to read her HEF. Whatever it may be, Emily's experiment is a classic example about how anyone, with the right resources, can test anything they want!\n"
   ]
  },
  {
   "cell_type": "markdown",
   "id": "169d7663",
   "metadata": {},
   "source": [
    "<br/><br/>\n",
    "<hr style=\"border: 5px solid #003262;\" />\n",
    "<hr style=\"border: 1px solid #fdb515;\" />\n",
    "\n",
    "## Congratulations! You have finished Homework 7!"
   ]
  },
  {
   "cell_type": "markdown",
   "id": "cc31acf9",
   "metadata": {},
   "source": [
    "If you discussed this assignment with any other students in the class (in a manner that is acceptable as described by the Collaboration policy above) please **include their names** here:\n",
    "\n",
    "**Collaborators**: *list collaborators here*"
   ]
  },
  {
   "cell_type": "markdown",
   "id": "46739932",
   "metadata": {},
   "source": [
    "### Submission Instructions\n",
    "\n",
    "Before proceeding any further, **save this notebook.**\n",
    "\n",
    "After running the `grader.export()` cell provided below, **2 files will be created**: a zip file and pdf file.  You can download them using the links provided below OR by finding them in the same folder where this juptyer notebook resides in your JuptyerHub.\n",
    "\n",
    "To receive credit on this assignment, **you must submit BOTH of these files\n",
    "to their respective Gradescope portals:** \n",
    "\n",
    "* **Homework 7 Autograded**: Submit the zip file that is output by the `grader.export()` cell below to the HW7 Autograded assignment in Gradescope.\n",
    "\n",
    "* **Homework 7 Manually Graded**: Submit your hw07.PDF to the HW7 Manually Graded assignment in Gradescope.  **YOU MUST SELECT THE PAGES CORRESPONDING TO EACH QUESTION WHEN YOU UPLOAD TO GRADESCOPE.  IF NOT, YOU WILL LOSE POINTS**   Also, **check** that all of your plots **and** all lines of your code are showing up in your PDF before submitting.  If not, you will not receive credit for your plots/code.  \n",
    "\n",
    "\n",
    "**You are responsible for ensuring your submission follows our requirements. We will not be granting regrade requests nor extensions to submissions that don't follow instructions.** If you encounter any difficulties with submission, please don't hesitate to reach out to staff prior to the deadline."
   ]
  },
  {
   "cell_type": "code",
   "execution_count": null,
   "id": "8d6be149-db44-418d-a8bd-a249d4e99c58",
   "metadata": {},
   "outputs": [],
   "source": []
  },
  {
   "cell_type": "markdown",
   "id": "56439de3",
   "metadata": {
    "deletable": false,
    "editable": false
   },
   "source": [
    "## Submission\n",
    "\n",
    "Make sure you have run all cells in your notebook in order before running the cell below, so that all images/graphs appear in the output. The cell below will generate a zip file for you to submit. **Please save before exporting!**\n",
    "\n",
    "AFTER running the cell below, click on <a href='hw07.pdf' download>this link to download the PDF </a> to upload to Gradescope.  There will be a separate link that appears after running the cell below with a link to download the zip file to upload to Gradescope."
   ]
  },
  {
   "cell_type": "code",
   "execution_count": null,
   "id": "6bb19a4d",
   "metadata": {
    "deletable": false,
    "editable": false
   },
   "outputs": [],
   "source": [
    "# Save your notebook first, then run this cell to export your submission.\n",
    "grader.export(run_tests=True)"
   ]
  },
  {
   "cell_type": "markdown",
   "id": "f49eb3f9",
   "metadata": {},
   "source": [
    " "
   ]
  }
 ],
 "metadata": {
  "kernelspec": {
   "display_name": "Python 3 (ipykernel)",
   "language": "python",
   "name": "python3"
  },
  "language_info": {
   "codemirror_mode": {
    "name": "ipython",
    "version": 3
   },
   "file_extension": ".py",
   "mimetype": "text/x-python",
   "name": "python",
   "nbconvert_exporter": "python",
   "pygments_lexer": "ipython3",
   "version": "3.10.8"
  },
  "otter": {
   "OK_FORMAT": true,
   "tests": {
    "q2a": {
     "name": "q2a",
     "points": 3,
     "suites": [
      {
       "cases": [
        {
         "code": ">>> assert get_hash(q2a_answer) == '6bb61e3b7bce0931da574d19d1d82c88'\n",
         "hidden": false,
         "locked": false
        }
       ],
       "scored": true,
       "setup": "",
       "teardown": "",
       "type": "doctest"
      }
     ]
    },
    "q2b": {
     "name": "q2b",
     "points": 3,
     "suites": [
      {
       "cases": [
        {
         "code": ">>> # TEST\n>>> assert get_hash(round(q2b_answer, 3)) == '0a4a2fbfa050681b56c8bfce230ee97c'\n",
         "hidden": false,
         "locked": false
        }
       ],
       "scored": true,
       "setup": "",
       "teardown": "",
       "type": "doctest"
      }
     ]
    },
    "q4_g": {
     "name": "q4_g",
     "points": [
      0
     ],
     "suites": [
      {
       "cases": [
        {
         "code": ">>> # TEST\n>>> assert X_dist in ['a', 'b', 'c', 'd','e', 'f']\n",
         "hidden": false,
         "locked": false
        }
       ],
       "scored": true,
       "setup": "",
       "teardown": "",
       "type": "doctest"
      }
     ]
    },
    "q4_i": {
     "name": "q4_i",
     "points": [
      0,
      0
     ],
     "suites": [
      {
       "cases": [
        {
         "code": ">>> import numpy as np\n>>> assert (type(p_value) == float or type(p_value) == np.float64)\n",
         "hidden": false,
         "locked": false
        },
        {
         "code": ">>> assert (0 <= p_value <= 1)\n",
         "hidden": false,
         "locked": false
        }
       ],
       "scored": true,
       "setup": "",
       "teardown": "",
       "type": "doctest"
      }
     ]
    },
    "q4_j": {
     "name": "q4_j",
     "points": [
      0,
      2
     ],
     "suites": [
      {
       "cases": [
        {
         "code": ">>> # TEST\n>>> assert conclusion in ['a', 'b', 'c']\n",
         "hidden": false,
         "locked": false
        },
        {
         "code": ">>> assert conclusion == 'b'\n",
         "hidden": false,
         "locked": false
        }
       ],
       "scored": true,
       "setup": "",
       "teardown": "",
       "type": "doctest"
      }
     ]
    },
    "q4a": {
     "name": "q4a",
     "points": [
      0
     ],
     "suites": [
      {
       "cases": [
        {
         "code": ">>> # TEST\n>>> assert null_hypothesis in ['a', 'b', 'c']\n",
         "hidden": false,
         "locked": false
        }
       ],
       "scored": true,
       "setup": "",
       "teardown": "",
       "type": "doctest"
      }
     ]
    },
    "q4b": {
     "name": "q4b",
     "points": [
      0
     ],
     "suites": [
      {
       "cases": [
        {
         "code": ">>> # TEST\n>>> assert alt_hypothesis in ['a', 'b', 'c']\n",
         "hidden": false,
         "locked": false
        }
       ],
       "scored": true,
       "setup": "",
       "teardown": "",
       "type": "doctest"
      }
     ]
    },
    "q4c": {
     "name": "q4c",
     "points": [
      0
     ],
     "suites": [
      {
       "cases": [
        {
         "code": ">>> # TEST\n>>> \n>>> assert 0 <= expected_proportion_correct <= 1\n",
         "hidden": false,
         "locked": false
        }
       ],
       "scored": true,
       "setup": "",
       "teardown": "",
       "type": "doctest"
      }
     ]
    },
    "q4d": {
     "name": "q4d",
     "points": [
      0
     ],
     "suites": [
      {
       "cases": [
        {
         "code": ">>> # TEST\n>>> assert valid_test_stat in ['a', 'b', 'c', 'd','e', 'f', 'g']\n",
         "hidden": false,
         "locked": false
        }
       ],
       "scored": true,
       "setup": "",
       "teardown": "",
       "type": "doctest"
      }
     ]
    },
    "q4e": {
     "name": "q4e",
     "points": 2,
     "suites": [
      {
       "cases": [
        {
         "code": ">>> assert int(round(statistic(.5,.5) + statistic(.4,.1),1)) == 30\n",
         "hidden": false,
         "locked": false
        },
        {
         "code": ">>> assert int(statistic(.4,.1) - statistic(.1,.4)) == 0\n",
         "hidden": false,
         "locked": false
        }
       ],
       "scored": true,
       "setup": "",
       "teardown": "",
       "type": "doctest"
      }
     ]
    },
    "q4f": {
     "name": "q4f",
     "points": 1,
     "suites": [
      {
       "cases": [
        {
         "code": ">>> assert int(round(observed_statistic,2))==6\n",
         "hidden": false,
         "locked": false
        }
       ],
       "scored": true,
       "setup": "",
       "teardown": "",
       "type": "doctest"
      }
     ]
    }
   }
  }
 },
 "nbformat": 4,
 "nbformat_minor": 5
}
