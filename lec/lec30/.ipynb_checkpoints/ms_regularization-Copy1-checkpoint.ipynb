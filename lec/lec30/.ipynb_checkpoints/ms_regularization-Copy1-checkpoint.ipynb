{
 "cells": [
  {
   "cell_type": "code",
   "execution_count": 34,
   "metadata": {
    "tags": [
     "remove-cell"
    ]
   },
   "outputs": [],
   "source": [
    "\n",
    "\n",
    "# Run this cell to set up your notebook\n",
    "import seaborn as sns\n",
    "import csv\n",
    "import numpy as np\n",
    "import pandas as pd\n",
    "import matplotlib.pyplot as plt\n",
    "%matplotlib inline\n",
    "sns.set()\n",
    "sns.set_context(\"talk\")\n",
    "\n",
    "import plotly.express as px \n",
    "\n",
    "from IPython.display import display, Latex, Markdown\n",
    "\n",
    "from sklearn.linear_model import LinearRegression\n",
    "from sklearn.metrics import mean_squared_error, r2_score\n",
    "from sklearn.model_selection import train_test_split, cross_val_score\n",
    "from sklearn import model_selection"
   ]
  },
  {
   "cell_type": "markdown",
   "metadata": {},
   "source": [
    "# Regularization\n",
    "\n",
    "\n",
    "We just saw how cross-validation can help find a dimension for a fitted model that balances under- and overfitting. Rather than selecting the dimension of the model, we can build a model with all of the features, but restrict the size of the coefficients. We keep from overfitting by adding to the MSE a penalty term on the size of the coefficients. The penalty, called a *regularization term*, is $ \\alpha$.   We fit the model by minimizing the combination of mean squared error plus this penalty:\n",
    "\n",
    "\n",
    "When the *regularization parameter*, $\\alpha$, is large, it penalizes large coefficients.\n",
    "(We typically choose it by cross-validation.) \n",
    "\n",
    "A popular regularization is called *lasso regression* (lasso stands for Least Absolute Shrinkage and Selection Operator). It penalizes the absolute size of the coefficients: \n",
    "\n",
    "$$\n",
    "\\begin{aligned}\n",
    "\\frac{1}{n} \\sum_{i=1}^{n}(y_i - \\mathbf{x}_i \\boldsymbol{\\theta})^2  ~+~ \\alpha \\sum_{j = 1}^{p} |\\theta_j|\n",
    "\\end{aligned}\n",
    "$$\n",
    "\n",
    " \n",
    "To get an idea about how regularization works, let's think about the extreme cases: when $ \\alpha $ is really large and when it's close to 0 ($ \\alpha $ is never negative). With a big regularization parameter, the coefficients are heavily penalized, so they shrink. On the other hand, when $ \\alpha $ is tiny, the coefficients aren't restricted. In fact, when $ \\alpha $ is 0, we're back in the world of ordinary least squares. A couple of issues crop up when we think about controlling the size of the coefficients through regularization: \n",
    " \n",
    "+ We do not want to regularize the intercept term. This way, a large penalty fits a constant model.\n",
    "+ When features have very different scales, the penalty can impact them differently, with large-valued features being penalized more than others. To avoid this, we standardize all of the features to have mean 0 and variance 1 before fitting the model.\n"
   ]
  },
  {
   "cell_type": "markdown",
   "metadata": {},
   "source": [
    "Using regularization allows us to avoid model overfitting by penalizing large coefficients.  $ L_1 $ regularization has the advantage of zeroing out coefficients; it performs *feature selection* by discarding the features with a coefficient of 0. This is particularly useful when working with high-dimensional data with many features. A model that only uses a few features to make a prediction runs much faster than a model that requires many calculations. Since unneeded features tend to increase model variance without decreasing bias, we can sometimes increase the accuracy of other models by using lasso regression to select a subset of features to use."
   ]
  },
  {
   "cell_type": "markdown",
   "metadata": {},
   "source": [
    "Let's look at an example with 35 features."
   ]
  },
  {
   "cell_type": "markdown",
   "metadata": {},
   "source": [
    "# Example: A Market Analysis\n",
    "\n",
    "A [market research project](https://doi.org/10.1080/02664763.2014.994480) for a pharmaceutical company wants to model consumer interest in purchasing a cold sore health-care product. They gather data from 1,023 consumers. Each consumer is asked to rate on a 10-point scale 35 factors according to whether the factor matters to them when considering purchasing a cold sore treatment. They also rate their interest in purchasing the product. \n",
    "\n",
    "Stan Lipovetsky and W. Michael Conklin (2015) Predictor relative importance\n",
    "and matching regression parameters. _Journal of Applied Statistics_, 42:5, 1017-1031."
   ]
  },
  {
   "cell_type": "markdown",
   "metadata": {},
   "source": [
    "We begin by reading in the data:"
   ]
  },
  {
   "cell_type": "code",
   "execution_count": 2,
   "metadata": {},
   "outputs": [],
   "source": [
    "ma_df = pd.read_csv('data/market-analysis.csv')\n",
    "\n"
   ]
  },
  {
   "cell_type": "markdown",
   "metadata": {},
   "source": [
    "The table below lists the 35 factors and provides their correlation to the outcome, their interest in purchasing the product. "
   ]
  },
  {
   "cell_type": "markdown",
   "metadata": {},
   "source": [
    "\n",
    "\n",
    "\n",
    "|  | Corr | Description |  | Corr | Description |\n",
    "| --- | --- | --------- | --- | --- | --------- |\n",
    "| x1  | 0.70 | provides soothing relief | x19 | 0.54 | has a non-messy application |\n",
    "| x2  | 0.58 | moisturizes cold sore blister | x20 | 0.70 | good for any stage of a cold |\n",
    "| x3  | 0.69 | provides long-lasting relief | x21 | 0.49 | easy to apply/take |\n",
    "| x4  | 0.70 | provides fast-acting relief | x22 | 0.52 | package keeps from contamination |\n",
    "| x5 | 0.72 | shortens duration of a cold | x23 | 0.57 | easy to dispense a right amount |\n",
    "| x6  | 0.68 | stops the virus from spreading | x24 | 0.63 | worth the price it costs |\n",
    "| x7 | 0.67| dries up cold sore | x25 | 0.57 | recommended most by pharamacists |\n",
    "| x8 | 0.72 | heals fast | x26 | 0.54 | recommended by doctors |\n",
    "| x9 | 0.72 | penetrates deep | x27 | 0.54 | FDA approved |\n",
    "| x10 | 0.65 | relieves pain | x28 | 0.64 | a brand I trust |\n",
    "| x11 |0.61 | prevents cold | x29 | 0.60 | clinically proven |\n",
    "| x12 | 0.73 | prevents from getting worse | x30 | 0.68 | a brand I would recommend |\n",
    "| x13 | 0.57 | medicated | x31 | 0.74 | an effective treatment |\n",
    "| x14 | 0.61 | prescription strength | x32  |0.37 | portable |\n",
    "| x15 | 0.63 | repairs damaged skin | x33 | 0.37 | discreet packaging |\n",
    "| x16 | 0.67 | blocks virus from spreading | x34 | 0.55 | helps conceal cold sores |\n",
    "| x17 | 0.42 | contains SPF | x35 | 0.63 | absorbs quickly |\n",
    "| x18 | 0.57 | non-irritating | | | |\n",
    "\n",
    ":::"
   ]
  },
  {
   "cell_type": "code",
   "execution_count": 3,
   "metadata": {},
   "outputs": [
    {
     "data": {
      "text/plain": [
       "<AxesSubplot:>"
      ]
     },
     "execution_count": 3,
     "metadata": {},
     "output_type": "execute_result"
    },
    {
     "data": {
      "image/png": "[encoded data removed]",
      "text/plain": [
       "<Figure size 432x288 with 1 Axes>"
      ]
     },
     "metadata": {},
     "output_type": "display_data"
    }
   ],
   "source": [
    "ma_df[\"y\"].hist()"
   ]
  },
  {
   "cell_type": "markdown",
   "metadata": {},
   "source": [
    "Based on their labels alone, some of these 35 features appear to measure similar aspects of desirability. We can compute the correlations between the explanatory variables to confirm this: "
   ]
  },
  {
   "cell_type": "code",
   "execution_count": 4,
   "metadata": {
    "tags": [
     "remove-input"
    ]
   },
   "outputs": [
    {
     "data": {
      "text/html": [
       "<div>\n",
       "<style scoped>\n",
       "    .dataframe tbody tr th:only-of-type {\n",
       "        vertical-align: middle;\n",
       "    }\n",
       "\n",
       "    .dataframe tbody tr th {\n",
       "        vertical-align: top;\n",
       "    }\n",
       "\n",
       "    .dataframe thead th {\n",
       "        text-align: right;\n",
       "    }\n",
       "</style>\n",
       "<table border=\"1\" class=\"dataframe\">\n",
       "  <thead>\n",
       "    <tr style=\"text-align: right;\">\n",
       "      <th></th>\n",
       "      <th>y</th>\n",
       "      <th>x1</th>\n",
       "      <th>x2</th>\n",
       "      <th>x3</th>\n",
       "      <th>x4</th>\n",
       "      <th>x5</th>\n",
       "      <th>x6</th>\n",
       "      <th>x7</th>\n",
       "      <th>x8</th>\n",
       "      <th>x9</th>\n",
       "      <th>...</th>\n",
       "      <th>x26</th>\n",
       "      <th>x27</th>\n",
       "      <th>x28</th>\n",
       "      <th>x29</th>\n",
       "      <th>x30</th>\n",
       "      <th>x31</th>\n",
       "      <th>x32</th>\n",
       "      <th>x33</th>\n",
       "      <th>x34</th>\n",
       "      <th>x35</th>\n",
       "    </tr>\n",
       "  </thead>\n",
       "  <tbody>\n",
       "    <tr>\n",
       "      <th>y</th>\n",
       "      <td>1.000000</td>\n",
       "      <td>0.698082</td>\n",
       "      <td>0.584470</td>\n",
       "      <td>0.689198</td>\n",
       "      <td>0.698104</td>\n",
       "      <td>0.715737</td>\n",
       "      <td>0.675171</td>\n",
       "      <td>0.674324</td>\n",
       "      <td>0.720245</td>\n",
       "      <td>0.715239</td>\n",
       "      <td>...</td>\n",
       "      <td>0.543472</td>\n",
       "      <td>0.535300</td>\n",
       "      <td>0.643565</td>\n",
       "      <td>0.599936</td>\n",
       "      <td>0.681561</td>\n",
       "      <td>0.744036</td>\n",
       "      <td>0.370732</td>\n",
       "      <td>0.365545</td>\n",
       "      <td>0.553436</td>\n",
       "      <td>0.627739</td>\n",
       "    </tr>\n",
       "    <tr>\n",
       "      <th>x1</th>\n",
       "      <td>0.698082</td>\n",
       "      <td>1.000000</td>\n",
       "      <td>0.693949</td>\n",
       "      <td>0.741297</td>\n",
       "      <td>0.806206</td>\n",
       "      <td>0.745964</td>\n",
       "      <td>0.733237</td>\n",
       "      <td>0.715636</td>\n",
       "      <td>0.764331</td>\n",
       "      <td>0.781493</td>\n",
       "      <td>...</td>\n",
       "      <td>0.545061</td>\n",
       "      <td>0.555448</td>\n",
       "      <td>0.669401</td>\n",
       "      <td>0.632966</td>\n",
       "      <td>0.675034</td>\n",
       "      <td>0.786363</td>\n",
       "      <td>0.420447</td>\n",
       "      <td>0.327813</td>\n",
       "      <td>0.573375</td>\n",
       "      <td>0.714993</td>\n",
       "    </tr>\n",
       "    <tr>\n",
       "      <th>x2</th>\n",
       "      <td>0.584470</td>\n",
       "      <td>0.693949</td>\n",
       "      <td>1.000000</td>\n",
       "      <td>0.632579</td>\n",
       "      <td>0.652231</td>\n",
       "      <td>0.629310</td>\n",
       "      <td>0.626027</td>\n",
       "      <td>0.606470</td>\n",
       "      <td>0.628247</td>\n",
       "      <td>0.667748</td>\n",
       "      <td>...</td>\n",
       "      <td>0.520121</td>\n",
       "      <td>0.535033</td>\n",
       "      <td>0.608308</td>\n",
       "      <td>0.600972</td>\n",
       "      <td>0.618307</td>\n",
       "      <td>0.658305</td>\n",
       "      <td>0.426040</td>\n",
       "      <td>0.355965</td>\n",
       "      <td>0.546330</td>\n",
       "      <td>0.631601</td>\n",
       "    </tr>\n",
       "    <tr>\n",
       "      <th>x3</th>\n",
       "      <td>0.689198</td>\n",
       "      <td>0.741297</td>\n",
       "      <td>0.632579</td>\n",
       "      <td>1.000000</td>\n",
       "      <td>0.775006</td>\n",
       "      <td>0.764568</td>\n",
       "      <td>0.781304</td>\n",
       "      <td>0.716138</td>\n",
       "      <td>0.795831</td>\n",
       "      <td>0.766581</td>\n",
       "      <td>...</td>\n",
       "      <td>0.559115</td>\n",
       "      <td>0.571977</td>\n",
       "      <td>0.634122</td>\n",
       "      <td>0.665531</td>\n",
       "      <td>0.635772</td>\n",
       "      <td>0.795528</td>\n",
       "      <td>0.366715</td>\n",
       "      <td>0.343737</td>\n",
       "      <td>0.667460</td>\n",
       "      <td>0.697526</td>\n",
       "    </tr>\n",
       "    <tr>\n",
       "      <th>x4</th>\n",
       "      <td>0.698104</td>\n",
       "      <td>0.806206</td>\n",
       "      <td>0.652231</td>\n",
       "      <td>0.775006</td>\n",
       "      <td>1.000000</td>\n",
       "      <td>0.791758</td>\n",
       "      <td>0.763113</td>\n",
       "      <td>0.742654</td>\n",
       "      <td>0.812947</td>\n",
       "      <td>0.782780</td>\n",
       "      <td>...</td>\n",
       "      <td>0.566515</td>\n",
       "      <td>0.550485</td>\n",
       "      <td>0.649257</td>\n",
       "      <td>0.628049</td>\n",
       "      <td>0.674396</td>\n",
       "      <td>0.816444</td>\n",
       "      <td>0.386155</td>\n",
       "      <td>0.316505</td>\n",
       "      <td>0.595784</td>\n",
       "      <td>0.715873</td>\n",
       "    </tr>\n",
       "  </tbody>\n",
       "</table>\n",
       "<p>5 rows × 36 columns</p>\n",
       "</div>"
      ],
      "text/plain": [
       "           y        x1        x2        x3        x4        x5        x6  \\\n",
       "y   1.000000  0.698082  0.584470  0.689198  0.698104  0.715737  0.675171   \n",
       "x1  0.698082  1.000000  0.693949  0.741297  0.806206  0.745964  0.733237   \n",
       "x2  0.584470  0.693949  1.000000  0.632579  0.652231  0.629310  0.626027   \n",
       "x3  0.689198  0.741297  0.632579  1.000000  0.775006  0.764568  0.781304   \n",
       "x4  0.698104  0.806206  0.652231  0.775006  1.000000  0.791758  0.763113   \n",
       "\n",
       "          x7        x8        x9  ...       x26       x27       x28       x29  \\\n",
       "y   0.674324  0.720245  0.715239  ...  0.543472  0.535300  0.643565  0.599936   \n",
       "x1  0.715636  0.764331  0.781493  ...  0.545061  0.555448  0.669401  0.632966   \n",
       "x2  0.606470  0.628247  0.667748  ...  0.520121  0.535033  0.608308  0.600972   \n",
       "x3  0.716138  0.795831  0.766581  ...  0.559115  0.571977  0.634122  0.665531   \n",
       "x4  0.742654  0.812947  0.782780  ...  0.566515  0.550485  0.649257  0.628049   \n",
       "\n",
       "         x30       x31       x32       x33       x34       x35  \n",
       "y   0.681561  0.744036  0.370732  0.365545  0.553436  0.627739  \n",
       "x1  0.675034  0.786363  0.420447  0.327813  0.573375  0.714993  \n",
       "x2  0.618307  0.658305  0.426040  0.355965  0.546330  0.631601  \n",
       "x3  0.635772  0.795528  0.366715  0.343737  0.667460  0.697526  \n",
       "x4  0.674396  0.816444  0.386155  0.316505  0.595784  0.715873  \n",
       "\n",
       "[5 rows x 36 columns]"
      ]
     },
     "execution_count": 4,
     "metadata": {},
     "output_type": "execute_result"
    }
   ],
   "source": [
    "ma_df.corr().head()"
   ]
  },
  {
   "cell_type": "markdown",
   "metadata": {},
   "source": [
    "We see, for example, that the last feature, \"absorbs quickly,\" is highly correlated with the first three: \"provides soothing relief,\" \"moisturizes,\" and \"provides long-lasting relief.\"   "
   ]
  },
  {
   "cell_type": "markdown",
   "metadata": {},
   "source": [
    "## Splitting into Training, Validation and Test Sets"
   ]
  },
  {
   "cell_type": "markdown",
   "metadata": {},
   "source": [
    "Before we start to fit regularized models, we set up the design matrix and outcome vector and split the data into trainining, validation and test sets."
   ]
  },
  {
   "cell_type": "code",
   "execution_count": 5,
   "metadata": {},
   "outputs": [],
   "source": [
    "Y = ma_df[\"y\"]\n",
    "X = ma_df.drop(columns=[\"y\"])\n"
   ]
  },
  {
   "cell_type": "code",
   "execution_count": 6,
   "metadata": {},
   "outputs": [
    {
     "name": "stdout",
     "output_type": "stream",
     "text": [
      "Size of full dataset: 1023 points\n",
      "Size of training set: 818 points\n",
      "Size of test set: 205 points\n",
      "Size of original training set: 818 points\n",
      "Size of mini training set: 654 points\n",
      "Size of validation set: 164 points\n"
     ]
    }
   ],
   "source": [
    "X_train, X_test, Y_train, Y_test = train_test_split(X, Y, \n",
    "                                                    test_size=0.2, \n",
    "                                                    random_state=100, \n",
    "                                                    shuffle=True)\n",
    "\n",
    "print(f\"Size of full dataset: {X.shape[0]} points\")\n",
    "print(f\"Size of training set: {X_train.shape[0]} points\")\n",
    "print(f\"Size of test set: {X_test.shape[0]} points\")\n",
    "\n",
    "\n",
    "# Split X_train further into X_train_mini and X_val.\n",
    "X_train_mini, X_val, Y_train_mini, Y_val = train_test_split(X_train, Y_train, test_size=0.2, random_state=18)\n",
    "\n",
    "print(f\"Size of original training set: {X_train.shape[0]} points\")\n",
    "print(f\"Size of mini training set: {X_train_mini.shape[0]} points\")\n",
    "print(f\"Size of validation set: {X_val.shape[0]} points\")"
   ]
  },
  {
   "cell_type": "code",
   "execution_count": 7,
   "metadata": {},
   "outputs": [],
   "source": [
    "import sklearn.linear_model as lm\n",
    "\n",
    "linear_model = lm.LinearRegression()\n",
    "\n",
    "# Fit your linear model\n",
    "\n",
    "linear_model.fit(X_train_mini, Y_train_mini);\n"
   ]
  },
  {
   "cell_type": "code",
   "execution_count": 8,
   "metadata": {},
   "outputs": [],
   "source": [
    "# Calculate RMSE:\n",
    "\n",
    "def rmse(y, yhat):\n",
    "    return np.sqrt(np.mean((y - yhat)**2))"
   ]
  },
  {
   "cell_type": "code",
   "execution_count": 9,
   "metadata": {},
   "outputs": [
    {
     "data": {
      "text/plain": [
       "1.030785771794295"
      ]
     },
     "execution_count": 9,
     "metadata": {},
     "output_type": "execute_result"
    }
   ],
   "source": [
    "# Calculate Training RMSE:\n",
    "\n",
    "Y_train_predict = linear_model.predict(X_train_mini)\n",
    "\n",
    "rmse(Y_train_predict, Y_train_mini)"
   ]
  },
  {
   "cell_type": "code",
   "execution_count": 10,
   "metadata": {},
   "outputs": [
    {
     "data": {
      "text/plain": [
       "0.9696294251843102"
      ]
     },
     "execution_count": 10,
     "metadata": {},
     "output_type": "execute_result"
    }
   ],
   "source": [
    "# Calculate Validation RMSE:\n",
    "\n",
    "Y_val_predict = linear_model.predict(X_val)\n",
    "\n",
    "rmse(Y_val, Y_val_predict)"
   ]
  },
  {
   "cell_type": "markdown",
   "metadata": {},
   "source": [
    "To get a sense as to whether our training RMSE was a result of the random sample of size 20% that we used for the validation set, we can use 5-fold Cross Validation on the entire training set and take the average of the RMSE values for the 5-folds.  This will likely be a closer representation of the actual test error."
   ]
  },
  {
   "cell_type": "code",
   "execution_count": 13,
   "metadata": {},
   "outputs": [],
   "source": [
    "# Calculate cross validation RMSE.  \n",
    "# Python is set-up to create the folds for you, so we use the entire X-train and Y-train set:\n",
    "\n",
    "from sklearn.model_selection import KFold\n",
    "from sklearn.base import clone\n",
    "\n",
    "def cross_validate_rmse(model, X_train, Y_train):\n",
    "    model = clone(model)\n",
    "    five_fold = KFold(n_splits=5)\n",
    "    rmse_values = []\n",
    "    for tr_ind, va_ind in five_fold.split(X_train):\n",
    "        model.fit(X_train.iloc[tr_ind,:], Y_train.iloc[tr_ind])\n",
    "        rmse_values.append(rmse(Y_train.iloc[va_ind], model.predict(X_train.iloc[va_ind,:])))\n",
    "    return np.mean(rmse_values)\n",
    "\n"
   ]
  },
  {
   "cell_type": "code",
   "execution_count": 14,
   "metadata": {},
   "outputs": [
    {
     "data": {
      "text/plain": [
       "1.0942880728677857"
      ]
     },
     "execution_count": 14,
     "metadata": {},
     "output_type": "execute_result"
    }
   ],
   "source": [
    "cross_validate_rmse(linear_model, X_train, Y_train)"
   ]
  },
  {
   "cell_type": "markdown",
   "metadata": {},
   "source": [
    "## Using Regularization"
   ]
  },
  {
   "cell_type": "markdown",
   "metadata": {},
   "source": [
    "\n",
    "\n",
    "Before fitting a regularized model we need to standardize the features. \n",
    "\n",
    "First, we'll standardize the mini-train set, and then, when we go to evaluate the model, we use the mini-train set standardization on the validation-set. The [`StandardScaler`](https://scikit-learn.org/stable/modules/generated/sklearn.preprocessing.StandardScaler.html) method helps us with this process:"
   ]
  },
  {
   "cell_type": "code",
   "execution_count": null,
   "metadata": {},
   "outputs": [],
   "source": [
    "from sklearn.preprocessing import StandardScaler\n",
    "\n",
    "scalerX = StandardScaler().fit(X_train_mini) \n",
    "X_train_scaled = scalerX.transform(X_train_mini)\n",
    "X_val_scaled = scalerX.transform(X_val)"
   ]
  },
  {
   "cell_type": "markdown",
   "metadata": {},
   "source": [
    "We confirm that the means of the 35 features in the train set are all 0 and the SDs are all&nbsp;1: "
   ]
  },
  {
   "cell_type": "code",
   "execution_count": null,
   "metadata": {},
   "outputs": [],
   "source": [
    "np.allclose(X_train_scaled.mean(axis=0), 0)"
   ]
  },
  {
   "cell_type": "code",
   "execution_count": null,
   "metadata": {},
   "outputs": [],
   "source": [
    "np.allclose(X_train_scaled.std(axis=0), 1)"
   ]
  },
  {
   "cell_type": "markdown",
   "metadata": {},
   "source": [
    "It's important to note that this is not the case for the test set, because we\n",
    "use the averages and SDs from the train set to standardize the test set features:"
   ]
  },
  {
   "cell_type": "code",
   "execution_count": null,
   "metadata": {},
   "outputs": [],
   "source": [
    "X_val_scaled.mean(axis=0)"
   ]
  },
  {
   "cell_type": "markdown",
   "metadata": {},
   "source": [
    "To perform a lasso regression, we use the `Lasso` method in `scikit-learn`.  Let's see how the coefficients for the 35 features in the data frame change with $\\alpha$. We set up a range of values for the regularization parameter and fit the lasso for each (this parameter is referred to as `alpha` in `Lasso`): "
   ]
  },
  {
   "cell_type": "code",
   "execution_count": null,
   "metadata": {},
   "outputs": [],
   "source": [
    "from sklearn.linear_model import Lasso\n",
    "\n",
    "coefs = []\n",
    "rmses = []\n",
    "alphas = np.arange(0.01, 1.5, 0.01)\n",
    "\n",
    "for a in alphas:\n",
    "    model = Lasso(alpha=a)\n",
    "    model.fit(X_train_scaled, Y_train_mini)\n",
    "    coefs.append(model.coef_)\n",
    "    rmses.append(rmse(Y_val, model.predict(X_val_scaled)))"
   ]
  },
  {
   "cell_type": "markdown",
   "metadata": {},
   "source": [
    "For each feature, we can overlay a line plot of the coefficient against $ \\alpha $: "
   ]
  },
  {
   "cell_type": "code",
   "execution_count": null,
   "metadata": {
    "tags": [
     "remove-input"
    ]
   },
   "outputs": [],
   "source": [
    "col_names = [\"x\" + str(v) for v in np.arange(1, 36, 1)]\n",
    "\n",
    "coefs_df = pd.DataFrame(coefs, columns=col_names)\n",
    "\n",
    "coefs_df[\"alpha\"] = alphas\n",
    "coefs_long = pd.melt(coefs_df, id_vars=[\"alpha\"], value_vars=col_names)\n",
    "\n",
    "fig = px.line(coefs_long, x=\"alpha\", y=\"value\", color=\"variable\", log_x=False)\n",
    "fig.update_layout(\n",
    "    showlegend=False, width=550, height=250, yaxis_title=\"Coefficient\",\n",
    "    xaxis_title=\"alpha\"\n",
    ")"
   ]
  },
  {
   "cell_type": "markdown",
   "metadata": {},
   "source": [
    "As $ \\alpha $ increases, the model fitting is penalized more heavily and many coefficients shrink to 0. The lefthand side of the plot shows greater model complexity and corresponds to small $ \\alpha $. Notice that for $ \\lambda = 0.5 $, nearly all of the coefficients are 0. \n",
    "\n",
    "We can also plot the RMSE as a function of $ \\alpha $ to see how it changes with the increase in the penalty:"
   ]
  },
  {
   "cell_type": "code",
   "execution_count": null,
   "metadata": {},
   "outputs": [],
   "source": [
    "px.line(x=alphas, y=rmses,\n",
    "        labels={\"x\": \"alpha\", \"y\": \"RMSE\"},\n",
    "        width=350, height=250)"
   ]
  },
  {
   "cell_type": "markdown",
   "metadata": {},
   "source": [
    "When $ \\alpha $ reaches about 1.35, the penalty is so large that the lasso regression is simply fitting a constant model to the data, and the MSE doesn't change. We are again faced with a model selection question, but this time it's in the form of deciding on $ \\alpha $. \n"
   ]
  },
  {
   "cell_type": "markdown",
   "metadata": {},
   "source": [
    "## Choosing alpha:  \n",
    "\n",
    "If you're interested in creating a simple model with just a select number of important predictors you can choose the alpha that results in your chosen number of predictors.  For example, suppose we want a model with just 6 predictors.    We can see in the alpha vs coefficient plot above, that an alpha value around .80 will result in a model with 6 predictors."
   ]
  },
  {
   "cell_type": "code",
   "execution_count": null,
   "metadata": {},
   "outputs": [],
   "source": [
    "model_2 = Lasso(alpha=.80)\n",
    "\n",
    "model_2.fit(X_train_scaled, Y_train_mini)\n",
    "\n"
   ]
  },
  {
   "cell_type": "code",
   "execution_count": null,
   "metadata": {},
   "outputs": [],
   "source": [
    "model_2.coef_\n"
   ]
  },
  {
   "cell_type": "code",
   "execution_count": null,
   "metadata": {},
   "outputs": [],
   "source": [
    "rmse(Y_val, model.predict(X_val_scaled))"
   ]
  },
  {
   "cell_type": "markdown",
   "metadata": {},
   "source": [
    "## Using Cross-Validation to Choose alpha:"
   ]
  },
  {
   "cell_type": "markdown",
   "metadata": {},
   "source": [
    "If instead your goal is to find the \"best\" alpha that minimizes RMSE, we can use cross-validation to help us. \n",
    "\n",
    "We use the `LassoCV` method to perform 5-fold cross-validation to choose $\\alpha$:"
   ]
  },
  {
   "cell_type": "code",
   "execution_count": 17,
   "metadata": {},
   "outputs": [],
   "source": [
    "from sklearn.linear_model import LassoCV\n",
    "\n",
    "lasso_cv_model = LassoCV(\n",
    "    alphas=np.arange(0.01, 1, 0.01), cv=5)"
   ]
  },
  {
   "cell_type": "markdown",
   "metadata": {},
   "source": [
    "We'll use the full (not the mini) training set (since Python knows we're using cross validation to help us with model selection (i.e. to help us choose alpha).  \n",
    "So first we need to re-standardize using the full training set:"
   ]
  },
  {
   "cell_type": "code",
   "execution_count": 18,
   "metadata": {},
   "outputs": [],
   "source": [
    "from sklearn.preprocessing import StandardScaler\n",
    "\n",
    "scalerX_full = StandardScaler().fit(X_train) \n",
    "X_train_full_scaled = scalerX_full.transform(X_train)\n"
   ]
  },
  {
   "cell_type": "code",
   "execution_count": 19,
   "metadata": {},
   "outputs": [],
   "source": [
    "lasso_best = lasso_cv_model.fit(X_train_full_scaled, Y_train)"
   ]
  },
  {
   "cell_type": "markdown",
   "metadata": {},
   "source": [
    "Cross-validation has chosen the following regularization parameter:"
   ]
  },
  {
   "cell_type": "code",
   "execution_count": 20,
   "metadata": {},
   "outputs": [
    {
     "data": {
      "text/plain": [
       "0.04"
      ]
     },
     "execution_count": 20,
     "metadata": {},
     "output_type": "execute_result"
    }
   ],
   "source": [
    "lasso_best.alpha_"
   ]
  },
  {
   "cell_type": "markdown",
   "metadata": {},
   "source": [
    "Let's find how many coefficients (out of the original 35) are not 0:"
   ]
  },
  {
   "cell_type": "code",
   "execution_count": 21,
   "metadata": {},
   "outputs": [
    {
     "data": {
      "text/plain": [
       "18"
      ]
     },
     "execution_count": 21,
     "metadata": {},
     "output_type": "execute_result"
    }
   ],
   "source": [
    "sum(np.abs(lasso_best.coef_) > 0)"
   ]
  },
  {
   "cell_type": "code",
   "execution_count": null,
   "metadata": {},
   "outputs": [],
   "source": []
  },
  {
   "cell_type": "markdown",
   "metadata": {},
   "source": [
    "## Final Version of Model:  Lasso Regression with alpha = 0.04"
   ]
  },
  {
   "cell_type": "code",
   "execution_count": 22,
   "metadata": {},
   "outputs": [],
   "source": [
    "# Before running on the test set, we need to standardize the test data.\n",
    "# We'll use the standardization we used on the full training set.\n",
    "\n",
    "X_test_scaled = scalerX_full.transform(X_test)"
   ]
  },
  {
   "cell_type": "code",
   "execution_count": 23,
   "metadata": {},
   "outputs": [
    {
     "data": {
      "text/plain": [
       "1.0989705839439465"
      ]
     },
     "execution_count": 23,
     "metadata": {},
     "output_type": "execute_result"
    }
   ],
   "source": [
    "# RMSE from test set (only run this once at end!)\n",
    "Y_test_pred = lasso_best.predict(X_test_scaled)\n",
    "rmse(Y_test, Y_test_pred)"
   ]
  },
  {
   "cell_type": "code",
   "execution_count": 25,
   "metadata": {},
   "outputs": [],
   "source": [
    "# DON'T TRY THIS AT HOME!\n",
    "# We'll peek under the hood and see if this actually performs better on the test set than\n",
    "# the OLS model using all the parameters.  \n",
    "\n",
    "Y_test_pred_orig = linear_model.predict(X_test)"
   ]
  },
  {
   "cell_type": "code",
   "execution_count": 26,
   "metadata": {},
   "outputs": [
    {
     "data": {
      "text/plain": [
       "1.1535784835058613"
      ]
     },
     "execution_count": 26,
     "metadata": {},
     "output_type": "execute_result"
    }
   ],
   "source": [
    "rmse(Y_test, Y_test_pred_orig)\n"
   ]
  },
  {
   "cell_type": "code",
   "execution_count": null,
   "metadata": {},
   "outputs": [],
   "source": [
    "# Yep!  Our regularized model is better!"
   ]
  },
  {
   "cell_type": "markdown",
   "metadata": {},
   "source": [
    "\n",
    "\n",
    "Sometimes we prefer one type of regularization over the other because it maps more closely to the domain we are working with. For example, if we know that the phenomenon we are trying to model results from many small factors, we might prefer ridge regression because it won't discard these factors. On the other hand, some outcomes result from a few highly influential features. We prefer lasso regression in these situations because it discards unneeded features. Both $L_2$ and $L_1$ serve as useful throttles to navigate between under- and overfitting.\n",
    "\n"
   ]
  },
  {
   "cell_type": "markdown",
   "metadata": {},
   "source": [
    "Regularization, train-test split, and cross-validation all have the goal of reducing over-fitting. The problem with over-fitting comes from using data to both fit a model and estimate the model's error in predicting new observations. In the next section, we provide further intuition for this idea."
   ]
  }
 ],
 "metadata": {
  "kernelspec": {
   "display_name": "Python 3 (ipykernel)",
   "language": "python",
   "name": "python3"
  },
  "language_info": {
   "codemirror_mode": {
    "name": "ipython",
    "version": 3
   },
   "file_extension": ".py",
   "mimetype": "text/x-python",
   "name": "python",
   "nbconvert_exporter": "python",
   "pygments_lexer": "ipython3",
   "version": "3.9.12"
  },
  "toc": {
   "nav_menu": {},
   "number_sections": false,
   "sideBar": false,
   "skip_h1_title": false,
   "title_cell": "Table of Contents",
   "title_sidebar": "Contents",
   "toc_cell": true,
   "toc_position": {},
   "toc_section_display": true,
   "toc_window_display": false
  }
 },
 "nbformat": 4,
 "nbformat_minor": 4
}
