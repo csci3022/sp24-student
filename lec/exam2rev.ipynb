{
 "cells": [
  {
   "cell_type": "code",
   "execution_count": 57,
   "metadata": {},
   "outputs": [],
   "source": [
    "import numpy as np\n",
    "import pandas as pd\n",
    "import seaborn as sns\n",
    "import matplotlib.pyplot as plots\n",
    "plots.style.use('fivethirtyeight')\n",
    "\n",
    "import matplotlib.pylab as plt\n",
    "%matplotlib inline\n",
    "\n",
    "from scipy import special\n",
    "\n",
    "from scipy import stats"
   ]
  },
  {
   "cell_type": "markdown",
   "metadata": {},
   "source": [
    "# Exam 2 Review Notebook\n",
    "\n",
    "# I). Hypothesis Tests:  Recap from Juptyer Notebook Lecture 21"
   ]
  },
  {
   "cell_type": "markdown",
   "metadata": {},
   "source": [
    "\n",
    "---\n",
    "\n",
    "## Super Soda Co and the Case of Bad Taste\n",
    "\n",
    "Manufacturers of Super Soda run a taste test and 91 out of 200 tasters prefer Super Soda over its rival.  The boss is upset!  He asks:\n",
    "\n",
    "    Do fewer people prefer Super Soda than its rival, or is this just chance?\n",
    "    \n",
    "You run a hypothesis test:\n",
    "\n",
    "* **Null Hypothesis:** Equal proportions of the population prefer Super Soda as Rival and any variability is due to chance.\n",
    "* **Alternative Hypothesis:** Fewer people in the population prefer Super Soda than its Rival.\n",
    "* **Test Statistic:** Number of people who prefer Super Soda  (Note:  could also use proportion of people who prefer Super Soda, or difference between number of people who prefer Super Soda and 100)\n"
   ]
  },
  {
   "cell_type": "markdown",
   "metadata": {},
   "source": [
    "You pick a **significance level (i.e. p-value cutoff) of 0.05**\n",
    "\n",
    "### Null Hypothesis Distribution:\n",
    "What probability distribution models our null hypothesis?  Plot a histogram of this distribution AND a red dot with the observed test statistic.\n"
   ]
  },
  {
   "cell_type": "code",
   "execution_count": 50,
   "metadata": {},
   "outputs": [
    {
     "data": {
      "image/png": "[encoded data removed]",
      "text/plain": [
       "<Figure size 432x288 with 1 Axes>"
      ]
     },
     "metadata": {
      "needs_background": "light"
     },
     "output_type": "display_data"
    }
   ],
   "source": [
    "# We can model the number of people who prefer Super Soda out of 200 using a binomial distribution.\n",
    "# Caveat:  Binomial distribution assumes we're sampling with replacement (it assumes independent Bernoulli trials)\n",
    "# though we're not taking our sample with replacement, our sample is small\n",
    "# compared to the total population (sample <10% of population size), so probabilities using replacement\n",
    "# vs not will be basically the same.  \n",
    "# Our null is that it's 50/50 (i.e. 50% of people like Super Soda)\n",
    "\n",
    "n=200\n",
    "k = np.arange(n+1)\n",
    "#Probability for a binomial distribution with p=0.50\n",
    "p = special.comb(n, k)*(0.50**k)*(0.50**(n-k))\n",
    "\n",
    "fig, ax = plt.subplots()\n",
    "\n",
    "ax.bar(k, p, width=1, ec='white');\n",
    "ax.set_axisbelow(True)\n",
    "ax.grid(alpha=0.25)\n",
    "plt.xlim(0,int(n*3/4))\n",
    "plt.title(\"Bin(n=\"+str(n)+\", p=0.50)\");\n",
    "plt.xlabel(\"Number of Heads out of \"+str(n))\n",
    "plt.ylabel(\"Percent per unit\")\n",
    "\n",
    "\n",
    "obs_stat=91\n",
    "\n",
    "#Add a dot for the observed statistic\n",
    "plt.scatter(obs_stat, -0.002, color='red', s=70);\n",
    "#Shade in the p-value   \n",
    "ax.bar(np.arange(n+1)[np.arange(n+1)<=obs_stat], p[np.arange(n+1)<=obs_stat], width=1, ec='white',alpha=0.6);\n",
    "\n"
   ]
  },
  {
   "cell_type": "markdown",
   "metadata": {},
   "source": [
    "### Theoretical P-Value"
   ]
  },
  {
   "cell_type": "code",
   "execution_count": 51,
   "metadata": {},
   "outputs": [
    {
     "data": {
      "text/plain": [
       "0.11462329862986695"
      ]
     },
     "execution_count": 51,
     "metadata": {},
     "output_type": "execute_result"
    }
   ],
   "source": [
    "#Since we have the theoretical probability distribution,\n",
    "#the p-value is just the sum of the probabilities for X<=91\n",
    "actual_p_val = sum(p[np.arange(n+1)<=obs_stat])\n",
    "\n",
    "actual_p_val\n"
   ]
  },
  {
   "cell_type": "markdown",
   "metadata": {},
   "source": [
    "## Conclusion of Test:\n",
    "\n",
    "Since 0.11>0.05, we **fail to reject** the null hypothesis that equal proportions of the population prefer Super Soda as Rival and any variability is due to chance."
   ]
  },
  {
   "cell_type": "markdown",
   "metadata": {},
   "source": [
    "\n",
    "---\n",
    "\n",
    "## Empirical P-Value:  The Importance of Number of Simulations.\n",
    "\n",
    "What if we didn't know the theoretical distribution?  How does the theoretical p-value compare to simulated p-values?  Suppose we're simulating the null hypothesis (instead of using the actual theoretical distribution).  Let's examine how the number of simulations we use affects how accurate our empirical p-value estimate is.\n"
   ]
  },
  {
   "cell_type": "code",
   "execution_count": 52,
   "metadata": {
    "scrolled": true
   },
   "outputs": [
    {
     "data": {
      "text/plain": [
       "101"
      ]
     },
     "execution_count": 52,
     "metadata": {},
     "output_type": "execute_result"
    }
   ],
   "source": [
    "#Simulate the number of heads when randomly flipping a fair coin 200 times\n",
    "\n",
    "def simulate_one_count(sample_size):\n",
    "    return np.count_nonzero(np.random.choice(['H', 'T'], sample_size) == 'H')\n",
    "simulate_one_count(200)"
   ]
  },
  {
   "cell_type": "markdown",
   "metadata": {},
   "source": [
    "## Changing the number of simulations"
   ]
  },
  {
   "cell_type": "code",
   "execution_count": 53,
   "metadata": {},
   "outputs": [
    {
     "name": "stdout",
     "output_type": "stream",
     "text": [
      "Actual (theoretical) p-value:  0.11462329862986695\n",
      "Empirical (simulated) p-value using 10000 simulations:  0.1159\n"
     ]
    }
   ],
   "source": [
    "# Keeping the observed test statistic fixed, \n",
    "# we can re-run the test with a new simulation under the null\n",
    "\n",
    "def run_test(num_simulations, sample_size):\n",
    "    counts=np.array([simulate_one_count(sample_size) for i in range(num_simulations)])\n",
    "    return counts\n",
    "\n",
    "counts = run_test(10000, 200)\n",
    "print(\"Actual (theoretical) p-value: \", actual_p_val)\n",
    "print(\"Empirical (simulated) p-value using 10000 simulations: \", np.count_nonzero(counts <= 91)/len(counts))\n",
    "\n"
   ]
  },
  {
   "cell_type": "code",
   "execution_count": 70,
   "metadata": {},
   "outputs": [
    {
     "data": {
      "text/html": [
       "<div>\n",
       "<style scoped>\n",
       "    .dataframe tbody tr th:only-of-type {\n",
       "        vertical-align: middle;\n",
       "    }\n",
       "\n",
       "    .dataframe tbody tr th {\n",
       "        vertical-align: top;\n",
       "    }\n",
       "\n",
       "    .dataframe thead th {\n",
       "        text-align: right;\n",
       "    }\n",
       "</style>\n",
       "<table border=\"1\" class=\"dataframe\">\n",
       "  <thead>\n",
       "    <tr style=\"text-align: right;\">\n",
       "      <th></th>\n",
       "      <th>simulations</th>\n",
       "      <th>empirical p-value for 91</th>\n",
       "    </tr>\n",
       "  </thead>\n",
       "  <tbody>\n",
       "    <tr>\n",
       "      <th>0</th>\n",
       "      <td>100.0</td>\n",
       "      <td>0.10000</td>\n",
       "    </tr>\n",
       "    <tr>\n",
       "      <th>1</th>\n",
       "      <td>100.0</td>\n",
       "      <td>0.10000</td>\n",
       "    </tr>\n",
       "    <tr>\n",
       "      <th>2</th>\n",
       "      <td>100.0</td>\n",
       "      <td>0.08000</td>\n",
       "    </tr>\n",
       "    <tr>\n",
       "      <th>3</th>\n",
       "      <td>100.0</td>\n",
       "      <td>0.11000</td>\n",
       "    </tr>\n",
       "    <tr>\n",
       "      <th>4</th>\n",
       "      <td>100.0</td>\n",
       "      <td>0.13000</td>\n",
       "    </tr>\n",
       "    <tr>\n",
       "      <th>...</th>\n",
       "      <td>...</td>\n",
       "      <td>...</td>\n",
       "    </tr>\n",
       "    <tr>\n",
       "      <th>195</th>\n",
       "      <td>50000.0</td>\n",
       "      <td>0.11310</td>\n",
       "    </tr>\n",
       "    <tr>\n",
       "      <th>196</th>\n",
       "      <td>50000.0</td>\n",
       "      <td>0.11612</td>\n",
       "    </tr>\n",
       "    <tr>\n",
       "      <th>197</th>\n",
       "      <td>50000.0</td>\n",
       "      <td>0.11266</td>\n",
       "    </tr>\n",
       "    <tr>\n",
       "      <th>198</th>\n",
       "      <td>50000.0</td>\n",
       "      <td>0.11398</td>\n",
       "    </tr>\n",
       "    <tr>\n",
       "      <th>199</th>\n",
       "      <td>50000.0</td>\n",
       "      <td>0.11490</td>\n",
       "    </tr>\n",
       "  </tbody>\n",
       "</table>\n",
       "<p>200 rows × 2 columns</p>\n",
       "</div>"
      ],
      "text/plain": [
       "     simulations  empirical p-value for 91\n",
       "0          100.0                   0.10000\n",
       "1          100.0                   0.10000\n",
       "2          100.0                   0.08000\n",
       "3          100.0                   0.11000\n",
       "4          100.0                   0.13000\n",
       "..           ...                       ...\n",
       "195      50000.0                   0.11310\n",
       "196      50000.0                   0.11612\n",
       "197      50000.0                   0.11266\n",
       "198      50000.0                   0.11398\n",
       "199      50000.0                   0.11490\n",
       "\n",
       "[200 rows x 2 columns]"
      ]
     },
     "execution_count": 70,
     "metadata": {},
     "output_type": "execute_result"
    }
   ],
   "source": [
    "# Let's see how the empirical p-value varies with the\n",
    "# number of siulations:  \n",
    "tests = pd.DataFrame(columns=['simulations', 'empirical p-value for 91'])\n",
    "    \n",
    "for num_sims in [100, 1000, 10000, 50000]:\n",
    "    for k in np.arange(50):\n",
    "        counts = run_test(num_sims, 200)\n",
    "        tests.loc[len(tests.index)] = [num_sims, np.count_nonzero(counts <= 91)/len(counts)] \n",
    " \n",
    "tests\n",
    "\n"
   ]
  },
  {
   "cell_type": "code",
   "execution_count": 71,
   "metadata": {},
   "outputs": [
    {
     "data": {
      "image/png": "[encoded data removed]",
      "text/plain": [
       "<Figure size 432x288 with 1 Axes>"
      ]
     },
     "metadata": {
      "needs_background": "light"
     },
     "output_type": "display_data"
    }
   ],
   "source": [
    "# For larger numbers of simulations, p-values are more consistent\n",
    "# Since a large number of simulations provides a good estimate of the\n",
    "# theoretical distribution of the test statistic under the null hypothesis:\n",
    "\n",
    "\n",
    "sns.histplot(data=tests, x=\"empirical p-value for 91\", hue=\"simulations\", palette =sns.color_palette(\"coolwarm\", as_cmap=True),  multiple=\"stack\",stat=\"density\")\n",
    "plt.scatter(actual_p_val, -0.002, color='red', s=70, label = 'actual theoretical p-value');"
   ]
  },
  {
   "cell_type": "markdown",
   "metadata": {},
   "source": [
    "## Analyzing Power of Test:\n",
    "\n",
    "\n",
    "### Definition:  The Power of a hypothesis test is the probability of correctly rejecting the null hypothesis when the alternative hypothesis is true.\n",
    "\n",
    "**Convention: We usually try to design hypothesis tests so that the power is at least 80%.**  \n",
    "Power is affected by \n",
    " - Significance level (p-value cutoff)\n",
    " - Sample size\n",
    " - Effect size\n",
    " \n",
    "Let's experiment with how these 3 factors can affect the power of the test: \n",
    "\n",
    "Suppose in reality the true proportion of people who prefer Super Soda is 45% (i.e. your null hypothesis is actually wrong).\n",
    "\n",
    "You don't know this, so your null hypothesis remains the same.  Let's look at how often we correctly reject the null in this case.\n",
    "\n",
    "* **Null Hypothesis:** Equal proportions of the population prefer Super Soda as Rival and any variability is due to chance.\n",
    "* **Alternative Hypothesis:** Fewer people in the population prefer Super Soda than its Rival.\n",
    "* **Test Statistic:** Number of people who prefer Super Soda\n"
   ]
  },
  {
   "cell_type": "code",
   "execution_count": 73,
   "metadata": {},
   "outputs": [
    {
     "data": {
      "text/plain": [
       "[0.45, 0.55]"
      ]
     },
     "execution_count": 73,
     "metadata": {},
     "output_type": "execute_result"
    }
   ],
   "source": [
    "# Suppose that the true proportion of people who prefer Super Soda is 45%\n",
    "true_proportion = 0.45\n",
    "true_distribution = [true_proportion, 1 - true_proportion]\n",
    "true_distribution"
   ]
  },
  {
   "cell_type": "code",
   "execution_count": 74,
   "metadata": {},
   "outputs": [
    {
     "data": {
      "text/plain": [
       "91"
      ]
     },
     "execution_count": 74,
     "metadata": {},
     "output_type": "execute_result"
    }
   ],
   "source": [
    "# Taste tests with 200 people will give various numbers of people who prefer Super Soda\n",
    "sample_size = 200\n",
    "\n",
    "np.random.binomial(sample_size, true_distribution).item(0)\n"
   ]
  },
  {
   "cell_type": "code",
   "execution_count": 75,
   "metadata": {},
   "outputs": [
    {
     "data": {
      "text/plain": [
       "('P-value from one experiment:', 0.6908)"
      ]
     },
     "execution_count": 75,
     "metadata": {},
     "output_type": "execute_result"
    }
   ],
   "source": [
    " \n",
    "# Suppose in the actual population, 45% of people like Super Soda\n",
    "# Let's run a taste test for 200 people, \n",
    "# and calculate the p-value:\n",
    "\n",
    "def run_experiment(num_simulations, sample_size, true_proportion):\n",
    "    # Collect data\n",
    "    true_distribution = [true_proportion, 1 - true_proportion]\n",
    "    taste_test_results = np.random.binomial(sample_size, true_distribution)\n",
    "    observed_stat_from_this_sample = taste_test_results.item(0)\n",
    "    \n",
    "    # Conduct hypothesis test\n",
    "    counts = run_test(num_simulations, sample_size)\n",
    "    p_value = np.count_nonzero(counts <= observed_stat_from_this_sample) / len(counts)\n",
    "    return p_value\n",
    "\n",
    "(\"P-value from one experiment:\", run_experiment(10000, 200, 0.45))"
   ]
  },
  {
   "cell_type": "code",
   "execution_count": 81,
   "metadata": {},
   "outputs": [
    {
     "data": {
      "text/plain": [
       "<matplotlib.legend.Legend at 0x7f99bc0e7df0>"
      ]
     },
     "execution_count": 81,
     "metadata": {},
     "output_type": "execute_result"
    },
    {
     "data": {
      "image/png": "[encoded data removed]",
      "text/plain": [
       "<Figure size 432x288 with 1 Axes>"
      ]
     },
     "metadata": {
      "needs_background": "light"
     },
     "output_type": "display_data"
    }
   ],
   "source": [
    "# Let's imagine running our taste test over and over again to see how often \n",
    "# we correctly reject the null:\n",
    "\n",
    "true_proportion = 0.45\n",
    "sample_size = 200\n",
    "\n",
    "p_values=np.array([run_experiment(10000,sample_size,true_proportion) for i in range(1000)])\n",
    "\n",
    "fig, ax = plt.subplots()\n",
    " \n",
    "ax.hist(p_values,bins=np.arange(0,1, .05));\n",
    "ax.hist(p_values[p_values<=0.05],bins=1,label=\"Power: \"+str(100*np.mean(p_values <= 0.05))+\"% of tests correctly reject null\")\n",
    "ax.set_axisbelow(True)\n",
    "ax.grid(alpha=0.25)\n",
    "plt.title(\"Sample Size:\"+str(sample_size)+\",Null:p=0.5, Alt:p=\"+str(true_proportion));\n",
    "plt.xlabel(\"p-values\")\n",
    "plt.ylabel(\"Frequency\")\n",
    "plt.legend()\n",
    "\n"
   ]
  },
  {
   "cell_type": "markdown",
   "metadata": {},
   "source": [
    "### Determining Sample Size for Power of 80%:\n",
    "#### If the true proportion of people who like Super Soda is 0.45, what Sample Size do we need to use to correctly reject our null hypothesis (that the proportion is 0.5) at least 80% of the time?  (i.e. what sample size do we need to get a Power of at least 80%)?"
   ]
  },
  {
   "cell_type": "code",
   "execution_count": 79,
   "metadata": {},
   "outputs": [
    {
     "data": {
      "text/plain": [
       "<matplotlib.legend.Legend at 0x7f998c241d00>"
      ]
     },
     "execution_count": 79,
     "metadata": {},
     "output_type": "execute_result"
    },
    {
     "data": {
      "image/png": "[encoded data removed]",
      "text/plain": [
       "<Figure size 432x288 with 1 Axes>"
      ]
     },
     "metadata": {
      "needs_background": "light"
     },
     "output_type": "display_data"
    }
   ],
   "source": [
    "true_proportion = 0.45\n",
    "\n",
    "sample_size = 400\n",
    "\n",
    "p_values=np.array([run_experiment(10000,sample_size,true_proportion) for i in range(1000)])\n",
    "\n",
    "fig, ax = plt.subplots()\n",
    " \n",
    "ax.hist(p_values,bins=np.arange(0,1, .05));\n",
    "ax.hist(p_values[p_values<=0.05],bins=1,label=\"Power: \"+str(100*np.mean(p_values <= 0.05))+\"% of tests correctly reject null\")\n",
    "ax.set_axisbelow(True)\n",
    "ax.grid(alpha=0.25)\n",
    "plt.title(\"Sample Size:\"+str(sample_size)+\",Null:p=0.5, Alt:p=\"+str(true_proportion));\n",
    "plt.xlabel(\"p-values\")\n",
    "plt.ylabel(\"Frequency\")\n",
    "plt.legend()\n",
    "\n"
   ]
  },
  {
   "cell_type": "code",
   "execution_count": 80,
   "metadata": {},
   "outputs": [
    {
     "data": {
      "text/plain": [
       "<matplotlib.legend.Legend at 0x7f998c398550>"
      ]
     },
     "execution_count": 80,
     "metadata": {},
     "output_type": "execute_result"
    },
    {
     "data": {
      "image/png": "[encoded data removed]",
      "text/plain": [
       "<Figure size 432x288 with 1 Axes>"
      ]
     },
     "metadata": {
      "needs_background": "light"
     },
     "output_type": "display_data"
    }
   ],
   "source": [
    "true_proportion = 0.45\n",
    "\n",
    "sample_size = 600\n",
    "\n",
    "p_values=np.array([run_experiment(10000,sample_size,true_proportion) for i in range(1000)])\n",
    "\n",
    "fig, ax = plt.subplots()\n",
    " \n",
    "ax.hist(p_values,bins=np.arange(0,1, .05));\n",
    "ax.hist(p_values[p_values<=0.05],bins=1,label=\"Power: \"+str(100*np.mean(p_values <= 0.05))+\"% of tests correctly reject null\")\n",
    "ax.set_axisbelow(True)\n",
    "ax.grid(alpha=0.25)\n",
    "plt.title(\"Sample Size:\"+str(sample_size)+\",Null:p=0.5, Alt:p=\"+str(true_proportion));\n",
    "plt.xlabel(\"p-values\")\n",
    "plt.ylabel(\"Frequency\")\n",
    "plt.legend()\n"
   ]
  },
  {
   "cell_type": "code",
   "execution_count": null,
   "metadata": {},
   "outputs": [],
   "source": []
  },
  {
   "cell_type": "markdown",
   "metadata": {},
   "source": [
    "### Effect Size:\n",
    "**Effect Size**:  The difference between the true proportion and the null hypothesis proportion.\n",
    "#### Experiment with different effect sizes.  How does the power of the test change as you change the effect size ?"
   ]
  },
  {
   "cell_type": "code",
   "execution_count": 78,
   "metadata": {},
   "outputs": [
    {
     "data": {
      "text/plain": [
       "<matplotlib.legend.Legend at 0x7fd6a0239100>"
      ]
     },
     "execution_count": 78,
     "metadata": {},
     "output_type": "execute_result"
    },
    {
     "data": {
      "image/png": "[encoded data removed]",
      "text/plain": [
       "<Figure size 432x288 with 1 Axes>"
      ]
     },
     "metadata": {},
     "output_type": "display_data"
    }
   ],
   "source": [
    "true_proportion = .48\n",
    "sample_size = 200\n",
    "\n",
    "p_values=np.array([run_experiment(1000,sample_size,true_proportion) for i in range(100)])\n",
    "\n",
    "fig, ax = plt.subplots()\n",
    " \n",
    "ax.hist(p_values,bins=np.arange(0,1, .05));\n",
    "ax.hist(p_values[p_values<=0.05],bins=1,label=\"Power: \"+str(100*np.mean(p_values <= 0.05))+\"% of tests correctly reject null\")\n",
    "ax.set_axisbelow(True)\n",
    "ax.grid(alpha=0.25)\n",
    "plt.title(\"Sample Size:\"+str(sample_size)+\",Null:p=0.5, Alt:p=\"+str(true_proportion));\n",
    "plt.xlabel(\"p-values\")\n",
    "plt.ylabel(\"Frequency\")\n",
    "plt.legend()\n",
    "\n"
   ]
  },
  {
   "cell_type": "markdown",
   "metadata": {},
   "source": [
    "Making the effect size larger and keeping the same sample size the same (200) leads to a larger power of the test (we're more likely to be able to correctly reject the null). \n",
    "Similarly, if we decrease the effect size, we will need a larger sample size to keep the same level of power. "
   ]
  },
  {
   "cell_type": "code",
   "execution_count": null,
   "metadata": {},
   "outputs": [],
   "source": []
  },
  {
   "cell_type": "markdown",
   "metadata": {},
   "source": [
    "## Hypothesis Testing Ex: The TA's Defense ##"
   ]
  },
  {
   "cell_type": "code",
   "execution_count": 17,
   "metadata": {
    "scrolled": true
   },
   "outputs": [
    {
     "data": {
      "text/html": [
       "<div>\n",
       "<style scoped>\n",
       "    .dataframe tbody tr th:only-of-type {\n",
       "        vertical-align: middle;\n",
       "    }\n",
       "\n",
       "    .dataframe tbody tr th {\n",
       "        vertical-align: top;\n",
       "    }\n",
       "\n",
       "    .dataframe thead th {\n",
       "        text-align: right;\n",
       "    }\n",
       "</style>\n",
       "<table border=\"1\" class=\"dataframe\">\n",
       "  <thead>\n",
       "    <tr style=\"text-align: right;\">\n",
       "      <th></th>\n",
       "      <th>Section</th>\n",
       "      <th>Midterm</th>\n",
       "    </tr>\n",
       "  </thead>\n",
       "  <tbody>\n",
       "    <tr>\n",
       "      <th>0</th>\n",
       "      <td>1</td>\n",
       "      <td>22</td>\n",
       "    </tr>\n",
       "    <tr>\n",
       "      <th>1</th>\n",
       "      <td>2</td>\n",
       "      <td>12</td>\n",
       "    </tr>\n",
       "    <tr>\n",
       "      <th>2</th>\n",
       "      <td>2</td>\n",
       "      <td>23</td>\n",
       "    </tr>\n",
       "    <tr>\n",
       "      <th>3</th>\n",
       "      <td>2</td>\n",
       "      <td>14</td>\n",
       "    </tr>\n",
       "    <tr>\n",
       "      <th>4</th>\n",
       "      <td>1</td>\n",
       "      <td>20</td>\n",
       "    </tr>\n",
       "    <tr>\n",
       "      <th>...</th>\n",
       "      <td>...</td>\n",
       "      <td>...</td>\n",
       "    </tr>\n",
       "    <tr>\n",
       "      <th>354</th>\n",
       "      <td>5</td>\n",
       "      <td>24</td>\n",
       "    </tr>\n",
       "    <tr>\n",
       "      <th>355</th>\n",
       "      <td>2</td>\n",
       "      <td>16</td>\n",
       "    </tr>\n",
       "    <tr>\n",
       "      <th>356</th>\n",
       "      <td>2</td>\n",
       "      <td>17</td>\n",
       "    </tr>\n",
       "    <tr>\n",
       "      <th>357</th>\n",
       "      <td>12</td>\n",
       "      <td>16</td>\n",
       "    </tr>\n",
       "    <tr>\n",
       "      <th>358</th>\n",
       "      <td>10</td>\n",
       "      <td>14</td>\n",
       "    </tr>\n",
       "  </tbody>\n",
       "</table>\n",
       "<p>359 rows × 2 columns</p>\n",
       "</div>"
      ],
      "text/plain": [
       "     Section  Midterm\n",
       "0          1       22\n",
       "1          2       12\n",
       "2          2       23\n",
       "3          2       14\n",
       "4          1       20\n",
       "..       ...      ...\n",
       "354        5       24\n",
       "355        2       16\n",
       "356        2       17\n",
       "357       12       16\n",
       "358       10       14\n",
       "\n",
       "[359 rows x 2 columns]"
      ]
     },
     "execution_count": 17,
     "metadata": {},
     "output_type": "execute_result"
    }
   ],
   "source": [
    "scores = pd.read_csv('scores_by_section.csv')\n",
    "scores"
   ]
  },
  {
   "cell_type": "code",
   "execution_count": 18,
   "metadata": {},
   "outputs": [
    {
     "data": {
      "text/html": [
       "<div>\n",
       "<style scoped>\n",
       "    .dataframe tbody tr th:only-of-type {\n",
       "        vertical-align: middle;\n",
       "    }\n",
       "\n",
       "    .dataframe tbody tr th {\n",
       "        vertical-align: top;\n",
       "    }\n",
       "\n",
       "    .dataframe thead th {\n",
       "        text-align: right;\n",
       "    }\n",
       "</style>\n",
       "<table border=\"1\" class=\"dataframe\">\n",
       "  <thead>\n",
       "    <tr style=\"text-align: right;\">\n",
       "      <th></th>\n",
       "      <th>Midterm</th>\n",
       "    </tr>\n",
       "    <tr>\n",
       "      <th>Section</th>\n",
       "      <th></th>\n",
       "    </tr>\n",
       "  </thead>\n",
       "  <tbody>\n",
       "    <tr>\n",
       "      <th>1</th>\n",
       "      <td>32</td>\n",
       "    </tr>\n",
       "    <tr>\n",
       "      <th>2</th>\n",
       "      <td>32</td>\n",
       "    </tr>\n",
       "    <tr>\n",
       "      <th>3</th>\n",
       "      <td>27</td>\n",
       "    </tr>\n",
       "    <tr>\n",
       "      <th>4</th>\n",
       "      <td>30</td>\n",
       "    </tr>\n",
       "    <tr>\n",
       "      <th>5</th>\n",
       "      <td>33</td>\n",
       "    </tr>\n",
       "    <tr>\n",
       "      <th>6</th>\n",
       "      <td>32</td>\n",
       "    </tr>\n",
       "    <tr>\n",
       "      <th>7</th>\n",
       "      <td>24</td>\n",
       "    </tr>\n",
       "    <tr>\n",
       "      <th>8</th>\n",
       "      <td>29</td>\n",
       "    </tr>\n",
       "    <tr>\n",
       "      <th>9</th>\n",
       "      <td>30</td>\n",
       "    </tr>\n",
       "    <tr>\n",
       "      <th>10</th>\n",
       "      <td>34</td>\n",
       "    </tr>\n",
       "    <tr>\n",
       "      <th>11</th>\n",
       "      <td>26</td>\n",
       "    </tr>\n",
       "    <tr>\n",
       "      <th>12</th>\n",
       "      <td>30</td>\n",
       "    </tr>\n",
       "  </tbody>\n",
       "</table>\n",
       "</div>"
      ],
      "text/plain": [
       "         Midterm\n",
       "Section         \n",
       "1             32\n",
       "2             32\n",
       "3             27\n",
       "4             30\n",
       "5             33\n",
       "6             32\n",
       "7             24\n",
       "8             29\n",
       "9             30\n",
       "10            34\n",
       "11            26\n",
       "12            30"
      ]
     },
     "execution_count": 18,
     "metadata": {},
     "output_type": "execute_result"
    }
   ],
   "source": [
    "scores.groupby(\"Section\").count()"
   ]
  },
  {
   "cell_type": "code",
   "execution_count": 19,
   "metadata": {},
   "outputs": [
    {
     "data": {
      "text/html": [
       "<div>\n",
       "<style scoped>\n",
       "    .dataframe tbody tr th:only-of-type {\n",
       "        vertical-align: middle;\n",
       "    }\n",
       "\n",
       "    .dataframe tbody tr th {\n",
       "        vertical-align: top;\n",
       "    }\n",
       "\n",
       "    .dataframe thead tr th {\n",
       "        text-align: left;\n",
       "    }\n",
       "\n",
       "    .dataframe thead tr:last-of-type th {\n",
       "        text-align: right;\n",
       "    }\n",
       "</style>\n",
       "<table border=\"1\" class=\"dataframe\">\n",
       "  <thead>\n",
       "    <tr>\n",
       "      <th></th>\n",
       "      <th colspan=\"2\" halign=\"left\">Midterm</th>\n",
       "    </tr>\n",
       "    <tr>\n",
       "      <th></th>\n",
       "      <th>student count</th>\n",
       "      <th>mean</th>\n",
       "    </tr>\n",
       "    <tr>\n",
       "      <th>Section</th>\n",
       "      <th></th>\n",
       "      <th></th>\n",
       "    </tr>\n",
       "  </thead>\n",
       "  <tbody>\n",
       "    <tr>\n",
       "      <th>1</th>\n",
       "      <td>32</td>\n",
       "      <td>15.593750</td>\n",
       "    </tr>\n",
       "    <tr>\n",
       "      <th>2</th>\n",
       "      <td>32</td>\n",
       "      <td>15.125000</td>\n",
       "    </tr>\n",
       "    <tr>\n",
       "      <th>3</th>\n",
       "      <td>27</td>\n",
       "      <td>13.666667</td>\n",
       "    </tr>\n",
       "    <tr>\n",
       "      <th>4</th>\n",
       "      <td>30</td>\n",
       "      <td>14.766667</td>\n",
       "    </tr>\n",
       "    <tr>\n",
       "      <th>5</th>\n",
       "      <td>33</td>\n",
       "      <td>17.454545</td>\n",
       "    </tr>\n",
       "    <tr>\n",
       "      <th>6</th>\n",
       "      <td>32</td>\n",
       "      <td>15.031250</td>\n",
       "    </tr>\n",
       "    <tr>\n",
       "      <th>7</th>\n",
       "      <td>24</td>\n",
       "      <td>16.625000</td>\n",
       "    </tr>\n",
       "    <tr>\n",
       "      <th>8</th>\n",
       "      <td>29</td>\n",
       "      <td>16.310345</td>\n",
       "    </tr>\n",
       "    <tr>\n",
       "      <th>9</th>\n",
       "      <td>30</td>\n",
       "      <td>14.566667</td>\n",
       "    </tr>\n",
       "    <tr>\n",
       "      <th>10</th>\n",
       "      <td>34</td>\n",
       "      <td>15.235294</td>\n",
       "    </tr>\n",
       "    <tr>\n",
       "      <th>11</th>\n",
       "      <td>26</td>\n",
       "      <td>15.807692</td>\n",
       "    </tr>\n",
       "    <tr>\n",
       "      <th>12</th>\n",
       "      <td>30</td>\n",
       "      <td>15.733333</td>\n",
       "    </tr>\n",
       "  </tbody>\n",
       "</table>\n",
       "</div>"
      ],
      "text/plain": [
       "              Midterm           \n",
       "        student count       mean\n",
       "Section                         \n",
       "1                  32  15.593750\n",
       "2                  32  15.125000\n",
       "3                  27  13.666667\n",
       "4                  30  14.766667\n",
       "5                  33  17.454545\n",
       "6                  32  15.031250\n",
       "7                  24  16.625000\n",
       "8                  29  16.310345\n",
       "9                  30  14.566667\n",
       "10                 34  15.235294\n",
       "11                 26  15.807692\n",
       "12                 30  15.733333"
      ]
     },
     "execution_count": 19,
     "metadata": {},
     "output_type": "execute_result"
    }
   ],
   "source": [
    "scores.groupby(\"Section\").agg({\"Midterm\":[\"count\", \"mean\"]}).rename(columns={\"count\":\"student count\"})"
   ]
  },
  {
   "cell_type": "code",
   "execution_count": 9,
   "metadata": {},
   "outputs": [],
   "source": [
    "observed_test_stat = 13.6667 "
   ]
  },
  {
   "cell_type": "code",
   "execution_count": 10,
   "metadata": {},
   "outputs": [
    {
     "data": {
      "text/plain": [
       "15.493036211699165"
      ]
     },
     "execution_count": 10,
     "metadata": {},
     "output_type": "execute_result"
    }
   ],
   "source": [
    "scores[\"Midterm\"].mean()"
   ]
  },
  {
   "cell_type": "code",
   "execution_count": 20,
   "metadata": {},
   "outputs": [],
   "source": [
    "# Simulate one value of the test statistic \n",
    "# under the hypothesis that the section is like a random sample from the class\n",
    "\n",
    "def random_sample_midterm_avg():\n",
    "    random_sample = scores.sample(27, replace=True)\n",
    "    return random_sample['Midterm'].mean()"
   ]
  },
  {
   "cell_type": "code",
   "execution_count": 33,
   "metadata": {},
   "outputs": [],
   "source": [
    "# Simulate 10,000 copies of the test statistic\n",
    "\n",
    "\n",
    "num_sim=10000\n",
    "\n",
    "sample_averages = np.array([random_sample_midterm_avg() for i in range(num_sim)])\n",
    "\n",
    "\n"
   ]
  },
  {
   "cell_type": "code",
   "execution_count": 34,
   "metadata": {
    "scrolled": true
   },
   "outputs": [
    {
     "data": {
      "image/png": "[encoded data removed]",
      "text/plain": [
       "<Figure size 432x288 with 1 Axes>"
      ]
     },
     "metadata": {
      "needs_background": "light"
     },
     "output_type": "display_data"
    }
   ],
   "source": [
    "# Compare the simulated distribution of the statistic\n",
    "# and the actual observed statistic\n",
    "\n",
    "plt.hist(sample_averages, density=True);\n",
    "\n",
    "plots.scatter(observed_test_stat, -0.01, color='red', s=120);"
   ]
  },
  {
   "cell_type": "markdown",
   "metadata": {},
   "source": [
    "## Calculating empirical p-value"
   ]
  },
  {
   "cell_type": "code",
   "execution_count": 35,
   "metadata": {},
   "outputs": [
    {
     "data": {
      "text/plain": [
       "0.065"
      ]
     },
     "execution_count": 35,
     "metadata": {},
     "output_type": "execute_result"
    }
   ],
   "source": [
    "# (1) Calculate the p-value: simulation area beyond observed value\n",
    "sum(sample_averages <= observed_average) / num_sim\n",
    "# (2) See if this is less than your predetermined significance level. "
   ]
  },
  {
   "cell_type": "markdown",
   "metadata": {},
   "source": [
    "## Conclusion:  \n",
    "..."
   ]
  },
  {
   "cell_type": "markdown",
   "metadata": {},
   "source": [
    "## Approximate Calculation For Previous Ex Using CLT:\n",
    "\n",
    "Notice in the simulated sample mean distribution above the distribution looks very close to a normal distribution.   \n",
    "\n",
    "For the CLT to apply we look for $n \\geq 30$, however we can see from our simulation above that the distribution looks approximately normal for $n=27$, so we can use the CLT in this case.\n",
    "\n",
    "Since we are looking at a sample of 27 students out of a population of 358 students (i.e. our sample is less than 10% of our population size), we can treat our random sample without replacement as if it were a random sample with replacement (the probabilities will be very close).  \n",
    "\n",
    "\n",
    "Thus, by the Central Limit Theorem, the sample mean is normally distributed.  In particular:\n",
    "\n",
    "By the CLT, $$\\bar{X}_{27} \\sim N(\\mu, \\sigma^2/27)$$ where $\\mu = $ pop mean = `scores[\"Midterm\"].mean()`   and                    \n",
    "\n",
    "$\\sigma = $ pop_std = `np.std(pop_std=scores[\"Midterm\"])`\n",
    "\n",
    "\n",
    "Thus \n",
    "\n",
    "p-value =   $P(\\bar{X}_{27}<=13.667)$ = `stats.norm.cdf(13.667,pop_mean, pop_std/np.sqrt(27))`\n"
   ]
  },
  {
   "cell_type": "code",
   "execution_count": 26,
   "metadata": {},
   "outputs": [],
   "source": [
    "pop_mean=scores[\"Midterm\"].mean()"
   ]
  },
  {
   "cell_type": "code",
   "execution_count": 24,
   "metadata": {},
   "outputs": [],
   "source": [
    "pop_std=np.std(scores[\"Midterm\"])"
   ]
  },
  {
   "cell_type": "code",
   "execution_count": 27,
   "metadata": {},
   "outputs": [
    {
     "data": {
      "text/plain": [
       "0.059094075271088536"
      ]
     },
     "execution_count": 27,
     "metadata": {},
     "output_type": "execute_result"
    }
   ],
   "source": [
    "stats.norm.cdf(13.667,pop_mean, pop_std/np.sqrt(27))"
   ]
  },
  {
   "cell_type": "markdown",
   "metadata": {},
   "source": [
    "Again, since $p= 0.059> 0.01$, we **FAIL TO REJECT** the null hypothesis that any difference in scores for section 3 was just due to random chance"
   ]
  },
  {
   "cell_type": "markdown",
   "metadata": {
    "collapsed": true
   },
   "source": [
    "## Review: Alameda County Jury Panels ##"
   ]
  },
  {
   "cell_type": "code",
   "execution_count": 8,
   "metadata": {},
   "outputs": [
    {
     "data": {
      "text/html": [
       "<div>\n",
       "<style scoped>\n",
       "    .dataframe tbody tr th:only-of-type {\n",
       "        vertical-align: middle;\n",
       "    }\n",
       "\n",
       "    .dataframe tbody tr th {\n",
       "        vertical-align: top;\n",
       "    }\n",
       "\n",
       "    .dataframe thead th {\n",
       "        text-align: right;\n",
       "    }\n",
       "</style>\n",
       "<table border=\"1\" class=\"dataframe\">\n",
       "  <thead>\n",
       "    <tr style=\"text-align: right;\">\n",
       "      <th></th>\n",
       "      <th>Eligible</th>\n",
       "      <th>Panels</th>\n",
       "    </tr>\n",
       "  </thead>\n",
       "  <tbody>\n",
       "    <tr>\n",
       "      <th>Asian</th>\n",
       "      <td>0.15</td>\n",
       "      <td>0.26</td>\n",
       "    </tr>\n",
       "    <tr>\n",
       "      <th>Black</th>\n",
       "      <td>0.18</td>\n",
       "      <td>0.08</td>\n",
       "    </tr>\n",
       "    <tr>\n",
       "      <th>Latino</th>\n",
       "      <td>0.12</td>\n",
       "      <td>0.08</td>\n",
       "    </tr>\n",
       "    <tr>\n",
       "      <th>White</th>\n",
       "      <td>0.54</td>\n",
       "      <td>0.54</td>\n",
       "    </tr>\n",
       "    <tr>\n",
       "      <th>Other</th>\n",
       "      <td>0.01</td>\n",
       "      <td>0.04</td>\n",
       "    </tr>\n",
       "  </tbody>\n",
       "</table>\n",
       "</div>"
      ],
      "text/plain": [
       "        Eligible  Panels\n",
       "Asian       0.15    0.26\n",
       "Black       0.18    0.08\n",
       "Latino      0.12    0.08\n",
       "White       0.54    0.54\n",
       "Other       0.01    0.04"
      ]
     },
     "execution_count": 8,
     "metadata": {},
     "output_type": "execute_result"
    }
   ],
   "source": [
    "eth =['Asian', 'Black', 'Latino', 'White', 'Other']\n",
    "\n",
    "jury = pd.DataFrame(\n",
    "    {       \n",
    "        'Eligible': [0.15, 0.18, 0.12, 0.54, 0.01],\n",
    "         'Panels': [0.26, 0.08, 0.08, 0.54, 0.04]\n",
    "        \n",
    "    }, index = eth\n",
    ")\n",
    "\n",
    "jury"
   ]
  },
  {
   "cell_type": "code",
   "execution_count": 3,
   "metadata": {},
   "outputs": [
    {
     "data": {
      "image/png": "[encoded data removed]",
      "text/plain": [
       "<Figure size 432x288 with 1 Axes>"
      ]
     },
     "metadata": {
      "needs_background": "light"
     },
     "output_type": "display_data"
    }
   ],
   "source": [
    "jury.plot.barh();"
   ]
  },
  {
   "cell_type": "code",
   "execution_count": 9,
   "metadata": {},
   "outputs": [],
   "source": [
    "#Make an array with the eligible proportions assumed under the null hypothesis\n",
    "\n",
    "null_hyp=np.array([0.15, 0.18, 0.12, 0.54, 0.01])"
   ]
  },
  {
   "cell_type": "code",
   "execution_count": 10,
   "metadata": {},
   "outputs": [
    {
     "name": "stdout",
     "output_type": "stream",
     "text": [
      "[192 259 169 791  12]\n",
      "[0.13492621 0.18200984 0.11876318 0.55586788 0.00843289]\n"
     ]
    }
   ],
   "source": [
    "# Simulate a draw of size N assuming the null hypothesis:\n",
    "\n",
    "\n",
    "N=1423  #from the ACLU report\n",
    "simulated = np.random.multinomial(N, null_hyp)\n",
    "\n",
    "simulated_proportions = simulated/N\n",
    "\n",
    "print(simulated)\n",
    "print(simulated_proportions)"
   ]
  },
  {
   "cell_type": "code",
   "execution_count": 11,
   "metadata": {},
   "outputs": [
    {
     "name": "stdout",
     "output_type": "stream",
     "text": [
      "        Eligible  Panels  Simulated\n",
      "Asian       0.15    0.26   0.134926\n",
      "Black       0.18    0.08   0.182010\n",
      "Latino      0.12    0.08   0.118763\n",
      "White       0.54    0.54   0.555868\n",
      "Other       0.01    0.04   0.008433\n"
     ]
    },
    {
     "data": {
      "text/plain": [
       "<AxesSubplot:>"
      ]
     },
     "execution_count": 11,
     "metadata": {},
     "output_type": "execute_result"
    },
    {
     "data": {
      "image/png": "[encoded data removed]",
      "text/plain": [
       "<Figure size 432x288 with 1 Axes>"
      ]
     },
     "metadata": {
      "needs_background": "light"
     },
     "output_type": "display_data"
    }
   ],
   "source": [
    "# The actual observed distribution (Panels) looks quite different\n",
    "# from the simulation -- try running this several times to confirm!\n",
    "jury_with_simulated=jury.copy()\n",
    "jury_with_simulated[\"Simulated\"]=simulated_proportions\n",
    "\n",
    "print(jury_with_simulated)\n",
    "\n",
    "jury_with_simulated.plot.barh()"
   ]
  },
  {
   "cell_type": "markdown",
   "metadata": {},
   "source": [
    "## Distance Between Distributions"
   ]
  },
  {
   "cell_type": "code",
   "execution_count": 12,
   "metadata": {},
   "outputs": [
    {
     "data": {
      "text/html": [
       "<div>\n",
       "<style scoped>\n",
       "    .dataframe tbody tr th:only-of-type {\n",
       "        vertical-align: middle;\n",
       "    }\n",
       "\n",
       "    .dataframe tbody tr th {\n",
       "        vertical-align: top;\n",
       "    }\n",
       "\n",
       "    .dataframe thead th {\n",
       "        text-align: right;\n",
       "    }\n",
       "</style>\n",
       "<table border=\"1\" class=\"dataframe\">\n",
       "  <thead>\n",
       "    <tr style=\"text-align: right;\">\n",
       "      <th></th>\n",
       "      <th>Eligible</th>\n",
       "      <th>Panels</th>\n",
       "      <th>Difference</th>\n",
       "    </tr>\n",
       "  </thead>\n",
       "  <tbody>\n",
       "    <tr>\n",
       "      <th>Asian</th>\n",
       "      <td>0.15</td>\n",
       "      <td>0.26</td>\n",
       "      <td>0.11</td>\n",
       "    </tr>\n",
       "    <tr>\n",
       "      <th>Black</th>\n",
       "      <td>0.18</td>\n",
       "      <td>0.08</td>\n",
       "      <td>-0.10</td>\n",
       "    </tr>\n",
       "    <tr>\n",
       "      <th>Latino</th>\n",
       "      <td>0.12</td>\n",
       "      <td>0.08</td>\n",
       "      <td>-0.04</td>\n",
       "    </tr>\n",
       "    <tr>\n",
       "      <th>White</th>\n",
       "      <td>0.54</td>\n",
       "      <td>0.54</td>\n",
       "      <td>0.00</td>\n",
       "    </tr>\n",
       "    <tr>\n",
       "      <th>Other</th>\n",
       "      <td>0.01</td>\n",
       "      <td>0.04</td>\n",
       "      <td>0.03</td>\n",
       "    </tr>\n",
       "  </tbody>\n",
       "</table>\n",
       "</div>"
      ],
      "text/plain": [
       "        Eligible  Panels  Difference\n",
       "Asian       0.15    0.26        0.11\n",
       "Black       0.18    0.08       -0.10\n",
       "Latino      0.12    0.08       -0.04\n",
       "White       0.54    0.54        0.00\n",
       "Other       0.01    0.04        0.03"
      ]
     },
     "execution_count": 12,
     "metadata": {},
     "output_type": "execute_result"
    }
   ],
   "source": [
    "\n",
    "# In this case, we need to understand how each of the 5 categories\n",
    "# differ from their expected values according to the model\n",
    "\n",
    "jury_with_difference=jury.copy()\n",
    "jury_with_difference[\"Difference\"]=jury[\"Panels\"]-jury[\"Eligible\"]\n",
    "jury_with_difference"
   ]
  },
  {
   "cell_type": "markdown",
   "metadata": {},
   "source": [
    "## Total Variation Distance"
   ]
  },
  {
   "cell_type": "code",
   "execution_count": 13,
   "metadata": {},
   "outputs": [],
   "source": [
    "# This was the statistic we chose\n",
    "def tvd(dist1, dist2):\n",
    "    return sum(abs(dist1 - dist2))/2"
   ]
  },
  {
   "cell_type": "code",
   "execution_count": 10,
   "metadata": {},
   "outputs": [
    {
     "data": {
      "text/plain": [
       "2.7755575615628915e-18"
      ]
     },
     "execution_count": 10,
     "metadata": {},
     "output_type": "execute_result"
    }
   ],
   "source": [
    "np.mean(jury['Panels']-null_hyp)/2"
   ]
  },
  {
   "cell_type": "code",
   "execution_count": 14,
   "metadata": {},
   "outputs": [
    {
     "data": {
      "text/plain": [
       "0.14"
      ]
     },
     "execution_count": 14,
     "metadata": {},
     "output_type": "execute_result"
    }
   ],
   "source": [
    "# The TVD of our observed data (Panels) from their expected values\n",
    "# assuming the model is true \n",
    "obsvd_tvd = tvd(jury['Panels'],null_hyp)\n",
    "obsvd_tvd"
   ]
  },
  {
   "cell_type": "code",
   "execution_count": 15,
   "metadata": {},
   "outputs": [
    {
     "data": {
      "text/plain": [
       "0.01022487702037951"
      ]
     },
     "execution_count": 15,
     "metadata": {},
     "output_type": "execute_result"
    }
   ],
   "source": [
    "# The TVD of a model simluation from its expected values\n",
    "tvd(np.random.multinomial(N, null_hyp)/N, null_hyp)"
   ]
  },
  {
   "cell_type": "code",
   "execution_count": 16,
   "metadata": {},
   "outputs": [
    {
     "data": {
      "text/plain": [
       "Text(0, 0.5, 'Percent per unit')"
      ]
     },
     "execution_count": 16,
     "metadata": {},
     "output_type": "execute_result"
    },
    {
     "data": {
      "image/png": "[encoded data removed]",
      "text/plain": [
       "<Figure size 432x288 with 1 Axes>"
      ]
     },
     "metadata": {
      "needs_background": "light"
     },
     "output_type": "display_data"
    }
   ],
   "source": [
    "def simulated_tvd():\n",
    "    return tvd(np.random.multinomial(N, null_hyp)/N, null_hyp)\n",
    "\n",
    "\n",
    "num_simulations = 50000\n",
    "\n",
    "tvds = np.array([simulated_tvd() for i in range(num_simulations)])\n",
    "\n",
    "\n",
    "plt.hist(tvds, density=True);  \n",
    "plt.xlabel(\"Total Distance Variation\")\n",
    "plt.ylabel(\"Percent per unit\")\n",
    "    "
   ]
  },
  {
   "cell_type": "code",
   "execution_count": 17,
   "metadata": {},
   "outputs": [
    {
     "data": {
      "text/plain": [
       "<matplotlib.collections.PathCollection at 0x7fca7aaaf790>"
      ]
     },
     "execution_count": 17,
     "metadata": {},
     "output_type": "execute_result"
    },
    {
     "data": {
      "image/png": "[encoded data removed]",
      "text/plain": [
       "<Figure size 432x288 with 1 Axes>"
      ]
     },
     "metadata": {
      "needs_background": "light"
     },
     "output_type": "display_data"
    }
   ],
   "source": [
    "# Add the observed test statistic to the plot:\n",
    "plt.hist(tvds, density=True);  \n",
    "plt.xlabel(\"Total Distance Variation\")\n",
    "plt.ylabel(\"Percent per unit\")\n",
    "\n",
    "    \n",
    "plt.scatter(obsvd_tvd, -.001, color=\"red\", s=40)\n",
    "\n",
    "\n"
   ]
  },
  {
   "cell_type": "code",
   "execution_count": 18,
   "metadata": {},
   "outputs": [
    {
     "data": {
      "text/plain": [
       "0.0"
      ]
     },
     "execution_count": 18,
     "metadata": {},
     "output_type": "execute_result"
    }
   ],
   "source": [
    "\n",
    "# (1) Calculate the empirical p-value: simulation area beyond observed value\n",
    "\n",
    "sum(tvds>=obsvd_tvd)/N\n",
    "\n",
    "# (2) See if this is less than 1% (or our initially chosen significance level)"
   ]
  },
  {
   "cell_type": "markdown",
   "metadata": {},
   "source": [
    "**Conclusion**:\n",
    "Our empiricial p-value is $0$ (note that the actual theoretical p-value isn't 0, but since our simulations showed 0 observations out of $10000$ that had a TVD greater than or equal to 0.14, we know that the theoretical p-value is at least less than $1/10000$.\n",
    "\n",
    "Given that our empirical p-value is less than our significance cutoff of $0.01$ we **REJECT THE NULL** hypothesis.      It is important for us to be precise about what we can conclude from our analysis:\n",
    "\n",
    "**We can conclude that the distribution provided for the panelists who reported for service does not look like a random sample from the estimated distribution in the eligible population.**\n",
    "\n",
    "Our analysis supports the ACLU’s conclusion that the panels were not representative of the distribution provided for the eligible jurors.\n",
    "\n",
    "As with most such analyses, ours doesn’t say why the distributions are different.   See here for a more detailed discussion about this case:  https://inferentialthinking.com/chapters/11/2/Multiple_Categories.html"
   ]
  }
 ],
 "metadata": {
  "anaconda-cloud": {},
  "kernelspec": {
   "display_name": "Python 3 (ipykernel)",
   "language": "python",
   "name": "python3"
  },
  "language_info": {
   "codemirror_mode": {
    "name": "ipython",
    "version": 3
   },
   "file_extension": ".py",
   "mimetype": "text/x-python",
   "name": "python",
   "nbconvert_exporter": "python",
   "pygments_lexer": "ipython3",
   "version": "3.9.12"
  }
 },
 "nbformat": 4,
 "nbformat_minor": 1
}
